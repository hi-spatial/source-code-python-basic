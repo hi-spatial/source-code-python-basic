{
 "cells": [
  {
   "cell_type": "code",
   "execution_count": 1,
   "id": "86fd7918-12fb-4288-86f4-56e5672ae627",
   "metadata": {},
   "outputs": [
    {
     "name": "stdout",
     "output_type": "stream",
     "text": [
      "Memproses citra dari satelit: <class '__main__.Satelit'>\n"
     ]
    }
   ],
   "source": [
    "class Satelit:\n",
    "    @classmethod\n",
    "    def proses_citra(cls, citra):\n",
    "        # Method ini memproses citra yang diterima, mencetak pesan dengan nama class\n",
    "        print(f\"Memproses citra dari satelit: {cls}\")\n",
    "\n",
    "# Memanggil classmethod\n",
    "Satelit.proses_citra(\"Citra A\")\n"
   ]
  },
  {
   "cell_type": "code",
   "execution_count": null,
   "id": "776d3a47-6136-4af2-bfc8-ffd2103d5677",
   "metadata": {},
   "outputs": [],
   "source": []
  }
 ],
 "metadata": {
  "kernelspec": {
   "display_name": "Python 3 (ipykernel)",
   "language": "python",
   "name": "python3"
  },
  "language_info": {
   "codemirror_mode": {
    "name": "ipython",
    "version": 3
   },
   "file_extension": ".py",
   "mimetype": "text/x-python",
   "name": "python",
   "nbconvert_exporter": "python",
   "pygments_lexer": "ipython3",
   "version": "3.13.0"
  }
 },
 "nbformat": 4,
 "nbformat_minor": 5
}
