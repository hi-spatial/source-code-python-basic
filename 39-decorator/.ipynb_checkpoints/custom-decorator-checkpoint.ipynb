{
 "cells": [
  {
   "cell_type": "code",
   "execution_count": 1,
   "id": "81f81667-3121-4cab-85e6-22b9f939bce3",
   "metadata": {},
   "outputs": [
    {
     "name": "stdout",
     "output_type": "stream",
     "text": [
      "Memeriksa koneksi ke server geospasial...\n",
      "Memproses data geospasial: Data Satelit A\n"
     ]
    }
   ],
   "source": [
    "# Membuat decorator untuk memeriksa koneksi sebelum fungsi dipanggil\n",
    "def cek_koneksi_geospasial(func):\n",
    "    def wrapper(*args, **kwargs):\n",
    "        print(\"Memeriksa koneksi ke server geospasial...\")\n",
    "        # Memanggil fungsi yang didekorasi\n",
    "        return func(*args, **kwargs)\n",
    "    return wrapper\n",
    "\n",
    "# Mendekorasi fungsi proses_data_geospasial dengan cek_koneksi_geospasial\n",
    "@cek_koneksi_geospasial\n",
    "def proses_data_geospasial(data):\n",
    "    print(f\"Memproses data geospasial: {data}\")\n",
    "\n",
    "# Memanggil fungsi proses_data_geospasial\n",
    "proses_data_geospasial(\"Data Satelit A\")\n",
    "\n",
    "# Output ->\n",
    "# Memeriksa koneksi ke server geospasial...\n",
    "# Memproses data geospasial: Data Satelit A\n"
   ]
  },
  {
   "cell_type": "code",
   "execution_count": null,
   "id": "838592fc-060d-47bb-86a0-1a66cacd1d7b",
   "metadata": {},
   "outputs": [],
   "source": []
  }
 ],
 "metadata": {
  "kernelspec": {
   "display_name": "Python 3 (ipykernel)",
   "language": "python",
   "name": "python3"
  },
  "language_info": {
   "codemirror_mode": {
    "name": "ipython",
    "version": 3
   },
   "file_extension": ".py",
   "mimetype": "text/x-python",
   "name": "python",
   "nbconvert_exporter": "python",
   "pygments_lexer": "ipython3",
   "version": "3.13.0"
  }
 },
 "nbformat": 4,
 "nbformat_minor": 5
}
