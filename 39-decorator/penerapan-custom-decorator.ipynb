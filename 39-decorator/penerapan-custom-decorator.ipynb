{
 "cells": [
  {
   "cell_type": "code",
   "execution_count": 1,
   "id": "bd2fff42-5bcb-414f-aba2-0b872ed794d5",
   "metadata": {},
   "outputs": [
    {
     "name": "stdout",
     "output_type": "stream",
     "text": [
      "Koordinat: [(-81.06763708885686, -106.02855296592813), (11.856227177646389, 67.93898242808496), (23.71433936669844, 122.44563578017625), (60.53954119621088, 108.94732927161692), (70.25019807698581, -91.84811818198064), (7.200666191672113, 159.81672593209214), (11.37712972544584, 32.84092084478314), (-40.0781482166277, -95.92166194954356), (41.63412907836707, 63.7400193816074), (50.71580146821475, -161.08216870262407)]\n",
      "Koordinat unik: [(7.200666191672113, 159.81672593209214), (70.25019807698581, -91.84811818198064), (-81.06763708885686, -106.02855296592813), (60.53954119621088, 108.94732927161692), (11.856227177646389, 67.93898242808496), (23.71433936669844, 122.44563578017625), (11.37712972544584, 32.84092084478314), (-40.0781482166277, -95.92166194954356), (50.71580146821475, -161.08216870262407), (41.63412907836707, 63.7400193816074)]\n",
      "Koordinat yang diurutkan: [(50.71580146821475, -161.08216870262407), (7.200666191672113, 159.81672593209214), (-81.06763708885686, -106.02855296592813), (23.71433936669844, 122.44563578017625), (60.53954119621088, 108.94732927161692), (70.25019807698581, -91.84811818198064), (-40.0781482166277, -95.92166194954356), (41.63412907836707, 63.7400193816074), (11.856227177646389, 67.93898242808496), (11.37712972544584, 32.84092084478314)]\n"
     ]
    }
   ],
   "source": [
    "import random\n",
    "\n",
    "def generate_random_coordinates(length):\n",
    "    coordinates = []\n",
    "\n",
    "    for _ in range(length):\n",
    "        lat = random.uniform(-90, 90)\n",
    "        lon = random.uniform(-180, 180)\n",
    "        coordinates.append((lat, lon))\n",
    "    \n",
    "    return coordinates\n",
    "\n",
    "def unique_coordinates(data):\n",
    "    return list(set(data))\n",
    "\n",
    "def sort_coordinates(data):\n",
    "    return sorted(data, key=lambda coord: (coord[0]**2 + coord[1]**2), reverse=True)\n",
    "\n",
    "coordinates = generate_random_coordinates(10)\n",
    "print(\"Koordinat:\", coordinates)\n",
    "\n",
    "unique_coords = unique_coordinates(coordinates)\n",
    "print(\"Koordinat unik:\", unique_coords)\n",
    "\n",
    "sorted_coords = sort_coordinates(unique_coords)\n",
    "print(\"Koordinat yang diurutkan:\", sorted_coords)"
   ]
  },
  {
   "cell_type": "code",
   "execution_count": null,
   "id": "221d05ee-7008-4615-95f5-c7970a49a10a",
   "metadata": {},
   "outputs": [],
   "source": []
  }
 ],
 "metadata": {
  "kernelspec": {
   "display_name": "Python 3 (ipykernel)",
   "language": "python",
   "name": "python3"
  },
  "language_info": {
   "codemirror_mode": {
    "name": "ipython",
    "version": 3
   },
   "file_extension": ".py",
   "mimetype": "text/x-python",
   "name": "python",
   "nbconvert_exporter": "python",
   "pygments_lexer": "ipython3",
   "version": "3.13.0"
  }
 },
 "nbformat": 4,
 "nbformat_minor": 5
}
