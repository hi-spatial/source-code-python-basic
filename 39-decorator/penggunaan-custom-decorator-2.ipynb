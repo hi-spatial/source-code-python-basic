{
 "cells": [
  {
   "cell_type": "code",
   "execution_count": 4,
   "id": "dffee11c-8d16-4199-bff7-f8b7902cebd4",
   "metadata": {},
   "outputs": [],
   "source": [
    "import random\n",
    "\n",
    "def generate_random_coordinates(length):\n",
    "    coordinates = []\n",
    "\n",
    "    for _ in range(length):\n",
    "        lat = random.uniform(-90, 90)\n",
    "        lon = random.uniform(-180, 180)\n",
    "        coordinates.append((lat, lon))\n",
    "    \n",
    "    return coordinates\n",
    "\n",
    "# Dekorator untuk memastikan hanya koordinat unik yang dihasilkan\n",
    "def decorator_unique_coordinates(func):\n",
    "    def wrapper(length):\n",
    "        data = func(length)\n",
    "        return list(set(data))  # Mengembalikan koordinat unik\n",
    "    return wrapper\n",
    "\n",
    "# Dekorator untuk mengurutkan koordinat berdasarkan jarak kuadrat\n",
    "def decorator_sort_coordinates(func):\n",
    "    def wrapper(length):\n",
    "        data = func(length)\n",
    "        return sorted(data, key=lambda coord: (coord[0]**2 + coord[1]**2), reverse=True)\n",
    "    return wrapper\n"
   ]
  },
  {
   "cell_type": "code",
   "execution_count": 5,
   "id": "4493d212-a2e7-4530-9284-3843dcb1e50f",
   "metadata": {},
   "outputs": [
    {
     "name": "stdout",
     "output_type": "stream",
     "text": [
      "Hasil akhir: [(29.780894005808918, -140.58166753648698), (39.24786738676778, 123.2296049797024), (-12.144439231000774, 68.45108020888833), (-28.13835047732129, 118.6380882854503), (8.269472966660757, 56.903645664219965), (-68.170060437643, -108.69749568138931), (52.215129266904114, 141.21670078009458), (-21.917871879369812, 4.45824743431902), (58.36950055528908, 137.71184275395848), (72.36364773851577, 78.86329118886334)]\n"
     ]
    }
   ],
   "source": [
    "# Menggunakan dua dekorator untuk memproses koordinat\n",
    "@decorator_unique_coordinates\n",
    "@decorator_sort_coordinates\n",
    "def generate_and_process_coordinates(length):\n",
    "    return generate_random_coordinates(length)\n",
    "\n",
    "# Memproses koordinat\n",
    "print(\"Hasil akhir:\", generate_and_process_coordinates(10))\n",
    "\n",
    "# Output -> Hasil akhir: [(koordinat unik dan terurut)]"
   ]
  },
  {
   "cell_type": "code",
   "execution_count": null,
   "id": "68e15cc3-2eeb-4cdb-a4b3-e2315c2396f7",
   "metadata": {},
   "outputs": [],
   "source": []
  }
 ],
 "metadata": {
  "kernelspec": {
   "display_name": "Python 3 (ipykernel)",
   "language": "python",
   "name": "python3"
  },
  "language_info": {
   "codemirror_mode": {
    "name": "ipython",
    "version": 3
   },
   "file_extension": ".py",
   "mimetype": "text/x-python",
   "name": "python",
   "nbconvert_exporter": "python",
   "pygments_lexer": "ipython3",
   "version": "3.13.0"
  }
 },
 "nbformat": 4,
 "nbformat_minor": 5
}
