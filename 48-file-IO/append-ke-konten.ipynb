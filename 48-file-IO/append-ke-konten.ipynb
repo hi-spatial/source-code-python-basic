{
 "cells": [
  {
   "cell_type": "code",
   "execution_count": 1,
   "id": "0ce46dcb-2a59-4117-b0d5-f59042f1fc72",
   "metadata": {},
   "outputs": [],
   "source": [
    "with open(\"data_geospasial.txt\", \"a\", encoding=\"utf-8\") as f:\n",
    "    f.write(\"Koordinat tambahan: 30, 40\")"
   ]
  },
  {
   "cell_type": "code",
   "execution_count": null,
   "id": "82776dba-ea3d-43bb-a5df-0ff3c8e43a1d",
   "metadata": {},
   "outputs": [],
   "source": []
  }
 ],
 "metadata": {
  "kernelspec": {
   "display_name": "Python 3 (ipykernel)",
   "language": "python",
   "name": "python3"
  },
  "language_info": {
   "codemirror_mode": {
    "name": "ipython",
    "version": 3
   },
   "file_extension": ".py",
   "mimetype": "text/x-python",
   "name": "python",
   "nbconvert_exporter": "python",
   "pygments_lexer": "ipython3",
   "version": "3.13.0"
  }
 },
 "nbformat": 4,
 "nbformat_minor": 5
}
