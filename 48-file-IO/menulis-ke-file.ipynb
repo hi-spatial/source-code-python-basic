{
 "cells": [
  {
   "cell_type": "code",
   "execution_count": 1,
   "id": "efbed6d9-f0da-4dde-a16d-90f4e76d073a",
   "metadata": {},
   "outputs": [],
   "source": [
    "with open(\"data_geospasial.txt\", \"w\", encoding=\"utf-8\") as f:\n",
    "    f.write(\"Koordinat pertama: 10, 5\")\n",
    "    f.write(\"Koordinat kedua: 15, 25\")"
   ]
  },
  {
   "cell_type": "code",
   "execution_count": null,
   "id": "cc3e446f-3120-41ff-8339-cb1fa3faeab5",
   "metadata": {},
   "outputs": [],
   "source": []
  }
 ],
 "metadata": {
  "kernelspec": {
   "display_name": "Python 3 (ipykernel)",
   "language": "python",
   "name": "python3"
  },
  "language_info": {
   "codemirror_mode": {
    "name": "ipython",
    "version": 3
   },
   "file_extension": ".py",
   "mimetype": "text/x-python",
   "name": "python",
   "nbconvert_exporter": "python",
   "pygments_lexer": "ipython3",
   "version": "3.13.0"
  }
 },
 "nbformat": 4,
 "nbformat_minor": 5
}
