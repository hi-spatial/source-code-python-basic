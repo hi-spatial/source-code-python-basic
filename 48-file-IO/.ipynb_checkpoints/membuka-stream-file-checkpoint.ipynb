{
 "cells": [
  {
   "cell_type": "code",
   "execution_count": 1,
   "id": "fca4ce70-afed-4b39-89f2-e9965f883123",
   "metadata": {},
   "outputs": [],
   "source": [
    "with open(\"data_geospasial.txt\", \"w\", encoding=\"utf-8\") as f:\n",
    "    f.write(\"Data geospasial awal\")"
   ]
  },
  {
   "cell_type": "code",
   "execution_count": null,
   "id": "93c1b728-11c9-4797-930d-eed631fa7520",
   "metadata": {},
   "outputs": [],
   "source": []
  }
 ],
 "metadata": {
  "kernelspec": {
   "display_name": "Python 3 (ipykernel)",
   "language": "python",
   "name": "python3"
  },
  "language_info": {
   "codemirror_mode": {
    "name": "ipython",
    "version": 3
   },
   "file_extension": ".py",
   "mimetype": "text/x-python",
   "name": "python",
   "nbconvert_exporter": "python",
   "pygments_lexer": "ipython3",
   "version": "3.13.0"
  }
 },
 "nbformat": 4,
 "nbformat_minor": 5
}
