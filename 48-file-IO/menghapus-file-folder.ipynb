{
 "cells": [
  {
   "cell_type": "code",
   "execution_count": null,
   "id": "5f7a72a8-9547-4984-be73-b1cc61796e67",
   "metadata": {},
   "outputs": [],
   "source": [
    "#delete file\n",
    "import os\n",
    "os.remove(\"data_geospasial.txt\")"
   ]
  },
  {
   "cell_type": "code",
   "execution_count": 1,
   "id": "8567040f-ea62-406e-9395-5ab261fa1529",
   "metadata": {},
   "outputs": [
    {
     "name": "stdout",
     "output_type": "stream",
     "text": [
      "File ada\n"
     ]
    }
   ],
   "source": [
    "# delete folder\n",
    "import os\n",
    "\n",
    "if os.path.isfile(\"data_geospasial.txt\"):\n",
    "    print(\"File ada\")\n",
    "else:\n",
    "    print(\"File tidak ada\")"
   ]
  },
  {
   "cell_type": "code",
   "execution_count": null,
   "id": "1189271f-1502-4c44-b6bd-38bf5b084641",
   "metadata": {},
   "outputs": [],
   "source": []
  }
 ],
 "metadata": {
  "kernelspec": {
   "display_name": "Python 3 (ipykernel)",
   "language": "python",
   "name": "python3"
  },
  "language_info": {
   "codemirror_mode": {
    "name": "ipython",
    "version": 3
   },
   "file_extension": ".py",
   "mimetype": "text/x-python",
   "name": "python",
   "nbconvert_exporter": "python",
   "pygments_lexer": "ipython3",
   "version": "3.13.0"
  }
 },
 "nbformat": 4,
 "nbformat_minor": 5
}
