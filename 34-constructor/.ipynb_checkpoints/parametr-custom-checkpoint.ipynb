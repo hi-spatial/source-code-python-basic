{
 "cells": [
  {
   "cell_type": "code",
   "execution_count": 1,
   "id": "bf4313a3-f8df-46fb-b56c-b74a9ab3f823",
   "metadata": {},
   "outputs": [
    {
     "name": "stdout",
     "output_type": "stream",
     "text": [
      "Point berada di koordinat: (34.05, -118.25, 0)\n"
     ]
    }
   ],
   "source": [
    "class Point:\n",
    "    def __init__(self, x, y, z=0):\n",
    "        self.x = x\n",
    "        self.y = y\n",
    "        self.z = z\n",
    "    \n",
    "    def info(self):\n",
    "        print(f\"Point berada di koordinat: ({self.x}, {self.y}, {self.z})\")\n",
    "\n",
    "# Membuat objek Point dengan koordinat geospasial yang diberikan\n",
    "point_b = Point(34.05, -118.25)\n",
    "point_b.info()"
   ]
  },
  {
   "cell_type": "code",
   "execution_count": null,
   "id": "222fa8d4-9e44-47a7-8ea2-e2ead4524016",
   "metadata": {},
   "outputs": [],
   "source": []
  }
 ],
 "metadata": {
  "kernelspec": {
   "display_name": "Python 3 (ipykernel)",
   "language": "python",
   "name": "python3"
  },
  "language_info": {
   "codemirror_mode": {
    "name": "ipython",
    "version": 3
   },
   "file_extension": ".py",
   "mimetype": "text/x-python",
   "name": "python",
   "nbconvert_exporter": "python",
   "pygments_lexer": "ipython3",
   "version": "3.13.0"
  }
 },
 "nbformat": 4,
 "nbformat_minor": 5
}
