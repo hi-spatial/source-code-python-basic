{
 "cells": [
  {
   "cell_type": "code",
   "execution_count": 1,
   "id": "c513bb92-9fb5-41e5-a4b1-28cfea21e009",
   "metadata": {},
   "outputs": [
    {
     "name": "stdout",
     "output_type": "stream",
     "text": [
      "Point berada di koordinat: (34.05, -118.25, 0)\n"
     ]
    }
   ],
   "source": [
    "class Point:\n",
    "    def __init__(self):\n",
    "        self.x = 0.0\n",
    "        self.y = 0.0\n",
    "        self.z = 0.0\n",
    "    \n",
    "    def info(self):\n",
    "        print(f\"Point berada di koordinat: ({self.x}, {self.y}, {self.z})\")\n",
    "\n",
    "# Contoh pembuatan objek Point untuk data geospasial\n",
    "point_a = Point()\n",
    "point_a.x = 34.05\n",
    "point_a.y = -118.25\n",
    "point_a.z = 0\n",
    "point_a.info()"
   ]
  },
  {
   "cell_type": "code",
   "execution_count": null,
   "id": "41bbb07a-927e-487c-b357-f079f97049b5",
   "metadata": {},
   "outputs": [],
   "source": []
  }
 ],
 "metadata": {
  "kernelspec": {
   "display_name": "Python 3 (ipykernel)",
   "language": "python",
   "name": "python3"
  },
  "language_info": {
   "codemirror_mode": {
    "name": "ipython",
    "version": 3
   },
   "file_extension": ".py",
   "mimetype": "text/x-python",
   "name": "python",
   "nbconvert_exporter": "python",
   "pygments_lexer": "ipython3",
   "version": "3.13.0"
  }
 },
 "nbformat": 4,
 "nbformat_minor": 5
}
