{
 "cells": [
  {
   "cell_type": "code",
   "execution_count": 1,
   "id": "dded7c71-a8ea-4f3a-9a82-6a4be1f5a646",
   "metadata": {},
   "outputs": [
    {
     "name": "stdout",
     "output_type": "stream",
     "text": [
      "Polygon dengan titik-titik:\n",
      "(0, 0, 0.0)\n",
      "(1, 0, 0.0)\n",
      "(1, 1, 0.0)\n"
     ]
    }
   ],
   "source": [
    "class Point:\n",
    "    def __init__(self, x=0.0, y=0.0, z=0.0):\n",
    "        self.x = x\n",
    "        self.y = y\n",
    "        self.z = z\n",
    "\n",
    "class Polygon:\n",
    "    def __init__(self, *points):\n",
    "        self.points = points\n",
    "    \n",
    "    def info(self):\n",
    "        print(\"Polygon dengan titik-titik:\")\n",
    "        for point in self.points:\n",
    "            print(f\"({point.x}, {point.y}, {point.z})\")\n",
    "\n",
    "# Membuat polygon dengan beberapa titik\n",
    "point_1 = Point(0, 0)\n",
    "point_2 = Point(1, 0)\n",
    "point_3 = Point(1, 1)\n",
    "polygon = Polygon(point_1, point_2, point_3)\n",
    "polygon.info()"
   ]
  },
  {
   "cell_type": "code",
   "execution_count": null,
   "id": "f2aa5ce4-a9a1-40b4-bae7-67781bdd9993",
   "metadata": {},
   "outputs": [],
   "source": []
  }
 ],
 "metadata": {
  "kernelspec": {
   "display_name": "Python 3 (ipykernel)",
   "language": "python",
   "name": "python3"
  },
  "language_info": {
   "codemirror_mode": {
    "name": "ipython",
    "version": 3
   },
   "file_extension": ".py",
   "mimetype": "text/x-python",
   "name": "python",
   "nbconvert_exporter": "python",
   "pygments_lexer": "ipython3",
   "version": "3.13.0"
  }
 },
 "nbformat": 4,
 "nbformat_minor": 5
}
