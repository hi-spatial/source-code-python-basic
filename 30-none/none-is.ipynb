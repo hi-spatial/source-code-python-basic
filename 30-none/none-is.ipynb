{
 "cells": [
  {
   "cell_type": "code",
   "execution_count": 1,
   "id": "c96fb5f1-c00b-42d4-9fa9-4a3d10ccef56",
   "metadata": {},
   "outputs": [
    {
     "name": "stdout",
     "output_type": "stream",
     "text": [
      "Latitude belum diatur.\n"
     ]
    }
   ],
   "source": [
    "latitude = None\n",
    "\n",
    "if latitude is None:\n",
    "    print(\"Latitude belum diatur.\")\n",
    "else:\n",
    "    print(f\"Latitude: {latitude}\")"
   ]
  },
  {
   "cell_type": "code",
   "execution_count": null,
   "id": "76555904-3a8d-48a0-bebc-5b754db997d1",
   "metadata": {},
   "outputs": [],
   "source": []
  }
 ],
 "metadata": {
  "kernelspec": {
   "display_name": "Python 3 (ipykernel)",
   "language": "python",
   "name": "python3"
  },
  "language_info": {
   "codemirror_mode": {
    "name": "ipython",
    "version": 3
   },
   "file_extension": ".py",
   "mimetype": "text/x-python",
   "name": "python",
   "nbconvert_exporter": "python",
   "pygments_lexer": "ipython3",
   "version": "3.13.0"
  }
 },
 "nbformat": 4,
 "nbformat_minor": 5
}
