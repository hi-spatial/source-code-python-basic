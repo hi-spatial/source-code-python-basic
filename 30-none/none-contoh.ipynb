{
 "cells": [
  {
   "cell_type": "code",
   "execution_count": 1,
   "id": "e52a944d-19c4-435e-84f0-d2292252febf",
   "metadata": {},
   "outputs": [
    {
     "name": "stdout",
     "output_type": "stream",
     "text": [
      "Koordinat: (10.0, 20.0), tipe data: tuple\n",
      "Koordinat tidak tersedia.\n"
     ]
    }
   ],
   "source": [
    "def inspect_coordinates(coordinate):\n",
    "    if coordinate is None:\n",
    "        print(\"Koordinat tidak tersedia.\")\n",
    "    else:\n",
    "        print(f\"Koordinat: {coordinate}, tipe data: {type(coordinate).__name__}\")\n",
    "\n",
    "coordinate = (10.0, 20.0)\n",
    "inspect_coordinates(coordinate)\n",
    "# output ➜ Koordinat: (10.0, 20.0), tipe data: tuple\n",
    "\n",
    "coordinate = None\n",
    "inspect_coordinates(coordinate)\n",
    "# output ➜ Koordinat tidak tersedia."
   ]
  },
  {
   "cell_type": "code",
   "execution_count": null,
   "id": "2a66bbc3-46d2-4ded-b31e-8956ccffab62",
   "metadata": {},
   "outputs": [],
   "source": []
  }
 ],
 "metadata": {
  "kernelspec": {
   "display_name": "Python 3 (ipykernel)",
   "language": "python",
   "name": "python3"
  },
  "language_info": {
   "codemirror_mode": {
    "name": "ipython",
    "version": 3
   },
   "file_extension": ".py",
   "mimetype": "text/x-python",
   "name": "python",
   "nbconvert_exporter": "python",
   "pygments_lexer": "ipython3",
   "version": "3.13.0"
  }
 },
 "nbformat": 4,
 "nbformat_minor": 5
}
