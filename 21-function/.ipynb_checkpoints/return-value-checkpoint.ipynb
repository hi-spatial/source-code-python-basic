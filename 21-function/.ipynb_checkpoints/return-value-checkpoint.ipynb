{
 "cells": [
  {
   "cell_type": "code",
   "execution_count": 4,
   "id": "8cd9a1cc-9c47-48a3-9697-16c445fde011",
   "metadata": {},
   "outputs": [
    {
     "name": "stdout",
     "output_type": "stream",
     "text": [
      "Keliling lingkaran: 62.800000000000004\n"
     ]
    }
   ],
   "source": [
    "def hitung_keliling_lingkaran(r):\n",
    "    return 2 * 3.14 * r\n",
    "\n",
    "keliling = hitung_keliling_lingkaran(10)\n",
    "print(f\"Keliling lingkaran: {keliling}\")"
   ]
  },
  {
   "cell_type": "code",
   "execution_count": null,
   "id": "2599d3f4-0b99-4bed-8c67-acd79758cd3c",
   "metadata": {},
   "outputs": [],
   "source": []
  }
 ],
 "metadata": {
  "kernelspec": {
   "display_name": "Python 3 (ipykernel)",
   "language": "python",
   "name": "python3"
  },
  "language_info": {
   "codemirror_mode": {
    "name": "ipython",
    "version": 3
   },
   "file_extension": ".py",
   "mimetype": "text/x-python",
   "name": "python",
   "nbconvert_exporter": "python",
   "pygments_lexer": "ipython3",
   "version": "3.13.0"
  }
 },
 "nbformat": 4,
 "nbformat_minor": 5
}
