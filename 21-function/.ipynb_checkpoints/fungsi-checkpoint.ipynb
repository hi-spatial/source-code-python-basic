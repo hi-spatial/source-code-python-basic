{
 "cells": [
  {
   "cell_type": "code",
   "execution_count": null,
   "id": "cbfd404f-6c3e-424f-9387-d661b453636d",
   "metadata": {},
   "outputs": [],
   "source": [
    "def tampilkan_koordinat(lat, lon):\n",
    "    print(f\"Koordinat: ({lat}, {lon})\")\n",
    "\n",
    "tampilkan_koordinat(-6.9175, 107.6191)"
   ]
  }
 ],
 "metadata": {
  "kernelspec": {
   "display_name": "Python 3 (ipykernel)",
   "language": "python",
   "name": "python3"
  },
  "language_info": {
   "codemirror_mode": {
    "name": "ipython",
    "version": 3
   },
   "file_extension": ".py",
   "mimetype": "text/x-python",
   "name": "python",
   "nbconvert_exporter": "python",
   "pygments_lexer": "ipython3",
   "version": "3.13.0"
  }
 },
 "nbformat": 4,
 "nbformat_minor": 5
}
