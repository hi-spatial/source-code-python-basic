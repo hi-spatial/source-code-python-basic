{
 "cells": [
  {
   "cell_type": "code",
   "execution_count": 5,
   "id": "50f3786b-0889-43fe-8df2-492aa8507f64",
   "metadata": {},
   "outputs": [],
   "source": [
    "def hitung_jarak():\n",
    "    print(\"jarak\")"
   ]
  },
  {
   "cell_type": "code",
   "execution_count": 6,
   "id": "95d98a3d-6fab-4e55-9aa1-e7673a180ef3",
   "metadata": {},
   "outputs": [],
   "source": [
    "def hitung_jarak(area_lapangan):\n",
    "    print(area_lapangan)"
   ]
  },
  {
   "cell_type": "code",
   "execution_count": null,
   "id": "1354cc84-67bc-4b21-b893-cadbe9f8582e",
   "metadata": {},
   "outputs": [],
   "source": []
  }
 ],
 "metadata": {
  "kernelspec": {
   "display_name": "Python 3 (ipykernel)",
   "language": "python",
   "name": "python3"
  },
  "language_info": {
   "codemirror_mode": {
    "name": "ipython",
    "version": 3
   },
   "file_extension": ".py",
   "mimetype": "text/x-python",
   "name": "python",
   "nbconvert_exporter": "python",
   "pygments_lexer": "ipython3",
   "version": "3.13.0"
  }
 },
 "nbformat": 4,
 "nbformat_minor": 5
}
