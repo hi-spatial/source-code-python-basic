{
 "cells": [
  {
   "cell_type": "code",
   "execution_count": 1,
   "id": "08a5f8ca-7c67-4e20-8267-322b5057afaf",
   "metadata": {},
   "outputs": [
    {
     "name": "stdout",
     "output_type": "stream",
     "text": [
      "Luas bujur sangkar: 100\n"
     ]
    }
   ],
   "source": [
    "def hitung_luas_bujur_sangkar(sisi):\n",
    "    area = sisi ** 2\n",
    "    print(f\"Luas bujur sangkar: {area}\")\n",
    "\n",
    "hitung_luas_bujur_sangkar(10)"
   ]
  },
  {
   "cell_type": "code",
   "execution_count": null,
   "id": "668f3aae-5512-4e5d-94d1-19292ad9f1ac",
   "metadata": {},
   "outputs": [],
   "source": []
  }
 ],
 "metadata": {
  "kernelspec": {
   "display_name": "Python 3 (ipykernel)",
   "language": "python",
   "name": "python3"
  },
  "language_info": {
   "codemirror_mode": {
    "name": "ipython",
    "version": 3
   },
   "file_extension": ".py",
   "mimetype": "text/x-python",
   "name": "python",
   "nbconvert_exporter": "python",
   "pygments_lexer": "ipython3",
   "version": "3.13.0"
  }
 },
 "nbformat": 4,
 "nbformat_minor": 5
}
