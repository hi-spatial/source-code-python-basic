{
 "cells": [
  {
   "cell_type": "code",
   "execution_count": 1,
   "id": "cbfd404f-6c3e-424f-9387-d661b453636d",
   "metadata": {},
   "outputs": [
    {
     "name": "stdout",
     "output_type": "stream",
     "text": [
      "Koordinat: (-6.9175, 107.6191)\n"
     ]
    }
   ],
   "source": [
    "def tampilkan_koordinat(lat, lon):\n",
    "    print(f\"Koordinat: ({lat}, {lon})\")\n",
    "\n",
    "tampilkan_koordinat(-6.9175, 107.6191)"
   ]
  },
  {
   "cell_type": "code",
   "execution_count": null,
   "id": "90f724c7-7ad4-40e5-a4f3-9d77194ca533",
   "metadata": {},
   "outputs": [],
   "source": []
  }
 ],
 "metadata": {
  "kernelspec": {
   "display_name": "Python 3 (ipykernel)",
   "language": "python",
   "name": "python3"
  },
  "language_info": {
   "codemirror_mode": {
    "name": "ipython",
    "version": 3
   },
   "file_extension": ".py",
   "mimetype": "text/x-python",
   "name": "python",
   "nbconvert_exporter": "python",
   "pygments_lexer": "ipython3",
   "version": "3.13.0"
  }
 },
 "nbformat": 4,
 "nbformat_minor": 5
}
