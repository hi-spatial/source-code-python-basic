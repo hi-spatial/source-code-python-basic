{
 "cells": [
  {
   "cell_type": "code",
   "execution_count": 2,
   "id": "3c7fbdfb-e804-4db0-9b0c-0e2c30e9d7b9",
   "metadata": {},
   "outputs": [
    {
     "name": "stdout",
     "output_type": "stream",
     "text": [
      "Luas lingkaran dengan radius 5 adalah 78.50\n"
     ]
    },
    {
     "data": {
      "text/plain": [
       "78.5"
      ]
     },
     "execution_count": 2,
     "metadata": {},
     "output_type": "execute_result"
    }
   ],
   "source": [
    "def hitung_luas_lingkaran(r: int) -> float:\n",
    "    luas = 3.14 * (r ** 2)\n",
    "    print(f\"Luas lingkaran dengan radius {r} adalah {luas:.2f}\")\n",
    "    return luas\n",
    "\n",
    "# Memanggil fungsi\n",
    "hitung_luas_lingkaran(5)\n"
   ]
  },
  {
   "cell_type": "code",
   "execution_count": null,
   "id": "2014d38c-a600-4113-989c-f23f32fccb01",
   "metadata": {},
   "outputs": [],
   "source": []
  }
 ],
 "metadata": {
  "kernelspec": {
   "display_name": "Python 3 (ipykernel)",
   "language": "python",
   "name": "python3"
  },
  "language_info": {
   "codemirror_mode": {
    "name": "ipython",
    "version": 3
   },
   "file_extension": ".py",
   "mimetype": "text/x-python",
   "name": "python",
   "nbconvert_exporter": "python",
   "pygments_lexer": "ipython3",
   "version": "3.13.0"
  }
 },
 "nbformat": 4,
 "nbformat_minor": 5
}
