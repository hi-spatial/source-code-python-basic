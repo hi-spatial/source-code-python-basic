{
 "cells": [
  {
   "cell_type": "code",
   "execution_count": 1,
   "id": "d7c87eb3-76e7-406a-9b91-8d2020171710",
   "metadata": {},
   "outputs": [],
   "source": [
    "import math\n",
    "\n",
    "def hitung_jarak(x1, y1, x2, y2):\n",
    "    \"\"\"\n",
    "    Fungsi `hitung_jarak`:\n",
    "        Menghitung jarak antara dua titik koordinat (x1, y1) dan (x2, y2) menggunakan rumus Euclidean.\n",
    "    \"\"\"\n",
    "    jarak = math.sqrt((x2 - x1)**2 + (y2 - y1)**2)\n",
    "    return jarak"
   ]
  },
  {
   "cell_type": "code",
   "execution_count": 2,
   "id": "4f153b65-8804-4518-99b1-f8ad061bc418",
   "metadata": {},
   "outputs": [],
   "source": [
    "class Titik:\n",
    "    \"\"\"\n",
    "    Kelas `Titik`:\n",
    "        Mewakili sebuah titik koordinat dengan atribut x dan y.\n",
    "    \"\"\"\n",
    "\n",
    "    def __init__(self, x, y):\n",
    "        \"\"\"\n",
    "        Inisialisasi titik dengan koordinat x dan y.\n",
    "        \"\"\"\n",
    "        self.x = x\n",
    "        self.y = y\n",
    "\n",
    "    def jarak_ke(self, titik_lain):\n",
    "        \"\"\"\n",
    "        Menghitung jarak dari titik ini ke titik lain.\n",
    "        \"\"\"\n",
    "        return hitung_jarak(self.x, self.y, titik_lain.x, titik_lain.y)"
   ]
  },
  {
   "cell_type": "code",
   "execution_count": null,
   "id": "df630fe4-8a76-4b35-ac0f-93581209fb34",
   "metadata": {},
   "outputs": [],
   "source": []
  }
 ],
 "metadata": {
  "kernelspec": {
   "display_name": "Python 3 (ipykernel)",
   "language": "python",
   "name": "python3"
  },
  "language_info": {
   "codemirror_mode": {
    "name": "ipython",
    "version": 3
   },
   "file_extension": ".py",
   "mimetype": "text/x-python",
   "name": "python",
   "nbconvert_exporter": "python",
   "pygments_lexer": "ipython3",
   "version": "3.13.0"
  }
 },
 "nbformat": 4,
 "nbformat_minor": 5
}
