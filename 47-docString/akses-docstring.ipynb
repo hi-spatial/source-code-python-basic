{
 "cells": [
  {
   "cell_type": "code",
   "execution_count": 3,
   "id": "ec44a515-96cf-4d9f-884a-89e5e8dad52c",
   "metadata": {},
   "outputs": [
    {
     "name": "stdout",
     "output_type": "stream",
     "text": [
      "\n",
      "Fungsi `hitung_jarak`:\n",
      "    Menghitung jarak antara dua titik koordinat (x1, y1) dan (x2, y2) menggunakan rumus Euclidean.\n",
      "\n",
      "\n",
      "Kelas `Titik`:\n",
      "    Mewakili sebuah titik koordinat dengan atribut x dan y.\n",
      "\n",
      "\n",
      "Menghitung jarak dari titik ini ke titik lain.\n",
      "\n"
     ]
    }
   ],
   "source": [
    "import math\n",
    "\n",
    "def hitung_jarak(x1, y1, x2, y2):\n",
    "    \"\"\"\n",
    "    Fungsi `hitung_jarak`:\n",
    "        Menghitung jarak antara dua titik koordinat (x1, y1) dan (x2, y2) menggunakan rumus Euclidean.\n",
    "    \"\"\"\n",
    "    jarak = math.sqrt((x2 - x1)**2 + (y2 - y1)**2)\n",
    "    return jarak\n",
    "\n",
    "class Titik:\n",
    "    \"\"\"\n",
    "    Kelas `Titik`:\n",
    "        Mewakili sebuah titik koordinat dengan atribut x dan y.\n",
    "    \"\"\"\n",
    "\n",
    "    def __init__(self, x, y):\n",
    "        \"\"\"\n",
    "        Inisialisasi titik dengan koordinat x dan y.\n",
    "        \"\"\"\n",
    "        self.x = x\n",
    "        self.y = y\n",
    "\n",
    "    def jarak_ke(self, titik_lain):\n",
    "        \"\"\"\n",
    "        Menghitung jarak dari titik ini ke titik lain.\n",
    "        \"\"\"\n",
    "        return hitung_jarak(self.x, self.y, titik_lain.x, titik_lain.y)\n",
    "\n",
    "if __name__ == '__main__':\n",
    "    print(hitung_jarak.__doc__)\n",
    "    print(Titik.__doc__)\n",
    "    print(Titik.jarak_ke.__doc__)"
   ]
  }
 ],
 "metadata": {
  "kernelspec": {
   "display_name": "Python 3 (ipykernel)",
   "language": "python",
   "name": "python3"
  },
  "language_info": {
   "codemirror_mode": {
    "name": "ipython",
    "version": 3
   },
   "file_extension": ".py",
   "mimetype": "text/x-python",
   "name": "python",
   "nbconvert_exporter": "python",
   "pygments_lexer": "ipython3",
   "version": "3.13.0"
  }
 },
 "nbformat": 4,
 "nbformat_minor": 5
}
