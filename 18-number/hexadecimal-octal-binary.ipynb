{
 "cells": [
  {
   "cell_type": "code",
   "execution_count": 1,
   "id": "5b1907f7-b216-4501-989d-ea2d277942b0",
   "metadata": {},
   "outputs": [
    {
     "name": "stdout",
     "output_type": "stream",
     "text": [
      "Warna heksadesimal: 16734003\n",
      "Nilai bit: 11001100\n"
     ]
    }
   ],
   "source": [
    "warna_heksadesimal = 0xFF5733  # Warna dalam format heksadesimal\n",
    "bit_biner = 0b11001100  # Nilai bit kedalaman warna\n",
    "print(f\"Warna heksadesimal: {warna_heksadesimal}\")\n",
    "print(f\"Nilai bit: {bit_biner:b}\")\n",
    "# output ➜ Warna heksadesimal: 16734003, Nilai bit: 11001100"
   ]
  },
  {
   "cell_type": "code",
   "execution_count": null,
   "id": "d0fe8b9a-9fd7-4027-a39d-cc4461c372a7",
   "metadata": {},
   "outputs": [],
   "source": []
  }
 ],
 "metadata": {
  "kernelspec": {
   "display_name": "Python 3 (ipykernel)",
   "language": "python",
   "name": "python3"
  },
  "language_info": {
   "codemirror_mode": {
    "name": "ipython",
    "version": 3
   },
   "file_extension": ".py",
   "mimetype": "text/x-python",
   "name": "python",
   "nbconvert_exporter": "python",
   "pygments_lexer": "ipython3",
   "version": "3.13.0"
  }
 },
 "nbformat": 4,
 "nbformat_minor": 5
}
