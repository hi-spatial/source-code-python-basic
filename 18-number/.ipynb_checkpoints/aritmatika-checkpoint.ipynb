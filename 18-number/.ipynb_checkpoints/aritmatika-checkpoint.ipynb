{
 "cells": [
  {
   "cell_type": "code",
   "execution_count": 1,
   "id": "efbffab4-2c1d-4dc9-ba44-42dba6fd2ca2",
   "metadata": {},
   "outputs": [
    {
     "name": "stdout",
     "output_type": "stream",
     "text": [
      "Total raster dalam desimal: 420\n"
     ]
    }
   ],
   "source": [
    "total_raster = 0x8c + 0o214 + 0b10001100\n",
    "print(f\"Total raster dalam desimal: {total_raster}\")\n",
    "# output ➜ Total raster dalam desimal: 396"
   ]
  },
  {
   "cell_type": "code",
   "execution_count": null,
   "id": "d2aab834-f819-476b-98b3-c3b06f61655d",
   "metadata": {},
   "outputs": [],
   "source": []
  }
 ],
 "metadata": {
  "kernelspec": {
   "display_name": "Python 3 (ipykernel)",
   "language": "python",
   "name": "python3"
  },
  "language_info": {
   "codemirror_mode": {
    "name": "ipython",
    "version": 3
   },
   "file_extension": ".py",
   "mimetype": "text/x-python",
   "name": "python",
   "nbconvert_exporter": "python",
   "pygments_lexer": "ipython3",
   "version": "3.13.0"
  }
 },
 "nbformat": 4,
 "nbformat_minor": 5
}
