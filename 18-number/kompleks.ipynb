{
 "cells": [
  {
   "cell_type": "code",
   "execution_count": 1,
   "id": "7e37f7e1-ba98-4a17-90d8-4d3fa98d6ac0",
   "metadata": {},
   "outputs": [
    {
     "name": "stdout",
     "output_type": "stream",
     "text": [
      "Koordinat Kompleks: (100+200j)\n"
     ]
    }
   ],
   "source": [
    "koordinat_complex = complex(100, 200)  # Koordinat X dan Y sebagai bilangan kompleks\n",
    "print(f\"Koordinat Kompleks: {koordinat_complex}\")\n",
    "# output ➜ Koordinat Kompleks: (100+200j)"
   ]
  },
  {
   "cell_type": "code",
   "execution_count": null,
   "id": "f91974f8-7b9c-407d-b32e-fe52aca2ef10",
   "metadata": {},
   "outputs": [],
   "source": []
  }
 ],
 "metadata": {
  "kernelspec": {
   "display_name": "Python 3 (ipykernel)",
   "language": "python",
   "name": "python3"
  },
  "language_info": {
   "codemirror_mode": {
    "name": "ipython",
    "version": 3
   },
   "file_extension": ".py",
   "mimetype": "text/x-python",
   "name": "python",
   "nbconvert_exporter": "python",
   "pygments_lexer": "ipython3",
   "version": "3.13.0"
  }
 },
 "nbformat": 4,
 "nbformat_minor": 5
}
