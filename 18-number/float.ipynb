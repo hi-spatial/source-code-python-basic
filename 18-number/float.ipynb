{
 "cells": [
  {
   "cell_type": "code",
   "execution_count": 1,
   "id": "96e1ec80-3baa-4226-abd3-a9e73396adc6",
   "metadata": {},
   "outputs": [
    {
     "name": "stdout",
     "output_type": "stream",
     "text": [
      "Koordinat: (-6.9175, 107.6191), Elevasi: 750.5 m\n"
     ]
    }
   ],
   "source": [
    "latitude = -6.9175\n",
    "longitude = 107.6191\n",
    "elevasi = 750.5  # Dalam meter\n",
    "print(f\"Koordinat: ({latitude}, {longitude}), Elevasi: {elevasi} m\")\n",
    "# output ➜ Koordinat: (-6.9175, 107.6191), Elevasi: 750.5 m"
   ]
  },
  {
   "cell_type": "code",
   "execution_count": null,
   "id": "6b860bd6-68f4-4175-aa33-a3a25e891094",
   "metadata": {},
   "outputs": [],
   "source": []
  }
 ],
 "metadata": {
  "kernelspec": {
   "display_name": "Python 3 (ipykernel)",
   "language": "python",
   "name": "python3"
  },
  "language_info": {
   "codemirror_mode": {
    "name": "ipython",
    "version": 3
   },
   "file_extension": ".py",
   "mimetype": "text/x-python",
   "name": "python",
   "nbconvert_exporter": "python",
   "pygments_lexer": "ipython3",
   "version": "3.13.0"
  }
 },
 "nbformat": 4,
 "nbformat_minor": 5
}
