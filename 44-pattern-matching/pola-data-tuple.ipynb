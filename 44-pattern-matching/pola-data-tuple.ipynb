{
 "cells": [
  {
   "cell_type": "code",
   "execution_count": 1,
   "id": "7cc5959c-06b2-42fb-812c-96f5914241f0",
   "metadata": {},
   "outputs": [
    {
     "name": "stdout",
     "output_type": "stream",
     "text": [
      "(0, 0) adalah pusat.\n",
      "(1, 0) berada di sumbu X.\n",
      "(0, 1) berada di sumbu Y.\n",
      "(1, 1) berada di kuadran lainnya.\n",
      "(-1, 0) berada di sumbu X.\n"
     ]
    }
   ],
   "source": [
    "data_koordinat = [(0, 0), (1, 0), (0, 1), (1, 1), (-1, 0)]\n",
    "\n",
    "for koordinat in data_koordinat:\n",
    "    match koordinat:\n",
    "        case (0, 0):\n",
    "            print(f\"{koordinat} adalah pusat.\")\n",
    "        case (x, 0):\n",
    "            print(f\"{koordinat} berada di sumbu X.\")\n",
    "        case (0, y):\n",
    "            print(f\"{koordinat} berada di sumbu Y.\")\n",
    "        case (x, y):\n",
    "            print(f\"{koordinat} berada di kuadran lainnya.\")"
   ]
  },
  {
   "cell_type": "code",
   "execution_count": null,
   "id": "6a71318b-f8f4-441c-85df-084c26575c00",
   "metadata": {},
   "outputs": [],
   "source": []
  }
 ],
 "metadata": {
  "kernelspec": {
   "display_name": "Python 3 (ipykernel)",
   "language": "python",
   "name": "python3"
  },
  "language_info": {
   "codemirror_mode": {
    "name": "ipython",
    "version": 3
   },
   "file_extension": ".py",
   "mimetype": "text/x-python",
   "name": "python",
   "nbconvert_exporter": "python",
   "pygments_lexer": "ipython3",
   "version": "3.13.0"
  }
 },
 "nbformat": 4,
 "nbformat_minor": 5
}
