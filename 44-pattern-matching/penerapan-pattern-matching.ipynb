{
 "cells": [
  {
   "cell_type": "code",
   "execution_count": 8,
   "id": "54acd081-4931-42ba-99d7-c27cea41946a",
   "metadata": {},
   "outputs": [
    {
     "name": "stdin",
     "output_type": "stream",
     "text": [
      "Masukkan perintah:  luas lingkaran\n",
      "Jari-jari lingkaran:  20\n"
     ]
    },
    {
     "name": "stdout",
     "output_type": "stream",
     "text": [
      "Luas lingkaran: 1256.64\n"
     ]
    }
   ],
   "source": [
    "command = input(\"Masukkan perintah: \")\n",
    "inputs = command.split(' ')\n",
    "\n",
    "match inputs:\n",
    "\n",
    "    case [\"koordinat\"]:\n",
    "        x = input(\"Koordinat X: \")\n",
    "        y = input(\"Koordinat Y: \")\n",
    "        print(f\"Koordinat yang dimasukkan: ({x}, {y})\")\n",
    "\n",
    "    case [\"koordinat\", \"pusat\"]:\n",
    "        print(\"Koordinat berada di pusat (0,0)\")\n",
    "\n",
    "    case [\"luas\", \"lingkaran\"]:\n",
    "        r = float(input(\"Jari-jari lingkaran: \"))\n",
    "        luas = 3.1416 * r * r\n",
    "        print(f\"Luas lingkaran: {luas}\")\n",
    "\n",
    "    case _:\n",
    "        print(\"Perintah tidak dikenali\")"
   ]
  },
  {
   "cell_type": "code",
   "execution_count": null,
   "id": "32fc05e8-e4c7-4035-98cf-dfd8ee548e3d",
   "metadata": {},
   "outputs": [],
   "source": []
  }
 ],
 "metadata": {
  "kernelspec": {
   "display_name": "Python 3 (ipykernel)",
   "language": "python",
   "name": "python3"
  },
  "language_info": {
   "codemirror_mode": {
    "name": "ipython",
    "version": 3
   },
   "file_extension": ".py",
   "mimetype": "text/x-python",
   "name": "python",
   "nbconvert_exporter": "python",
   "pygments_lexer": "ipython3",
   "version": "3.13.0"
  }
 },
 "nbformat": 4,
 "nbformat_minor": 5
}
