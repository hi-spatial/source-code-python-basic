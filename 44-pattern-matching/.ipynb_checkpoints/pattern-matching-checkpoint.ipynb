{
 "cells": [
  {
   "cell_type": "code",
   "execution_count": 2,
   "id": "a828e221-af71-4b52-a65b-73f7b5ec5d8c",
   "metadata": {},
   "outputs": [
    {
     "name": "stdin",
     "output_type": "stream",
     "text": [
      "Masukkan perintah:  koordinat\n",
      "Koordinat X:  7928171\n",
      "Koordinat Y:  11028232\n"
     ]
    },
    {
     "name": "stdout",
     "output_type": "stream",
     "text": [
      "Koordinat yang dimasukkan: (7928171, 11028232)\n"
     ]
    }
   ],
   "source": [
    "command = input(\"Masukkan perintah: \")\n",
    "\n",
    "match command:\n",
    "\n",
    "    case \"koordinat\":\n",
    "        x = input(\"Koordinat X: \")\n",
    "        y = input(\"Koordinat Y: \")\n",
    "        print(f\"Koordinat yang dimasukkan: ({x}, {y})\")\n",
    "\n",
    "    case \"luas_lingkaran\":\n",
    "        r = float(input(\"Jari-jari lingkaran: \"))\n",
    "        luas = 3.1416 * r * r\n",
    "        print(f\"Luas lingkaran: {luas}\")\n",
    "\n",
    "    case _:\n",
    "        print(\"Perintah tidak dikenali\")"
   ]
  },
  {
   "cell_type": "code",
   "execution_count": null,
   "id": "5515a40c-96b4-49d7-964f-b03b5b9f58d2",
   "metadata": {},
   "outputs": [],
   "source": []
  }
 ],
 "metadata": {
  "kernelspec": {
   "display_name": "Python 3 (ipykernel)",
   "language": "python",
   "name": "python3"
  },
  "language_info": {
   "codemirror_mode": {
    "name": "ipython",
    "version": 3
   },
   "file_extension": ".py",
   "mimetype": "text/x-python",
   "name": "python",
   "nbconvert_exporter": "python",
   "pygments_lexer": "ipython3",
   "version": "3.13.0"
  }
 },
 "nbformat": 4,
 "nbformat_minor": 5
}
