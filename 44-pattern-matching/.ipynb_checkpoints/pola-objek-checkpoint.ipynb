{
 "cells": [
  {
   "cell_type": "code",
   "execution_count": 4,
   "id": "1dce6746-2a8e-40f9-bdb7-fe6d7dd80a85",
   "metadata": {},
   "outputs": [
    {
     "name": "stdout",
     "output_type": "stream",
     "text": [
      "Titik 0, 0 berada di pusat.\n",
      "Titik 2, 3 berada di koordinat lain.\n",
      "Titik -1, 0 berada di sumbu X.\n",
      "Titik 0, -4 berada di sumbu Y.\n"
     ]
    }
   ],
   "source": [
    "class Point:\n",
    "    __match_args__ = ('x', 'y')  # Memberi tahu Python bahwa atribut 'x' dan 'y' adalah bagian dari pola pencocokan\n",
    "\n",
    "    def __init__(self, x, y):\n",
    "        self.x = x\n",
    "        self.y = y\n",
    "\n",
    "data_titik = [Point(0, 0), Point(2, 3), Point(-1, 0), Point(0, -4)]\n",
    "\n",
    "for titik in data_titik:\n",
    "    match titik:\n",
    "        case Point(0, 0):\n",
    "            print(f\"Titik {titik.x}, {titik.y} berada di pusat.\")\n",
    "        case Point(_, 0):\n",
    "            print(f\"Titik {titik.x}, {titik.y} berada di sumbu X.\")\n",
    "        case Point(0, _):\n",
    "            print(f\"Titik {titik.x}, {titik.y} berada di sumbu Y.\")\n",
    "        case Point(_, _):\n",
    "            print(f\"Titik {titik.x}, {titik.y} berada di koordinat lain.\")\n"
   ]
  },
  {
   "cell_type": "code",
   "execution_count": null,
   "id": "bc895c2a-3c81-493d-9e95-3be24f47ac4f",
   "metadata": {},
   "outputs": [],
   "source": []
  }
 ],
 "metadata": {
  "kernelspec": {
   "display_name": "Python 3 (ipykernel)",
   "language": "python",
   "name": "python3"
  },
  "language_info": {
   "codemirror_mode": {
    "name": "ipython",
    "version": 3
   },
   "file_extension": ".py",
   "mimetype": "text/x-python",
   "name": "python",
   "nbconvert_exporter": "python",
   "pygments_lexer": "ipython3",
   "version": "3.13.0"
  }
 },
 "nbformat": 4,
 "nbformat_minor": 5
}
