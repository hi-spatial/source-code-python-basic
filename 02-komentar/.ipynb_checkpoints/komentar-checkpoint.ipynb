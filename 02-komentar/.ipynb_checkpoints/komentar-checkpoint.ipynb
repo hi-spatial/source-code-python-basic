{
 "cells": [
  {
   "cell_type": "code",
   "execution_count": 1,
   "id": "0eb312a7-e29a-43a3-b028-4ec6764f466a",
   "metadata": {},
   "outputs": [
    {
     "name": "stdout",
     "output_type": "stream",
     "text": [
      "halo,\n",
      "ini adalah proses analisis data vektor!\n"
     ]
    }
   ],
   "source": [
    "# ini adalah komentar\n",
    "print(\"halo,\")\n",
    "print(\"ini adalah proses analisis data vektor!\") # ini juga komentar\n",
    "\n",
    "# println(\"pernyataan ini tidak akan dipanggil\")"
   ]
  },
  {
   "cell_type": "code",
   "execution_count": null,
   "id": "a1e2e140-45f1-44fb-bbcd-f0f53637c1fd",
   "metadata": {},
   "outputs": [],
   "source": []
  }
 ],
 "metadata": {
  "kernelspec": {
   "display_name": "Python 3 (ipykernel)",
   "language": "python",
   "name": "python3"
  },
  "language_info": {
   "codemirror_mode": {
    "name": "ipython",
    "version": 3
   },
   "file_extension": ".py",
   "mimetype": "text/x-python",
   "name": "python",
   "nbconvert_exporter": "python",
   "pygments_lexer": "ipython3",
   "version": "3.13.0"
  }
 },
 "nbformat": 4,
 "nbformat_minor": 5
}
