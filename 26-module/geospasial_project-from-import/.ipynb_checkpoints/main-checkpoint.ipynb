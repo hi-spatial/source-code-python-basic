{
 "cells": [
  {
   "cell_type": "code",
   "execution_count": 1,
   "id": "22501cfd-652b-4ca7-bc18-13a6424a5f48",
   "metadata": {},
   "outputs": [
    {
     "name": "stdout",
     "output_type": "stream",
     "text": [
      "hello from calculate distance\n",
      "Jarak: 0.0030870698080873726\n"
     ]
    }
   ],
   "source": [
    "from calculate_distance import calc_jarak\n",
    "\n",
    "lat1, lon1 = -6.9175, 107.6191\n",
    "lat2, lon2 = -6.9147, 107.6178\n",
    "\n",
    "jarak = calc_jarak(lat1, lon1, lat2, lon2)\n",
    "print(f\"Jarak: {jarak}\")"
   ]
  },
  {
   "cell_type": "code",
   "execution_count": null,
   "id": "66bbb1d9-b419-4958-bd61-2ebce79a9284",
   "metadata": {},
   "outputs": [],
   "source": []
  },
  {
   "cell_type": "code",
   "execution_count": null,
   "id": "c8c4d5f6-60ea-41b1-a8c0-e07b7dc3dc6e",
   "metadata": {},
   "outputs": [],
   "source": []
  }
 ],
 "metadata": {
  "kernelspec": {
   "display_name": "Python 3 (ipykernel)",
   "language": "python",
   "name": "python3"
  },
  "language_info": {
   "codemirror_mode": {
    "name": "ipython",
    "version": 3
   },
   "file_extension": ".py",
   "mimetype": "text/x-python",
   "name": "python",
   "nbconvert_exporter": "python",
   "pygments_lexer": "ipython3",
   "version": "3.13.0"
  }
 },
 "nbformat": 4,
 "nbformat_minor": 5
}
