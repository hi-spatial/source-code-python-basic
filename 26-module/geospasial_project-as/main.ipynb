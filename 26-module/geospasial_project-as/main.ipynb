{
 "cells": [
  {
   "cell_type": "code",
   "execution_count": 2,
   "id": "17d57da4-ea67-4ed4-afe1-013198e6b402",
   "metadata": {},
   "outputs": [
    {
     "name": "stdout",
     "output_type": "stream",
     "text": [
      "Jarak: 0.0030870698080873726\n"
     ]
    }
   ],
   "source": [
    "import calculate_distance as calc_dist\n",
    "\n",
    "lat1, lon1 = -6.9175, 107.6191\n",
    "lat2, lon2 = -6.9147, 107.6178\n",
    "\n",
    "jarak = calc_dist.calc_jarak(lat1, lon1, lat2, lon2)\n",
    "print(f\"Jarak: {jarak}\")"
   ]
  },
  {
   "cell_type": "code",
   "execution_count": null,
   "id": "0a13cb11-7f40-4565-b9c6-cdbe75f33e94",
   "metadata": {},
   "outputs": [],
   "source": []
  }
 ],
 "metadata": {
  "kernelspec": {
   "display_name": "Python 3 (ipykernel)",
   "language": "python",
   "name": "python3"
  },
  "language_info": {
   "codemirror_mode": {
    "name": "ipython",
    "version": 3
   },
   "file_extension": ".py",
   "mimetype": "text/x-python",
   "name": "python",
   "nbconvert_exporter": "python",
   "pygments_lexer": "ipython3",
   "version": "3.13.0"
  }
 },
 "nbformat": 4,
 "nbformat_minor": 5
}
