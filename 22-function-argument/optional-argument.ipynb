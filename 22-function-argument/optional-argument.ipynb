{
 "cells": [
  {
   "cell_type": "code",
   "execution_count": 1,
   "id": "ed719049-b970-40c4-8092-9a18d010b920",
   "metadata": {},
   "outputs": [
    {
     "name": "stdout",
     "output_type": "stream",
     "text": [
      "Point: Kota F, Latitude: -5.1477, Longitude: 119.4327, Elevation: 0\n",
      "Point: Kota G, Latitude: -6.9147, Longitude: 107.6098, Elevation: 700\n"
     ]
    }
   ],
   "source": [
    "def print_geospatial_point(name, latitude, longitude, elevation=0):\n",
    "    print(f\"Point: {name}, Latitude: {latitude}, Longitude: {longitude}, Elevation: {elevation}\")\n",
    "\n",
    "print_geospatial_point(\"Kota F\", -5.1477, 119.4327)\n",
    "# Output: Point: Kota F, Latitude: -5.1477, Longitude: 119.4327, Elevation: 0\n",
    "\n",
    "print_geospatial_point(\"Kota G\", -6.9147, 107.6098, 700)\n",
    "# Output: Point: Kota G, Latitude: -6.9147, Longitude: 107.6098, Elevation: 700"
   ]
  },
  {
   "cell_type": "code",
   "execution_count": null,
   "id": "e254deff-b027-413f-903f-8564e82e7b23",
   "metadata": {},
   "outputs": [],
   "source": []
  }
 ],
 "metadata": {
  "kernelspec": {
   "display_name": "Python 3 (ipykernel)",
   "language": "python",
   "name": "python3"
  },
  "language_info": {
   "codemirror_mode": {
    "name": "ipython",
    "version": 3
   },
   "file_extension": ".py",
   "mimetype": "text/x-python",
   "name": "python",
   "nbconvert_exporter": "python",
   "pygments_lexer": "ipython3",
   "version": "3.13.0"
  }
 },
 "nbformat": 4,
 "nbformat_minor": 5
}
