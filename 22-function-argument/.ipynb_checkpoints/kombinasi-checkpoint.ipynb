{
 "cells": [
  {
   "cell_type": "code",
   "execution_count": 1,
   "id": "7d803ab9-26ff-4832-8740-6863896e0e85",
   "metadata": {},
   "outputs": [
    {
     "name": "stdout",
     "output_type": "stream",
     "text": [
      "{'name': 'Kota H', 'latitude': -8.4095, 'longitude': 115.1889, 'elevation': 0}\n",
      "{'name': 'Kota I', 'latitude': -7.7956, 'longitude': 110.3695, 'elevation': 300}\n"
     ]
    }
   ],
   "source": [
    "def geospatial_point_info(name, latitude, longitude, elevation=0):\n",
    "    return {\n",
    "        \"name\": name,\n",
    "        \"latitude\": latitude,\n",
    "        \"longitude\": longitude,\n",
    "        \"elevation\": elevation,\n",
    "    }\n",
    "\n",
    "point6 = geospatial_point_info(\"Kota H\", -8.4095, 115.1889)\n",
    "print(point6)\n",
    "# Output: {'name': 'Kota H', 'latitude': -8.4095, 'longitude': 115.1889, 'elevation': 0}\n",
    "\n",
    "point7 = geospatial_point_info(\"Kota I\", -7.7956, 110.3695, elevation=300)\n",
    "print(point7)\n",
    "# Output: {'name': 'Kota I', 'latitude': -7.7956, 'longitude': 110.3695, 'elevation': 300}"
   ]
  },
  {
   "cell_type": "code",
   "execution_count": null,
   "id": "e2343752-3d68-4f8b-88dd-565e17275ebc",
   "metadata": {},
   "outputs": [],
   "source": []
  }
 ],
 "metadata": {
  "kernelspec": {
   "display_name": "Python 3 (ipykernel)",
   "language": "python",
   "name": "python3"
  },
  "language_info": {
   "codemirror_mode": {
    "name": "ipython",
    "version": 3
   },
   "file_extension": ".py",
   "mimetype": "text/x-python",
   "name": "python",
   "nbconvert_exporter": "python",
   "pygments_lexer": "ipython3",
   "version": "3.13.0"
  }
 },
 "nbformat": 4,
 "nbformat_minor": 5
}
