{
 "cells": [
  {
   "cell_type": "code",
   "execution_count": 1,
   "id": "f95f02d3-f309-4263-b30f-1e4dcafa772b",
   "metadata": {},
   "outputs": [
    {
     "name": "stdout",
     "output_type": "stream",
     "text": [
      "{'name': 'Kota D', 'latitude': -8.4095, 'longitude': 115.1889}\n",
      "{'name': 'Kota E', 'latitude': -3.3349, 'longitude': 114.5917}\n"
     ]
    }
   ],
   "source": [
    "def create_geospatial_point(name, latitude, longitude):\n",
    "    return {\n",
    "        \"name\": name,\n",
    "        \"latitude\": latitude,\n",
    "        \"longitude\": longitude,\n",
    "    }\n",
    "point4 = create_geospatial_point(name=\"Kota D\", latitude=-8.4095, longitude=115.1889)\n",
    "print(point4)\n",
    "# Output: {'name': 'Kota D', 'latitude': -8.4095, 'longitude': 115.1889}\n",
    "\n",
    "point5 = create_geospatial_point(latitude=-3.3349, longitude=114.5917, name=\"Kota E\")\n",
    "print(point5)\n",
    "# Output: {'name': 'Kota E', 'latitude': -3.3349, 'longitude': 114.5917}"
   ]
  },
  {
   "cell_type": "code",
   "execution_count": null,
   "id": "7d0d14cd-8fe2-4405-b36a-9bbd27512d25",
   "metadata": {},
   "outputs": [],
   "source": []
  }
 ],
 "metadata": {
  "kernelspec": {
   "display_name": "Python 3 (ipykernel)",
   "language": "python",
   "name": "python3"
  },
  "language_info": {
   "codemirror_mode": {
    "name": "ipython",
    "version": 3
   },
   "file_extension": ".py",
   "mimetype": "text/x-python",
   "name": "python",
   "nbconvert_exporter": "python",
   "pygments_lexer": "ipython3",
   "version": "3.13.0"
  }
 },
 "nbformat": 4,
 "nbformat_minor": 5
}
