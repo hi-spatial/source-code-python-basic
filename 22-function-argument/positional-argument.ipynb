{
 "cells": [
  {
   "cell_type": "code",
   "execution_count": 1,
   "id": "cd8631fb-95da-4079-b87b-29a9b4276d67",
   "metadata": {},
   "outputs": [
    {
     "name": "stdout",
     "output_type": "stream",
     "text": [
      "{'name': 'Kota A', 'latitude': -6.2088, 'longitude': 106.8456}\n",
      "{'name': 'Kota B', 'latitude': -7.2504, 'longitude': 112.7688}\n"
     ]
    }
   ],
   "source": [
    "def create_geospatial_point(name, latitude, longitude):\n",
    "    return {\n",
    "        \"name\": name,\n",
    "        \"latitude\": latitude,\n",
    "        \"longitude\": longitude,\n",
    "    }\n",
    "\n",
    "point1 = create_geospatial_point(\"Kota A\", -6.2088, 106.8456)\n",
    "print(point1)\n",
    "# Output: {'name': 'Kota A', 'latitude': -6.2088, 'longitude': 106.8456}\n",
    "\n",
    "point2 = create_geospatial_point(\"Kota B\", -7.2504, 112.7688)\n",
    "print(point2)\n",
    "# Output: {'name': 'Kota B', 'latitude': -7.2504, 'longitude': 112.7688}"
   ]
  },
  {
   "cell_type": "code",
   "execution_count": 2,
   "id": "75195258-4e1e-4a9f-a7d9-6f36d3280038",
   "metadata": {},
   "outputs": [
    {
     "name": "stdout",
     "output_type": "stream",
     "text": [
      "{'name': -6.2088, 'latitude': 'Kota C', 'longitude': 106.8456}\n"
     ]
    }
   ],
   "source": [
    "point3 = create_geospatial_point(-6.2088, \"Kota C\", 106.8456)\n",
    "print(point3)\n",
    "# Output: {'name': -6.2088, 'latitude': 'Kota C', 'longitude': 106.8456} (data tidak sesuai)"
   ]
  },
  {
   "cell_type": "code",
   "execution_count": null,
   "id": "4846c195-6e2b-49a0-84f6-e34ee614cf26",
   "metadata": {},
   "outputs": [],
   "source": []
  }
 ],
 "metadata": {
  "kernelspec": {
   "display_name": "Python 3 (ipykernel)",
   "language": "python",
   "name": "python3"
  },
  "language_info": {
   "codemirror_mode": {
    "name": "ipython",
    "version": 3
   },
   "file_extension": ".py",
   "mimetype": "text/x-python",
   "name": "python",
   "nbconvert_exporter": "python",
   "pygments_lexer": "ipython3",
   "version": "3.13.0"
  }
 },
 "nbformat": 4,
 "nbformat_minor": 5
}
