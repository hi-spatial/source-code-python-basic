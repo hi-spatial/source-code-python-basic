{
 "cells": [
  {
   "cell_type": "code",
   "execution_count": 1,
   "id": "44c82d77-c5c8-4a1f-b56d-08bc8f14f66e",
   "metadata": {},
   "outputs": [
    {
     "name": "stdout",
     "output_type": "stream",
     "text": [
      "Koordinat 1 ID: 1955554178240\n",
      "Koordinat 2 ID: 1955554178240\n",
      "Koordinat 3 ID: 1955554177344\n"
     ]
    }
   ],
   "source": [
    "koordinat1 = (-6.9175, 107.6191)\n",
    "koordinat2 = koordinat1\n",
    "koordinat3 = (-6.9175, 107.6191)\n",
    "\n",
    "print(f\"Koordinat 1 ID: {id(koordinat1)}\")\n",
    "print(f\"Koordinat 2 ID: {id(koordinat2)}\")\n",
    "print(f\"Koordinat 3 ID: {id(koordinat3)}\")"
   ]
  },
  {
   "cell_type": "code",
   "execution_count": null,
   "id": "22f9c8ee-5c04-4be7-8dfd-d04ae29a873f",
   "metadata": {},
   "outputs": [],
   "source": []
  }
 ],
 "metadata": {
  "kernelspec": {
   "display_name": "Python 3 (ipykernel)",
   "language": "python",
   "name": "python3"
  },
  "language_info": {
   "codemirror_mode": {
    "name": "ipython",
    "version": 3
   },
   "file_extension": ".py",
   "mimetype": "text/x-python",
   "name": "python",
   "nbconvert_exporter": "python",
   "pygments_lexer": "ipython3",
   "version": "3.13.0"
  }
 },
 "nbformat": 4,
 "nbformat_minor": 5
}
