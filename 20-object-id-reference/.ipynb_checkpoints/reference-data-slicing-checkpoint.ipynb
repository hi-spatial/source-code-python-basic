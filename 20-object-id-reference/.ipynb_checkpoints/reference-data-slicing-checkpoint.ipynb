{
 "cells": [
  {
   "cell_type": "code",
   "execution_count": 1,
   "id": "3420534a-7096-4565-b05e-5b017b841c8c",
   "metadata": {},
   "outputs": [
    {
     "name": "stdout",
     "output_type": "stream",
     "text": [
      "Koordinat 1 ID: 2529070633664\n",
      "Koordinat 2 ID: 2529070631872\n"
     ]
    }
   ],
   "source": [
    "koordinat1 = [(-6.9175, 107.6191), (-6.9147, 107.6178), (-6.9121, 107.6159)]\n",
    "koordinat2 = koordinat1[:]\n",
    "\n",
    "print(f\"Koordinat 1 ID: {id(koordinat1)}\")\n",
    "print(f\"Koordinat 2 ID: {id(koordinat2)}\")"
   ]
  },
  {
   "cell_type": "code",
   "execution_count": null,
   "id": "b131203a-a04b-4110-953f-32f986b4d320",
   "metadata": {},
   "outputs": [],
   "source": []
  }
 ],
 "metadata": {
  "kernelspec": {
   "display_name": "Python 3 (ipykernel)",
   "language": "python",
   "name": "python3"
  },
  "language_info": {
   "codemirror_mode": {
    "name": "ipython",
    "version": 3
   },
   "file_extension": ".py",
   "mimetype": "text/x-python",
   "name": "python",
   "nbconvert_exporter": "python",
   "pygments_lexer": "ipython3",
   "version": "3.13.0"
  }
 },
 "nbformat": 4,
 "nbformat_minor": 5
}
