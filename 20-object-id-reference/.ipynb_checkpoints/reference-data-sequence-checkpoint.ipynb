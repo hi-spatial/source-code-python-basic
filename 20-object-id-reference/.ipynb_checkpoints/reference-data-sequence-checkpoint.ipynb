{
 "cells": [
  {
   "cell_type": "code",
   "execution_count": 1,
   "id": "e43b0af2-e0f8-4f9b-a538-e87cfcf5995b",
   "metadata": {},
   "outputs": [
    {
     "name": "stdout",
     "output_type": "stream",
     "text": [
      "Koordinat 1: [(-6.9175, 107.6191), (-6.9147, 107.6178), (-6.9121, 107.6159)]\n",
      "Koordinat 2: [(-6.9175, 107.6191), (-6.9147, 107.6178), (-6.9121, 107.6159)]\n"
     ]
    }
   ],
   "source": [
    "koordinat1 = [(-6.9175, 107.6191), (-6.9147, 107.6178)]\n",
    "koordinat2 = koordinat1\n",
    "koordinat2.append((-6.9121, 107.6159))\n",
    "\n",
    "print(\"Koordinat 1:\", koordinat1)\n",
    "print(\"Koordinat 2:\", koordinat2)"
   ]
  },
  {
   "cell_type": "code",
   "execution_count": null,
   "id": "13331639-076b-4bac-a9f4-aeeb6078783f",
   "metadata": {},
   "outputs": [],
   "source": []
  }
 ],
 "metadata": {
  "kernelspec": {
   "display_name": "Python 3 (ipykernel)",
   "language": "python",
   "name": "python3"
  },
  "language_info": {
   "codemirror_mode": {
    "name": "ipython",
    "version": 3
   },
   "file_extension": ".py",
   "mimetype": "text/x-python",
   "name": "python",
   "nbconvert_exporter": "python",
   "pygments_lexer": "ipython3",
   "version": "3.13.0"
  }
 },
 "nbformat": 4,
 "nbformat_minor": 5
}
