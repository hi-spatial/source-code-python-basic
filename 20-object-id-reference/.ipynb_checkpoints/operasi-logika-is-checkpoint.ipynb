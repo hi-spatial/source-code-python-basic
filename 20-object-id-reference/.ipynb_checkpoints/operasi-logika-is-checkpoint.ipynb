{
 "cells": [
  {
   "cell_type": "code",
   "execution_count": 1,
   "id": "4517c4b8-84a4-4822-a74a-e5ef9c4995a9",
   "metadata": {},
   "outputs": [
    {
     "name": "stdout",
     "output_type": "stream",
     "text": [
      "Koordinat 1 is Koordinat 2 ➡️ True\n",
      "Koordinat 1 is Koordinat 3 ➡️ False\n"
     ]
    }
   ],
   "source": [
    "koordinat1 = (-6.9175, 107.6191)\n",
    "koordinat2 = koordinat1\n",
    "koordinat3 = (-6.9175, 107.6191)\n",
    "\n",
    "print(f\"Koordinat 1 is Koordinat 2 ➡️ {koordinat1 is koordinat2}\")\n",
    "# output ➜ True\n",
    "\n",
    "print(f\"Koordinat 1 is Koordinat 3 ➡️ {koordinat1 is koordinat3}\")\n",
    "# output ➜ False"
   ]
  },
  {
   "cell_type": "code",
   "execution_count": null,
   "id": "5fac0921-360d-41ee-8d78-536068bacfc5",
   "metadata": {},
   "outputs": [],
   "source": []
  }
 ],
 "metadata": {
  "kernelspec": {
   "display_name": "Python 3 (ipykernel)",
   "language": "python",
   "name": "python3"
  },
  "language_info": {
   "codemirror_mode": {
    "name": "ipython",
    "version": 3
   },
   "file_extension": ".py",
   "mimetype": "text/x-python",
   "name": "python",
   "nbconvert_exporter": "python",
   "pygments_lexer": "ipython3",
   "version": "3.13.0"
  }
 },
 "nbformat": 4,
 "nbformat_minor": 5
}
