{
 "cells": [
  {
   "cell_type": "code",
   "execution_count": 1,
   "id": "af1541ca-52ed-4717-a675-5fb243736a15",
   "metadata": {},
   "outputs": [
    {
     "name": "stdout",
     "output_type": "stream",
     "text": [
      "Koordinat: (-6.9175, 107.6191)\n",
      "ID: 1641007609472\n"
     ]
    }
   ],
   "source": [
    "koordinat = (-6.9175, 107.6191)\n",
    "print(\"Koordinat:\", koordinat)\n",
    "identifier = id(koordinat)\n",
    "print(\"ID:\", identifier)\n",
    "# output ➜ ID: 140728206353928"
   ]
  },
  {
   "cell_type": "code",
   "execution_count": null,
   "id": "58655430-a23b-4b84-b07c-93e5f113f828",
   "metadata": {},
   "outputs": [],
   "source": []
  }
 ],
 "metadata": {
  "kernelspec": {
   "display_name": "Python 3 (ipykernel)",
   "language": "python",
   "name": "python3"
  },
  "language_info": {
   "codemirror_mode": {
    "name": "ipython",
    "version": 3
   },
   "file_extension": ".py",
   "mimetype": "text/x-python",
   "name": "python",
   "nbconvert_exporter": "python",
   "pygments_lexer": "ipython3",
   "version": "3.13.0"
  }
 },
 "nbformat": 4,
 "nbformat_minor": 5
}
