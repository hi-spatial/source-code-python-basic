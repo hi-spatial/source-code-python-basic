{
 "cells": [
  {
   "cell_type": "code",
   "execution_count": 22,
   "id": "14a50534-1ab9-4295-ae47-8ff50092a8a0",
   "metadata": {},
   "outputs": [
    {
     "name": "stdout",
     "output_type": "stream",
     "text": [
      "Choose mode:\n",
      "1. Write geospatial data\n",
      "2. Read geospatial data\n",
      "3. Delete by row\n",
      "4. Exit\n"
     ]
    },
    {
     "name": "stdin",
     "output_type": "stream",
     "text": [
      "Choice (1/2/3/4):  1\n",
      "City:  Temanggung\n",
      "Latitude:  9812126214\n",
      "Longitude:  1281241\n"
     ]
    },
    {
     "name": "stdout",
     "output_type": "stream",
     "text": [
      "Choose mode:\n",
      "1. Write geospatial data\n",
      "2. Read geospatial data\n",
      "3. Delete by row\n",
      "4. Exit\n"
     ]
    },
    {
     "name": "stdin",
     "output_type": "stream",
     "text": [
      "Choice (1/2/3/4):  2\n"
     ]
    },
    {
     "name": "stdout",
     "output_type": "stream",
     "text": [
      "Row 1: Temanggung - 9812126214, 1281241\n",
      "Choose mode:\n",
      "1. Write geospatial data\n",
      "2. Read geospatial data\n",
      "3. Delete by row\n",
      "4. Exit\n"
     ]
    },
    {
     "name": "stdin",
     "output_type": "stream",
     "text": [
      "Choice (1/2/3/4):  4\n"
     ]
    }
   ],
   "source": [
    "import csv\n",
    "\n",
    "# Nama file CSV dan kolom data\n",
    "filename = 'geospatial_data.csv'\n",
    "fieldnames = ['city', 'latitude', 'longitude']\n",
    "\n",
    "# Membuat file CSV baru dengan header\n",
    "def prepare_csv():\n",
    "    with open(filename, 'w', newline='') as f:\n",
    "        writer = csv.DictWriter(f, fieldnames=fieldnames)\n",
    "        writer.writeheader()  # Menulis header ke dalam file\n",
    "\n",
    "# Menambahkan data geospasial ke CSV\n",
    "def write_data(city, latitude, longitude):\n",
    "    with open(filename, 'a', newline='') as f:\n",
    "        writer = csv.DictWriter(f, fieldnames=fieldnames)\n",
    "        writer.writerow({\n",
    "            'city': city,\n",
    "            'latitude': latitude,\n",
    "            'longitude': longitude\n",
    "        })\n",
    "\n",
    "# Membaca data dari file CSV\n",
    "def read_data():\n",
    "    with open(filename, 'r') as csvfile:\n",
    "        reader = csv.DictReader(csvfile)\n",
    "        for index, row in enumerate(reader):\n",
    "            print(f\"Row {index + 1}: {row['city']} - {row['latitude']}, {row['longitude']}\")\n",
    "\n",
    "# Menghapus data dari file CSV berdasarkan indeks\n",
    "def delete_data(row_index):\n",
    "    with open(filename, 'r') as csvfile:\n",
    "        reader = csv.DictReader(csvfile)\n",
    "        rows = list(reader)\n",
    "\n",
    "    with open(filename, 'w', newline='') as csvfile:\n",
    "        writer = csv.DictWriter(csvfile, fieldnames=fieldnames)\n",
    "        writer.writeheader()\n",
    "        for index, row in enumerate(rows):\n",
    "            if index != (row_index - 1):  # Skip baris yang akan dihapus\n",
    "                writer.writerow(row)\n",
    "\n",
    "# Menampilkan menu interaktif untuk pengguna\n",
    "def control_flow():\n",
    "    while True:\n",
    "        print(\"Choose mode:\")\n",
    "        print(\"1. Write geospatial data\")\n",
    "        print(\"2. Read geospatial data\")\n",
    "        print(\"3. Delete by row\")\n",
    "        print(\"4. Exit\")\n",
    "\n",
    "        mode = input('Choice (1/2/3/4): ')\n",
    "        if mode == '1':\n",
    "            city = input(\"City: \")\n",
    "            latitude = input(\"Latitude: \")\n",
    "            longitude = input(\"Longitude: \")\n",
    "            write_data(city, latitude, longitude)\n",
    "        elif mode == '2':\n",
    "            read_data()\n",
    "        elif mode == '3':\n",
    "            row_index = int(input(\"Row index to delete: \"))\n",
    "            delete_data(row_index)\n",
    "        elif mode == '4':\n",
    "            break\n",
    "        else:\n",
    "            print('Invalid mode')\n",
    "\n",
    "# Siapkan file CSV dan jalankan menu interaktif\n",
    "prepare_csv()\n",
    "control_flow()"
   ]
  },
  {
   "cell_type": "code",
   "execution_count": null,
   "id": "caa32eae-4574-4486-8f4b-dbe83e522ff4",
   "metadata": {},
   "outputs": [],
   "source": []
  }
 ],
 "metadata": {
  "kernelspec": {
   "display_name": "Python 3 (ipykernel)",
   "language": "python",
   "name": "python3"
  },
  "language_info": {
   "codemirror_mode": {
    "name": "ipython",
    "version": 3
   },
   "file_extension": ".py",
   "mimetype": "text/x-python",
   "name": "python",
   "nbconvert_exporter": "python",
   "pygments_lexer": "ipython3",
   "version": "3.13.0"
  }
 },
 "nbformat": 4,
 "nbformat_minor": 5
}
