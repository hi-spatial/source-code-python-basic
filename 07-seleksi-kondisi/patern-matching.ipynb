{
 "cells": [
  {
   "cell_type": "code",
   "execution_count": 1,
   "id": "14739719-49be-44bb-a141-bb857e1881e2",
   "metadata": {},
   "outputs": [
    {
     "name": "stdout",
     "output_type": "stream",
     "text": [
      "Area hutan\n"
     ]
    }
   ],
   "source": [
    "land_type = \"Hutan\"\n",
    "\n",
    "match land_type:\n",
    "    case \"Pertanian\":\n",
    "        print(\"Area pertanian\")\n",
    "    case \"Hutan\":\n",
    "        print(\"Area hutan\")\n",
    "    case _:\n",
    "        print(\"Kategori tidak dikenal\")"
   ]
  },
  {
   "cell_type": "code",
   "execution_count": null,
   "id": "0e2f626b-7b01-47d3-871c-e837538c5f34",
   "metadata": {},
   "outputs": [],
   "source": []
  }
 ],
 "metadata": {
  "kernelspec": {
   "display_name": "Python 3 (ipykernel)",
   "language": "python",
   "name": "python3"
  },
  "language_info": {
   "codemirror_mode": {
    "name": "ipython",
    "version": 3
   },
   "file_extension": ".py",
   "mimetype": "text/x-python",
   "name": "python",
   "nbconvert_exporter": "python",
   "pygments_lexer": "ipython3",
   "version": "3.13.0"
  }
 },
 "nbformat": 4,
 "nbformat_minor": 5
}
