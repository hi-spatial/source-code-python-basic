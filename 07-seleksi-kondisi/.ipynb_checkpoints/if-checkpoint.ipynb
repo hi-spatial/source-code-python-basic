{
 "cells": [
  {
   "cell_type": "code",
   "execution_count": 1,
   "id": "488cba3b-1618-49d2-948d-b71cd4f0ac5b",
   "metadata": {},
   "outputs": [
    {
     "name": "stdout",
     "output_type": "stream",
     "text": [
      "Area di atas dataran rendah\n"
     ]
    }
   ],
   "source": [
    "elevation = 200\n",
    "\n",
    "if elevation >= 100:\n",
    "    print(\"Area di atas dataran rendah\")\n",
    "\n",
    "if elevation < 100:\n",
    "    print(\"Area di dataran rendah\")"
   ]
  },
  {
   "cell_type": "code",
   "execution_count": null,
   "id": "583fb31c-fd94-484d-9bde-9a3e5a33a99f",
   "metadata": {},
   "outputs": [],
   "source": []
  }
 ],
 "metadata": {
  "kernelspec": {
   "display_name": "Python 3 (ipykernel)",
   "language": "python",
   "name": "python3"
  },
  "language_info": {
   "codemirror_mode": {
    "name": "ipython",
    "version": 3
   },
   "file_extension": ".py",
   "mimetype": "text/x-python",
   "name": "python",
   "nbconvert_exporter": "python",
   "pygments_lexer": "ipython3",
   "version": "3.13.0"
  }
 },
 "nbformat": 4,
 "nbformat_minor": 5
}
