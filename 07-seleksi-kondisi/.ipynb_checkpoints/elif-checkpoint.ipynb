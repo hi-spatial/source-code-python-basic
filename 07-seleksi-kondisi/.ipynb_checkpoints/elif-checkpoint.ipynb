{
 "cells": [
  {
   "cell_type": "code",
   "execution_count": null,
   "id": "22a721a9-6ab1-415e-bd91-dcbf06872eb0",
   "metadata": {},
   "outputs": [],
   "source": [
    "elevation = 150\n",
    "\n",
    "if elevation >= 200:\n",
    "    print(\"Gunung\")\n",
    "elif elevation >= 100:\n",
    "    print(\"Dataran Tinggi\")\n",
    "else:\n",
    "    print(\"Dataran Rendah\")"
   ]
  }
 ],
 "metadata": {
  "kernelspec": {
   "display_name": "Python 3 (ipykernel)",
   "language": "python",
   "name": "python3"
  },
  "language_info": {
   "codemirror_mode": {
    "name": "ipython",
    "version": 3
   },
   "file_extension": ".py",
   "mimetype": "text/x-python",
   "name": "python",
   "nbconvert_exporter": "python",
   "pygments_lexer": "ipython3",
   "version": "3.13.0"
  }
 },
 "nbformat": 4,
 "nbformat_minor": 5
}
