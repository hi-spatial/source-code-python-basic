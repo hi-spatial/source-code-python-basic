{
 "cells": [
  {
   "cell_type": "code",
   "execution_count": 1,
   "id": "3bae80e6-ca2f-4e02-89e6-87a348b6a8ff",
   "metadata": {},
   "outputs": [
    {
     "name": "stdout",
     "output_type": "stream",
     "text": [
      "Area berisiko banjir\n"
     ]
    }
   ],
   "source": [
    "elevation = 80\n",
    "distance_from_river = 5\n",
    "\n",
    "if elevation < 100 and distance_from_river < 10:\n",
    "    print(\"Area berisiko banjir\")"
   ]
  },
  {
   "cell_type": "code",
   "execution_count": null,
   "id": "b369a9b0-4287-40c6-aa73-602d46ccc991",
   "metadata": {},
   "outputs": [],
   "source": []
  }
 ],
 "metadata": {
  "kernelspec": {
   "display_name": "Python 3 (ipykernel)",
   "language": "python",
   "name": "python3"
  },
  "language_info": {
   "codemirror_mode": {
    "name": "ipython",
    "version": 3
   },
   "file_extension": ".py",
   "mimetype": "text/x-python",
   "name": "python",
   "nbconvert_exporter": "python",
   "pygments_lexer": "ipython3",
   "version": "3.13.0"
  }
 },
 "nbformat": 4,
 "nbformat_minor": 5
}
