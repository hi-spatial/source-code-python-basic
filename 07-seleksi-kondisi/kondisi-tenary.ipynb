{
 "cells": [
  {
   "cell_type": "code",
   "execution_count": 2,
   "id": "68ba2a32-80e1-4a94-8468-9969d9611ef3",
   "metadata": {},
   "outputs": [
    {
     "name": "stdout",
     "output_type": "stream",
     "text": [
      "Berisiko banjir\n"
     ]
    }
   ],
   "source": [
    "distance_from_river = 5\n",
    "print(\"Di dalam zona aman\") if distance_from_river >= 10 else print(\"Berisiko banjir\")"
   ]
  },
  {
   "cell_type": "code",
   "execution_count": null,
   "id": "ca3c0e49-5e5a-4712-8cde-0daa0077fc56",
   "metadata": {},
   "outputs": [],
   "source": []
  }
 ],
 "metadata": {
  "kernelspec": {
   "display_name": "Python 3 (ipykernel)",
   "language": "python",
   "name": "python3"
  },
  "language_info": {
   "codemirror_mode": {
    "name": "ipython",
    "version": 3
   },
   "file_extension": ".py",
   "mimetype": "text/x-python",
   "name": "python",
   "nbconvert_exporter": "python",
   "pygments_lexer": "ipython3",
   "version": "3.13.0"
  }
 },
 "nbformat": 4,
 "nbformat_minor": 5
}
