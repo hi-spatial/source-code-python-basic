{
 "cells": [
  {
   "cell_type": "code",
   "execution_count": 1,
   "id": "81ad1b75-549d-473e-806a-f0d7119ac214",
   "metadata": {},
   "outputs": [
    {
     "name": "stdout",
     "output_type": "stream",
     "text": [
      "Dataran Rendah atau bawah permukaan laut\n"
     ]
    }
   ],
   "source": [
    "elevation = 50\n",
    "\n",
    "if elevation >= 200:\n",
    "    print(\"Gunung\")\n",
    "elif elevation >= 100:\n",
    "    print(\"Dataran Tinggi\")\n",
    "else:\n",
    "    print(\"Dataran Rendah atau bawah permukaan laut\")"
   ]
  },
  {
   "cell_type": "code",
   "execution_count": null,
   "id": "f2bfb104-86e8-44ea-b496-83a7d4dadbb2",
   "metadata": {},
   "outputs": [],
   "source": []
  }
 ],
 "metadata": {
  "kernelspec": {
   "display_name": "Python 3 (ipykernel)",
   "language": "python",
   "name": "python3"
  },
  "language_info": {
   "codemirror_mode": {
    "name": "ipython",
    "version": 3
   },
   "file_extension": ".py",
   "mimetype": "text/x-python",
   "name": "python",
   "nbconvert_exporter": "python",
   "pygments_lexer": "ipython3",
   "version": "3.13.0"
  }
 },
 "nbformat": 4,
 "nbformat_minor": 5
}
