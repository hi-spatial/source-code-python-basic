{
 "cells": [
  {
   "cell_type": "code",
   "execution_count": 2,
   "id": "1064e55c-f827-4fe6-81bf-28fe5143da27",
   "metadata": {},
   "outputs": [
    {
     "name": "stdout",
     "output_type": "stream",
     "text": [
      "Nama Fitur: Titik Koordinat A\n",
      "Tipe Geometri: Point\n",
      "Koordinat: [110.0, -7.0]\n"
     ]
    }
   ],
   "source": [
    "import json\n",
    "\n",
    "# Data GeoJSON untuk ditulis ke file\n",
    "data = {\n",
    "    'type': 'Feature',\n",
    "    'geometry': {\n",
    "        'type': 'Point',\n",
    "        'coordinates': [110.0, -7.0]\n",
    "    },\n",
    "    'properties': {\n",
    "        'name': 'Titik Koordinat A'\n",
    "    }\n",
    "}\n",
    "\n",
    "# Menulis data ke file\n",
    "with open('data.geojson', 'w') as f:\n",
    "    json.dump(data, f, indent=4)\n",
    "\n",
    "# Membaca data dari file\n",
    "with open('data.geojson', 'r') as f:\n",
    "    data_baca = json.load(f)\n",
    "\n",
    "# Menampilkan data yang dibaca\n",
    "print(f\"Nama Fitur: {data_baca['properties']['name']}\")\n",
    "print(f\"Tipe Geometri: {data_baca['geometry']['type']}\")\n",
    "print(f\"Koordinat: {data_baca['geometry']['coordinates']}\")\n",
    "\n",
    "# 1. Data GeoJSON dibuat sebagai dictionary Python dan ditulis ke file `data.geojson`.\n",
    "# 2. Data kemudian dibaca kembali dari file menggunakan `json.load()` dan ditampilkan."
   ]
  },
  {
   "cell_type": "code",
   "execution_count": null,
   "id": "74495aa9-54c0-439c-b4b5-e9345a4c26d5",
   "metadata": {},
   "outputs": [],
   "source": []
  }
 ],
 "metadata": {
  "kernelspec": {
   "display_name": "Python 3 (ipykernel)",
   "language": "python",
   "name": "python3"
  },
  "language_info": {
   "codemirror_mode": {
    "name": "ipython",
    "version": 3
   },
   "file_extension": ".py",
   "mimetype": "text/x-python",
   "name": "python",
   "nbconvert_exporter": "python",
   "pygments_lexer": "ipython3",
   "version": "3.13.0"
  }
 },
 "nbformat": 4,
 "nbformat_minor": 5
}
