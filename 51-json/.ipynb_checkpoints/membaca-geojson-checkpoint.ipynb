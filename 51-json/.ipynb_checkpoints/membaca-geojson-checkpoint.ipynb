{
 "cells": [
  {
   "cell_type": "code",
   "execution_count": 1,
   "id": "16971e96-085d-4d74-9d6e-199fa5ebcff7",
   "metadata": {},
   "outputs": [
    {
     "name": "stdout",
     "output_type": "stream",
     "text": [
      "Nama Fitur: Titik Koordinat A\n",
      "Tipe Geometri: Point\n",
      "Koordinat: [110.0, -7.0]\n"
     ]
    }
   ],
   "source": [
    "import json\n",
    "\n",
    "# Membaca data dari file GeoJSON\n",
    "with open('data.geojson', 'r') as f:\n",
    "    data = json.load(f)\n",
    "\n",
    "# Menampilkan isi file\n",
    "print(f\"Nama Fitur: {data['properties']['name']}\")\n",
    "print(f\"Tipe Geometri: {data['geometry']['type']}\")\n",
    "print(f\"Koordinat: {data['geometry']['coordinates']}\")\n",
    "\n",
    "\n",
    "# 1. `json.load()` digunakan untuk membaca dan mengonversi isi file JSON menjadi struktur data Python.\n",
    "# 2. Setelah data dibaca, kita bisa mengaksesnya menggunakan key pada dictionary seperti `'properties'` dan `'geometry'`."
   ]
  },
  {
   "cell_type": "code",
   "execution_count": null,
   "id": "19e68dc2-55b9-40ee-94a9-f822b9c831c7",
   "metadata": {},
   "outputs": [],
   "source": []
  }
 ],
 "metadata": {
  "kernelspec": {
   "display_name": "Python 3 (ipykernel)",
   "language": "python",
   "name": "python3"
  },
  "language_info": {
   "codemirror_mode": {
    "name": "ipython",
    "version": 3
   },
   "file_extension": ".py",
   "mimetype": "text/x-python",
   "name": "python",
   "nbconvert_exporter": "python",
   "pygments_lexer": "ipython3",
   "version": "3.13.0"
  }
 },
 "nbformat": 4,
 "nbformat_minor": 5
}
