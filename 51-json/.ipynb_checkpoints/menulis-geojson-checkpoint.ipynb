{
 "cells": [
  {
   "cell_type": "code",
   "execution_count": null,
   "id": "84affed5-f0f5-4fff-9a1e-98200bcc4aff",
   "metadata": {},
   "outputs": [],
   "source": [
    "import json\n",
    "\n",
    "# Data GeoJSON\n",
    "data = {\n",
    "    'type': 'Feature',\n",
    "    'geometry': {\n",
    "        'type': 'Point',\n",
    "        'coordinates': [110.0, -7.0]\n",
    "    },\n",
    "    'properties': {\n",
    "        'name': 'Titik Koordinat A'\n",
    "    }\n",
    "}\n",
    "\n",
    "# Menulis data ke file GeoJSON\n",
    "with open('data.geojson', 'w') as f:\n",
    "    json.dump(data, f, indent=4)\n",
    "\n",
    "\n",
    "# 1. `json.dump()` digunakan untuk menulis data Python dalam format JSON ke file `data.geojson`.\n",
    "# 2. Data akan disimpan dalam format yang dapat dibaca oleh aplikasi pemetaan atau GIS yang mendukung GeoJSON."
   ]
  }
 ],
 "metadata": {
  "kernelspec": {
   "display_name": "Python 3 (ipykernel)",
   "language": "python",
   "name": "python3"
  },
  "language_info": {
   "codemirror_mode": {
    "name": "ipython",
    "version": 3
   },
   "file_extension": ".py",
   "mimetype": "text/x-python",
   "name": "python",
   "nbconvert_exporter": "python",
   "pygments_lexer": "ipython3",
   "version": "3.13.0"
  }
 },
 "nbformat": 4,
 "nbformat_minor": 5
}
