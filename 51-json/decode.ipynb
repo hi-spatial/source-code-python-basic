{
 "cells": [
  {
   "cell_type": "code",
   "execution_count": 1,
   "id": "4bdabf90-f64d-47b3-a987-1a032f80cb0a",
   "metadata": {},
   "outputs": [
    {
     "name": "stdout",
     "output_type": "stream",
     "text": [
      "Nama Fitur: Titik Koordinat A\n",
      "Tipe Geometri: Point\n",
      "Koordinat: [110.0, -7.0]\n"
     ]
    }
   ],
   "source": [
    "import json\n",
    "\n",
    "# Data GeoJSON dalam format string\n",
    "geojson_str = '''\n",
    "{\n",
    "    \"type\": \"Feature\",\n",
    "    \"geometry\": {\n",
    "        \"type\": \"Point\",\n",
    "        \"coordinates\": [110.0, -7.0]\n",
    "    },\n",
    "    \"properties\": {\n",
    "        \"name\": \"Titik Koordinat A\"\n",
    "    }\n",
    "}\n",
    "'''\n",
    "\n",
    "# Konversi JSON string ke dictionary Python\n",
    "geojson_data = json.loads(geojson_str)\n",
    "\n",
    "# Akses data dari GeoJSON\n",
    "print(f\"Nama Fitur: {geojson_data['properties']['name']}\")\n",
    "print(f\"Tipe Geometri: {geojson_data['geometry']['type']}\")\n",
    "print(f\"Koordinat: {geojson_data['geometry']['coordinates']}\")\n",
    "\n",
    "\n",
    "# 1. `json.loads()` digunakan untuk mengonversi string GeoJSON menjadi dictionary Python.\n",
    "# 2. Setelah dikonversi, data dapat diakses menggunakan key pada dictionary, seperti `'properties'`, `'geometry'`, dan `'coordinates'`."
   ]
  },
  {
   "cell_type": "code",
   "execution_count": null,
   "id": "370b1744-7ec4-4d4d-aa56-161f1434c125",
   "metadata": {},
   "outputs": [],
   "source": []
  }
 ],
 "metadata": {
  "kernelspec": {
   "display_name": "Python 3 (ipykernel)",
   "language": "python",
   "name": "python3"
  },
  "language_info": {
   "codemirror_mode": {
    "name": "ipython",
    "version": 3
   },
   "file_extension": ".py",
   "mimetype": "text/x-python",
   "name": "python",
   "nbconvert_exporter": "python",
   "pygments_lexer": "ipython3",
   "version": "3.13.0"
  }
 },
 "nbformat": 4,
 "nbformat_minor": 5
}
