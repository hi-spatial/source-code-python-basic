{
 "cells": [
  {
   "cell_type": "code",
   "execution_count": 1,
   "id": "25c07886-e9b7-4883-9ced-f07fa01daf36",
   "metadata": {},
   "outputs": [
    {
     "name": "stdout",
     "output_type": "stream",
     "text": [
      "{\n",
      "    \"type\": \"Feature\",\n",
      "    \"geometry\": {\n",
      "        \"type\": \"Point\",\n",
      "        \"coordinates\": [\n",
      "            110.0,\n",
      "            -7.0\n",
      "        ]\n",
      "    },\n",
      "    \"properties\": {\n",
      "        \"name\": \"Titik Koordinat A\"\n",
      "    }\n",
      "}\n"
     ]
    }
   ],
   "source": [
    "import json\n",
    "\n",
    "# Data geospasial dalam format Python dictionary\n",
    "data = {\n",
    "    'type': 'Feature',\n",
    "    'geometry': {\n",
    "        'type': 'Point',\n",
    "        'coordinates': [110.0, -7.0]  # Titik koordinat (longitude, latitude)\n",
    "    },\n",
    "    'properties': {\n",
    "        'name': 'Titik Koordinat A'\n",
    "    }\n",
    "}\n",
    "\n",
    "# Konversi data Python menjadi JSON string\n",
    "json_data = json.dumps(data, indent=4)\n",
    "print(json_data)\n",
    "\n",
    "# 1. Data geospasial disimpan dalam bentuk dictionary Python dengan tipe fitur `'Point'` dan properti `'name'`.\n",
    "# 2. `json.dumps()` digunakan untuk mengonversi data Python menjadi JSON string dengan indentasi 4 spasi untuk kejelasan."
   ]
  },
  {
   "cell_type": "code",
   "execution_count": null,
   "id": "cd2f7c07-5959-409d-b52a-572ecf01dda3",
   "metadata": {},
   "outputs": [],
   "source": []
  }
 ],
 "metadata": {
  "kernelspec": {
   "display_name": "Python 3 (ipykernel)",
   "language": "python",
   "name": "python3"
  },
  "language_info": {
   "codemirror_mode": {
    "name": "ipython",
    "version": 3
   },
   "file_extension": ".py",
   "mimetype": "text/x-python",
   "name": "python",
   "nbconvert_exporter": "python",
   "pygments_lexer": "ipython3",
   "version": "3.13.0"
  }
 },
 "nbformat": 4,
 "nbformat_minor": 5
}
