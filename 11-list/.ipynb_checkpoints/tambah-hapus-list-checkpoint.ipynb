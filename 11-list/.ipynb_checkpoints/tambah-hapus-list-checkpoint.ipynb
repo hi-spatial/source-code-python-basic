{
 "cells": [
  {
   "cell_type": "code",
   "execution_count": 1,
   "id": "67349e03-bc3c-49b8-a05a-b5e25ad66430",
   "metadata": {},
   "outputs": [
    {
     "name": "stdout",
     "output_type": "stream",
     "text": [
      "[10, 70, 20, 88]\n",
      "[10, 20, 88]\n"
     ]
    }
   ],
   "source": [
    "list_1 = [10, 70, 20]\n",
    "list_1.append(88)\n",
    "print(list_1)\n",
    "\n",
    "list_1.remove(70)\n",
    "print(list_1)"
   ]
  }
 ],
 "metadata": {
  "kernelspec": {
   "display_name": "Python 3 (ipykernel)",
   "language": "python",
   "name": "python3"
  },
  "language_info": {
   "codemirror_mode": {
    "name": "ipython",
    "version": 3
   },
   "file_extension": ".py",
   "mimetype": "text/x-python",
   "name": "python",
   "nbconvert_exporter": "python",
   "pygments_lexer": "ipython3",
   "version": "3.13.0"
  }
 },
 "nbformat": 4,
 "nbformat_minor": 5
}
