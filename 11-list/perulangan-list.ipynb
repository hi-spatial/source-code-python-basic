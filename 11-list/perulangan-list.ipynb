{
 "cells": [
  {
   "cell_type": "code",
   "execution_count": 1,
   "id": "93aec135-1299-467f-a241-26d0e8b69515",
   "metadata": {},
   "outputs": [
    {
     "name": "stdout",
     "output_type": "stream",
     "text": [
      "elem: 10\n",
      "elem: 70\n",
      "elem: 20\n",
      "index: 0 elem: 10\n",
      "index: 1 elem: 70\n",
      "index: 2 elem: 20\n"
     ]
    }
   ],
   "source": [
    "list_1 = [10, 70, 20]\n",
    "for e in list_1:\n",
    "    print(\"elem:\", e)\n",
    "\n",
    "for i in range(0, len(list_1)):\n",
    "    print(\"index:\", i, \"elem:\", list_1[i])"
   ]
  },
  {
   "cell_type": "code",
   "execution_count": 2,
   "id": "d5441a79-9c5d-4661-852c-211930edfce3",
   "metadata": {},
   "outputs": [
    {
     "name": "stdout",
     "output_type": "stream",
     "text": [
      "Index 0, Koordinat: (1.0, 2.0)\n",
      "Index 1, Koordinat: (3.0, 4.0)\n",
      "Index 2, Koordinat: (5.0, 6.0)\n"
     ]
    }
   ],
   "source": [
    "coordinates = [(1.0, 2.0), (3.0, 4.0), (5.0, 6.0)]\n",
    "for i, coord in enumerate(coordinates):\n",
    "    print(f\"Index {i}, Koordinat: {coord}\")"
   ]
  },
  {
   "cell_type": "code",
   "execution_count": null,
   "id": "76286ca8-1fb0-4aad-b37e-65e3d0bb4c7e",
   "metadata": {},
   "outputs": [],
   "source": []
  }
 ],
 "metadata": {
  "kernelspec": {
   "display_name": "Python 3 (ipykernel)",
   "language": "python",
   "name": "python3"
  },
  "language_info": {
   "codemirror_mode": {
    "name": "ipython",
    "version": 3
   },
   "file_extension": ".py",
   "mimetype": "text/x-python",
   "name": "python",
   "nbconvert_exporter": "python",
   "pygments_lexer": "ipython3",
   "version": "3.13.0"
  }
 },
 "nbformat": 4,
 "nbformat_minor": 5
}
