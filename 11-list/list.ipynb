{
 "cells": [
  {
   "cell_type": "code",
   "execution_count": 1,
   "id": "46c4b90d-7fa9-41a8-b4ff-752518cf4492",
   "metadata": {},
   "outputs": [],
   "source": [
    "list_1 = [10, 70, 20]\n",
    "list_2 = ['ab', 'cd', 'hi', 'ca']\n",
    "list_3 = [3.14, 'hello python', True, False]\n",
    "list_4 = []"
   ]
  },
  {
   "cell_type": "code",
   "execution_count": 2,
   "id": "dfcc19ee-3d74-484a-92ae-499e96b4d8f6",
   "metadata": {},
   "outputs": [
    {
     "name": "stdout",
     "output_type": "stream",
     "text": [
      "Koordinat: (1.0, 2.0)\n",
      "Koordinat: (3.0, 4.0)\n",
      "Koordinat: (5.0, 6.0)\n"
     ]
    }
   ],
   "source": [
    "coordinates = [(1.0, 2.0), (3.0, 4.0), (5.0, 6.0)]\n",
    "for coord in coordinates:\n",
    "    print(f\"Koordinat: {coord}\")"
   ]
  },
  {
   "cell_type": "code",
   "execution_count": null,
   "id": "702a1ae0-a8d1-4c03-814b-64e445c47cdf",
   "metadata": {},
   "outputs": [],
   "source": []
  }
 ],
 "metadata": {
  "kernelspec": {
   "display_name": "Python 3 (ipykernel)",
   "language": "python",
   "name": "python3"
  },
  "language_info": {
   "codemirror_mode": {
    "name": "ipython",
    "version": 3
   },
   "file_extension": ".py",
   "mimetype": "text/x-python",
   "name": "python",
   "nbconvert_exporter": "python",
   "pygments_lexer": "ipython3",
   "version": "3.13.0"
  }
 },
 "nbformat": 4,
 "nbformat_minor": 5
}
