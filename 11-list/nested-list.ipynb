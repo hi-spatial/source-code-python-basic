{
 "cells": [
  {
   "cell_type": "code",
   "execution_count": 1,
   "id": "13b506f2-3c7f-4ae6-b75a-77fa9b57ab1a",
   "metadata": {},
   "outputs": [
    {
     "name": "stdout",
     "output_type": "stream",
     "text": [
      "0 1 0 1 0 \n",
      "1 1 1 0 0 \n",
      "0 0 0 1 1 \n",
      "0 1 1 1 0 \n"
     ]
    }
   ],
   "source": [
    "matrix = [\n",
    "    [0, 1, 0, 1, 0],\n",
    "    [1, 1, 1, 0, 0],\n",
    "    [0, 0, 0, 1, 1],\n",
    "    [0, 1, 1, 1, 0],\n",
    "]\n",
    "\n",
    "for row in matrix:\n",
    "    for cell in row:\n",
    "        print(cell, end=\" \")\n",
    "    print()"
   ]
  },
  {
   "cell_type": "code",
   "execution_count": null,
   "id": "3a99e422-1992-4fa5-8796-65c4883b2517",
   "metadata": {},
   "outputs": [],
   "source": []
  }
 ],
 "metadata": {
  "kernelspec": {
   "display_name": "Python 3 (ipykernel)",
   "language": "python",
   "name": "python3"
  },
  "language_info": {
   "codemirror_mode": {
    "name": "ipython",
    "version": 3
   },
   "file_extension": ".py",
   "mimetype": "text/x-python",
   "name": "python",
   "nbconvert_exporter": "python",
   "pygments_lexer": "ipython3",
   "version": "3.13.0"
  }
 },
 "nbformat": 4,
 "nbformat_minor": 5
}
