{
 "cells": [
  {
   "cell_type": "code",
   "execution_count": 1,
   "id": "55ce4f98-9028-4757-b86f-46ebe29ac225",
   "metadata": {},
   "outputs": [
    {
     "name": "stdout",
     "output_type": "stream",
     "text": [
      "10\n"
     ]
    }
   ],
   "source": [
    "list_1 = [10, 70, 20]\n",
    "elem_1st = list_1[0]\n",
    "print(elem_1st)"
   ]
  },
  {
   "cell_type": "code",
   "execution_count": 2,
   "id": "9fbf35be-2002-4bbc-9a86-0d856195268d",
   "metadata": {},
   "outputs": [
    {
     "name": "stdout",
     "output_type": "stream",
     "text": [
      "Koordinat pertama: (1.0, 2.0)\n"
     ]
    }
   ],
   "source": [
    "coordinates = [(1.0, 2.0), (3.0, 4.0), (5.0, 6.0)]\n",
    "print(f\"Koordinat pertama: {coordinates[0]}\")"
   ]
  },
  {
   "cell_type": "code",
   "execution_count": null,
   "id": "0f5ab796-e7a9-4be0-9a21-04c7b10f255d",
   "metadata": {},
   "outputs": [],
   "source": []
  }
 ],
 "metadata": {
  "kernelspec": {
   "display_name": "Python 3 (ipykernel)",
   "language": "python",
   "name": "python3"
  },
  "language_info": {
   "codemirror_mode": {
    "name": "ipython",
    "version": 3
   },
   "file_extension": ".py",
   "mimetype": "text/x-python",
   "name": "python",
   "nbconvert_exporter": "python",
   "pygments_lexer": "ipython3",
   "version": "3.13.0"
  }
 },
 "nbformat": 4,
 "nbformat_minor": 5
}
