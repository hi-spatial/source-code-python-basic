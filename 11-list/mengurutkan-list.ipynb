{
 "cells": [
  {
   "cell_type": "code",
   "execution_count": 1,
   "id": "7ccf8cd9-af6b-4ee3-960e-3a011bca48f4",
   "metadata": {},
   "outputs": [
    {
     "name": "stdout",
     "output_type": "stream",
     "text": [
      "[10, 20, 70]\n"
     ]
    }
   ],
   "source": [
    "list_1 = [10, 70, 20]\n",
    "list_1.sort()\n",
    "print(list_1)"
   ]
  },
  {
   "cell_type": "code",
   "execution_count": 2,
   "id": "e2f1ec6f-62db-43fe-9d64-be464ae23fa0",
   "metadata": {},
   "outputs": [
    {
     "name": "stdout",
     "output_type": "stream",
     "text": [
      "Koordinat terurut: [(1.0, 5.0), (1.5, 4.0), (2.0, 3.0)]\n"
     ]
    }
   ],
   "source": [
    "coordinates = [(1.0, 5.0), (2.0, 3.0), (1.5, 4.0)]\n",
    "coordinates.sort()\n",
    "print(f\"Koordinat terurut: {coordinates}\")"
   ]
  },
  {
   "cell_type": "code",
   "execution_count": null,
   "id": "ce798a5d-9b11-4f18-b381-40d4c3b56be6",
   "metadata": {},
   "outputs": [],
   "source": []
  }
 ],
 "metadata": {
  "kernelspec": {
   "display_name": "Python 3 (ipykernel)",
   "language": "python",
   "name": "python3"
  },
  "language_info": {
   "codemirror_mode": {
    "name": "ipython",
    "version": 3
   },
   "file_extension": ".py",
   "mimetype": "text/x-python",
   "name": "python",
   "nbconvert_exporter": "python",
   "pygments_lexer": "ipython3",
   "version": "3.13.0"
  }
 },
 "nbformat": 4,
 "nbformat_minor": 5
}
