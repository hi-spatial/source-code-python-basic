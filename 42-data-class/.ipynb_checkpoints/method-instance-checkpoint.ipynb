{
 "cells": [
  {
   "cell_type": "code",
   "execution_count": 2,
   "id": "60e67399-eb09-4133-8f9d-3ee1f8bdbf02",
   "metadata": {},
   "outputs": [
    {
     "name": "stdout",
     "output_type": "stream",
     "text": [
      "Jarak antara dua titik: 7.0710678118654755 satuan\n"
     ]
    }
   ],
   "source": [
    "from math import sqrt\n",
    "from dataclasses import dataclass\n",
    "\n",
    "@dataclass\n",
    "class Point:\n",
    "    latitude: float\n",
    "    longitude: float\n",
    "    altitude: float = 0.0\n",
    "    \n",
    "    def distance_to(self, other: \"Point\") -> float:\n",
    "        return sqrt((self.latitude - other.latitude)**2 + (self.longitude - other.longitude)**2)\n",
    "\n",
    "point1 = Point(10.0, 20.0)\n",
    "point2 = Point(15.0, 25.0)\n",
    "\n",
    "distance = point1.distance_to(point2)\n",
    "print(f\"Jarak antara dua titik: {distance} satuan\")"
   ]
  },
  {
   "cell_type": "code",
   "execution_count": null,
   "id": "13607c38-d176-4644-95f2-851a38b58f43",
   "metadata": {},
   "outputs": [],
   "source": []
  }
 ],
 "metadata": {
  "kernelspec": {
   "display_name": "Python 3 (ipykernel)",
   "language": "python",
   "name": "python3"
  },
  "language_info": {
   "codemirror_mode": {
    "name": "ipython",
    "version": 3
   },
   "file_extension": ".py",
   "mimetype": "text/x-python",
   "name": "python",
   "nbconvert_exporter": "python",
   "pygments_lexer": "ipython3",
   "version": "3.13.0"
  }
 },
 "nbformat": 4,
 "nbformat_minor": 5
}
