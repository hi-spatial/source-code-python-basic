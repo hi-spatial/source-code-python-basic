{
 "cells": [
  {
   "cell_type": "code",
   "execution_count": 1,
   "id": "d7d327a4-42dd-450d-b4da-b48f90c57524",
   "metadata": {},
   "outputs": [
    {
     "name": "stdout",
     "output_type": "stream",
     "text": [
      "Koordinat: 10.0°, 20.0° | Altitude: 0.0 m\n",
      "Koordinat: -7.25°, 112.75° | Altitude: 5.5 m\n",
      "Koordinat: 51.5°, -0.12° | Altitude: 0.0 m\n"
     ]
    }
   ],
   "source": [
    "from dataclasses import dataclass\n",
    "\n",
    "@dataclass\n",
    "class Point:\n",
    "    latitude: float\n",
    "    longitude: float\n",
    "    altitude: float = 0.0  # nilai default altitude\n",
    "\n",
    "points = [\n",
    "    Point(10.0, 20.0),\n",
    "    Point(latitude=-7.25, longitude=112.75, altitude=5.5),\n",
    "    Point(51.5, -0.12)\n",
    "]\n",
    "\n",
    "for p in points:\n",
    "    print(f\"Koordinat: {p.latitude}°, {p.longitude}° | Altitude: {p.altitude} m\")"
   ]
  },
  {
   "cell_type": "code",
   "execution_count": null,
   "id": "a115b775-19b7-42de-8e11-712b17e32c3d",
   "metadata": {},
   "outputs": [],
   "source": []
  }
 ],
 "metadata": {
  "kernelspec": {
   "display_name": "Python 3 (ipykernel)",
   "language": "python",
   "name": "python3"
  },
  "language_info": {
   "codemirror_mode": {
    "name": "ipython",
    "version": 3
   },
   "file_extension": ".py",
   "mimetype": "text/x-python",
   "name": "python",
   "nbconvert_exporter": "python",
   "pygments_lexer": "ipython3",
   "version": "3.13.0"
  }
 },
 "nbformat": 4,
 "nbformat_minor": 5
}
