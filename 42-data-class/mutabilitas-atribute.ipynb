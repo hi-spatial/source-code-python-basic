{
 "cells": [
  {
   "cell_type": "code",
   "execution_count": 2,
   "id": "5e275c13-c885-4b3f-950d-086869d5fff5",
   "metadata": {},
   "outputs": [
    {
     "name": "stdout",
     "output_type": "stream",
     "text": [
      "Koordinat yang telah diubah: -6.2°, 106.8°\n"
     ]
    }
   ],
   "source": [
    "from dataclasses import dataclass\n",
    "\n",
    "@dataclass\n",
    "class Point:\n",
    "    latitude: float\n",
    "    longitude: float\n",
    "    altitude: float = 0.0  # nilai default altitude\n",
    "\n",
    "points = [\n",
    "    Point(10.0, 20.0),\n",
    "    Point(latitude=-7.25, longitude=112.75, altitude=5.5),\n",
    "    Point(51.5, -0.12)\n",
    "]\n",
    "\n",
    "point = Point(10.0, 20.0)\n",
    "point.latitude = -6.2  # Mengubah koordinat\n",
    "point.longitude = 106.8\n",
    "\n",
    "print(f\"Koordinat yang telah diubah: {point.latitude}°, {point.longitude}°\")"
   ]
  },
  {
   "cell_type": "code",
   "execution_count": null,
   "id": "a922de57-8f17-4c39-b121-0c0841491444",
   "metadata": {},
   "outputs": [],
   "source": []
  }
 ],
 "metadata": {
  "kernelspec": {
   "display_name": "Python 3 (ipykernel)",
   "language": "python",
   "name": "python3"
  },
  "language_info": {
   "codemirror_mode": {
    "name": "ipython",
    "version": 3
   },
   "file_extension": ".py",
   "mimetype": "text/x-python",
   "name": "python",
   "nbconvert_exporter": "python",
   "pygments_lexer": "ipython3",
   "version": "3.13.0"
  }
 },
 "nbformat": 4,
 "nbformat_minor": 5
}
