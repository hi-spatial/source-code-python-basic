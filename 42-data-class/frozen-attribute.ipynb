{
 "cells": [
  {
   "cell_type": "code",
   "execution_count": 1,
   "id": "e4ebfb80-8e2a-497b-b680-eee3c5e23ae1",
   "metadata": {},
   "outputs": [],
   "source": [
    "from dataclasses import dataclass\n",
    "\n",
    "@dataclass(frozen=True)\n",
    "class Point:\n",
    "    latitude: float\n",
    "    longitude: float\n",
    "    altitude: float = 0.0\n",
    "\n",
    "fixed_point = Point(10.0, 20.0)\n",
    "# fixed_point.latitude = -6.2  # Ini akan menyebabkan error karena atributnya immutable"
   ]
  },
  {
   "cell_type": "code",
   "execution_count": null,
   "id": "226d63ff-5824-4568-a2a2-4d7dbbf5b220",
   "metadata": {},
   "outputs": [],
   "source": []
  }
 ],
 "metadata": {
  "kernelspec": {
   "display_name": "Python 3 (ipykernel)",
   "language": "python",
   "name": "python3"
  },
  "language_info": {
   "codemirror_mode": {
    "name": "ipython",
    "version": 3
   },
   "file_extension": ".py",
   "mimetype": "text/x-python",
   "name": "python",
   "nbconvert_exporter": "python",
   "pygments_lexer": "ipython3",
   "version": "3.13.0"
  }
 },
 "nbformat": 4,
 "nbformat_minor": 5
}
