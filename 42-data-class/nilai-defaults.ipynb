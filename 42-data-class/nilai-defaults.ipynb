{
 "cells": [
  {
   "cell_type": "code",
   "execution_count": 1,
   "id": "7c5fddfa-a18a-41b6-93ca-e7cadf124096",
   "metadata": {},
   "outputs": [
    {
     "name": "stdout",
     "output_type": "stream",
     "text": [
      "Koordinat: 10.0°, 20.0° | Altitude: 0.0 m\n"
     ]
    }
   ],
   "source": [
    "from dataclasses import dataclass\n",
    "\n",
    "@dataclass\n",
    "class Point:\n",
    "    latitude: float\n",
    "    longitude: float\n",
    "    altitude: float = 0.0  # Nilai default\n",
    "    \n",
    "point = Point(10.0, 20.0)\n",
    "print(f\"Koordinat: {point.latitude}°, {point.longitude}° | Altitude: {point.altitude} m\")"
   ]
  },
  {
   "cell_type": "code",
   "execution_count": null,
   "id": "0a125b72-10e1-4fa7-a442-e62e98b18deb",
   "metadata": {},
   "outputs": [],
   "source": []
  }
 ],
 "metadata": {
  "kernelspec": {
   "display_name": "Python 3 (ipykernel)",
   "language": "python",
   "name": "python3"
  },
  "language_info": {
   "codemirror_mode": {
    "name": "ipython",
    "version": 3
   },
   "file_extension": ".py",
   "mimetype": "text/x-python",
   "name": "python",
   "nbconvert_exporter": "python",
   "pygments_lexer": "ipython3",
   "version": "3.13.0"
  }
 },
 "nbformat": 4,
 "nbformat_minor": 5
}
