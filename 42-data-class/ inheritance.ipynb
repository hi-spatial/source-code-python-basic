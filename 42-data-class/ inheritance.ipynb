{
 "cells": [
  {
   "cell_type": "code",
   "execution_count": 1,
   "id": "def61a33-c980-4bed-82f5-90254915db6a",
   "metadata": {},
   "outputs": [
    {
     "name": "stdout",
     "output_type": "stream",
     "text": [
      "Square memiliki 4 sisi\n"
     ]
    }
   ],
   "source": [
    "from dataclasses import dataclass\n",
    "\n",
    "@dataclass\n",
    "class Shape:\n",
    "    name: str\n",
    "\n",
    "@dataclass\n",
    "class Polygon(Shape):\n",
    "    sides: int\n",
    "\n",
    "square = Polygon(name=\"Square\", sides=4)\n",
    "print(f\"{square.name} memiliki {square.sides} sisi\")"
   ]
  },
  {
   "cell_type": "code",
   "execution_count": null,
   "id": "14ad32f5-7b42-4c62-917d-7569978895e3",
   "metadata": {},
   "outputs": [],
   "source": []
  }
 ],
 "metadata": {
  "kernelspec": {
   "display_name": "Python 3 (ipykernel)",
   "language": "python",
   "name": "python3"
  },
  "language_info": {
   "codemirror_mode": {
    "name": "ipython",
    "version": 3
   },
   "file_extension": ".py",
   "mimetype": "text/x-python",
   "name": "python",
   "nbconvert_exporter": "python",
   "pygments_lexer": "ipython3",
   "version": "3.13.0"
  }
 },
 "nbformat": 4,
 "nbformat_minor": 5
}
