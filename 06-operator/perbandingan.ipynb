{
 "cells": [
  {
   "cell_type": "code",
   "execution_count": 1,
   "id": "b2d50467-c39d-4cf5-8272-4a25a1e2edcc",
   "metadata": {},
   "outputs": [
    {
     "name": "stdout",
     "output_type": "stream",
     "text": [
      "Kota 1 memiliki populasi yang lebih besar.\n"
     ]
    }
   ],
   "source": [
    "# Mendeklarasikan variabel populasi untuk dua kota\n",
    "populasi_kota1 = 300000  # Populasi kota 1\n",
    "populasi_kota2 = 250000  # Populasi kota 2\n",
    "\n",
    "# Memeriksa apakah populasi kota 1 lebih besar daripada kota 2\n",
    "if populasi_kota1 > populasi_kota2:\n",
    "    # Jika benar, tampilkan bahwa kota 1 memiliki populasi yang lebih besar\n",
    "    print(\"Kota 1 memiliki populasi yang lebih besar.\")\n",
    "else:\n",
    "    # Jika tidak, tampilkan bahwa kota 2 memiliki populasi yang lebih besar\n",
    "    print(\"Kota 2 memiliki populasi yang lebih besar.\")\n"
   ]
  },
  {
   "cell_type": "code",
   "execution_count": null,
   "id": "58929ef0-0a94-4133-a143-6c5977ce5196",
   "metadata": {},
   "outputs": [],
   "source": []
  }
 ],
 "metadata": {
  "kernelspec": {
   "display_name": "Python 3 (ipykernel)",
   "language": "python",
   "name": "python3"
  },
  "language_info": {
   "codemirror_mode": {
    "name": "ipython",
    "version": 3
   },
   "file_extension": ".py",
   "mimetype": "text/x-python",
   "name": "python",
   "nbconvert_exporter": "python",
   "pygments_lexer": "ipython3",
   "version": "3.13.0"
  }
 },
 "nbformat": 4,
 "nbformat_minor": 5
}
