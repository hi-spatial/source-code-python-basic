{
 "cells": [
  {
   "cell_type": "code",
   "execution_count": 2,
   "id": "fdc39d93-5969-4ba7-be96-1e56fe070a60",
   "metadata": {},
   "outputs": [
    {
     "name": "stdout",
     "output_type": "stream",
     "text": [
      "True\n"
     ]
    }
   ],
   "source": [
    "# Membuat list (daftar) yang berisi beberapa nama kota\n",
    "daftar_kota = [\"Kota Yogyakarta\", \"Kota Semarang\", \"Kota Solo\"]\n",
    "\n",
    "# Memeriksa apakah \"Kota Yogyakarta\" ada di dalam daftar_kota\n",
    "is_yogyakarta_exists = \"Kota Yogyakarta\" in daftar_kota  # Operator 'in' memeriksa apakah elemen ada di dalam list\n",
    "\n",
    "# Menampilkan hasil pemeriksaan apakah \"Kota Yogyakarta\" ada di daftar\n",
    "print(is_yogyakarta_exists)  \n",
    "\n",
    "# output ➜ True jika \"Kota Yogyakarta\" ada di daftar_kota"
   ]
  },
  {
   "cell_type": "code",
   "execution_count": 3,
   "id": "37aa8ccd-7e2c-43cb-b345-3dc4fe133af0",
   "metadata": {},
   "outputs": [
    {
     "name": "stdout",
     "output_type": "stream",
     "text": [
      "True\n"
     ]
    }
   ],
   "source": [
    "# Membuat variabel string yang menyimpan nama area\n",
    "nama_area = 'Kota Yogyakarta'\n",
    "\n",
    "# Memeriksa apakah substring \"Yogyakarta\" ada di dalam string 'nama_area'\n",
    "is_yogya_in_nama = 'Yogyakarta' in nama_area  # Operator 'in' memeriksa apakah substring ada di dalam string\n",
    "\n",
    "# Menampilkan hasil pemeriksaan apakah substring \"Yogyakarta\" ada di dalam nama_area\n",
    "print(is_yogya_in_nama)  # output ➜ True jika \"Yogyakarta\" ada di dalam nama_area\n"
   ]
  },
  {
   "cell_type": "code",
   "execution_count": null,
   "id": "492a2eb8-e03c-4815-bf98-55f7dd6d594a",
   "metadata": {},
   "outputs": [],
   "source": []
  }
 ],
 "metadata": {
  "kernelspec": {
   "display_name": "Python 3 (ipykernel)",
   "language": "python",
   "name": "python3"
  },
  "language_info": {
   "codemirror_mode": {
    "name": "ipython",
    "version": 3
   },
   "file_extension": ".py",
   "mimetype": "text/x-python",
   "name": "python",
   "nbconvert_exporter": "python",
   "pygments_lexer": "ipython3",
   "version": "3.13.0"
  }
 },
 "nbformat": 4,
 "nbformat_minor": 5
}
