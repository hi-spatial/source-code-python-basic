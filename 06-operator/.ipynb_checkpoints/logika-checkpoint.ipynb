{
 "cells": [
  {
   "cell_type": "code",
   "execution_count": 1,
   "id": "10985bc4-9af0-405a-9e30-d68e0b57a633",
   "metadata": {},
   "outputs": [
    {
     "name": "stdout",
     "output_type": "stream",
     "text": [
      "Kota ini aman dan memiliki populasi yang cukup.\n"
     ]
    }
   ],
   "source": [
    "# Mendeklarasikan variabel yang menunjukkan apakah kota aman\n",
    "kota_yang_aman = True  # Menyatakan bahwa kota ini aman (boolean True)\n",
    "\n",
    "# Mendeklarasikan jumlah penduduk di kota tersebut\n",
    "jumlah_penduduk = 15000  # Jumlah penduduk kota\n",
    "\n",
    "# Memeriksa apakah kota aman dan jumlah penduduk lebih dari 10.000\n",
    "if kota_yang_aman and jumlah_penduduk > 10000:\n",
    "    # Jika kedua kondisi terpenuhi, tampilkan pesan bahwa kota aman dan memiliki populasi yang cukup\n",
    "    print(\"Kota ini aman dan memiliki populasi yang cukup.\")\n",
    "else:\n",
    "    # Jika salah satu kondisi tidak terpenuhi, tampilkan pesan bahwa kota tidak memenuhi kriteria\n",
    "    print(\"Kota ini tidak memenuhi kriteria.\")"
   ]
  },
  {
   "cell_type": "code",
   "execution_count": null,
   "id": "23af3e09-7a37-4535-8d48-5109163301cc",
   "metadata": {},
   "outputs": [],
   "source": []
  }
 ],
 "metadata": {
  "kernelspec": {
   "display_name": "Python 3 (ipykernel)",
   "language": "python",
   "name": "python3"
  },
  "language_info": {
   "codemirror_mode": {
    "name": "ipython",
    "version": 3
   },
   "file_extension": ".py",
   "mimetype": "text/x-python",
   "name": "python",
   "nbconvert_exporter": "python",
   "pygments_lexer": "ipython3",
   "version": "3.13.0"
  }
 },
 "nbformat": 4,
 "nbformat_minor": 5
}
