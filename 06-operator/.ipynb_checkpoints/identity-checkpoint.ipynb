{
 "cells": [
  {
   "cell_type": "code",
   "execution_count": 1,
   "id": "e012fcbb-526e-401e-bd4d-caf610564253",
   "metadata": {},
   "outputs": [
    {
     "name": "stdout",
     "output_type": "stream",
     "text": [
      "num_1 is num_2 = False\n",
      "id(num_1): 2395670360176, id(num_2): 2395670360048\n"
     ]
    }
   ],
   "source": [
    "# Mendeklarasikan dua variabel dengan nilai yang sama\n",
    "num_1 = 100001  # Angka pertama\n",
    "num_2 = 100001  # Angka kedua\n",
    "\n",
    "# Membandingkan apakah num_1 dan num_2 adalah objek yang sama (dibandingkan berdasarkan ID memori)\n",
    "res = num_1 is num_2  # Operator 'is' memeriksa apakah kedua variabel merujuk ke objek yang sama\n",
    "\n",
    "# Menampilkan hasil perbandingan apakah num_1 dan num_2 adalah objek yang sama\n",
    "print(\"num_1 is num_2 =\", res)\n",
    "\n",
    "# Menampilkan ID memori dari num_1 dan num_2 untuk memverifikasi apakah keduanya berada di lokasi memori yang sama\n",
    "print(\"id(num_1): %s, id(num_2): %s\" % (id(num_1), id(num_2)))"
   ]
  },
  {
   "cell_type": "code",
   "execution_count": null,
   "id": "c1981447-9e8e-4dfd-b5e8-0cc6097f7363",
   "metadata": {},
   "outputs": [],
   "source": []
  }
 ],
 "metadata": {
  "kernelspec": {
   "display_name": "Python 3 (ipykernel)",
   "language": "python",
   "name": "python3"
  },
  "language_info": {
   "codemirror_mode": {
    "name": "ipython",
    "version": 3
   },
   "file_extension": ".py",
   "mimetype": "text/x-python",
   "name": "python",
   "nbconvert_exporter": "python",
   "pygments_lexer": "ipython3",
   "version": "3.13.0"
  }
 },
 "nbformat": 4,
 "nbformat_minor": 5
}
