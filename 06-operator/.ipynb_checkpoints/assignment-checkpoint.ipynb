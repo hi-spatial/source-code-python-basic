{
 "cells": [
  {
   "cell_type": "code",
   "execution_count": 1,
   "id": "39614a4c-15c0-4668-b56a-583847a006ac",
   "metadata": {},
   "outputs": [
    {
     "name": "stdout",
     "output_type": "stream",
     "text": [
      "14.7795\n"
     ]
    }
   ],
   "source": [
    "# Deklarasi variabel untuk menyimpan koordinat\n",
    "koordinat_1 = (7.7956, 110.3695)  # Kota Yogyakarta\n",
    "koordinat_2 = (6.9839, 110.4182)  # Kota Semarang\n",
    "\n",
    "# Menghitung jarak total berdasarkan dua koordinat\n",
    "jarak_total = koordinat_1[0] + koordinat_2[0]\n",
    "print(jarak_total)  # output ➜ 14.7795"
   ]
  },
  {
   "cell_type": "code",
   "execution_count": null,
   "id": "f2bf5db9-5911-47e7-8edd-f070c12140d5",
   "metadata": {},
   "outputs": [],
   "source": []
  }
 ],
 "metadata": {
  "kernelspec": {
   "display_name": "Python 3 (ipykernel)",
   "language": "python",
   "name": "python3"
  },
  "language_info": {
   "codemirror_mode": {
    "name": "ipython",
    "version": 3
   },
   "file_extension": ".py",
   "mimetype": "text/x-python",
   "name": "python",
   "nbconvert_exporter": "python",
   "pygments_lexer": "ipython3",
   "version": "3.13.0"
  }
 },
 "nbformat": 4,
 "nbformat_minor": 5
}
