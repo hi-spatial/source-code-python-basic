{
 "cells": [
  {
   "cell_type": "code",
   "execution_count": 1,
   "id": "6d2953c2-a22f-4598-89ce-3a6a5389f958",
   "metadata": {},
   "outputs": [
    {
     "name": "stdout",
     "output_type": "stream",
     "text": [
      "[4, 8]\n"
     ]
    }
   ],
   "source": [
    "data_list = [2, 4, 6, 8, 10, 12, 14]\n",
    "slice_obj = slice(1, 5, 2)\n",
    "subset = data_list[slice_obj]\n",
    "print(subset)\n",
    "# output ➜ [4, 8]"
   ]
  },
  {
   "cell_type": "code",
   "execution_count": null,
   "id": "b9cb2483-6f16-400b-a1c9-b42ed9f6f45a",
   "metadata": {},
   "outputs": [],
   "source": []
  }
 ],
 "metadata": {
  "kernelspec": {
   "display_name": "Python 3 (ipykernel)",
   "language": "python",
   "name": "python3"
  },
  "language_info": {
   "codemirror_mode": {
    "name": "ipython",
    "version": 3
   },
   "file_extension": ".py",
   "mimetype": "text/x-python",
   "name": "python",
   "nbconvert_exporter": "python",
   "pygments_lexer": "ipython3",
   "version": "3.13.0"
  }
 },
 "nbformat": 4,
 "nbformat_minor": 5
}
