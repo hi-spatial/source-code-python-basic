{
 "cells": [
  {
   "cell_type": "code",
   "execution_count": 1,
   "id": "e3da55b3-f60c-4f37-9073-72455e009b82",
   "metadata": {},
   "outputs": [
    {
     "name": "stdout",
     "output_type": "stream",
     "text": [
      "[(-6.9175, 107.6191), (-6.9147, 107.6178)]\n"
     ]
    }
   ],
   "source": [
    "koordinat = [(-6.9175, 107.6191), (-6.9147, 107.6178), (-6.9121, 107.6159)]\n",
    "subset = koordinat[:2]  # Mengambil dua koordinat pertama\n",
    "print(subset)\n",
    "# output ➜ [(-6.9175, 107.6191), (-6.9147, 107.6178)]"
   ]
  },
  {
   "cell_type": "code",
   "execution_count": null,
   "id": "7c332efb-9a7d-4a48-8d80-6d741c70cc70",
   "metadata": {},
   "outputs": [],
   "source": []
  }
 ],
 "metadata": {
  "kernelspec": {
   "display_name": "Python 3 (ipykernel)",
   "language": "python",
   "name": "python3"
  },
  "language_info": {
   "codemirror_mode": {
    "name": "ipython",
    "version": 3
   },
   "file_extension": ".py",
   "mimetype": "text/x-python",
   "name": "python",
   "nbconvert_exporter": "python",
   "pygments_lexer": "ipython3",
   "version": "3.13.0"
  }
 },
 "nbformat": 4,
 "nbformat_minor": 5
}
