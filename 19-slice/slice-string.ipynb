{
 "cells": [
  {
   "cell_type": "code",
   "execution_count": 1,
   "id": "85a7a35e-d755-495b-9953-d52894c00bba",
   "metadata": {},
   "outputs": [
    {
     "name": "stdout",
     "output_type": "stream",
     "text": [
      "Latitude: -6.9175, Longitude: 107.6191\n",
      "-6.9175\n",
      "107.6191\n"
     ]
    }
   ],
   "source": [
    "data_str = \"Latitude: -6.9175, Longitude: 107.6191\"\n",
    "print(data_str)\n",
    "# output ➜ Latitude: -6.9175, Longitude: 107.6191\n",
    "\n",
    "slice1 = data_str[10:17]  # Mengambil nilai latitude\n",
    "print(slice1)\n",
    "# output ➜ -6.9175\n",
    "\n",
    "slice2 = data_str[30:]  # Mengambil nilai longitude\n",
    "print(slice2)\n",
    "# output ➜ 107.6191"
   ]
  },
  {
   "cell_type": "code",
   "execution_count": null,
   "id": "00bf81d8-ed5e-4499-af4c-2ac731c434e2",
   "metadata": {},
   "outputs": [],
   "source": []
  }
 ],
 "metadata": {
  "kernelspec": {
   "display_name": "Python 3 (ipykernel)",
   "language": "python",
   "name": "python3"
  },
  "language_info": {
   "codemirror_mode": {
    "name": "ipython",
    "version": 3
   },
   "file_extension": ".py",
   "mimetype": "text/x-python",
   "name": "python",
   "nbconvert_exporter": "python",
   "pygments_lexer": "ipython3",
   "version": "3.13.0"
  }
 },
 "nbformat": 4,
 "nbformat_minor": 5
}
