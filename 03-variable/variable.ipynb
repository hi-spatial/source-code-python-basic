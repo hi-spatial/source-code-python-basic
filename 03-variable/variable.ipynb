{
 "cells": [
  {
   "cell_type": "code",
   "execution_count": 2,
   "id": "6371a05c-713a-4437-ba92-a32cc433f819",
   "metadata": {},
   "outputs": [],
   "source": [
    "koordinat_latitude = -7.2575\n",
    "koordinat_longitude = 112.7521\n",
    "nama_kota = \"Malang\"\n",
    "data_populasi = 874000"
   ]
  },
  {
   "cell_type": "code",
   "execution_count": 3,
   "id": "fa580385-da9b-445f-925a-80ae036501e4",
   "metadata": {},
   "outputs": [
    {
     "name": "stdout",
     "output_type": "stream",
     "text": [
      "==== Data Geospasial ====\n",
      "Kota: Malang\n",
      "Koordinat: (-7.257500, 112.752100)\n",
      "Populasi: 874000\n"
     ]
    }
   ],
   "source": [
    "print(\"==== Data Geospasial ====\")\n",
    "print(\"Kota: %s\" % (nama_kota))\n",
    "print(\"Koordinat: (%f, %f)\" % (koordinat_latitude, koordinat_longitude))\n",
    "print(\"Populasi: %d\" % (data_populasi))"
   ]
  }
 ],
 "metadata": {
  "kernelspec": {
   "display_name": "Python 3 (ipykernel)",
   "language": "python",
   "name": "python3"
  },
  "language_info": {
   "codemirror_mode": {
    "name": "ipython",
    "version": 3
   },
   "file_extension": ".py",
   "mimetype": "text/x-python",
   "name": "python",
   "nbconvert_exporter": "python",
   "pygments_lexer": "ipython3",
   "version": "3.13.0"
  }
 },
 "nbformat": 4,
 "nbformat_minor": 5
}
