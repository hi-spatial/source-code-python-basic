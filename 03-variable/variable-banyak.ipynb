{
 "cells": [
  {
   "cell_type": "code",
   "execution_count": 1,
   "id": "67378e95-fb59-498b-a8c1-b7fd2e701134",
   "metadata": {},
   "outputs": [
    {
     "name": "stdout",
     "output_type": "stream",
     "text": [
      "Total Jumlah Penduduk: 15700000\n"
     ]
    }
   ],
   "source": [
    "kota1, kota2, kota3 = \"Jakarta\", \"Semarang\", \"Yogyakarta\"\n",
    "jumlah_penduduk1, jumlah_penduduk2, jumlah_penduduk3 = 10000000, 1700000, 4000000\n",
    "total_jumlah_penduduk = jumlah_penduduk1 + jumlah_penduduk2 + jumlah_penduduk3\n",
    "\n",
    "print(\"Total Jumlah Penduduk: %d\" % (total_jumlah_penduduk))"
   ]
  }
 ],
 "metadata": {
  "kernelspec": {
   "display_name": "Python 3 (ipykernel)",
   "language": "python",
   "name": "python3"
  },
  "language_info": {
   "codemirror_mode": {
    "name": "ipython",
    "version": 3
   },
   "file_extension": ".py",
   "mimetype": "text/x-python",
   "name": "python",
   "nbconvert_exporter": "python",
   "pygments_lexer": "ipython3",
   "version": "3.13.0"
  }
 },
 "nbformat": 4,
 "nbformat_minor": 5
}
