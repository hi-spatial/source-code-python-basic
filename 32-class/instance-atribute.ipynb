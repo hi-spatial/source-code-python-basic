{
 "cells": [
  {
   "cell_type": "code",
   "execution_count": 1,
   "id": "46c13367-2aa7-4ff3-add1-e16fdd84e28c",
   "metadata": {},
   "outputs": [
    {
     "name": "stdout",
     "output_type": "stream",
     "text": [
      "Lokasi: Puncak Jaya, Latitude = -4.082, Longitude = 137.1567, Elevation = 4884 meter\n"
     ]
    }
   ],
   "source": [
    "# Membuat class Coordinate terlebih dahulu\n",
    "class Coordinate:\n",
    "    def __init__(self, latitude, longitude):\n",
    "        self.latitude = latitude\n",
    "        self.longitude = longitude\n",
    "\n",
    "# Membuat class Location dengan atribut ketinggian (elevation)\n",
    "class Location:\n",
    "    def __init__(self, name, latitude, longitude, elevation):\n",
    "        self.name = name\n",
    "        self.coordinate = Coordinate(latitude, longitude)\n",
    "        self.elevation = elevation\n",
    "\n",
    "# Contoh instance object dengan atribut ketinggian\n",
    "puncak_jaya = Location(\"Puncak Jaya\", -4.0820, 137.1567, 4884)\n",
    "\n",
    "# Print hasil dari objek puncak_jaya\n",
    "print(f\"Lokasi: {puncak_jaya.name}, Latitude = {puncak_jaya.coordinate.latitude}, Longitude = {puncak_jaya.coordinate.longitude}, Elevation = {puncak_jaya.elevation} meter\")\n"
   ]
  },
  {
   "cell_type": "code",
   "execution_count": null,
   "id": "7be4c814-1deb-432a-8d89-681712e625a5",
   "metadata": {},
   "outputs": [],
   "source": []
  }
 ],
 "metadata": {
  "kernelspec": {
   "display_name": "Python 3 (ipykernel)",
   "language": "python",
   "name": "python3"
  },
  "language_info": {
   "codemirror_mode": {
    "name": "ipython",
    "version": 3
   },
   "file_extension": ".py",
   "mimetype": "text/x-python",
   "name": "python",
   "nbconvert_exporter": "python",
   "pygments_lexer": "ipython3",
   "version": "3.13.0"
  }
 },
 "nbformat": 4,
 "nbformat_minor": 5
}
