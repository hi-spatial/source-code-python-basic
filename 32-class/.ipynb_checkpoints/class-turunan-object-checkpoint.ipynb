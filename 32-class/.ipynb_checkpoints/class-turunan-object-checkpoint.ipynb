{
 "cells": [
  {
   "cell_type": "code",
   "execution_count": 2,
   "id": "2449c390-e2d0-40bc-92fb-e0ef75fee153",
   "metadata": {},
   "outputs": [
    {
     "name": "stdout",
     "output_type": "stream",
     "text": [
      "Monas adalah turunan dari object\n"
     ]
    }
   ],
   "source": [
    "# Membuat class Coordinate terlebih dahulu\n",
    "class Coordinate:\n",
    "    def __init__(self, latitude, longitude):\n",
    "        self.latitude = latitude\n",
    "        self.longitude = longitude\n",
    "\n",
    "# Membuat class Location\n",
    "class Location:\n",
    "    def __init__(self, name, latitude, longitude):\n",
    "        self.name = name\n",
    "        self.coordinate = Coordinate(latitude, longitude)\n",
    "\n",
    "# Contoh instance object\n",
    "monas = Location(\"Monas\", -6.1751, 106.8271)\n",
    "ragunan = Location(\"Ragunan Zoo\", -6.3116, 106.8205)\n",
    "\n",
    "\n",
    "if isinstance(monas, object):\n",
    "    print(f\"{monas.name} adalah turunan dari object\")"
   ]
  },
  {
   "cell_type": "code",
   "execution_count": null,
   "id": "23644783-eb94-4d7d-8045-10c732b2f7b3",
   "metadata": {},
   "outputs": [],
   "source": []
  }
 ],
 "metadata": {
  "kernelspec": {
   "display_name": "Python 3 (ipykernel)",
   "language": "python",
   "name": "python3"
  },
  "language_info": {
   "codemirror_mode": {
    "name": "ipython",
    "version": 3
   },
   "file_extension": ".py",
   "mimetype": "text/x-python",
   "name": "python",
   "nbconvert_exporter": "python",
   "pygments_lexer": "ipython3",
   "version": "3.13.0"
  }
 },
 "nbformat": 4,
 "nbformat_minor": 5
}
