{
 "cells": [
  {
   "cell_type": "code",
   "execution_count": 1,
   "id": "08253664-65cd-46a5-9aed-f57bb0c7b16c",
   "metadata": {},
   "outputs": [
    {
     "name": "stdout",
     "output_type": "stream",
     "text": [
      "my_polygon adalah instance dari class Polygon\n"
     ]
    }
   ],
   "source": [
    "class Polygon:\n",
    "    def __init__(self, coordinates):\n",
    "        self.coordinates = coordinates  # Daftar titik koordinat (latitude, longitude)\n",
    "    \n",
    "    def calculate_area(self):\n",
    "        # Implementasi menghitung luas berdasarkan koordinat\n",
    "        pass\n",
    "\n",
    "# Contoh daftar titik koordinat untuk sebuah poligon\n",
    "coords = [(-6.1751, 106.8271), (-6.2, 106.8), (-6.15, 106.85), (-6.1751, 106.8271)]\n",
    "\n",
    "# Membuat objek Polygon\n",
    "my_polygon = Polygon(coords)\n",
    "\n",
    "# Verifikasi bahwa my_polygon adalah instance dari class Polygon\n",
    "if isinstance(my_polygon, Polygon):\n",
    "    print(\"my_polygon adalah instance dari class Polygon\")\n"
   ]
  },
  {
   "cell_type": "code",
   "execution_count": null,
   "id": "9f1d42a0-538c-4437-8142-75c9f52b5f04",
   "metadata": {},
   "outputs": [],
   "source": []
  }
 ],
 "metadata": {
  "kernelspec": {
   "display_name": "Python 3 (ipykernel)",
   "language": "python",
   "name": "python3"
  },
  "language_info": {
   "codemirror_mode": {
    "name": "ipython",
    "version": 3
   },
   "file_extension": ".py",
   "mimetype": "text/x-python",
   "name": "python",
   "nbconvert_exporter": "python",
   "pygments_lexer": "ipython3",
   "version": "3.13.0"
  }
 },
 "nbformat": 4,
 "nbformat_minor": 5
}
