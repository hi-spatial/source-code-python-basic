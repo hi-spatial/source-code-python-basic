{
 "cells": [
  {
   "cell_type": "code",
   "execution_count": 1,
   "id": "f736a592-0850-4947-80e1-7d163fe8b060",
   "metadata": {},
   "outputs": [
    {
     "name": "stdout",
     "output_type": "stream",
     "text": [
      "Lokasi: Monas, Latitude = -6.1751, Longitude = 106.8271\n",
      "Lokasi: Ragunan Zoo, Latitude = -6.3116, Longitude = 106.8205\n"
     ]
    }
   ],
   "source": [
    "# Membuat class Coordinate terlebih dahulu\n",
    "class Coordinate:\n",
    "    def __init__(self, latitude, longitude):\n",
    "        self.latitude = latitude\n",
    "        self.longitude = longitude\n",
    "\n",
    "# Membuat class Location\n",
    "class Location:\n",
    "    def __init__(self, name, latitude, longitude):\n",
    "        self.name = name\n",
    "        self.coordinate = Coordinate(latitude, longitude)\n",
    "\n",
    "# Contoh instance object\n",
    "monas = Location(\"Monas\", -6.1751, 106.8271)\n",
    "ragunan = Location(\"Ragunan Zoo\", -6.3116, 106.8205)\n",
    "\n",
    "# Print hasil dari lokasi-lokasi penting\n",
    "print(f\"Lokasi: {monas.name}, Latitude = {monas.coordinate.latitude}, Longitude = {monas.coordinate.longitude}\")\n",
    "print(f\"Lokasi: {ragunan.name}, Latitude = {ragunan.coordinate.latitude}, Longitude = {ragunan.coordinate.longitude}\")\n"
   ]
  },
  {
   "cell_type": "code",
   "execution_count": null,
   "id": "a3b3feb2-d7c6-4040-b66f-04437c00ec29",
   "metadata": {},
   "outputs": [],
   "source": []
  }
 ],
 "metadata": {
  "kernelspec": {
   "display_name": "Python 3 (ipykernel)",
   "language": "python",
   "name": "python3"
  },
  "language_info": {
   "codemirror_mode": {
    "name": "ipython",
    "version": 3
   },
   "file_extension": ".py",
   "mimetype": "text/x-python",
   "name": "python",
   "nbconvert_exporter": "python",
   "pygments_lexer": "ipython3",
   "version": "3.13.0"
  }
 },
 "nbformat": 4,
 "nbformat_minor": 5
}
