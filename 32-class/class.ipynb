{
 "cells": [
  {
   "cell_type": "code",
   "execution_count": 4,
   "id": "6ccb790a-a97e-4e86-b5c5-1cae414dda7a",
   "metadata": {},
   "outputs": [
    {
     "name": "stdout",
     "output_type": "stream",
     "text": [
      "Lokasi Jakarta: Latitude = -6.2088, Longitude = 106.8456\n"
     ]
    }
   ],
   "source": [
    "# Membuat class Coordinate\n",
    "class Coordinate:\n",
    "    def __init__(self, latitude, longitude):\n",
    "        self.latitude = latitude\n",
    "        self.longitude = longitude\n",
    "\n",
    "# Membuat objek yang merepresentasikan lokasi Jakarta\n",
    "jakarta = Coordinate(-6.2088, 106.8456)\n",
    "\n",
    "# Print hasilnya untuk memahami output dari objek\n",
    "print(f\"Lokasi Jakarta: Latitude = {jakarta.latitude}, Longitude = {jakarta.longitude}\")\n"
   ]
  },
  {
   "cell_type": "code",
   "execution_count": null,
   "id": "6837534f-24c0-4723-a71b-6ebb7cb27536",
   "metadata": {},
   "outputs": [],
   "source": []
  }
 ],
 "metadata": {
  "kernelspec": {
   "display_name": "Python 3 (ipykernel)",
   "language": "python",
   "name": "python3"
  },
  "language_info": {
   "codemirror_mode": {
    "name": "ipython",
    "version": 3
   },
   "file_extension": ".py",
   "mimetype": "text/x-python",
   "name": "python",
   "nbconvert_exporter": "python",
   "pygments_lexer": "ipython3",
   "version": "3.13.0"
  }
 },
 "nbformat": 4,
 "nbformat_minor": 5
}
