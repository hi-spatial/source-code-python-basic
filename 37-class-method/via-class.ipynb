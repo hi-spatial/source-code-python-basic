{
 "cells": [
  {
   "cell_type": "code",
   "execution_count": 2,
   "id": "1f2265c7-57e4-494b-82fa-7e2f3a8c872c",
   "metadata": {},
   "outputs": [
    {
     "name": "stdout",
     "output_type": "stream",
     "text": [
      "Object: Gedung E - Type: Polygon - Coordinates: [(106.8283, -6.1745)]\n"
     ]
    }
   ],
   "source": [
    "class GeospatialObject:\n",
    "    \n",
    "    def __init__(self, name=\"\", coordinates=None, geom_type=\"Polygon\"):\n",
    "        self.name = name\n",
    "        self.coordinates = coordinates\n",
    "        self.geom_type = geom_type\n",
    "\n",
    "    @classmethod\n",
    "    def create(cls, name, coordinates, geom_type=\"Polygon\"):\n",
    "        obj = cls(name, coordinates, geom_type)\n",
    "        return obj\n",
    "\n",
    "    def info(self):\n",
    "        print(f\"Object: {self.name} - Type: {self.geom_type} - Coordinates: {self.coordinates}\")\n",
    "        \n",
    "geo_obj = GeospatialObject(\"Gedung E\", [(106.8283, -6.1745)])\n",
    "GeospatialObject.info(geo_obj)"
   ]
  },
  {
   "cell_type": "code",
   "execution_count": null,
   "id": "d3db80c3-efed-492d-9296-b0c448a36d25",
   "metadata": {},
   "outputs": [],
   "source": []
  }
 ],
 "metadata": {
  "kernelspec": {
   "display_name": "Python 3 (ipykernel)",
   "language": "python",
   "name": "python3"
  },
  "language_info": {
   "codemirror_mode": {
    "name": "ipython",
    "version": 3
   },
   "file_extension": ".py",
   "mimetype": "text/x-python",
   "name": "python",
   "nbconvert_exporter": "python",
   "pygments_lexer": "ipython3",
   "version": "3.13.0"
  }
 },
 "nbformat": 4,
 "nbformat_minor": 5
}
