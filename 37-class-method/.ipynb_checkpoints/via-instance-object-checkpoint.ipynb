{
 "cells": [
  {
   "cell_type": "code",
   "execution_count": 3,
   "id": "6f39bf06-c4e8-45f7-a96b-9a79a81d871c",
   "metadata": {},
   "outputs": [
    {
     "name": "stdout",
     "output_type": "stream",
     "text": [
      "Object: Gedung D - Type: Polygon - Coordinates: [(106.8284, -6.175)]\n"
     ]
    }
   ],
   "source": [
    "class GeospatialObject:\n",
    "    \n",
    "    def __init__(self, name=\"\", coordinates=None, geom_type=\"Polygon\"):\n",
    "        self.name = name\n",
    "        self.coordinates = coordinates\n",
    "        self.geom_type = geom_type\n",
    "\n",
    "    @classmethod\n",
    "    def create(cls, name, coordinates, geom_type=\"Polygon\"):\n",
    "        obj = cls(name, coordinates, geom_type)\n",
    "        return obj\n",
    "\n",
    "    def info(self):\n",
    "        print(f\"Object: {self.name} - Type: {self.geom_type} - Coordinates: {self.coordinates}\")\n",
    "        \n",
    "# Mengakses class method melalui instance object\n",
    "geo_obj_2 = geo_obj.create(\"Gedung D\", [(106.8284, -6.1750)], \"Polygon\")\n",
    "geo_obj_2.info()"
   ]
  },
  {
   "cell_type": "code",
   "execution_count": null,
   "id": "58a6d7c3-2a43-48b4-8455-ff9a2032737d",
   "metadata": {},
   "outputs": [],
   "source": []
  }
 ],
 "metadata": {
  "kernelspec": {
   "display_name": "Python 3 (ipykernel)",
   "language": "python",
   "name": "python3"
  },
  "language_info": {
   "codemirror_mode": {
    "name": "ipython",
    "version": 3
   },
   "file_extension": ".py",
   "mimetype": "text/x-python",
   "name": "python",
   "nbconvert_exporter": "python",
   "pygments_lexer": "ipython3",
   "version": "3.13.0"
  }
 },
 "nbformat": 4,
 "nbformat_minor": 5
}
