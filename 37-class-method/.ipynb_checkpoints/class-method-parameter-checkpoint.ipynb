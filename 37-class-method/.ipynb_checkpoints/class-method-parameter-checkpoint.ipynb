{
 "cells": [
  {
   "cell_type": "code",
   "execution_count": 1,
   "id": "8641b41f-3222-48a3-81b6-3a3a6b99687b",
   "metadata": {},
   "outputs": [
    {
     "name": "stdout",
     "output_type": "stream",
     "text": [
      "Object: Gedung B - Type: Point - Coordinates: [(106.8283, -6.1745)]\n"
     ]
    }
   ],
   "source": [
    "class GeospatialObject:\n",
    "    \n",
    "    def __init__(self, name=\"\", coordinates=None, geom_type=\"Polygon\"):\n",
    "        self.name = name\n",
    "        self.coordinates = coordinates\n",
    "        self.geom_type = geom_type\n",
    "\n",
    "    @classmethod\n",
    "    def create(cls, name, coordinates, geom_type=\"Polygon\"):\n",
    "        obj = cls(name, coordinates, geom_type)\n",
    "        return obj\n",
    "\n",
    "    def info(self):\n",
    "        print(f\"Object: {self.name} - Type: {self.geom_type} - Coordinates: {self.coordinates}\")\n",
    "\n",
    "# Membuat objek geospasial dengan parameter tambahan\n",
    "geo_obj = GeospatialObject.create(\"Gedung B\", [(106.8283, -6.1745)], \"Point\")\n",
    "geo_obj.info()\n",
    "\n",
    "#output -> Object: Gedung B - Type: Point - Coordinates: [(106.8283, -6.1745)]"
   ]
  },
  {
   "cell_type": "code",
   "execution_count": null,
   "id": "df054ddf-2d0e-457c-a2f5-d16037b685d0",
   "metadata": {},
   "outputs": [],
   "source": []
  }
 ],
 "metadata": {
  "kernelspec": {
   "display_name": "Python 3 (ipykernel)",
   "language": "python",
   "name": "python3"
  },
  "language_info": {
   "codemirror_mode": {
    "name": "ipython",
    "version": 3
   },
   "file_extension": ".py",
   "mimetype": "text/x-python",
   "name": "python",
   "nbconvert_exporter": "python",
   "pygments_lexer": "ipython3",
   "version": "3.13.0"
  }
 },
 "nbformat": 4,
 "nbformat_minor": 5
}
