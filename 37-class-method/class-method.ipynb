{
 "cells": [
  {
   "cell_type": "code",
   "execution_count": 1,
   "id": "776dbf6d-a1d5-4efc-954d-5f3e1a41493d",
   "metadata": {},
   "outputs": [
    {
     "name": "stdout",
     "output_type": "stream",
     "text": [
      "Object: Gedung A - Coordinates: [(106.8283, -6.1745)]\n"
     ]
    }
   ],
   "source": [
    "class GeospatialObject:\n",
    "    \n",
    "    def __init__(self, name=\"\", coordinates=None):\n",
    "        self.name = name\n",
    "        self.coordinates = coordinates\n",
    "\n",
    "    @classmethod\n",
    "    def create(cls, name, coordinates):\n",
    "        obj = cls(name, coordinates)\n",
    "        return obj\n",
    "\n",
    "    def info(self):\n",
    "        print(f\"Object: {self.name} - Coordinates: {self.coordinates}\")\n",
    "\n",
    "# Penggunaan class method untuk membuat instance baru\n",
    "geo_obj = GeospatialObject.create(\"Gedung A\", [(106.8283, -6.1745)])\n",
    "geo_obj.info()"
   ]
  },
  {
   "cell_type": "code",
   "execution_count": null,
   "id": "2dc45824-991c-430d-8302-c9ff2c03040d",
   "metadata": {},
   "outputs": [],
   "source": []
  }
 ],
 "metadata": {
  "kernelspec": {
   "display_name": "Python 3 (ipykernel)",
   "language": "python",
   "name": "python3"
  },
  "language_info": {
   "codemirror_mode": {
    "name": "ipython",
    "version": 3
   },
   "file_extension": ".py",
   "mimetype": "text/x-python",
   "name": "python",
   "nbconvert_exporter": "python",
   "pygments_lexer": "ipython3",
   "version": "3.13.0"
  }
 },
 "nbformat": 4,
 "nbformat_minor": 5
}
