{
 "cells": [
  {
   "cell_type": "code",
   "execution_count": 1,
   "id": "e169a591-c69a-45ec-a805-8769d459666d",
   "metadata": {},
   "outputs": [
    {
     "name": "stdout",
     "output_type": "stream",
     "text": [
      "Using coordinate system: WGS84\n"
     ]
    }
   ],
   "source": [
    "class GeospatialObject:\n",
    "\n",
    "    coordinate_system = \"WGS84\"\n",
    "\n",
    "    def __init__(self, name=\"\", coordinates=None):\n",
    "        self.name = name\n",
    "        self.coordinates = coordinates\n",
    "\n",
    "    @classmethod\n",
    "    def create(cls, name, coordinates):\n",
    "        print(f\"Using coordinate system: {cls.coordinate_system}\")\n",
    "        obj = cls(name, coordinates)\n",
    "        return obj\n",
    "\n",
    "geo_obj = GeospatialObject.create(\"Gedung F\", [(106.8283, -6.1745)])"
   ]
  },
  {
   "cell_type": "code",
   "execution_count": null,
   "id": "bae9b7f4-4cb0-4f35-8856-899184715323",
   "metadata": {},
   "outputs": [],
   "source": []
  }
 ],
 "metadata": {
  "kernelspec": {
   "display_name": "Python 3 (ipykernel)",
   "language": "python",
   "name": "python3"
  },
  "language_info": {
   "codemirror_mode": {
    "name": "ipython",
    "version": 3
   },
   "file_extension": ".py",
   "mimetype": "text/x-python",
   "name": "python",
   "nbconvert_exporter": "python",
   "pygments_lexer": "ipython3",
   "version": "3.13.0"
  }
 },
 "nbformat": 4,
 "nbformat_minor": 5
}
