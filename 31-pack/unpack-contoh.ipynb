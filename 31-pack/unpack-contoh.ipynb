{
 "cells": [
  {
   "cell_type": "code",
   "execution_count": 1,
   "id": "21a2f1ad-3d4a-466e-966a-39389d8b2b0a",
   "metadata": {},
   "outputs": [
    {
     "name": "stdout",
     "output_type": "stream",
     "text": [
      "(10.0, 20.0)\n",
      "(15.0, 25.0)\n"
     ]
    }
   ],
   "source": [
    "coordinates = (\n",
    "    (10.0, 20.0),\n",
    "    (15.0, 25.0),\n",
    "    (12.5, 22.5),\n",
    "    (14.0, 23.0)\n",
    ")\n",
    "\n",
    "coord1, coord2, coord3, coord4 = coordinates\n",
    "\n",
    "print(coord1)  # output ➜ (10.0, 20.0)\n",
    "print(coord2)  # output ➜ (15.0, 25.0)"
   ]
  },
  {
   "cell_type": "code",
   "execution_count": null,
   "id": "063e0c7b-d173-4fa6-8205-cf8711f3da85",
   "metadata": {},
   "outputs": [],
   "source": []
  }
 ],
 "metadata": {
  "kernelspec": {
   "display_name": "Python 3 (ipykernel)",
   "language": "python",
   "name": "python3"
  },
  "language_info": {
   "codemirror_mode": {
    "name": "ipython",
    "version": 3
   },
   "file_extension": ".py",
   "mimetype": "text/x-python",
   "name": "python",
   "nbconvert_exporter": "python",
   "pygments_lexer": "ipython3",
   "version": "3.13.0"
  }
 },
 "nbformat": 4,
 "nbformat_minor": 5
}
