{
 "cells": [
  {
   "cell_type": "code",
   "execution_count": 1,
   "id": "2ebbebf0-c837-417e-a504-96886fcfce8a",
   "metadata": {},
   "outputs": [
    {
     "name": "stdout",
     "output_type": "stream",
     "text": [
      "ID: 1, Nama: Titik A, Latitude: 10.0, Longitude: 20.0\n"
     ]
    }
   ],
   "source": [
    "def show_point_info(id, name, latitude, longitude):\n",
    "    print(f\"ID: {id}, Nama: {name}, Latitude: {latitude}, Longitude: {longitude}\")\n",
    "\n",
    "point_data = {\n",
    "    'id': 1,\n",
    "    'name': 'Titik A',\n",
    "    'latitude': 10.0,\n",
    "    'longitude': 20.0\n",
    "}\n",
    "\n",
    "show_point_info(**point_data)"
   ]
  },
  {
   "cell_type": "code",
   "execution_count": null,
   "id": "f7e229f7-3a27-49be-8be4-33accbfc82e5",
   "metadata": {},
   "outputs": [],
   "source": []
  }
 ],
 "metadata": {
  "kernelspec": {
   "display_name": "Python 3 (ipykernel)",
   "language": "python",
   "name": "python3"
  },
  "language_info": {
   "codemirror_mode": {
    "name": "ipython",
    "version": 3
   },
   "file_extension": ".py",
   "mimetype": "text/x-python",
   "name": "python",
   "nbconvert_exporter": "python",
   "pygments_lexer": "ipython3",
   "version": "3.13.0"
  }
 },
 "nbformat": 4,
 "nbformat_minor": 5
}
