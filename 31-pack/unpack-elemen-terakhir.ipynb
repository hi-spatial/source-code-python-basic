{
 "cells": [
  {
   "cell_type": "code",
   "execution_count": 1,
   "id": "c3ad7cba-6f0e-4150-95d7-80f9e07acaef",
   "metadata": {},
   "outputs": [
    {
     "name": "stdout",
     "output_type": "stream",
     "text": [
      "[(10.0, 20.0), (15.0, 25.0)]\n",
      "(12.5, 22.5)\n"
     ]
    }
   ],
   "source": [
    "coordinates = (\n",
    "    (10.0, 20.0),\n",
    "    (15.0, 25.0),\n",
    "    (12.5, 22.5),\n",
    "    (14.0, 23.0)\n",
    ")\n",
    "*first_coords, coord3, coord4 = coordinates\n",
    "\n",
    "print(first_coords)  # output ➜ [(10.0, 20.0), (15.0, 25.0)]\n",
    "print(coord3)  # output ➜ (12.5, 22.5)"
   ]
  },
  {
   "cell_type": "code",
   "execution_count": null,
   "id": "8cf960d3-7774-4a90-b29e-6948cf2a2415",
   "metadata": {},
   "outputs": [],
   "source": []
  }
 ],
 "metadata": {
  "kernelspec": {
   "display_name": "Python 3 (ipykernel)",
   "language": "python",
   "name": "python3"
  },
  "language_info": {
   "codemirror_mode": {
    "name": "ipython",
    "version": 3
   },
   "file_extension": ".py",
   "mimetype": "text/x-python",
   "name": "python",
   "nbconvert_exporter": "python",
   "pygments_lexer": "ipython3",
   "version": "3.13.0"
  }
 },
 "nbformat": 4,
 "nbformat_minor": 5
}
