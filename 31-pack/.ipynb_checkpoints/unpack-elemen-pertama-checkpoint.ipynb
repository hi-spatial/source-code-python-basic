{
 "cells": [
  {
   "cell_type": "code",
   "execution_count": 2,
   "id": "2bb8bc21-515c-49c5-af14-d447d887bdb9",
   "metadata": {},
   "outputs": [
    {
     "name": "stdout",
     "output_type": "stream",
     "text": [
      "(10.0, 20.0)\n",
      "[(12.5, 22.5), (14.0, 23.0)]\n"
     ]
    }
   ],
   "source": [
    "coordinates = (\n",
    "    (10.0, 20.0),\n",
    "    (15.0, 25.0),\n",
    "    (12.5, 22.5),\n",
    "    (14.0, 23.0)\n",
    ")\n",
    "coord1, coord2, *remaining_coords = coordinates\n",
    "\n",
    "print(coord1)  # output ➜ (10.0, 20.0)\n",
    "print(remaining_coords)  # output ➜ [(12.5, 22.5), (14.0, 23.0)]"
   ]
  },
  {
   "cell_type": "code",
   "execution_count": null,
   "id": "bc02c800-d315-4cea-8d0c-2272105a3654",
   "metadata": {},
   "outputs": [],
   "source": []
  }
 ],
 "metadata": {
  "kernelspec": {
   "display_name": "Python 3 (ipykernel)",
   "language": "python",
   "name": "python3"
  },
  "language_info": {
   "codemirror_mode": {
    "name": "ipython",
    "version": 3
   },
   "file_extension": ".py",
   "mimetype": "text/x-python",
   "name": "python",
   "nbconvert_exporter": "python",
   "pygments_lexer": "ipython3",
   "version": "3.13.0"
  }
 },
 "nbformat": 4,
 "nbformat_minor": 5
}
