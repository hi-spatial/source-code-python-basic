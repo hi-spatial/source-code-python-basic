{
 "cells": [
  {
   "cell_type": "code",
   "execution_count": 1,
   "id": "929aa393-6f76-4841-bc44-d02d092c0307",
   "metadata": {},
   "outputs": [
    {
     "name": "stdout",
     "output_type": "stream",
     "text": [
      "((10.0, 20.0), (15.0, 25.0), (12.5, 22.5))\n",
      "[(10.0, 20.0), (15.0, 25.0), (12.5, 22.5)]\n"
     ]
    }
   ],
   "source": [
    "coord1 = (10.0, 20.0)\n",
    "coord2 = (15.0, 25.0)\n",
    "coord3 = (12.5, 22.5)\n",
    "\n",
    "coords_tuple = (coord1, coord2, coord3)\n",
    "print(coords_tuple)  # output ➜ ((10.0, 20.0), (15.0, 25.0), (12.5, 22.5))\n",
    "\n",
    "coords_list = [coord1, coord2, coord3]\n",
    "print(coords_list)  # output ➜ [(10.0, 20.0), (15.0, 25.0), (12.5, 22.5)]"
   ]
  },
  {
   "cell_type": "code",
   "execution_count": null,
   "id": "18bb5fab-8309-4d2c-9104-2fdc7ebb7499",
   "metadata": {},
   "outputs": [],
   "source": []
  }
 ],
 "metadata": {
  "kernelspec": {
   "display_name": "Python 3 (ipykernel)",
   "language": "python",
   "name": "python3"
  },
  "language_info": {
   "codemirror_mode": {
    "name": "ipython",
    "version": 3
   },
   "file_extension": ".py",
   "mimetype": "text/x-python",
   "name": "python",
   "nbconvert_exporter": "python",
   "pygments_lexer": "ipython3",
   "version": "3.13.0"
  }
 },
 "nbformat": 4,
 "nbformat_minor": 5
}
