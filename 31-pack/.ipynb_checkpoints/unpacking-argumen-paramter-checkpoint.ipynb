{
 "cells": [
  {
   "cell_type": "code",
   "execution_count": 1,
   "id": "3a8dbd4f-8863-40c7-8632-5da1472ba74c",
   "metadata": {},
   "outputs": [
    {
     "name": "stdout",
     "output_type": "stream",
     "text": [
      "ID: 1, Nama: Titik A, Koordinat: (10.0, 20.0)\n"
     ]
    }
   ],
   "source": [
    "def show_coordinates(id, name, latitude, longitude):\n",
    "    print(f\"ID: {id}, Nama: {name}, Koordinat: ({latitude}, {longitude})\")\n",
    "\n",
    "data_point = (1, \"Titik A\", 10.0, 20.0)\n",
    "show_coordinates(*data_point)"
   ]
  },
  {
   "cell_type": "code",
   "execution_count": null,
   "id": "d02fdfa7-9158-4cbc-9379-3509aa02237a",
   "metadata": {},
   "outputs": [],
   "source": []
  }
 ],
 "metadata": {
  "kernelspec": {
   "display_name": "Python 3 (ipykernel)",
   "language": "python",
   "name": "python3"
  },
  "language_info": {
   "codemirror_mode": {
    "name": "ipython",
    "version": 3
   },
   "file_extension": ".py",
   "mimetype": "text/x-python",
   "name": "python",
   "nbconvert_exporter": "python",
   "pygments_lexer": "ipython3",
   "version": "3.13.0"
  }
 },
 "nbformat": 4,
 "nbformat_minor": 5
}
