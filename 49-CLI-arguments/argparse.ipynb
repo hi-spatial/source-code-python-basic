{
 "cells": [
  {
   "cell_type": "code",
   "execution_count": 1,
   "id": "d9f28c30-b6c8-4561-88d7-bb9e2458d51f",
   "metadata": {},
   "outputs": [
    {
     "name": "stdout",
     "output_type": "stream",
     "text": [
      "Path file: data_kota.geojson\n",
      "Konten yang ditambahkan: Menambahkan data baru\n"
     ]
    }
   ],
   "source": [
    "import argparse\n",
    "import sys\n",
    "\n",
    "# Simulasi argumen CLI\n",
    "sys.argv = ['main.py', '--path', 'data_kota.geojson', '--content', 'Menambahkan data baru']\n",
    "\n",
    "def main():\n",
    "    # Membuat parser untuk argumen\n",
    "    parser = argparse.ArgumentParser(\n",
    "        prog='Pengelola Data Geospasial',\n",
    "        description='Mengelola file geospasial dengan mudah'\n",
    "    )\n",
    "\n",
    "    # Menambahkan argumen untuk path file dan konten tambahan\n",
    "    parser.add_argument(\"--path\", help=\"Path ke file geospasial\", default=\"peta.geojson\", required=True)\n",
    "    parser.add_argument(\"--content\", help=\"Konten tambahan untuk file\", default=\"\")\n",
    "\n",
    "    # Parsing argumen dari sys.argv (yang disimulasikan)\n",
    "    args = parser.parse_args()\n",
    "\n",
    "    # Simulasi menulis ke file (di sini hanya mencetak hasilnya)\n",
    "    print(f\"Path file: {args.path}\")\n",
    "    print(f\"Konten yang ditambahkan: {args.content}\")\n",
    "\n",
    "if __name__ == \"__main__\":\n",
    "    main()\n",
    "\n",
    "## Output:\n",
    "\n",
    "# Path file: data_kota.geojson\n",
    "# Konten yang ditambahkan: Menambahkan data baru\n",
    "\n",
    "\n",
    "# 1. `sys.argv` disimulasikan untuk mencakup flag `--path` dan `--content`.\n",
    "# 2. `argparse.ArgumentParser` digunakan untuk mendefinisikan deskripsi program dan menerima input melalui flag.\n",
    "# 3. Kode ini menampilkan path file dan konten tambahan yang diberikan melalui flag."
   ]
  },
  {
   "cell_type": "code",
   "execution_count": null,
   "id": "6d3b2f01-3e2b-41ad-a6e7-489d9568155b",
   "metadata": {},
   "outputs": [],
   "source": []
  }
 ],
 "metadata": {
  "kernelspec": {
   "display_name": "Python 3 (ipykernel)",
   "language": "python",
   "name": "python3"
  },
  "language_info": {
   "codemirror_mode": {
    "name": "ipython",
    "version": 3
   },
   "file_extension": ".py",
   "mimetype": "text/x-python",
   "name": "python",
   "nbconvert_exporter": "python",
   "pygments_lexer": "ipython3",
   "version": "3.13.0"
  }
 },
 "nbformat": 4,
 "nbformat_minor": 5
}
