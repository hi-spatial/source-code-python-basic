{
 "cells": [
  {
   "cell_type": "code",
   "execution_count": 2,
   "id": "21cda6cf-c570-4dba-a51f-4699dbdce9a2",
   "metadata": {},
   "outputs": [
    {
     "name": "stdout",
     "output_type": "stream",
     "text": [
      "Isi folder .:\n",
      ".\\\n",
      ".\\argparse.ipynb\n",
      ".\\beberapa-flags.ipynb\n"
     ]
    }
   ],
   "source": [
    "import argparse\n",
    "import sys\n",
    "import glob\n",
    "\n",
    "# Simulasi argumen CLI\n",
    "sys.argv = ['main.py', '--operation-mode', 'list items', '--path', '.']\n",
    "\n",
    "def main():\n",
    "    # Membuat parser untuk argumen CLI\n",
    "    parser = argparse.ArgumentParser(\n",
    "        prog='Pengelola Geospasial',\n",
    "        description='Mengelola file geospasial dengan berbagai operasi'\n",
    "    )\n",
    "\n",
    "    # Menambahkan argumen operasi dan path\n",
    "    parser.add_argument(\"--operation-mode\", \"-op\", help=\"Pilih operasi\", choices=[\"write file\", \"list items\"], required=True)\n",
    "    parser.add_argument(\"--path\", \"-p\", help=\"Path ke file/folder geospasial\", default=\".\", required=True)\n",
    "    parser.add_argument(\"--content\", \"-c\", help=\"Konten untuk ditulis ke file\", default=\"\")\n",
    "    args = parser.parse_args()\n",
    "\n",
    "    # Mode operasi yang dipilih\n",
    "    if args.operation_mode == \"write file\":\n",
    "        # Simulasi menulis ke file\n",
    "        print(f\"Menulis konten ke file: {args.path}\")\n",
    "        print(f\"Konten: {args.content}\")\n",
    "        \n",
    "    elif args.operation_mode == \"list items\":\n",
    "        # Menampilkan daftar file dalam folder\n",
    "        print(f\"Isi folder {args.path}:\")\n",
    "        for f in glob.glob(f\"{args.path}/**\", recursive=True):\n",
    "            print(f)\n",
    "\n",
    "if __name__ == \"__main__\":\n",
    "    main()\n",
    "\n",
    "# Output:\n",
    "# 1. Untuk operasi \"write file\", hasilnya adalah menulis konten ke file yang ditentukan.\n",
    "# 2. Untuk operasi \"list items\", program akan mencetak daftar file di folder yang diberikan."
   ]
  },
  {
   "cell_type": "code",
   "execution_count": null,
   "id": "c4bd912a-4dc8-44b3-9167-f03bde6913d9",
   "metadata": {},
   "outputs": [],
   "source": []
  }
 ],
 "metadata": {
  "kernelspec": {
   "display_name": "Python 3 (ipykernel)",
   "language": "python",
   "name": "python3"
  },
  "language_info": {
   "codemirror_mode": {
    "name": "ipython",
    "version": 3
   },
   "file_extension": ".py",
   "mimetype": "text/x-python",
   "name": "python",
   "nbconvert_exporter": "python",
   "pygments_lexer": "ipython3",
   "version": "3.13.0"
  }
 },
 "nbformat": 4,
 "nbformat_minor": 5
}
