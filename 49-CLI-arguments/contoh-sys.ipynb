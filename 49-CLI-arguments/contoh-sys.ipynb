{
 "cells": [
  {
   "cell_type": "code",
   "execution_count": 2,
   "id": "501269a8-1867-47ac-92b2-cd348c5e646e",
   "metadata": {},
   "outputs": [
    {
     "name": "stdout",
     "output_type": "stream",
     "text": [
      "Tipe: list\n",
      "Panjang: 3\n",
      " ➜  main.py\n",
      " ➜  data_kota.geojson\n",
      " ➜  buffer\n"
     ]
    }
   ],
   "source": [
    "import sys\n",
    "\n",
    "# Simulasi argumen CLI\n",
    "sys.argv = ['main.py', 'data_kota.geojson', 'buffer']\n",
    "\n",
    "if __name__ == \"__main__\":\n",
    "    # Menampilkan tipe dan panjang dari sys.argv\n",
    "    print(f\"Tipe: {type(sys.argv).__name__}\")\n",
    "    print(f\"Panjang: {len(sys.argv)}\")\n",
    "\n",
    "    # Menampilkan semua argumen yang diterima\n",
    "    for arg in sys.argv:\n",
    "        print(f\" ➜  {arg}\")\n",
    "\n",
    "# 1. Di sini kita menggunakan `sys.argv` seolah-olah dijalankan dari CLI dengan beberapa argumen.\n",
    "# 2. `sys.argv = ['main.py', 'data_kota.geojson', 'buffer']` mensimulasikan argumen CLI. Di sini `'data_kota.geojson'` adalah file geospasial yang akan diproses, dan `'buffer'` adalah operasi yang ingin dijalankan.\n",
    "# 3. Output menunjukkan tipe data dari `sys.argv` (list), panjang argumen, dan semua elemen dalam list."
   ]
  },
  {
   "cell_type": "code",
   "execution_count": null,
   "id": "43498796-914f-4123-8946-2930358b6f00",
   "metadata": {},
   "outputs": [],
   "source": []
  }
 ],
 "metadata": {
  "kernelspec": {
   "display_name": "Python 3 (ipykernel)",
   "language": "python",
   "name": "python3"
  },
  "language_info": {
   "codemirror_mode": {
    "name": "ipython",
    "version": 3
   },
   "file_extension": ".py",
   "mimetype": "text/x-python",
   "name": "python",
   "nbconvert_exporter": "python",
   "pygments_lexer": "ipython3",
   "version": "3.13.0"
  }
 },
 "nbformat": 4,
 "nbformat_minor": 5
}
