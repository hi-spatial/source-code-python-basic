{
 "cells": [
  {
   "cell_type": "code",
   "execution_count": 1,
   "id": "daef933a-d64d-482a-b09f-b0752b4e9e8b",
   "metadata": {},
   "outputs": [
    {
     "name": "stdout",
     "output_type": "stream",
     "text": [
      "Hello from GeoTool!\n"
     ]
    }
   ],
   "source": [
    "def say_hello():\n",
    "    print(\"Hello from GeoTool!\")\n",
    "\n",
    "class GeoTool:\n",
    "    say_hello = staticmethod(say_hello)\n",
    "\n",
    "GeoTool.say_hello()"
   ]
  },
  {
   "cell_type": "code",
   "execution_count": null,
   "id": "19af6d47-43dd-4ded-ba5c-787f979e08c1",
   "metadata": {},
   "outputs": [],
   "source": []
  }
 ],
 "metadata": {
  "kernelspec": {
   "display_name": "Python 3 (ipykernel)",
   "language": "python",
   "name": "python3"
  },
  "language_info": {
   "codemirror_mode": {
    "name": "ipython",
    "version": 3
   },
   "file_extension": ".py",
   "mimetype": "text/x-python",
   "name": "python",
   "nbconvert_exporter": "python",
   "pygments_lexer": "ipython3",
   "version": "3.13.0"
  }
 },
 "nbformat": 4,
 "nbformat_minor": 5
}
