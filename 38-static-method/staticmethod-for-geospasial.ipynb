{
 "cells": [
  {
   "cell_type": "code",
   "execution_count": 1,
   "id": "440de410-5ce0-4c28-8eee-4df8a67f78aa",
   "metadata": {},
   "outputs": [
    {
     "name": "stdout",
     "output_type": "stream",
     "text": [
      "Titik tengah antara Jakarta dan Surabaya: (-6.7252225, 109.7927555)\n"
     ]
    }
   ],
   "source": [
    "class GeoTool:\n",
    "\n",
    "    @staticmethod\n",
    "    def calculate_midpoint(coord1, coord2):\n",
    "        # Menghitung titik tengah (midpoint) antara dua koordinat\n",
    "        lat1, lon1 = coord1\n",
    "        lat2, lon2 = coord2\n",
    "        \n",
    "        mid_lat = (lat1 + lat2) / 2\n",
    "        mid_lon = (lon1 + lon2) / 2\n",
    "        \n",
    "        return (mid_lat, mid_lon)\n",
    "\n",
    "# Penggunaan static method untuk menghitung titik tengah antara dua lokasi\n",
    "coord_a = (-6.200000, 106.816666)  # Jakarta\n",
    "coord_b = (-7.250445, 112.768845)  # Surabaya\n",
    "\n",
    "midpoint = GeoTool.calculate_midpoint(coord_a, coord_b)\n",
    "print(f\"Titik tengah antara Jakarta dan Surabaya: {midpoint}\")\n"
   ]
  },
  {
   "cell_type": "code",
   "execution_count": null,
   "id": "feaeb4ab-a931-48b7-a321-350cca246737",
   "metadata": {},
   "outputs": [],
   "source": []
  }
 ],
 "metadata": {
  "kernelspec": {
   "display_name": "Python 3 (ipykernel)",
   "language": "python",
   "name": "python3"
  },
  "language_info": {
   "codemirror_mode": {
    "name": "ipython",
    "version": 3
   },
   "file_extension": ".py",
   "mimetype": "text/x-python",
   "name": "python",
   "nbconvert_exporter": "python",
   "pygments_lexer": "ipython3",
   "version": "3.13.0"
  }
 },
 "nbformat": 4,
 "nbformat_minor": 5
}
