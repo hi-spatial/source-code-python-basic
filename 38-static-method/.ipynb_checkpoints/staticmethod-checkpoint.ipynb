{
 "cells": [
  {
   "cell_type": "code",
   "execution_count": 1,
   "id": "d5bcd5da-b510-4f7d-9e5d-db1434b1fc85",
   "metadata": {},
   "outputs": [
    {
     "name": "stdout",
     "output_type": "stream",
     "text": [
      "Jarak antara Jakarta dan Surabaya: 667.58 km\n"
     ]
    }
   ],
   "source": [
    "class GeoTool:\n",
    "\n",
    "    @staticmethod\n",
    "    def calculate_distance(coord1, coord2):\n",
    "        # Menghitung jarak antara dua koordinat menggunakan Haversine formula\n",
    "        from math import radians, cos, sin, sqrt, atan2\n",
    "        \n",
    "        R = 6371  # Radius bumi dalam kilometer\n",
    "        lat1, lon1 = radians(coord1[0]), radians(coord1[1])\n",
    "        lat2, lon2 = radians(coord2[0]), radians(coord2[1])\n",
    "        \n",
    "        dlat = lat2 - lat1\n",
    "        dlon = lon2 - lon1\n",
    "        \n",
    "        a = sin(dlat / 2)**2 + cos(lat1) * cos(lat2) * sin(dlon / 2)**2\n",
    "        c = 2 * atan2(sqrt(a), sqrt(1 - a))\n",
    "        \n",
    "        distance = R * c\n",
    "        return distance\n",
    "\n",
    "# Penggunaan static method\n",
    "coord_a = (-6.200000, 106.816666)  # Jakarta\n",
    "coord_b = (-7.250445, 112.768845)  # Surabaya\n",
    "jarak = GeoTool.calculate_distance(coord_a, coord_b)\n",
    "print(f\"Jarak antara Jakarta dan Surabaya: {jarak:.2f} km\")"
   ]
  },
  {
   "cell_type": "code",
   "execution_count": null,
   "id": "a4f82a2f-417b-4f9e-a1fa-fd552965d211",
   "metadata": {},
   "outputs": [],
   "source": []
  }
 ],
 "metadata": {
  "kernelspec": {
   "display_name": "Python 3 (ipykernel)",
   "language": "python",
   "name": "python3"
  },
  "language_info": {
   "codemirror_mode": {
    "name": "ipython",
    "version": 3
   },
   "file_extension": ".py",
   "mimetype": "text/x-python",
   "name": "python",
   "nbconvert_exporter": "python",
   "pygments_lexer": "ipython3",
   "version": "3.13.0"
  }
 },
 "nbformat": 4,
 "nbformat_minor": 5
}
