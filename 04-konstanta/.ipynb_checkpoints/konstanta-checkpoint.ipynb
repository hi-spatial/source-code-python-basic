{
 "cells": [
  {
   "cell_type": "code",
   "execution_count": 10,
   "id": "2d42369a-d1ec-4fa4-a8ac-a6c6ff5642af",
   "metadata": {},
   "outputs": [
    {
     "name": "stdout",
     "output_type": "stream",
     "text": [
      "Gravitasi: 9.810000\n",
      "total provinsi: 38.000000\n"
     ]
    }
   ],
   "source": [
    "from typing import Final\n",
    "\n",
    "\n",
    "# Tipe konstanta GRAVITASI tidak ditentukan secara eksplisit,\n",
    "# melainkan didapat dari tipe data nilai\n",
    "GRAVITASI: Final = 9.81  # Gravitasi dalam m/s²\n",
    "print(\"Gravitasi: %f\" % (GRAVITASI))\n",
    "\n",
    "\n",
    "# Tipe konstanta TOTAL_PROVINSI ditentukan secara eksplisit yaitu `int`\n",
    "TOTAL_PROVINSI: Final[int] = 38  # Total provinsi di Indonesia\n",
    "print(\"total provinsi: %f\" % (TOTAL_PROVINSI))"
   ]
  }
 ],
 "metadata": {
  "kernelspec": {
   "display_name": "Python 3 (ipykernel)",
   "language": "python",
   "name": "python3"
  },
  "language_info": {
   "codemirror_mode": {
    "name": "ipython",
    "version": 3
   },
   "file_extension": ".py",
   "mimetype": "text/x-python",
   "name": "python",
   "nbconvert_exporter": "python",
   "pygments_lexer": "ipython3",
   "version": "3.13.0"
  }
 },
 "nbformat": 4,
 "nbformat_minor": 5
}
