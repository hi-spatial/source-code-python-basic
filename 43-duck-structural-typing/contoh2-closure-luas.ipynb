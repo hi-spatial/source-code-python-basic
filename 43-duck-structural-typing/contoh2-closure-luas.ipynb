{
 "cells": [
  {
   "cell_type": "code",
   "execution_count": 2,
   "id": "04eaf768-6d13-43f9-b136-511e4b2c6e6b",
   "metadata": {},
   "outputs": [
    {
     "name": "stdout",
     "output_type": "stream",
     "text": [
      "Luas dari PlotTetap: 100\n"
     ]
    }
   ],
   "source": [
    "def do_the_math(obj):\n",
    "    area = obj.calculate_area()\n",
    "    print(f\"Luas dari {type(obj).__name__}: {area}\")\n",
    "\n",
    "def luas_tetap():\n",
    "    return 100\n",
    "\n",
    "class PlotTetap:\n",
    "    def __init__(self):\n",
    "        self.calculate_area = luas_tetap\n",
    "\n",
    "plot = PlotTetap()\n",
    "do_the_math(plot)"
   ]
  },
  {
   "cell_type": "code",
   "execution_count": null,
   "id": "8045bd9e-e9fa-4269-9d00-55a6b5a66ca3",
   "metadata": {},
   "outputs": [],
   "source": []
  }
 ],
 "metadata": {
  "kernelspec": {
   "display_name": "Python 3 (ipykernel)",
   "language": "python",
   "name": "python3"
  },
  "language_info": {
   "codemirror_mode": {
    "name": "ipython",
    "version": 3
   },
   "file_extension": ".py",
   "mimetype": "text/x-python",
   "name": "python",
   "nbconvert_exporter": "python",
   "pygments_lexer": "ipython3",
   "version": "3.13.0"
  }
 },
 "nbformat": 4,
 "nbformat_minor": 5
}
