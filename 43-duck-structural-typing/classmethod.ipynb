{
 "cells": [
  {
   "cell_type": "code",
   "execution_count": 1,
   "id": "df92df11-b798-4ed7-a773-27d14c996490",
   "metadata": {},
   "outputs": [
    {
     "name": "stdout",
     "output_type": "stream",
     "text": [
      "Luas dari type: Data luas tidak tersedia\n"
     ]
    }
   ],
   "source": [
    "def do_the_math(obj):\n",
    "    area = obj.calculate_area()\n",
    "    print(f\"Luas dari {type(obj).__name__}: {area}\")\n",
    "\n",
    "\n",
    "class PlotTakTentu:\n",
    "    @classmethod\n",
    "    def calculate_area(cls):\n",
    "        return \"Data luas tidak tersedia\"\n",
    "\n",
    "do_the_math(PlotTakTentu)"
   ]
  },
  {
   "cell_type": "code",
   "execution_count": null,
   "id": "1c642f8a-1fa6-4d2c-b00d-680a9a8cc62d",
   "metadata": {},
   "outputs": [],
   "source": []
  }
 ],
 "metadata": {
  "kernelspec": {
   "display_name": "Python 3 (ipykernel)",
   "language": "python",
   "name": "python3"
  },
  "language_info": {
   "codemirror_mode": {
    "name": "ipython",
    "version": 3
   },
   "file_extension": ".py",
   "mimetype": "text/x-python",
   "name": "python",
   "nbconvert_exporter": "python",
   "pygments_lexer": "ipython3",
   "version": "3.13.0"
  }
 },
 "nbformat": 4,
 "nbformat_minor": 5
}
