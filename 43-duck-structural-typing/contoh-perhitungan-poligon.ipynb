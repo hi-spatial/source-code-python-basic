{
 "cells": [
  {
   "cell_type": "code",
   "execution_count": 2,
   "id": "d1baef9f-58e6-4cdb-9fd9-3eb528d93a1e",
   "metadata": {},
   "outputs": [
    {
     "name": "stdout",
     "output_type": "stream",
     "text": [
      "Luas dari Poligon: 25.0\n"
     ]
    }
   ],
   "source": [
    "def do_the_math(obj):\n",
    "    area = obj.calculate_area()\n",
    "    print(f\"Luas dari {type(obj).__name__}: {area}\")\n",
    "\n",
    "class Poligon:\n",
    "    def __init__(self, alas, tinggi):\n",
    "        self.alas = alas\n",
    "        self.tinggi = tinggi\n",
    "\n",
    "    def calculate_area(self):\n",
    "        return 0.5 * self.alas * self.tinggi\n",
    "\n",
    "poligon = Poligon(10, 5)\n",
    "do_the_math(poligon)"
   ]
  },
  {
   "cell_type": "code",
   "execution_count": null,
   "id": "674d3a6e-a77f-45d1-86ea-38d80056d0b0",
   "metadata": {},
   "outputs": [],
   "source": []
  }
 ],
 "metadata": {
  "kernelspec": {
   "display_name": "Python 3 (ipykernel)",
   "language": "python",
   "name": "python3"
  },
  "language_info": {
   "codemirror_mode": {
    "name": "ipython",
    "version": 3
   },
   "file_extension": ".py",
   "mimetype": "text/x-python",
   "name": "python",
   "nbconvert_exporter": "python",
   "pygments_lexer": "ipython3",
   "version": "3.13.0"
  }
 },
 "nbformat": 4,
 "nbformat_minor": 5
}
