{
 "cells": [
  {
   "cell_type": "code",
   "execution_count": 2,
   "id": "40ddba53-74f1-403a-906a-f6b35090ec60",
   "metadata": {},
   "outputs": [
    {
     "name": "stdout",
     "output_type": "stream",
     "text": [
      "Luas dari Poligon: 25.0\n",
      "Luas dari Lingkaran: 153.9384\n"
     ]
    }
   ],
   "source": [
    "from abc import ABC, abstractmethod\n",
    "\n",
    "class ObjekGeospasial(ABC):\n",
    "    @abstractmethod\n",
    "    def calculate_area(self):\n",
    "        pass\n",
    "\n",
    "def do_the_math(obj: ObjekGeospasial):\n",
    "    area = obj.calculate_area()\n",
    "    print(f\"Luas dari {type(obj).__name__}: {area}\")\n",
    "\n",
    "class Poligon(ObjekGeospasial):\n",
    "    def __init__(self, alas, tinggi):\n",
    "        self.alas = alas\n",
    "        self.tinggi = tinggi\n",
    "\n",
    "    def calculate_area(self):\n",
    "        return 0.5 * self.alas * self.tinggi\n",
    "\n",
    "class Lingkaran(ObjekGeospasial):\n",
    "    def __init__(self, radius):\n",
    "        self.radius = radius\n",
    "\n",
    "    def calculate_area(self):\n",
    "        return 3.1416 * self.radius * self.radius\n",
    "\n",
    "poligon = Poligon(10, 5)\n",
    "lingkaran = Lingkaran(7)\n",
    "\n",
    "do_the_math(poligon)\n",
    "do_the_math(lingkaran)"
   ]
  },
  {
   "cell_type": "code",
   "execution_count": null,
   "id": "ce3720a5-9452-4e0a-aed9-63f89711c4b7",
   "metadata": {},
   "outputs": [],
   "source": []
  }
 ],
 "metadata": {
  "kernelspec": {
   "display_name": "Python 3 (ipykernel)",
   "language": "python",
   "name": "python3"
  },
  "language_info": {
   "codemirror_mode": {
    "name": "ipython",
    "version": 3
   },
   "file_extension": ".py",
   "mimetype": "text/x-python",
   "name": "python",
   "nbconvert_exporter": "python",
   "pygments_lexer": "ipython3",
   "version": "3.13.0"
  }
 },
 "nbformat": 4,
 "nbformat_minor": 5
}
