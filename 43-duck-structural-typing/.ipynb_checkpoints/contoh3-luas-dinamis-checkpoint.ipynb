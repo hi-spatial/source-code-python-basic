{
 "cells": [
  {
   "cell_type": "code",
   "execution_count": 1,
   "id": "38d3ecbc-0558-4941-a070-98189a88908d",
   "metadata": {},
   "outputs": [
    {
     "name": "stdout",
     "output_type": "stream",
     "text": [
      "Luas dari PlotAcak: 10\n"
     ]
    }
   ],
   "source": [
    "import random\n",
    "\n",
    "def do_the_math(obj):\n",
    "    area = obj.calculate_area()\n",
    "    print(f\"Luas dari {type(obj).__name__}: {area}\")\n",
    "\n",
    "class PlotAcak:\n",
    "    def __init__(self):\n",
    "        self.calculate_area = lambda: random.randint(1, 10) * 10\n",
    "\n",
    "plot = PlotAcak()\n",
    "do_the_math(plot)"
   ]
  },
  {
   "cell_type": "code",
   "execution_count": null,
   "id": "b4af8f85-7b98-4b5f-ae9c-0e1e82581d47",
   "metadata": {},
   "outputs": [],
   "source": []
  }
 ],
 "metadata": {
  "kernelspec": {
   "display_name": "Python 3 (ipykernel)",
   "language": "python",
   "name": "python3"
  },
  "language_info": {
   "codemirror_mode": {
    "name": "ipython",
    "version": 3
   },
   "file_extension": ".py",
   "mimetype": "text/x-python",
   "name": "python",
   "nbconvert_exporter": "python",
   "pygments_lexer": "ipython3",
   "version": "3.13.0"
  }
 },
 "nbformat": 4,
 "nbformat_minor": 5
}
