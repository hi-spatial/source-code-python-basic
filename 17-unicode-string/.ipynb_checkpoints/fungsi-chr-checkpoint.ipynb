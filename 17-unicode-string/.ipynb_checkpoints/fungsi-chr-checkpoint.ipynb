{
 "cells": [
  {
   "cell_type": "code",
   "execution_count": 1,
   "id": "0f98beb5-e1f9-47d5-bcd4-2211bf760480",
   "metadata": {},
   "outputs": [
    {
     "name": "stdout",
     "output_type": "stream",
     "text": [
      "Simbol untuk code point 176: °\n"
     ]
    }
   ],
   "source": [
    "code_point = 176\n",
    "simbol = chr(code_point)\n",
    "print(f'Simbol untuk code point {code_point}: {simbol}')\n",
    "# output ➜ Simbol untuk code point 176: °"
   ]
  },
  {
   "cell_type": "code",
   "execution_count": null,
   "id": "67b3a2f1-a163-44ab-8e45-65f77016e5a9",
   "metadata": {},
   "outputs": [],
   "source": []
  }
 ],
 "metadata": {
  "kernelspec": {
   "display_name": "Python 3 (ipykernel)",
   "language": "python",
   "name": "python3"
  },
  "language_info": {
   "codemirror_mode": {
    "name": "ipython",
    "version": 3
   },
   "file_extension": ".py",
   "mimetype": "text/x-python",
   "name": "python",
   "nbconvert_exporter": "python",
   "pygments_lexer": "ipython3",
   "version": "3.13.0"
  }
 },
 "nbformat": 4,
 "nbformat_minor": 5
}
