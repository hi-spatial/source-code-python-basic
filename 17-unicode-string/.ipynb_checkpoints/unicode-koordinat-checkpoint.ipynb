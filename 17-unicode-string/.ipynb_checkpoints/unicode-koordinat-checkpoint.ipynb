{
 "cells": [
  {
   "cell_type": "code",
   "execution_count": 1,
   "id": "d9c03e1d-7d41-4f17-b762-f2edc1342df0",
   "metadata": {},
   "outputs": [
    {
     "name": "stdout",
     "output_type": "stream",
     "text": [
      "Garis Lintang: 6°54' S, Garis Bujur: 107°36' E\n"
     ]
    }
   ],
   "source": [
    "koordinat = \"Garis Lintang: 6°54' S, Garis Bujur: 107°36' E\"\n",
    "print(koordinat)\n",
    "# output ➜ Garis Lintang: 6°54' S, Garis Bujur: 107°36' E"
   ]
  },
  {
   "cell_type": "code",
   "execution_count": null,
   "id": "6c35ef4a-0eaa-47e4-8f99-9fa4b84d0561",
   "metadata": {},
   "outputs": [],
   "source": []
  }
 ],
 "metadata": {
  "kernelspec": {
   "display_name": "Python 3 (ipykernel)",
   "language": "python",
   "name": "python3"
  },
  "language_info": {
   "codemirror_mode": {
    "name": "ipython",
    "version": 3
   },
   "file_extension": ".py",
   "mimetype": "text/x-python",
   "name": "python",
   "nbconvert_exporter": "python",
   "pygments_lexer": "ipython3",
   "version": "3.13.0"
  }
 },
 "nbformat": 4,
 "nbformat_minor": 5
}
