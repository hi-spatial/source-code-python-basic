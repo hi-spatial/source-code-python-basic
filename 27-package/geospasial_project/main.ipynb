{
 "cells": [
  {
   "cell_type": "code",
   "execution_count": 2,
   "id": "f6e57f9e-e11f-4b4d-806e-d121d3b147e9",
   "metadata": {},
   "outputs": [
    {
     "name": "stdout",
     "output_type": "stream",
     "text": [
      "Jarak antara dua titik: 0.0030870698080873726\n",
      "Memetakan titik pada (-6.9175, 107.6191)\n"
     ]
    }
   ],
   "source": [
    "import tools.distance\n",
    "from tools.visualization.plot_map import plot_map\n",
    "\n",
    "lat1, lon1 = -6.9175, 107.6191\n",
    "lat2, lon2 = -6.9147, 107.6178\n",
    "\n",
    "jarak = tools.distance.calc_jarak(lat1, lon1, lat2, lon2)\n",
    "print(f\"Jarak antara dua titik: {jarak}\")\n",
    "\n",
    "plot_map(lat1, lon1)"
   ]
  },
  {
   "cell_type": "code",
   "execution_count": null,
   "id": "57cf1ebb-b0c7-42c7-9c72-bda3920c59ee",
   "metadata": {},
   "outputs": [],
   "source": []
  }
 ],
 "metadata": {
  "kernelspec": {
   "display_name": "Python 3 (ipykernel)",
   "language": "python",
   "name": "python3"
  },
  "language_info": {
   "codemirror_mode": {
    "name": "ipython",
    "version": 3
   },
   "file_extension": ".py",
   "mimetype": "text/x-python",
   "name": "python",
   "nbconvert_exporter": "python",
   "pygments_lexer": "ipython3",
   "version": "3.13.0"
  }
 },
 "nbformat": 4,
 "nbformat_minor": 5
}
