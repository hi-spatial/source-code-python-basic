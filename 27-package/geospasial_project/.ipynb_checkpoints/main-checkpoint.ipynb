{
 "cells": [
  {
   "cell_type": "code",
   "execution_count": 1,
   "id": "f6e57f9e-e11f-4b4d-806e-d121d3b147e9",
   "metadata": {},
   "outputs": [
    {
     "name": "stdout",
     "output_type": "stream",
     "text": [
      "Jarak antara dua titik: 0.0030870698080873726\n"
     ]
    },
    {
     "ename": "TypeError",
     "evalue": "'module' object is not callable",
     "output_type": "error",
     "traceback": [
      "\u001b[1;31m---------------------------------------------------------------------------\u001b[0m",
      "\u001b[1;31mTypeError\u001b[0m                                 Traceback (most recent call last)",
      "Cell \u001b[1;32mIn[1], line 10\u001b[0m\n\u001b[0;32m      7\u001b[0m jarak \u001b[38;5;241m=\u001b[39m tools\u001b[38;5;241m.\u001b[39mdistance\u001b[38;5;241m.\u001b[39mcalc_jarak(lat1, lon1, lat2, lon2)\n\u001b[0;32m      8\u001b[0m \u001b[38;5;28mprint\u001b[39m(\u001b[38;5;124mf\u001b[39m\u001b[38;5;124m\"\u001b[39m\u001b[38;5;124mJarak antara dua titik: \u001b[39m\u001b[38;5;132;01m{\u001b[39;00mjarak\u001b[38;5;132;01m}\u001b[39;00m\u001b[38;5;124m\"\u001b[39m)\n\u001b[1;32m---> 10\u001b[0m \u001b[43mtools\u001b[49m\u001b[38;5;241;43m.\u001b[39;49m\u001b[43mvisualization\u001b[49m\u001b[38;5;241;43m.\u001b[39;49m\u001b[43mplot_map\u001b[49m\u001b[43m(\u001b[49m\u001b[43mlat1\u001b[49m\u001b[43m,\u001b[49m\u001b[43m \u001b[49m\u001b[43mlon1\u001b[49m\u001b[43m)\u001b[49m\n",
      "\u001b[1;31mTypeError\u001b[0m: 'module' object is not callable"
     ]
    }
   ],
   "source": [
    "import tools.distance\n",
    "from tools.visualization.plot_map import plot_map\n",
    "\n",
    "lat1, lon1 = -6.9175, 107.6191\n",
    "lat2, lon2 = -6.9147, 107.6178\n",
    "\n",
    "jarak = tools.distance.calc_jarak(lat1, lon1, lat2, lon2)\n",
    "print(f\"Jarak antara dua titik: {jarak}\")\n",
    "\n",
    "plot_map(lat1, lon1)"
   ]
  },
  {
   "cell_type": "code",
   "execution_count": null,
   "id": "57cf1ebb-b0c7-42c7-9c72-bda3920c59ee",
   "metadata": {},
   "outputs": [],
   "source": []
  }
 ],
 "metadata": {
  "kernelspec": {
   "display_name": "Python 3 (ipykernel)",
   "language": "python",
   "name": "python3"
  },
  "language_info": {
   "codemirror_mode": {
    "name": "ipython",
    "version": 3
   },
   "file_extension": ".py",
   "mimetype": "text/x-python",
   "name": "python",
   "nbconvert_exporter": "python",
   "pygments_lexer": "ipython3",
   "version": "3.13.0"
  }
 },
 "nbformat": 4,
 "nbformat_minor": 5
}
