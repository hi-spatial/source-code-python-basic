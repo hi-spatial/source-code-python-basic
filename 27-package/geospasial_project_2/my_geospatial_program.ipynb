{
 "cells": [
  {
   "cell_type": "code",
   "execution_count": 4,
   "id": "caf1bb0e-94e7-4c07-bbd1-e1d49f3e8058",
   "metadata": {},
   "outputs": [
    {
     "name": "stdout",
     "output_type": "stream",
     "text": [
      "Module tools.coordinate_calc berisi fungsi geospasial\n",
      "Module tools.spatial_utils.geometry berisi fungsi matematika geospasial\n",
      "Module tools.spatial_utils.visual berisi fungsi visualisasi\n",
      "Jarak yang dihitung adalah: 1.04 km\n",
      "Jarak yang dihitung adalah: 1.04 km\n",
      "Jarak yang dihitung adalah: 1.04 km\n"
     ]
    }
   ],
   "source": [
    "# my_geospatial_program.ipynb\n",
    "import tools.coordinate_calc as coord\n",
    "import tools.spatial_utils.geometry as geom\n",
    "import tools.spatial_utils.visual as vis\n",
    "\n",
    "print(coord.note)\n",
    "print(geom.note)\n",
    "print(vis.note)\n",
    "\n",
    "lat1, lon1 = -6.2088, 106.8456  # Jakarta\n",
    "lat2, lon2 = -6.9147, 107.6098  # Bandung\n",
    "\n",
    "\n",
    "distance = coord.calc_distance(lat1, lon1, lat2, lon2)\n",
    "vis.print_distance(distance)\n",
    "\n",
    "distance = geom.sqrt((lat2 - lat1)**2 + (lon2 - lon1)**2)\n",
    "vis.print_distance(distance)\n",
    "\n",
    "distance = geom.sqrt(geom.square(lat2 - lat1) + geom.square(lon2 - lon1))\n",
    "vis.print_distance(distance)"
   ]
  },
  {
   "cell_type": "code",
   "execution_count": null,
   "id": "ab8196c3-c055-4ace-ad88-1f57fc8852f5",
   "metadata": {},
   "outputs": [],
   "source": []
  }
 ],
 "metadata": {
  "kernelspec": {
   "display_name": "Python 3 (ipykernel)",
   "language": "python",
   "name": "python3"
  },
  "language_info": {
   "codemirror_mode": {
    "name": "ipython",
    "version": 3
   },
   "file_extension": ".py",
   "mimetype": "text/x-python",
   "name": "python",
   "nbconvert_exporter": "python",
   "pygments_lexer": "ipython3",
   "version": "3.13.0"
  }
 },
 "nbformat": 4,
 "nbformat_minor": 5
}
