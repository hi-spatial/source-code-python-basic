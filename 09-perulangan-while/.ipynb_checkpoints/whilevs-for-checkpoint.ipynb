{
 "cells": [
  {
   "cell_type": "code",
   "execution_count": 1,
   "id": "72f47806-b262-4773-aecc-5e105b4f5a00",
   "metadata": {},
   "outputs": [
    {
     "name": "stdout",
     "output_type": "stream",
     "text": [
      "Menampilkan titik pada peta: (1.0, 2.0)\n",
      "Menampilkan titik pada peta: (3.0, 4.0)\n",
      "Menampilkan titik pada peta: (5.0, 6.0)\n"
     ]
    }
   ],
   "source": [
    "coordinates = [(1.0, 2.0), (3.0, 4.0), (5.0, 6.0)]\n",
    "\n",
    "for coord in coordinates:\n",
    "    print(f\"Menampilkan titik pada peta: {coord}\")"
   ]
  },
  {
   "cell_type": "code",
   "execution_count": null,
   "id": "a8efb618-4bf3-41ce-a16f-40024e654263",
   "metadata": {},
   "outputs": [],
   "source": []
  }
 ],
 "metadata": {
  "kernelspec": {
   "display_name": "Python 3 (ipykernel)",
   "language": "python",
   "name": "python3"
  },
  "language_info": {
   "codemirror_mode": {
    "name": "ipython",
    "version": 3
   },
   "file_extension": ".py",
   "mimetype": "text/x-python",
   "name": "python",
   "nbconvert_exporter": "python",
   "pygments_lexer": "ipython3",
   "version": "3.13.0"
  }
 },
 "nbformat": 4,
 "nbformat_minor": 5
}
