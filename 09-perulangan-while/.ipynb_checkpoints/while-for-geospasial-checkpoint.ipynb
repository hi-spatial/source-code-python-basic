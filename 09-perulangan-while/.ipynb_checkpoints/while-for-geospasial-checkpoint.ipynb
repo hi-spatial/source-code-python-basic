{
 "cells": [
  {
   "cell_type": "code",
   "execution_count": 6,
   "id": "853c1901-4a33-418b-8412-5f5780cd5617",
   "metadata": {},
   "outputs": [
    {
     "name": "stdin",
     "output_type": "stream",
     "text": [
      "Masukkan koordinat lintang:  7.219821\n",
      "Masukkan koordinat bujur:  108.212121\n"
     ]
    },
    {
     "name": "stdout",
     "output_type": "stream",
     "text": [
      "Koordinat di luar wilayah kota\n"
     ]
    }
   ],
   "source": [
    "# Definisikan batas wilayah kota (contoh sederhana)\n",
    "def city_boundary(latitude, longitude):\n",
    "    # Batas wilayah kota, misalnya\n",
    "    min_latitude = -7.0   # lintang minimum\n",
    "    max_latitude = -6.0   # lintang maksimum\n",
    "    min_longitude = 107.0 # bujur minimum\n",
    "    max_longitude = 108.0 # bujur maksimum\n",
    "    \n",
    "    # Memeriksa apakah koordinat berada dalam batas wilayah\n",
    "    if min_latitude <= latitude <= max_latitude and min_longitude <= longitude <= max_longitude:\n",
    "        return True\n",
    "    else:\n",
    "        return False\n",
    "\n",
    "# Kode utama\n",
    "in_city = True\n",
    "\n",
    "while in_city:\n",
    "    latitude = float(input(\"Masukkan koordinat lintang: \"))\n",
    "    longitude = float(input(\"Masukkan koordinat bujur: \"))\n",
    "    \n",
    "    if not (city_boundary(latitude, longitude)):\n",
    "        print(\"Koordinat di luar wilayah kota\")\n",
    "        in_city = False\n",
    "    else:\n",
    "        print(\"Koordinat berada di dalam wilayah kota\")\n"
   ]
  },
  {
   "cell_type": "code",
   "execution_count": null,
   "id": "5b17192f-0172-4fc7-af84-7eec22b7fdfe",
   "metadata": {},
   "outputs": [],
   "source": []
  },
  {
   "cell_type": "code",
   "execution_count": null,
   "id": "33ed0ee0-1473-4124-9dfa-5c755ca0ed97",
   "metadata": {},
   "outputs": [],
   "source": []
  }
 ],
 "metadata": {
  "kernelspec": {
   "display_name": "Python 3 (ipykernel)",
   "language": "python",
   "name": "python3"
  },
  "language_info": {
   "codemirror_mode": {
    "name": "ipython",
    "version": 3
   },
   "file_extension": ".py",
   "mimetype": "text/x-python",
   "name": "python",
   "nbconvert_exporter": "python",
   "pygments_lexer": "ipython3",
   "version": "3.13.0"
  }
 },
 "nbformat": 4,
 "nbformat_minor": 5
}
