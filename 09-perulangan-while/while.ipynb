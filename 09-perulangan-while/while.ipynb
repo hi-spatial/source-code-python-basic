{
 "cells": [
  {
   "cell_type": "code",
   "execution_count": 2,
   "id": "656e3ae7-0cd5-4ec3-9afc-97b983ce44e1",
   "metadata": {},
   "outputs": [
    {
     "name": "stdin",
     "output_type": "stream",
     "text": [
      "Masukkan angka genap lebih besar dari 0:  4\n"
     ]
    },
    {
     "name": "stdout",
     "output_type": "stream",
     "text": [
      "Angka: 4\n"
     ]
    },
    {
     "name": "stdin",
     "output_type": "stream",
     "text": [
      "Masukkan angka genap lebih besar dari 0:  3\n"
     ]
    },
    {
     "name": "stdout",
     "output_type": "stream",
     "text": [
      "3 bukan angka genap lebih besar dari 0\n"
     ]
    }
   ],
   "source": [
    "should_next = True\n",
    "\n",
    "while should_next:\n",
    "    n = int(input(\"Masukkan angka genap lebih besar dari 0: \"))\n",
    "\n",
    "    if n <= 0 or n % 2 == 1:\n",
    "        print(n, \"bukan angka genap lebih besar dari 0\")\n",
    "        should_next = False\n",
    "    else:\n",
    "        print(\"Angka:\", n)"
   ]
  }
 ],
 "metadata": {
  "kernelspec": {
   "display_name": "Python 3 (ipykernel)",
   "language": "python",
   "name": "python3"
  },
  "language_info": {
   "codemirror_mode": {
    "name": "ipython",
    "version": 3
   },
   "file_extension": ".py",
   "mimetype": "text/x-python",
   "name": "python",
   "nbconvert_exporter": "python",
   "pygments_lexer": "ipython3",
   "version": "3.13.0"
  }
 },
 "nbformat": 4,
 "nbformat_minor": 5
}
