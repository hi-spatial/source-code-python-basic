{
 "cells": [
  {
   "cell_type": "code",
   "execution_count": 3,
   "id": "75070b8b-e040-402c-afbf-085002979e24",
   "metadata": {},
   "outputs": [
    {
     "name": "stdin",
     "output_type": "stream",
     "text": [
      "Masukkan jumlah grid:  2\n"
     ]
    },
    {
     "name": "stdout",
     "output_type": "stream",
     "text": [
      "Grid [0, 0]\n",
      "Grid [0, 1]\n",
      "Grid [1, 0]\n",
      "Grid [1, 1]\n"
     ]
    }
   ],
   "source": [
    "n = int(input(\"Masukkan jumlah grid: \"))\n",
    "i = 0\n",
    "\n",
    "while i < n:\n",
    "    j = 0\n",
    "    while j < n:\n",
    "        print(f\"Grid [{i}, {j}]\")\n",
    "        j += 1\n",
    "    i += 1"
   ]
  },
  {
   "cell_type": "code",
   "execution_count": null,
   "id": "781a998c-3443-4c4a-a0ac-fb5a0c9d89cc",
   "metadata": {},
   "outputs": [],
   "source": []
  }
 ],
 "metadata": {
  "kernelspec": {
   "display_name": "Python 3 (ipykernel)",
   "language": "python",
   "name": "python3"
  },
  "language_info": {
   "codemirror_mode": {
    "name": "ipython",
    "version": 3
   },
   "file_extension": ".py",
   "mimetype": "text/x-python",
   "name": "python",
   "nbconvert_exporter": "python",
   "pygments_lexer": "ipython3",
   "version": "3.13.0"
  }
 },
 "nbformat": 4,
 "nbformat_minor": 5
}
