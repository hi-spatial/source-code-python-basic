{
 "cells": [
  {
   "cell_type": "code",
   "execution_count": 2,
   "id": "e9396d67-6d2a-4e7d-94c0-272bbed076f5",
   "metadata": {},
   "outputs": [
    {
     "name": "stdout",
     "output_type": "stream",
     "text": [
      "City.MALANG MALANG 1\n",
      "City.SURABAYA SURABAYA 2\n",
      "City.YOGYAKARTA YOGYAKARTA 3\n",
      "City.JAKARTA JAKARTA 4\n"
     ]
    }
   ],
   "source": [
    "from enum import Enum\n",
    "class City(Enum):\n",
    "    MALANG = 1\n",
    "    SURABAYA = 2\n",
    "    YOGYAKARTA = 3\n",
    "    JAKARTA = 4\n",
    "\n",
    "for c in City:\n",
    "    print(c, c.name, c.value)"
   ]
  },
  {
   "cell_type": "code",
   "execution_count": null,
   "id": "a55c1341-0052-43a4-9c55-6b386eee9a4c",
   "metadata": {},
   "outputs": [],
   "source": []
  }
 ],
 "metadata": {
  "kernelspec": {
   "display_name": "Python 3 (ipykernel)",
   "language": "python",
   "name": "python3"
  },
  "language_info": {
   "codemirror_mode": {
    "name": "ipython",
    "version": 3
   },
   "file_extension": ".py",
   "mimetype": "text/x-python",
   "name": "python",
   "nbconvert_exporter": "python",
   "pygments_lexer": "ipython3",
   "version": "3.13.0"
  }
 },
 "nbformat": 4,
 "nbformat_minor": 5
}
