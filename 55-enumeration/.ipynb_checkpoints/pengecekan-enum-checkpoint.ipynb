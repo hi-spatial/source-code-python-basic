{
 "cells": [
  {
   "cell_type": "code",
   "execution_count": 1,
   "id": "a3d2672c-d8b3-41f6-9e58-2a63442f3d4a",
   "metadata": {},
   "outputs": [
    {
     "name": "stdout",
     "output_type": "stream",
     "text": [
      "monggo\n"
     ]
    }
   ],
   "source": [
    "from enum import Enum\n",
    "class City(Enum):\n",
    "    MALANG = 1\n",
    "    SURABAYA = 2\n",
    "    YOGYAKARTA = 3\n",
    "    JAKARTA = 4\n",
    "\n",
    "def say_anything(c):\n",
    "    if c is City.MALANG:\n",
    "        print(\"Oyi sam\")\n",
    "    elif c == City.JAKARTA:\n",
    "        print(\"lo gue lo gue\")\n",
    "    elif c == City.SURABAYA:\n",
    "        print(\"coeg\")\n",
    "    elif c == City.YOGYAKARTA:\n",
    "        print(\"monggo\")\n",
    "\n",
    "city1 = City.YOGYAKARTA\n",
    "say_anything(city1)"
   ]
  },
  {
   "cell_type": "code",
   "execution_count": null,
   "id": "d00a4a4d-2184-4798-9f07-10f37dabb7ae",
   "metadata": {},
   "outputs": [],
   "source": []
  }
 ],
 "metadata": {
  "kernelspec": {
   "display_name": "Python 3 (ipykernel)",
   "language": "python",
   "name": "python3"
  },
  "language_info": {
   "codemirror_mode": {
    "name": "ipython",
    "version": 3
   },
   "file_extension": ".py",
   "mimetype": "text/x-python",
   "name": "python",
   "nbconvert_exporter": "python",
   "pygments_lexer": "ipython3",
   "version": "3.13.0"
  }
 },
 "nbformat": 4,
 "nbformat_minor": 5
}
