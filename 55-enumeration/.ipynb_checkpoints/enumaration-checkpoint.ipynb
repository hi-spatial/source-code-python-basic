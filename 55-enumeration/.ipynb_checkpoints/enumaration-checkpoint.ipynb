{
 "cells": [
  {
   "cell_type": "code",
   "execution_count": 1,
   "id": "77bd551a-7838-46a7-a16e-aa180e729dce",
   "metadata": {},
   "outputs": [
    {
     "name": "stdout",
     "output_type": "stream",
     "text": [
      "[<City.MALANG: 1>, <City.SURABAYA: 2>, <City.YOGYAKARTA: 3>, <City.JAKARTA: 4>]\n"
     ]
    }
   ],
   "source": [
    "from enum import Enum\n",
    "class City(Enum):\n",
    "    MALANG = 1\n",
    "    SURABAYA = 2\n",
    "    YOGYAKARTA = 3\n",
    "    JAKARTA = 4\n",
    "\n",
    "print(list(City))"
   ]
  },
  {
   "cell_type": "code",
   "execution_count": null,
   "id": "55b67eb5-bb8e-4104-8535-fd6eccbd7879",
   "metadata": {},
   "outputs": [],
   "source": []
  }
 ],
 "metadata": {
  "kernelspec": {
   "display_name": "Python 3 (ipykernel)",
   "language": "python",
   "name": "python3"
  },
  "language_info": {
   "codemirror_mode": {
    "name": "ipython",
    "version": 3
   },
   "file_extension": ".py",
   "mimetype": "text/x-python",
   "name": "python",
   "nbconvert_exporter": "python",
   "pygments_lexer": "ipython3",
   "version": "3.13.0"
  }
 },
 "nbformat": 4,
 "nbformat_minor": 5
}
