{
 "cells": [
  {
   "cell_type": "code",
   "execution_count": 1,
   "id": "ef57260c-81e4-49b5-a99b-7a6de1acddc3",
   "metadata": {},
   "outputs": [
    {
     "name": "stdout",
     "output_type": "stream",
     "text": [
      "[<Color.RED: 'red'>, <Color.BLUE: 'blue'>]\n"
     ]
    }
   ],
   "source": [
    "from enum import Enum\n",
    "class Color(Enum):\n",
    "    RED = \"red\"\n",
    "    BLUE = \"blue\"\n",
    "\n",
    "print(list(Color))"
   ]
  },
  {
   "cell_type": "code",
   "execution_count": null,
   "id": "959ef61f-5318-425c-855a-277c01b9f4ee",
   "metadata": {},
   "outputs": [],
   "source": []
  }
 ],
 "metadata": {
  "kernelspec": {
   "display_name": "Python 3 (ipykernel)",
   "language": "python",
   "name": "python3"
  },
  "language_info": {
   "codemirror_mode": {
    "name": "ipython",
    "version": 3
   },
   "file_extension": ".py",
   "mimetype": "text/x-python",
   "name": "python",
   "nbconvert_exporter": "python",
   "pygments_lexer": "ipython3",
   "version": "3.13.0"
  }
 },
 "nbformat": 4,
 "nbformat_minor": 5
}
