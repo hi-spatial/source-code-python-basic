{
 "cells": [
  {
   "cell_type": "code",
   "execution_count": 2,
   "id": "485bd604-6b8b-4e93-9f83-06058837e190",
   "metadata": {},
   "outputs": [
    {
     "name": "stdout",
     "output_type": "stream",
     "text": [
      "YOGYAKARTA\n",
      "3\n"
     ]
    }
   ],
   "source": [
    "from enum import Enum\n",
    "class City(Enum):\n",
    "    MALANG = 1\n",
    "    SURABAYA = 2\n",
    "    YOGYAKARTA = 3\n",
    "    JAKARTA = 4\n",
    "\n",
    "city1 = City.YOGYAKARTA\n",
    "print(city1.name)\n",
    "print(city1.value)"
   ]
  },
  {
   "cell_type": "code",
   "execution_count": 3,
   "id": "b373516c-4cf4-436e-85d7-29eede99aab2",
   "metadata": {},
   "outputs": [
    {
     "name": "stdout",
     "output_type": "stream",
     "text": [
      "SURABAYA\n",
      "2\n"
     ]
    }
   ],
   "source": [
    "city2 = City[\"SURABAYA\"]\n",
    "print(city2.name)\n",
    "print(city2.value)"
   ]
  },
  {
   "cell_type": "code",
   "execution_count": null,
   "id": "df09c0f4-a852-42fd-ac8b-0c44890c8126",
   "metadata": {},
   "outputs": [],
   "source": []
  }
 ],
 "metadata": {
  "kernelspec": {
   "display_name": "Python 3 (ipykernel)",
   "language": "python",
   "name": "python3"
  },
  "language_info": {
   "codemirror_mode": {
    "name": "ipython",
    "version": 3
   },
   "file_extension": ".py",
   "mimetype": "text/x-python",
   "name": "python",
   "nbconvert_exporter": "python",
   "pygments_lexer": "ipython3",
   "version": "3.13.0"
  }
 },
 "nbformat": 4,
 "nbformat_minor": 5
}
