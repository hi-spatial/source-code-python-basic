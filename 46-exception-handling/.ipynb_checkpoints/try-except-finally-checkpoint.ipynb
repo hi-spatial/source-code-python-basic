{
 "cells": [
  {
   "cell_type": "code",
   "execution_count": 1,
   "id": "3ccedf14-0d50-4a2b-9778-51a92563b461",
   "metadata": {},
   "outputs": [
    {
     "name": "stdin",
     "output_type": "stream",
     "text": [
      "Masukkan luas wilayah:  2\n",
      "Masukkan jumlah sektor:  3\n"
     ]
    },
    {
     "name": "stdout",
     "output_type": "stream",
     "text": [
      "Proses distribusi selesai.\n"
     ]
    }
   ],
   "source": [
    "try:\n",
    "    luas = float(input(\"Masukkan luas wilayah: \"))\n",
    "    sektor = int(input(\"Masukkan jumlah sektor: \"))\n",
    "    hasil = luas / sektor\n",
    "except ZeroDivisionError:\n",
    "    print(\"Tidak bisa membagi area dengan jumlah sektor 0.\")\n",
    "except ValueError:\n",
    "    print(\"Input tidak valid, harap masukkan angka.\")\n",
    "finally:\n",
    "    print(\"Proses distribusi selesai.\")"
   ]
  },
  {
   "cell_type": "code",
   "execution_count": null,
   "id": "477c0f36-2f6f-4b82-b4c1-8fce148033cd",
   "metadata": {},
   "outputs": [],
   "source": []
  }
 ],
 "metadata": {
  "kernelspec": {
   "display_name": "Python 3 (ipykernel)",
   "language": "python",
   "name": "python3"
  },
  "language_info": {
   "codemirror_mode": {
    "name": "ipython",
    "version": 3
   },
   "file_extension": ".py",
   "mimetype": "text/x-python",
   "name": "python",
   "nbconvert_exporter": "python",
   "pygments_lexer": "ipython3",
   "version": "3.13.0"
  }
 },
 "nbformat": 4,
 "nbformat_minor": 5
}
