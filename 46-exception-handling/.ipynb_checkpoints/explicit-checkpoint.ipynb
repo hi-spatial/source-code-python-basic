{
 "cells": [
  {
   "cell_type": "code",
   "execution_count": 2,
   "id": "b1d4f363-529b-4268-9f0a-92713a8285f2",
   "metadata": {},
   "outputs": [
    {
     "name": "stdin",
     "output_type": "stream",
     "text": [
      "Masukkan luas wilayah:  322\n",
      "Masukkan jumlah sektor:  0\n"
     ]
    },
    {
     "name": "stdout",
     "output_type": "stream",
     "text": [
      "Tidak bisa membagi area dengan jumlah sektor 0.\n"
     ]
    }
   ],
   "source": [
    "try:\n",
    "    luas = float(input(\"Masukkan luas wilayah: \"))\n",
    "    sektor = int(input(\"Masukkan jumlah sektor: \"))\n",
    "    hasil = luas / sektor\n",
    "    print(f\"Setiap sektor memiliki luas {hasil:.2f} km²\")\n",
    "except ZeroDivisionError:\n",
    "    print(\"Tidak bisa membagi area dengan jumlah sektor 0.\")\n",
    "except ValueError:\n",
    "    print(\"Input tidak valid, harap masukkan angka.\")"
   ]
  },
  {
   "cell_type": "code",
   "execution_count": null,
   "id": "b717ed8e-4e75-43ab-9424-70898bc545d3",
   "metadata": {},
   "outputs": [],
   "source": []
  }
 ],
 "metadata": {
  "kernelspec": {
   "display_name": "Python 3 (ipykernel)",
   "language": "python",
   "name": "python3"
  },
  "language_info": {
   "codemirror_mode": {
    "name": "ipython",
    "version": 3
   },
   "file_extension": ".py",
   "mimetype": "text/x-python",
   "name": "python",
   "nbconvert_exporter": "python",
   "pygments_lexer": "ipython3",
   "version": "3.13.0"
  }
 },
 "nbformat": 4,
 "nbformat_minor": 5
}
