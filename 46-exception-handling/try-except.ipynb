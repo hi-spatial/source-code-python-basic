{
 "cells": [
  {
   "cell_type": "code",
   "execution_count": 1,
   "id": "7d5c7634-57b4-4882-afe8-34730013bfbf",
   "metadata": {},
   "outputs": [
    {
     "name": "stdout",
     "output_type": "stream",
     "text": [
      "Setiap sektor memiliki luas 250.00 km²\n"
     ]
    }
   ],
   "source": [
    "def hitung_distribusi_luas(total_luas, total_sektor):\n",
    "    res = total_luas / total_sektor\n",
    "    print(f\"Setiap sektor memiliki luas {res:.2f} km²\")\n",
    "\n",
    "total_luas = 1000\n",
    "total_sektor = 4\n",
    "hitung_distribusi_luas(total_luas, total_sektor)"
   ]
  },
  {
   "cell_type": "code",
   "execution_count": 2,
   "id": "dc101514-7710-4eb6-a26b-0402adc505af",
   "metadata": {},
   "outputs": [
    {
     "ename": "ZeroDivisionError",
     "evalue": "division by zero",
     "output_type": "error",
     "traceback": [
      "\u001b[1;31m---------------------------------------------------------------------------\u001b[0m",
      "\u001b[1;31mZeroDivisionError\u001b[0m                         Traceback (most recent call last)",
      "Cell \u001b[1;32mIn[2], line 7\u001b[0m\n\u001b[0;32m      5\u001b[0m total_luas \u001b[38;5;241m=\u001b[39m \u001b[38;5;241m1000\u001b[39m\n\u001b[0;32m      6\u001b[0m total_sektor \u001b[38;5;241m=\u001b[39m \u001b[38;5;241m0\u001b[39m\n\u001b[1;32m----> 7\u001b[0m \u001b[43mhitung_distribusi_luas\u001b[49m\u001b[43m(\u001b[49m\u001b[43mtotal_luas\u001b[49m\u001b[43m,\u001b[49m\u001b[43m \u001b[49m\u001b[43mtotal_sektor\u001b[49m\u001b[43m)\u001b[49m\n",
      "Cell \u001b[1;32mIn[2], line 2\u001b[0m, in \u001b[0;36mhitung_distribusi_luas\u001b[1;34m(total_luas, total_sektor)\u001b[0m\n\u001b[0;32m      1\u001b[0m \u001b[38;5;28;01mdef\u001b[39;00m \u001b[38;5;21mhitung_distribusi_luas\u001b[39m(total_luas, total_sektor):\n\u001b[1;32m----> 2\u001b[0m     res \u001b[38;5;241m=\u001b[39m \u001b[43mtotal_luas\u001b[49m\u001b[43m \u001b[49m\u001b[38;5;241;43m/\u001b[39;49m\u001b[43m \u001b[49m\u001b[43mtotal_sektor\u001b[49m\n\u001b[0;32m      3\u001b[0m     \u001b[38;5;28mprint\u001b[39m(\u001b[38;5;124mf\u001b[39m\u001b[38;5;124m\"\u001b[39m\u001b[38;5;124mSetiap sektor memiliki luas \u001b[39m\u001b[38;5;132;01m{\u001b[39;00mres\u001b[38;5;132;01m:\u001b[39;00m\u001b[38;5;124m.2f\u001b[39m\u001b[38;5;132;01m}\u001b[39;00m\u001b[38;5;124m km²\u001b[39m\u001b[38;5;124m\"\u001b[39m)\n",
      "\u001b[1;31mZeroDivisionError\u001b[0m: division by zero"
     ]
    }
   ],
   "source": [
    "def hitung_distribusi_luas(total_luas, total_sektor):\n",
    "    res = total_luas / total_sektor\n",
    "    print(f\"Setiap sektor memiliki luas {res:.2f} km²\")\n",
    "\n",
    "total_luas = 1000\n",
    "total_sektor = 0\n",
    "hitung_distribusi_luas(total_luas, total_sektor)"
   ]
  },
  {
   "cell_type": "code",
   "execution_count": 3,
   "id": "bbe5fc43-79e0-4b8f-a690-ec2c180585b8",
   "metadata": {},
   "outputs": [
    {
     "name": "stdout",
     "output_type": "stream",
     "text": [
      "Setiap sektor memiliki luas 250.00 km²\n",
      "Tidak bisa membagi area dengan jumlah sektor 0.\n"
     ]
    }
   ],
   "source": [
    "try:\n",
    "    hitung_distribusi_luas(1000, 4)\n",
    "    hitung_distribusi_luas(1000, 0)\n",
    "except ZeroDivisionError:\n",
    "    print(\"Tidak bisa membagi area dengan jumlah sektor 0.\")"
   ]
  },
  {
   "cell_type": "code",
   "execution_count": null,
   "id": "5be43ae6-67f8-4a5d-bb35-747e9b323546",
   "metadata": {},
   "outputs": [],
   "source": []
  }
 ],
 "metadata": {
  "kernelspec": {
   "display_name": "Python 3 (ipykernel)",
   "language": "python",
   "name": "python3"
  },
  "language_info": {
   "codemirror_mode": {
    "name": "ipython",
    "version": 3
   },
   "file_extension": ".py",
   "mimetype": "text/x-python",
   "name": "python",
   "nbconvert_exporter": "python",
   "pygments_lexer": "ipython3",
   "version": "3.13.0"
  }
 },
 "nbformat": 4,
 "nbformat_minor": 5
}
