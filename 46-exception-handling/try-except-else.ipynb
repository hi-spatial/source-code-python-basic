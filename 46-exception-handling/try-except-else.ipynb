{
 "cells": [
  {
   "cell_type": "code",
   "execution_count": 1,
   "id": "9b5750a8-c46d-4d35-85d0-41e0da708645",
   "metadata": {},
   "outputs": [
    {
     "name": "stdin",
     "output_type": "stream",
     "text": [
      "Masukkan luas wilayah:  2323\n",
      "Masukkan jumlah sektor:  42\n"
     ]
    },
    {
     "name": "stdout",
     "output_type": "stream",
     "text": [
      "Setiap sektor memiliki luas 55.31 km²\n"
     ]
    }
   ],
   "source": [
    "try:\n",
    "    luas = float(input(\"Masukkan luas wilayah: \"))\n",
    "    sektor = int(input(\"Masukkan jumlah sektor: \"))\n",
    "    hasil = luas / sektor\n",
    "except ZeroDivisionError:\n",
    "    print(\"Tidak bisa membagi area dengan jumlah sektor 0.\")\n",
    "except ValueError:\n",
    "    print(\"Input tidak valid, harap masukkan angka.\")\n",
    "else:\n",
    "    print(f\"Setiap sektor memiliki luas {hasil:.2f} km²\")"
   ]
  },
  {
   "cell_type": "code",
   "execution_count": null,
   "id": "3c650781-93f3-40a7-9ed5-ca1c94eac0b3",
   "metadata": {},
   "outputs": [],
   "source": []
  }
 ],
 "metadata": {
  "kernelspec": {
   "display_name": "Python 3 (ipykernel)",
   "language": "python",
   "name": "python3"
  },
  "language_info": {
   "codemirror_mode": {
    "name": "ipython",
    "version": 3
   },
   "file_extension": ".py",
   "mimetype": "text/x-python",
   "name": "python",
   "nbconvert_exporter": "python",
   "pygments_lexer": "ipython3",
   "version": "3.13.0"
  }
 },
 "nbformat": 4,
 "nbformat_minor": 5
}
