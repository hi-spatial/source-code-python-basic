{
 "cells": [
  {
   "cell_type": "code",
   "execution_count": 1,
   "id": "155ea0df-e1c0-4d94-ab90-c672c35843d4",
   "metadata": {},
   "outputs": [
    {
     "name": "stdin",
     "output_type": "stream",
     "text": [
      "Masukkan luas wilayah:  2\n",
      "Masukkan jumlah sektor:  3\n"
     ]
    },
    {
     "name": "stdout",
     "output_type": "stream",
     "text": [
      "Setiap sektor memiliki luas 0.67 km²\n",
      "Proses distribusi selesai.\n"
     ]
    }
   ],
   "source": [
    "try:\n",
    "    luas = float(input(\"Masukkan luas wilayah: \"))\n",
    "    sektor = int(input(\"Masukkan jumlah sektor: \"))\n",
    "    hasil = luas / sektor\n",
    "except ZeroDivisionError:\n",
    "    print(\"Tidak bisa membagi area dengan jumlah sektor 0.\")\n",
    "except ValueError:\n",
    "    print(\"Input tidak valid, harap masukkan angka.\")\n",
    "else:\n",
    "    print(f\"Setiap sektor memiliki luas {hasil:.2f} km²\")\n",
    "finally:\n",
    "    print(\"Proses distribusi selesai.\")"
   ]
  },
  {
   "cell_type": "code",
   "execution_count": null,
   "id": "10d45d56-6c23-49d4-9dbf-a57790a3e62b",
   "metadata": {},
   "outputs": [],
   "source": []
  }
 ],
 "metadata": {
  "kernelspec": {
   "display_name": "Python 3 (ipykernel)",
   "language": "python",
   "name": "python3"
  },
  "language_info": {
   "codemirror_mode": {
    "name": "ipython",
    "version": 3
   },
   "file_extension": ".py",
   "mimetype": "text/x-python",
   "name": "python",
   "nbconvert_exporter": "python",
   "pygments_lexer": "ipython3",
   "version": "3.13.0"
  }
 },
 "nbformat": 4,
 "nbformat_minor": 5
}
