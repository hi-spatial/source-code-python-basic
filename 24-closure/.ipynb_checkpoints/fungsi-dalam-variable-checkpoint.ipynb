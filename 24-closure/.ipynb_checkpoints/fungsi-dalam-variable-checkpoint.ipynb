{
 "cells": [
  {
   "cell_type": "code",
   "execution_count": 1,
   "id": "4f860cd6-f843-4d33-b377-5e6ec9c6594a",
   "metadata": {},
   "outputs": [
    {
     "name": "stdout",
     "output_type": "stream",
     "text": [
      "Area: Park Area\n",
      "Coordinates: ((1, 2), (3, 4), (5, 6))\n",
      "Metadata: {'region': 'North', 'population_density': 'High'}\n"
     ]
    }
   ],
   "source": [
    "def print_all_info(area_name, *coordinates, **metadata):\n",
    "    print(f\"Area: {area_name}\")\n",
    "    print(f\"Coordinates: {coordinates}\")\n",
    "    print(f\"Metadata: {metadata}\")\n",
    "\n",
    "display_info = print_all_info\n",
    "display_info(\"Park Area\", (1, 2), (3, 4), (5, 6), region=\"North\", population_density=\"High\")"
   ]
  },
  {
   "cell_type": "code",
   "execution_count": null,
   "id": "88c9cb7d-b51d-4b02-94cb-c6c0e4425114",
   "metadata": {},
   "outputs": [],
   "source": []
  }
 ],
 "metadata": {
  "kernelspec": {
   "display_name": "Python 3 (ipykernel)",
   "language": "python",
   "name": "python3"
  },
  "language_info": {
   "codemirror_mode": {
    "name": "ipython",
    "version": 3
   },
   "file_extension": ".py",
   "mimetype": "text/x-python",
   "name": "python",
   "nbconvert_exporter": "python",
   "pygments_lexer": "ipython3",
   "version": "3.13.0"
  }
 },
 "nbformat": 4,
 "nbformat_minor": 5
}
