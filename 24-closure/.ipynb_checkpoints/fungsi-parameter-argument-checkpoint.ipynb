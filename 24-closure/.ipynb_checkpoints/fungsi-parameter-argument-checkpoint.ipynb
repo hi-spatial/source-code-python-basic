{
 "cells": [
  {
   "cell_type": "code",
   "execution_count": 1,
   "id": "ecfa8afd-71fd-4176-ab70-d62a2817b964",
   "metadata": {},
   "outputs": [
    {
     "name": "stdout",
     "output_type": "stream",
     "text": [
      "Total Distance: 4.5\n",
      "Average Coordinates: (3.0, 4.0)\n"
     ]
    }
   ],
   "source": [
    "def process_geospatial_data(description, coordinates, func):\n",
    "    result = func(coordinates)\n",
    "    print(f\"{description}: {result}\")\n",
    "\n",
    "def total_distance(coords):\n",
    "    # Misalkan menghitung total jarak (contoh sederhana)\n",
    "    return len(coords) * 1.5  # Sebuah contoh jarak antar titik\n",
    "\n",
    "def avg_lat_lon(coords):\n",
    "    total_lat = sum(lat for lat, lon in coords)\n",
    "    total_lon = sum(lon for lat, lon in coords)\n",
    "    return (total_lat / len(coords), total_lon / len(coords))\n",
    "\n",
    "process_geospatial_data(\"Total Distance\", [(1, 2), (3, 4), (5, 6)], total_distance)\n",
    "process_geospatial_data(\"Average Coordinates\", [(1, 2), (3, 4), (5, 6)], avg_lat_lon)"
   ]
  },
  {
   "cell_type": "code",
   "execution_count": null,
   "id": "0f99bc57-f05f-40b3-aaf5-834ffb20d410",
   "metadata": {},
   "outputs": [],
   "source": []
  }
 ],
 "metadata": {
  "kernelspec": {
   "display_name": "Python 3 (ipykernel)",
   "language": "python",
   "name": "python3"
  },
  "language_info": {
   "codemirror_mode": {
    "name": "ipython",
    "version": 3
   },
   "file_extension": ".py",
   "mimetype": "text/x-python",
   "name": "python",
   "nbconvert_exporter": "python",
   "pygments_lexer": "ipython3",
   "version": "3.13.0"
  }
 },
 "nbformat": 4,
 "nbformat_minor": 5
}
