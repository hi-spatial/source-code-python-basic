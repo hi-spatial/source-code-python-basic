{
 "cells": [
  {
   "cell_type": "code",
   "execution_count": 1,
   "id": "9a738405-e7fe-4041-a589-305a72102923",
   "metadata": {},
   "outputs": [
    {
     "name": "stdout",
     "output_type": "stream",
     "text": [
      "call outer_func()\n",
      "coordinates: [(1, 2), (3, 4), (5, 6), (7, 8)]\n",
      "call inner_func() within outer_func()\n",
      "Bounding Box: lat_min: 1, lat_max: 7, lon_min: 2, lon_max: 8\n",
      "call inner_func() outside of outer_func()\n",
      "Bounding Box: lat_min: 1, lat_max: 7, lon_min: 2, lon_max: 8\n"
     ]
    }
   ],
   "source": [
    "def outer_func(coordinates=[]):\n",
    "    print(f\"coordinates: {coordinates}\")\n",
    "\n",
    "    def inner_func():\n",
    "        lats = [lat for lat, lon in coordinates]\n",
    "        lons = [lon for lat, lon in coordinates]\n",
    "        print(f\"Bounding Box: lat_min: {min(lats)}, lat_max: {max(lats)}, lon_min: {min(lons)}, lon_max: {max(lons)}\")\n",
    "\n",
    "    print(\"call inner_func() within outer_func()\")\n",
    "    inner_func()\n",
    "\n",
    "    return inner_func\n",
    "\n",
    "print(\"call outer_func()\")\n",
    "f = outer_func([(1, 2), (3, 4), (5, 6), (7, 8)])\n",
    "\n",
    "print(\"call inner_func() outside of outer_func()\")\n",
    "f()"
   ]
  },
  {
   "cell_type": "code",
   "execution_count": null,
   "id": "7cb41981-eff8-4d10-a01b-1eac600d33c0",
   "metadata": {},
   "outputs": [],
   "source": []
  }
 ],
 "metadata": {
  "kernelspec": {
   "display_name": "Python 3 (ipykernel)",
   "language": "python",
   "name": "python3"
  },
  "language_info": {
   "codemirror_mode": {
    "name": "ipython",
    "version": 3
   },
   "file_extension": ".py",
   "mimetype": "text/x-python",
   "name": "python",
   "nbconvert_exporter": "python",
   "pygments_lexer": "ipython3",
   "version": "3.13.0"
  }
 },
 "nbformat": 4,
 "nbformat_minor": 5
}
