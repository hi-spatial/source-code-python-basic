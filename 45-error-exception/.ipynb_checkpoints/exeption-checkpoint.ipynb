{
 "cells": [
  {
   "cell_type": "code",
   "execution_count": 1,
   "id": "75a9051b-58fc-4da7-b279-8958828ac17c",
   "metadata": {},
   "outputs": [
    {
     "name": "stdin",
     "output_type": "stream",
     "text": [
      "Masukkan panjang:  0\n",
      "Masukkan lebar:  0\n"
     ]
    },
    {
     "ename": "ZeroDivisionError",
     "evalue": "float division by zero",
     "output_type": "error",
     "traceback": [
      "\u001b[1;31m---------------------------------------------------------------------------\u001b[0m",
      "\u001b[1;31mZeroDivisionError\u001b[0m                         Traceback (most recent call last)",
      "Cell \u001b[1;32mIn[1], line 4\u001b[0m\n\u001b[0;32m      1\u001b[0m panjang \u001b[38;5;241m=\u001b[39m \u001b[38;5;28mfloat\u001b[39m(\u001b[38;5;28minput\u001b[39m(\u001b[38;5;124m\"\u001b[39m\u001b[38;5;124mMasukkan panjang: \u001b[39m\u001b[38;5;124m\"\u001b[39m))\n\u001b[0;32m      2\u001b[0m lebar \u001b[38;5;241m=\u001b[39m \u001b[38;5;28mfloat\u001b[39m(\u001b[38;5;28minput\u001b[39m(\u001b[38;5;124m\"\u001b[39m\u001b[38;5;124mMasukkan lebar: \u001b[39m\u001b[38;5;124m\"\u001b[39m))\n\u001b[1;32m----> 4\u001b[0m luas \u001b[38;5;241m=\u001b[39m \u001b[43mpanjang\u001b[49m\u001b[43m \u001b[49m\u001b[38;5;241;43m/\u001b[39;49m\u001b[43m \u001b[49m\u001b[43mlebar\u001b[49m\n\u001b[0;32m      5\u001b[0m \u001b[38;5;28mprint\u001b[39m(\u001b[38;5;124mf\u001b[39m\u001b[38;5;124m\"\u001b[39m\u001b[38;5;124mLuas wilayah: \u001b[39m\u001b[38;5;132;01m{\u001b[39;00mluas\u001b[38;5;132;01m}\u001b[39;00m\u001b[38;5;124m\"\u001b[39m)\n",
      "\u001b[1;31mZeroDivisionError\u001b[0m: float division by zero"
     ]
    }
   ],
   "source": [
    "panjang = float(input(\"Masukkan panjang: \"))\n",
    "lebar = float(input(\"Masukkan lebar: \"))\n",
    "\n",
    "luas = panjang / lebar\n",
    "print(f\"Luas wilayah: {luas}\")"
   ]
  },
  {
   "cell_type": "code",
   "execution_count": 2,
   "id": "1921bf41-2c63-4921-be2a-86bdaa30cdd5",
   "metadata": {},
   "outputs": [
    {
     "name": "stdin",
     "output_type": "stream",
     "text": [
      "Masukkan panjang:  0\n",
      "Masukkan lebar:  0\n"
     ]
    },
    {
     "name": "stdout",
     "output_type": "stream",
     "text": [
      "Lebar tidak boleh bernilai 0\n"
     ]
    }
   ],
   "source": [
    "panjang = float(input(\"Masukkan panjang: \"))\n",
    "lebar = float(input(\"Masukkan lebar: \"))\n",
    "\n",
    "if lebar == 0:\n",
    "    print(\"Lebar tidak boleh bernilai 0\")\n",
    "else:\n",
    "    luas = panjang / lebar\n",
    "    print(f\"Luas wilayah: {luas}\")"
   ]
  },
  {
   "cell_type": "code",
   "execution_count": null,
   "id": "146f84a1-b57e-4f30-a1f6-1f5e7f93ec1b",
   "metadata": {},
   "outputs": [],
   "source": []
  }
 ],
 "metadata": {
  "kernelspec": {
   "display_name": "Python 3 (ipykernel)",
   "language": "python",
   "name": "python3"
  },
  "language_info": {
   "codemirror_mode": {
    "name": "ipython",
    "version": 3
   },
   "file_extension": ".py",
   "mimetype": "text/x-python",
   "name": "python",
   "nbconvert_exporter": "python",
   "pygments_lexer": "ipython3",
   "version": "3.13.0"
  }
 },
 "nbformat": 4,
 "nbformat_minor": 5
}
