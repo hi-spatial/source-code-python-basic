{
 "cells": [
  {
   "cell_type": "code",
   "execution_count": 1,
   "id": "30edd704-dae1-42e0-ba12-be2c6b2d7f5f",
   "metadata": {},
   "outputs": [
    {
     "ename": "NameError",
     "evalue": "name 'prind' is not defined",
     "output_type": "error",
     "traceback": [
      "\u001b[1;31m---------------------------------------------------------------------------\u001b[0m",
      "\u001b[1;31mNameError\u001b[0m                                 Traceback (most recent call last)",
      "Cell \u001b[1;32mIn[1], line 1\u001b[0m\n\u001b[1;32m----> 1\u001b[0m \u001b[43mprind\u001b[49m(\u001b[38;5;124m\"\u001b[39m\u001b[38;5;124mMenghitung luas poligon\u001b[39m\u001b[38;5;124m\"\u001b[39m)\n",
      "\u001b[1;31mNameError\u001b[0m: name 'prind' is not defined"
     ]
    }
   ],
   "source": [
    "prind(\"Menghitung luas poligon\")"
   ]
  },
  {
   "cell_type": "code",
   "execution_count": null,
   "id": "c3dc84e0-dd5b-4587-9f52-f9feed9e10df",
   "metadata": {},
   "outputs": [],
   "source": []
  }
 ],
 "metadata": {
  "kernelspec": {
   "display_name": "Python 3 (ipykernel)",
   "language": "python",
   "name": "python3"
  },
  "language_info": {
   "codemirror_mode": {
    "name": "ipython",
    "version": 3
   },
   "file_extension": ".py",
   "mimetype": "text/x-python",
   "name": "python",
   "nbconvert_exporter": "python",
   "pygments_lexer": "ipython3",
   "version": "3.13.0"
  }
 },
 "nbformat": 4,
 "nbformat_minor": 5
}
