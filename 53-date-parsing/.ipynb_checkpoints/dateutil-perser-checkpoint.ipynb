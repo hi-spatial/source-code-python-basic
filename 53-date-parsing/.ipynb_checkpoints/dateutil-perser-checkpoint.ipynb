{
 "cells": [
  {
   "cell_type": "code",
   "execution_count": 1,
   "id": "4268eefc-0ba8-4291-b377-ccaa0e17e139",
   "metadata": {},
   "outputs": [
    {
     "name": "stdout",
     "output_type": "stream",
     "text": [
      "datetime: 2021-05-12 08:00:00\n"
     ]
    }
   ],
   "source": [
    "from dateutil import parser\n",
    "\n",
    "data_datetime = parser.parse(\"May 12, 2021 8:00 AM\")\n",
    "print(\"datetime:\", data_datetime)\n",
    "# Output ➜ datetime: 2021-05-12 08:00:00"
   ]
  },
  {
   "cell_type": "code",
   "execution_count": null,
   "id": "b5d0d87c-3689-4bac-808d-31dd7c97199b",
   "metadata": {},
   "outputs": [],
   "source": []
  }
 ],
 "metadata": {
  "kernelspec": {
   "display_name": "Python 3 (ipykernel)",
   "language": "python",
   "name": "python3"
  },
  "language_info": {
   "codemirror_mode": {
    "name": "ipython",
    "version": 3
   },
   "file_extension": ".py",
   "mimetype": "text/x-python",
   "name": "python",
   "nbconvert_exporter": "python",
   "pygments_lexer": "ipython3",
   "version": "3.13.0"
  }
 },
 "nbformat": 4,
 "nbformat_minor": 5
}
