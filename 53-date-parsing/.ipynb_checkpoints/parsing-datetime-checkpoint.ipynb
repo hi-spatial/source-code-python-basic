{
 "cells": [
  {
   "cell_type": "code",
   "execution_count": 1,
   "id": "a0bce430-f74d-417b-a4ea-b3f4c1a1a39d",
   "metadata": {},
   "outputs": [
    {
     "name": "stdout",
     "output_type": "stream",
     "text": [
      "datetime: 1985-04-12 23:20:50\n"
     ]
    }
   ],
   "source": [
    "from datetime import datetime\n",
    "\n",
    "date_string = '1985-04-12 23:20:50'\n",
    "format_string = '%Y-%m-%d %H:%M:%S'\n",
    "data_datetime = datetime.strptime(date_string, format_string)\n",
    "print(\"datetime:\", data_datetime)\n",
    "# Output ➜ datetime: 1985-04-12 23:20:50"
   ]
  },
  {
   "cell_type": "code",
   "execution_count": null,
   "id": "d2cf8f51-6045-452b-8ca1-2f33a20a2347",
   "metadata": {},
   "outputs": [],
   "source": []
  }
 ],
 "metadata": {
  "kernelspec": {
   "display_name": "Python 3 (ipykernel)",
   "language": "python",
   "name": "python3"
  },
  "language_info": {
   "codemirror_mode": {
    "name": "ipython",
    "version": 3
   },
   "file_extension": ".py",
   "mimetype": "text/x-python",
   "name": "python",
   "nbconvert_exporter": "python",
   "pygments_lexer": "ipython3",
   "version": "3.13.0"
  }
 },
 "nbformat": 4,
 "nbformat_minor": 5
}
