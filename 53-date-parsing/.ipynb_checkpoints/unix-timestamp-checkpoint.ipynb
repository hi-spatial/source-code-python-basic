{
 "cells": [
  {
   "cell_type": "code",
   "execution_count": 1,
   "id": "0af3bd5e-4820-4a9d-8889-9f0297dd9275",
   "metadata": {},
   "outputs": [
    {
     "name": "stdout",
     "output_type": "stream",
     "text": [
      "datetime: 2023-12-19 17:05:33\n"
     ]
    }
   ],
   "source": [
    "from datetime import datetime\n",
    "\n",
    "data_datetime = datetime.fromtimestamp(1702980333)\n",
    "print(\"datetime:\", data_datetime)\n",
    "# Output ➜ datetime: 2023-12-19 17:05:33"
   ]
  },
  {
   "cell_type": "code",
   "execution_count": null,
   "id": "23d27c92-db42-4273-bd8b-be068d843add",
   "metadata": {},
   "outputs": [],
   "source": []
  }
 ],
 "metadata": {
  "kernelspec": {
   "display_name": "Python 3 (ipykernel)",
   "language": "python",
   "name": "python3"
  },
  "language_info": {
   "codemirror_mode": {
    "name": "ipython",
    "version": 3
   },
   "file_extension": ".py",
   "mimetype": "text/x-python",
   "name": "python",
   "nbconvert_exporter": "python",
   "pygments_lexer": "ipython3",
   "version": "3.13.0"
  }
 },
 "nbformat": 4,
 "nbformat_minor": 5
}
