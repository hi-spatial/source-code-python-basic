{
 "cells": [
  {
   "cell_type": "code",
   "execution_count": 2,
   "id": "f552872c-75fe-447b-9756-4c0ddbc9a264",
   "metadata": {},
   "outputs": [
    {
     "name": "stdout",
     "output_type": "stream",
     "text": [
      "datetime: 1985-04-12 23:20:50.520000\n"
     ]
    }
   ],
   "source": [
    "from datetime import datetime\n",
    "data_datetime = datetime.fromisoformat('1985-04-12T23:20:50.52')\n",
    "print(\"datetime:\", data_datetime)\n",
    "# Output ➜ datetime: 1985-04-12 23:20:50.520000"
   ]
  },
  {
   "cell_type": "code",
   "execution_count": null,
   "id": "d5495ecf-53fe-4c0d-bdf7-78964292a0f5",
   "metadata": {},
   "outputs": [],
   "source": []
  }
 ],
 "metadata": {
  "kernelspec": {
   "display_name": "Python 3 (ipykernel)",
   "language": "python",
   "name": "python3"
  },
  "language_info": {
   "codemirror_mode": {
    "name": "ipython",
    "version": 3
   },
   "file_extension": ".py",
   "mimetype": "text/x-python",
   "name": "python",
   "nbconvert_exporter": "python",
   "pygments_lexer": "ipython3",
   "version": "3.13.0"
  }
 },
 "nbformat": 4,
 "nbformat_minor": 5
}
