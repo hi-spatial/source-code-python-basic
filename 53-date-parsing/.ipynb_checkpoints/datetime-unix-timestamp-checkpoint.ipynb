{
 "cells": [
  {
   "cell_type": "code",
   "execution_count": 1,
   "id": "0700dea6-4b98-4143-b2b3-b6518ed6f4d7",
   "metadata": {},
   "outputs": [
    {
     "name": "stdout",
     "output_type": "stream",
     "text": [
      "1729619131.309798\n"
     ]
    }
   ],
   "source": [
    "from datetime import datetime\n",
    "\n",
    "data_datetime = datetime.now()\n",
    "print(data_datetime.timestamp())\n",
    "# Output ➜ 1703314863.975431"
   ]
  },
  {
   "cell_type": "code",
   "execution_count": null,
   "id": "9b18576d-61c1-458b-8ece-7893f780a3fe",
   "metadata": {},
   "outputs": [],
   "source": []
  }
 ],
 "metadata": {
  "kernelspec": {
   "display_name": "Python 3 (ipykernel)",
   "language": "python",
   "name": "python3"
  },
  "language_info": {
   "codemirror_mode": {
    "name": "ipython",
    "version": 3
   },
   "file_extension": ".py",
   "mimetype": "text/x-python",
   "name": "python",
   "nbconvert_exporter": "python",
   "pygments_lexer": "ipython3",
   "version": "3.13.0"
  }
 },
 "nbformat": 4,
 "nbformat_minor": 5
}
