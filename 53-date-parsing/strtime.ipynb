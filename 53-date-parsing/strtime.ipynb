{
 "cells": [
  {
   "cell_type": "code",
   "execution_count": 2,
   "id": "c9e3f748-7e83-4997-9d87-56eafdc8202f",
   "metadata": {},
   "outputs": [
    {
     "name": "stdout",
     "output_type": "stream",
     "text": [
      "2024-10-23T00:44:47.684863\n"
     ]
    }
   ],
   "source": [
    "from datetime import datetime\n",
    "\n",
    "data_datetime = datetime.now()\n",
    "formatted_date = data_datetime.strftime('%Y-%m-%dT%H:%M:%S.%f%z')\n",
    "print(formatted_date)\n",
    "# Output ➜ 2023-12-19T17:05:33.000000"
   ]
  },
  {
   "cell_type": "code",
   "execution_count": null,
   "id": "f377154f-e17e-42ec-991a-bd4ff9e09e71",
   "metadata": {},
   "outputs": [],
   "source": []
  }
 ],
 "metadata": {
  "kernelspec": {
   "display_name": "Python 3 (ipykernel)",
   "language": "python",
   "name": "python3"
  },
  "language_info": {
   "codemirror_mode": {
    "name": "ipython",
    "version": 3
   },
   "file_extension": ".py",
   "mimetype": "text/x-python",
   "name": "python",
   "nbconvert_exporter": "python",
   "pygments_lexer": "ipython3",
   "version": "3.13.0"
  }
 },
 "nbformat": 4,
 "nbformat_minor": 5
}
