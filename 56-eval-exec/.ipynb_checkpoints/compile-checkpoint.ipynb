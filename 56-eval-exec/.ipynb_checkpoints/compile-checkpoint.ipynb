{
 "cells": [
  {
   "cell_type": "code",
   "execution_count": 1,
   "id": "b54a1f49-4fec-40b4-8943-65eb229f039f",
   "metadata": {},
   "outputs": [
    {
     "name": "stdout",
     "output_type": "stream",
     "text": [
      "Luas area dengan radius 12: 452.15999999999997 meter persegi\n"
     ]
    }
   ],
   "source": [
    "# Kompilasi ekspresi untuk menghitung area\n",
    "compiled = compile('3.14 * r * r', '<string>', 'eval')\n",
    "\n",
    "# Eksekusi dengan variabel r\n",
    "r = 12  # radius zona geospasial\n",
    "area = eval(compiled)\n",
    "print(f'Luas area dengan radius {r}: {area} meter persegi')"
   ]
  },
  {
   "cell_type": "code",
   "execution_count": null,
   "id": "d36c019d-2a0a-4bb7-9a3d-bbcd11d9b196",
   "metadata": {},
   "outputs": [],
   "source": []
  }
 ],
 "metadata": {
  "kernelspec": {
   "display_name": "Python 3 (ipykernel)",
   "language": "python",
   "name": "python3"
  },
  "language_info": {
   "codemirror_mode": {
    "name": "ipython",
    "version": 3
   },
   "file_extension": ".py",
   "mimetype": "text/x-python",
   "name": "python",
   "nbconvert_exporter": "python",
   "pygments_lexer": "ipython3",
   "version": "3.13.0"
  }
 },
 "nbformat": 4,
 "nbformat_minor": 5
}
