{
 "cells": [
  {
   "cell_type": "code",
   "execution_count": 1,
   "id": "ce4fdcdf-f024-47b1-b944-7bf3ec988e9a",
   "metadata": {},
   "outputs": [
    {
     "name": "stdout",
     "output_type": "stream",
     "text": [
      "Luas zonaA: 78.53981633974483 meter persegi\n",
      "Luas zonaB: 153.93804002589985 meter persegi\n",
      "Luas zonaC: 314.1592653589793 meter persegi\n"
     ]
    }
   ],
   "source": [
    "stmt = '''\n",
    "from math import pi\n",
    "\n",
    "def hitung_luas_area(radius):\n",
    "    return pi * radius * radius\n",
    "\n",
    "zona_data = {'zonaA': 5, 'zonaB': 7, 'zonaC': 10}\n",
    "for zona, r in zona_data.items():\n",
    "    luas = hitung_luas_area(r)\n",
    "    print(f'Luas {zona}: {luas} meter persegi')\n",
    "'''\n",
    "\n",
    "# Eksekusi pernyataan di atas menggunakan exec()\n",
    "exec(stmt)"
   ]
  },
  {
   "cell_type": "code",
   "execution_count": null,
   "id": "c28416c3-5fff-43a6-89aa-6b0deb3dcc83",
   "metadata": {},
   "outputs": [],
   "source": []
  }
 ],
 "metadata": {
  "kernelspec": {
   "display_name": "Python 3 (ipykernel)",
   "language": "python",
   "name": "python3"
  },
  "language_info": {
   "codemirror_mode": {
    "name": "ipython",
    "version": 3
   },
   "file_extension": ".py",
   "mimetype": "text/x-python",
   "name": "python",
   "nbconvert_exporter": "python",
   "pygments_lexer": "ipython3",
   "version": "3.13.0"
  }
 },
 "nbformat": 4,
 "nbformat_minor": 5
}
