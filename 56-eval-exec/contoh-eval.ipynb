{
 "cells": [
  {
   "cell_type": "code",
   "execution_count": 1,
   "id": "601fa7d0-05cd-40cd-b7c7-c18c5ff0cb0f",
   "metadata": {},
   "outputs": [
    {
     "name": "stdout",
     "output_type": "stream",
     "text": [
      "Luas zona1: 314.0 meter persegi\n",
      "Luas zona2: 706.5 meter persegi\n",
      "Luas zona3: 78.5 meter persegi\n"
     ]
    }
   ],
   "source": [
    "zona_data = {'zona1': 10, 'zona2': 15, 'zona3': 5}\n",
    "for zona, r in zona_data.items():\n",
    "    area = eval('3.14 * r * r')\n",
    "    print(f'Luas {zona}: {area} meter persegi')"
   ]
  },
  {
   "cell_type": "code",
   "execution_count": null,
   "id": "28098e9d-19d3-469c-a8b9-e86fc5d3aa9f",
   "metadata": {},
   "outputs": [],
   "source": []
  }
 ],
 "metadata": {
  "kernelspec": {
   "display_name": "Python 3 (ipykernel)",
   "language": "python",
   "name": "python3"
  },
  "language_info": {
   "codemirror_mode": {
    "name": "ipython",
    "version": 3
   },
   "file_extension": ".py",
   "mimetype": "text/x-python",
   "name": "python",
   "nbconvert_exporter": "python",
   "pygments_lexer": "ipython3",
   "version": "3.13.0"
  }
 },
 "nbformat": 4,
 "nbformat_minor": 5
}
