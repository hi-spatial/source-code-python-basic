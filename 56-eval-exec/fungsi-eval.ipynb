{
 "cells": [
  {
   "cell_type": "code",
   "execution_count": 1,
   "id": "2e7de51f-9214-4f7e-9da9-dad32540b030",
   "metadata": {},
   "outputs": [
    {
     "name": "stdout",
     "output_type": "stream",
     "text": [
      "Luas area (dalam meter persegi): 31400.0\n"
     ]
    }
   ],
   "source": [
    "# Variabel radius dari area lingkaran diambil dari data geospasial\n",
    "r = 100  # radius dalam meter\n",
    "\n",
    "# Hitung luas area menggunakan eval()\n",
    "area = eval('3.14 * r * r')\n",
    "print(f'Luas area (dalam meter persegi): {area}')"
   ]
  },
  {
   "cell_type": "code",
   "execution_count": null,
   "id": "c66e7008-079f-4e67-ab25-3c040f5b23a2",
   "metadata": {},
   "outputs": [],
   "source": []
  }
 ],
 "metadata": {
  "kernelspec": {
   "display_name": "Python 3 (ipykernel)",
   "language": "python",
   "name": "python3"
  },
  "language_info": {
   "codemirror_mode": {
    "name": "ipython",
    "version": 3
   },
   "file_extension": ".py",
   "mimetype": "text/x-python",
   "name": "python",
   "nbconvert_exporter": "python",
   "pygments_lexer": "ipython3",
   "version": "3.13.0"
  }
 },
 "nbformat": 4,
 "nbformat_minor": 5
}
