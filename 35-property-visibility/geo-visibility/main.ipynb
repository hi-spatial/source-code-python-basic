{
 "cells": [
  {
   "cell_type": "code",
   "execution_count": 1,
   "id": "bcb04fcb-338d-4b0c-9ab8-42a948bdaa61",
   "metadata": {},
   "outputs": [
    {
     "name": "stdout",
     "output_type": "stream",
     "text": [
      "Point 1: Lat -6.2, Lon 106.816666, Elevation 500 m\n",
      "Point 2: Lat -7.25, Lon 112.74, Elevation 350 m\n",
      "Region: Jawa\n",
      "Area: 123.45 km²\n"
     ]
    }
   ],
   "source": [
    "# Import kelas Point dan Region dari modul models\n",
    "from models.point import Point\n",
    "from models.region import Region\n",
    "\n",
    "# Membuat beberapa titik koordinat\n",
    "p1 = Point(-6.200000, 106.816666)  # Koordinat Jakarta\n",
    "p2 = Point(-7.250000, 112.740000)  # Koordinat Surabaya\n",
    "\n",
    "# Mengatur ketinggian untuk masing-masing titik\n",
    "p1.set_elevation(500)  # Ketinggian 500 meter\n",
    "p2.set_elevation(350)  # Ketinggian 350 meter\n",
    "\n",
    "# Menampilkan informasi titik koordinat\n",
    "print(f\"Point 1: Lat {p1.latitude}, Lon {p1.longitude}, Elevation {p1.get_elevation()} m\")\n",
    "print(f\"Point 2: Lat {p2.latitude}, Lon {p2.longitude}, Elevation {p2.get_elevation()} m\")\n",
    "\n",
    "# Membuat wilayah geospasial dengan dua titik sebagai batas wilayah\n",
    "region = Region(\"Jawa\", [p1, p2])\n",
    "\n",
    "# Menampilkan informasi wilayah termasuk luas yang dihitung\n",
    "region.info()"
   ]
  },
  {
   "cell_type": "code",
   "execution_count": null,
   "id": "ece0c6e9-f843-4f19-9c87-36195e0a1a15",
   "metadata": {},
   "outputs": [],
   "source": []
  }
 ],
 "metadata": {
  "kernelspec": {
   "display_name": "Python 3 (ipykernel)",
   "language": "python",
   "name": "python3"
  },
  "language_info": {
   "codemirror_mode": {
    "name": "ipython",
    "version": 3
   },
   "file_extension": ".py",
   "mimetype": "text/x-python",
   "name": "python",
   "nbconvert_exporter": "python",
   "pygments_lexer": "ipython3",
   "version": "3.13.0"
  }
 },
 "nbformat": 4,
 "nbformat_minor": 5
}
