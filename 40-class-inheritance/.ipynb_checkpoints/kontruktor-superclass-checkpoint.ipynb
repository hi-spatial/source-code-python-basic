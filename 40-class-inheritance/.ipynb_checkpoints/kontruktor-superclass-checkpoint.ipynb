{
 "cells": [
  {
   "cell_type": "code",
   "execution_count": 1,
   "id": "4984be5c-8730-4e10-a971-3d6b7a15114c",
   "metadata": {},
   "outputs": [
    {
     "name": "stdout",
     "output_type": "stream",
     "text": [
      "Menampilkan peta tematik dengan analisis geospasial.\n"
     ]
    }
   ],
   "source": [
    "class Map:\n",
    "    def display(self):\n",
    "        return \"Menampilkan peta umum.\"\n",
    "\n",
    "class ThematicMap(Map):\n",
    "    def display(self):\n",
    "        return \"Menampilkan peta tematik dengan analisis geospasial.\"\n",
    "\n",
    "tm = ThematicMap()\n",
    "print(tm.display())"
   ]
  },
  {
   "cell_type": "code",
   "execution_count": null,
   "id": "1530b3f6-6cbc-45de-8252-5e766c5c7273",
   "metadata": {},
   "outputs": [],
   "source": []
  }
 ],
 "metadata": {
  "kernelspec": {
   "display_name": "Python 3 (ipykernel)",
   "language": "python",
   "name": "python3"
  },
  "language_info": {
   "codemirror_mode": {
    "name": "ipython",
    "version": 3
   },
   "file_extension": ".py",
   "mimetype": "text/x-python",
   "name": "python",
   "nbconvert_exporter": "python",
   "pygments_lexer": "ipython3",
   "version": "3.13.0"
  }
 },
 "nbformat": 4,
 "nbformat_minor": 5
}
