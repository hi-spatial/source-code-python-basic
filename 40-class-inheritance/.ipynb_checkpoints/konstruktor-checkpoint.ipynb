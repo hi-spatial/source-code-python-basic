{
 "cells": [
  {
   "cell_type": "code",
   "execution_count": 1,
   "id": "1a030fcd-d10c-4dc6-8318-2cbcc7c1e484",
   "metadata": {},
   "outputs": [
    {
     "name": "stdout",
     "output_type": "stream",
     "text": [
      "Peta tematik menampilkan lapisan: ['Data tematik']\n"
     ]
    }
   ],
   "source": [
    "class Map:\n",
    "    def __init__(self):\n",
    "        self.name = \"Peta umum\"\n",
    "        self.layers = []\n",
    "\n",
    "class ThematicMap(Map):\n",
    "    def __init__(self):\n",
    "        super().__init__()\n",
    "        self.layers.append(\"Data tematik\")\n",
    "        self.name = \"Peta tematik\"\n",
    "\n",
    "tm = ThematicMap()\n",
    "print(tm.name, \"menampilkan lapisan:\", tm.layers)"
   ]
  },
  {
   "cell_type": "code",
   "execution_count": null,
   "id": "0de0dc55-3840-4754-b636-5098885bd192",
   "metadata": {},
   "outputs": [],
   "source": []
  }
 ],
 "metadata": {
  "kernelspec": {
   "display_name": "Python 3 (ipykernel)",
   "language": "python",
   "name": "python3"
  },
  "language_info": {
   "codemirror_mode": {
    "name": "ipython",
    "version": 3
   },
   "file_extension": ".py",
   "mimetype": "text/x-python",
   "name": "python",
   "nbconvert_exporter": "python",
   "pygments_lexer": "ipython3",
   "version": "3.13.0"
  }
 },
 "nbformat": 4,
 "nbformat_minor": 5
}
