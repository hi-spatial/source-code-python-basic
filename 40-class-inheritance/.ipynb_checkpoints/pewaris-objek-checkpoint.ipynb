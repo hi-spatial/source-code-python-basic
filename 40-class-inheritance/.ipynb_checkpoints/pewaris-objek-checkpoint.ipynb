{
 "cells": [
  {
   "cell_type": "code",
   "execution_count": 1,
   "id": "d7aa9dc2-3750-4772-91c7-b5bd1a321fa0",
   "metadata": {},
   "outputs": [
    {
     "name": "stdout",
     "output_type": "stream",
     "text": [
      "Peta satelit menampilkan lapisan: ['Citra satelit']\n"
     ]
    }
   ],
   "source": [
    "class Map:\n",
    "    def __init__(self):\n",
    "        self.name = \"Peta umum\"\n",
    "        self.layers = []\n",
    "\n",
    "class SatelliteMap(Map):\n",
    "    def __init__(self):\n",
    "        super().__init__()\n",
    "        self.name = \"Peta satelit\"\n",
    "        self.layers.append(\"Citra satelit\")\n",
    "\n",
    "satellite_map = SatelliteMap()\n",
    "print(satellite_map.name, \"menampilkan lapisan:\", satellite_map.layers)"
   ]
  },
  {
   "cell_type": "code",
   "execution_count": null,
   "id": "0ead0b3d-c177-4222-b4c8-0d73749dc55b",
   "metadata": {},
   "outputs": [],
   "source": []
  }
 ],
 "metadata": {
  "kernelspec": {
   "display_name": "Python 3 (ipykernel)",
   "language": "python",
   "name": "python3"
  },
  "language_info": {
   "codemirror_mode": {
    "name": "ipython",
    "version": 3
   },
   "file_extension": ".py",
   "mimetype": "text/x-python",
   "name": "python",
   "nbconvert_exporter": "python",
   "pygments_lexer": "ipython3",
   "version": "3.13.0"
  }
 },
 "nbformat": 4,
 "nbformat_minor": 5
}
