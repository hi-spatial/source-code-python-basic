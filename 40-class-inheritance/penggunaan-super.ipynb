{
 "cells": [
  {
   "cell_type": "code",
   "execution_count": 2,
   "id": "5407972c-b89f-44bd-8ea8-b8e0351a26b2",
   "metadata": {},
   "outputs": [
    {
     "name": "stdout",
     "output_type": "stream",
     "text": [
      "Nama peta: Peta umum\n",
      "Layer peta: []\n",
      "Nama peta: Peta satelit\n",
      "Layer peta: ['Citra satelit']\n"
     ]
    }
   ],
   "source": [
    "class Map:\n",
    "    def __init__(self):\n",
    "        self.name = \"Peta umum\"\n",
    "        self.layers = []\n",
    "\n",
    "class SatelliteMap(Map):\n",
    "    def __init__(self):\n",
    "        Map.__init__(self)\n",
    "        self.name = \"Peta satelit\"\n",
    "        self.layers.append(\"Citra satelit\")\n",
    "\n",
    "# Menggunakan class Map\n",
    "peta_umum = Map()\n",
    "print(f\"Nama peta: {peta_umum.name}\")\n",
    "print(f\"Layer peta: {peta_umum.layers}\")\n",
    "\n",
    "# Menggunakan class SatelliteMap\n",
    "peta_satelit = SatelliteMap()\n",
    "print(f\"Nama peta: {peta_satelit.name}\")\n",
    "print(f\"Layer peta: {peta_satelit.layers}\")\n"
   ]
  },
  {
   "cell_type": "code",
   "execution_count": null,
   "id": "17c8e377-a1d8-4977-b5ba-46f610e92773",
   "metadata": {},
   "outputs": [],
   "source": []
  }
 ],
 "metadata": {
  "kernelspec": {
   "display_name": "Python 3 (ipykernel)",
   "language": "python",
   "name": "python3"
  },
  "language_info": {
   "codemirror_mode": {
    "name": "ipython",
    "version": 3
   },
   "file_extension": ".py",
   "mimetype": "text/x-python",
   "name": "python",
   "nbconvert_exporter": "python",
   "pygments_lexer": "ipython3",
   "version": "3.13.0"
  }
 },
 "nbformat": 4,
 "nbformat_minor": 5
}
