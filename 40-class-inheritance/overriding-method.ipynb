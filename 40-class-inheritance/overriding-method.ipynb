{
 "cells": [
  {
   "cell_type": "code",
   "execution_count": 1,
   "id": "032a48b6-b9e3-47df-b6b2-2572751878f2",
   "metadata": {},
   "outputs": [
    {
     "name": "stdout",
     "output_type": "stream",
     "text": [
      "Peta tematik menampilkan lapisan: ['Data tematik', 'Citra satelit']\n"
     ]
    }
   ],
   "source": [
    "class Map:\n",
    "    def __init__(self, name=\"Peta umum\"):\n",
    "        self.name = name\n",
    "        self.layers = []\n",
    "\n",
    "class ThematicMap(Map):\n",
    "    def __init__(self):\n",
    "        super().__init__(\"Peta tematik\")\n",
    "        self.layers.append(\"Data tematik\")\n",
    "\n",
    "class SatelliteMap(ThematicMap):\n",
    "    def __init__(self):\n",
    "        super().__init__()\n",
    "        self.layers.append(\"Citra satelit\")\n",
    "\n",
    "sm = SatelliteMap()\n",
    "print(sm.name, \"menampilkan lapisan:\", sm.layers)"
   ]
  },
  {
   "cell_type": "code",
   "execution_count": null,
   "id": "14fdf8d4-dab7-4a30-86e0-778ffd98d417",
   "metadata": {},
   "outputs": [],
   "source": []
  }
 ],
 "metadata": {
  "kernelspec": {
   "display_name": "Python 3 (ipykernel)",
   "language": "python",
   "name": "python3"
  },
  "language_info": {
   "codemirror_mode": {
    "name": "ipython",
    "version": 3
   },
   "file_extension": ".py",
   "mimetype": "text/x-python",
   "name": "python",
   "nbconvert_exporter": "python",
   "pygments_lexer": "ipython3",
   "version": "3.13.0"
  }
 },
 "nbformat": 4,
 "nbformat_minor": 5
}
