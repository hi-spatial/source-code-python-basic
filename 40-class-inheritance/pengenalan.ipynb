{
 "cells": [
  {
   "cell_type": "code",
   "execution_count": 1,
   "id": "8086a336-805c-4238-8039-a337b476a5ef",
   "metadata": {},
   "outputs": [
    {
     "name": "stdout",
     "output_type": "stream",
     "text": [
      "m adalah turunan dari class Map\n",
      "m adalah turunan dari class object\n",
      "tm adalah turunan dari class ThematicMap\n",
      "tm adalah turunan dari class Map\n",
      "tm adalah turunan dari class object\n"
     ]
    }
   ],
   "source": [
    "class Map:\n",
    "    note = \"Class untuk merepresentasikan peta umum\"\n",
    "    \n",
    "    def __init__(self):\n",
    "        self.name = \"Peta umum\"\n",
    "        self.layers = []\n",
    "    \n",
    "    def display(self):\n",
    "        return \"Menampilkan peta dengan lapisan: \" + \", \".join(self.layers)\n",
    "\n",
    "class ThematicMap(Map):\n",
    "    def info(self):\n",
    "        print(f\"{self.name} menampilkan {len(self.layers)} lapisan.\")\n",
    "\n",
    "m = Map()\n",
    "if isinstance(m, Map):\n",
    "    print(\"m adalah turunan dari class Map\")\n",
    "if isinstance(m, object):\n",
    "    print(\"m adalah turunan dari class object\")\n",
    "\n",
    "tm = ThematicMap()\n",
    "if isinstance(tm, ThematicMap):\n",
    "    print(\"tm adalah turunan dari class ThematicMap\")\n",
    "if isinstance(tm, Map):\n",
    "    print(\"tm adalah turunan dari class Map\")\n",
    "if isinstance(tm, object):\n",
    "    print(\"tm adalah turunan dari class object\")"
   ]
  },
  {
   "cell_type": "code",
   "execution_count": null,
   "id": "5bde633c-81e0-49bc-be3d-b885e97ee418",
   "metadata": {},
   "outputs": [],
   "source": []
  }
 ],
 "metadata": {
  "kernelspec": {
   "display_name": "Python 3 (ipykernel)",
   "language": "python",
   "name": "python3"
  },
  "language_info": {
   "codemirror_mode": {
    "name": "ipython",
    "version": 3
   },
   "file_extension": ".py",
   "mimetype": "text/x-python",
   "name": "python",
   "nbconvert_exporter": "python",
   "pygments_lexer": "ipython3",
   "version": "3.13.0"
  }
 },
 "nbformat": 4,
 "nbformat_minor": 5
}
