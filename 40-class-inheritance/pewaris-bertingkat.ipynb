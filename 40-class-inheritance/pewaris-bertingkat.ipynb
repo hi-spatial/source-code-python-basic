{
 "cells": [
  {
   "cell_type": "code",
   "execution_count": 1,
   "id": "b6c6e9d7-e9c6-4edd-8332-c461b2579905",
   "metadata": {},
   "outputs": [
    {
     "name": "stdout",
     "output_type": "stream",
     "text": [
      "Peta satelit dengan tipe mesin: Mesin pengolahan citra satelit dan lapisan: ['Citra satelit']\n"
     ]
    }
   ],
   "source": [
    "class Map:\n",
    "    def __init__(self, name=\"Peta umum\"):\n",
    "        self.name = name\n",
    "        self.layers = []\n",
    "\n",
    "class Engine:\n",
    "    def __init__(self, engine_type):\n",
    "        self.engine_type = engine_type\n",
    "\n",
    "class SatelliteMap(Map, Engine):\n",
    "    def __init__(self):\n",
    "        Map.__init__(self, \"Peta satelit\")\n",
    "        Engine.__init__(self, \"Mesin pengolahan citra satelit\")\n",
    "        self.layers.append(\"Citra satelit\")\n",
    "\n",
    "sat_map = SatelliteMap()\n",
    "print(sat_map.name, \"dengan tipe mesin:\", sat_map.engine_type, \"dan lapisan:\", sat_map.layers)"
   ]
  },
  {
   "cell_type": "code",
   "execution_count": null,
   "id": "a819c155-c55d-4895-a48c-5114b62d815b",
   "metadata": {},
   "outputs": [],
   "source": []
  }
 ],
 "metadata": {
  "kernelspec": {
   "display_name": "Python 3 (ipykernel)",
   "language": "python",
   "name": "python3"
  },
  "language_info": {
   "codemirror_mode": {
    "name": "ipython",
    "version": 3
   },
   "file_extension": ".py",
   "mimetype": "text/x-python",
   "name": "python",
   "nbconvert_exporter": "python",
   "pygments_lexer": "ipython3",
   "version": "3.13.0"
  }
 },
 "nbformat": 4,
 "nbformat_minor": 5
}
