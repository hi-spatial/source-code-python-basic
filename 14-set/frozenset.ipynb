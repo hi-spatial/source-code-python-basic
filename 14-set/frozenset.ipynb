{
 "cells": [
  {
   "cell_type": "code",
   "execution_count": 1,
   "id": "0509c30a-81b2-47aa-b9ec-b50abdb271a8",
   "metadata": {},
   "outputs": [
    {
     "name": "stdout",
     "output_type": "stream",
     "text": [
      "frozenset({'rural', 'suburban', 'urban'})\n"
     ]
    }
   ],
   "source": [
    "frozen_zones = frozenset(['urban', 'rural', 'suburban'])\n",
    "print(frozen_zones)"
   ]
  },
  {
   "cell_type": "code",
   "execution_count": null,
   "id": "4d85fcc7-5bc3-4016-9f29-21acde81cbc9",
   "metadata": {},
   "outputs": [],
   "source": []
  }
 ],
 "metadata": {
  "kernelspec": {
   "display_name": "Python 3 (ipykernel)",
   "language": "python",
   "name": "python3"
  },
  "language_info": {
   "codemirror_mode": {
    "name": "ipython",
    "version": 3
   },
   "file_extension": ".py",
   "mimetype": "text/x-python",
   "name": "python",
   "nbconvert_exporter": "python",
   "pygments_lexer": "ipython3",
   "version": "3.13.0"
  }
 },
 "nbformat": 4,
 "nbformat_minor": 5
}
