{
 "cells": [
  {
   "cell_type": "code",
   "execution_count": 1,
   "id": "4b413a35-77fd-472b-b6b1-d6895199eab0",
   "metadata": {},
   "outputs": [
    {
     "name": "stdout",
     "output_type": "stream",
     "text": [
      "data: {'abc', 1, ('banana', 'spaghetti'), False}\n"
     ]
    }
   ],
   "source": [
    "data_1 = {1, 'abc', False, ('banana', 'spaghetti')}\n",
    "print(\"data:\", data_1)"
   ]
  },
  {
   "cell_type": "code",
   "execution_count": 2,
   "id": "12c88c59-3dbc-4f01-891a-123027f732af",
   "metadata": {},
   "outputs": [
    {
     "name": "stdout",
     "output_type": "stream",
     "text": [
      "{'rural', 'suburban', 'urban'}\n"
     ]
    }
   ],
   "source": [
    "zones = {'urban', 'rural', 'suburban'}\n",
    "print(zones)"
   ]
  },
  {
   "cell_type": "code",
   "execution_count": null,
   "id": "a10ef6b4-5b0e-4bd7-abb9-090b0d00838c",
   "metadata": {},
   "outputs": [],
   "source": []
  }
 ],
 "metadata": {
  "kernelspec": {
   "display_name": "Python 3 (ipykernel)",
   "language": "python",
   "name": "python3"
  },
  "language_info": {
   "codemirror_mode": {
    "name": "ipython",
    "version": 3
   },
   "file_extension": ".py",
   "mimetype": "text/x-python",
   "name": "python",
   "nbconvert_exporter": "python",
   "pygments_lexer": "ipython3",
   "version": "3.13.0"
  }
 },
 "nbformat": 4,
 "nbformat_minor": 5
}
