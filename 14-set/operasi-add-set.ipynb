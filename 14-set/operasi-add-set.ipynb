{
 "cells": [
  {
   "cell_type": "code",
   "execution_count": 1,
   "id": "2b50fd64-4b3a-4979-a12c-5530f6e997ad",
   "metadata": {},
   "outputs": [
    {
     "name": "stdout",
     "output_type": "stream",
     "text": [
      "{'suburban', 'rural', 'urban'}\n"
     ]
    }
   ],
   "source": [
    "zones = {'urban', 'rural'}\n",
    "zones.add('suburban')\n",
    "print(zones)"
   ]
  },
  {
   "cell_type": "code",
   "execution_count": null,
   "id": "9f0ebc10-7c6c-4586-a239-788d1e1797dc",
   "metadata": {},
   "outputs": [],
   "source": []
  }
 ],
 "metadata": {
  "kernelspec": {
   "display_name": "Python 3 (ipykernel)",
   "language": "python",
   "name": "python3"
  },
  "language_info": {
   "codemirror_mode": {
    "name": "ipython",
    "version": 3
   },
   "file_extension": ".py",
   "mimetype": "text/x-python",
   "name": "python",
   "nbconvert_exporter": "python",
   "pygments_lexer": "ipython3",
   "version": "3.13.0"
  }
 },
 "nbformat": 4,
 "nbformat_minor": 5
}
