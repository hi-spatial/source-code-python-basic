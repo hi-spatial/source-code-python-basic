{
 "cells": [
  {
   "cell_type": "code",
   "execution_count": 1,
   "id": "63e2f10e-bef0-40a1-b98f-30150dbda730",
   "metadata": {},
   "outputs": [
    {
     "name": "stdout",
     "output_type": "stream",
     "text": [
      "{'a', 'd', 'b', 'c', 'e'}\n"
     ]
    }
   ],
   "source": [
    "alphabets = set('abcde')\n",
    "print(alphabets)"
   ]
  },
  {
   "cell_type": "code",
   "execution_count": 2,
   "id": "5cd39999-4779-4973-977c-92b288a11682",
   "metadata": {},
   "outputs": [
    {
     "name": "stdout",
     "output_type": "stream",
     "text": [
      "{'rural', 'urban'}\n"
     ]
    }
   ],
   "source": [
    "zones_list = ['urban', 'rural', 'urban']\n",
    "unique_zones = set(zones_list)\n",
    "print(unique_zones)"
   ]
  },
  {
   "cell_type": "code",
   "execution_count": null,
   "id": "2c9862e5-17b5-4136-94c8-736b4d1547b5",
   "metadata": {},
   "outputs": [],
   "source": []
  }
 ],
 "metadata": {
  "kernelspec": {
   "display_name": "Python 3 (ipykernel)",
   "language": "python",
   "name": "python3"
  },
  "language_info": {
   "codemirror_mode": {
    "name": "ipython",
    "version": 3
   },
   "file_extension": ".py",
   "mimetype": "text/x-python",
   "name": "python",
   "nbconvert_exporter": "python",
   "pygments_lexer": "ipython3",
   "version": "3.13.0"
  }
 },
 "nbformat": 4,
 "nbformat_minor": 5
}
