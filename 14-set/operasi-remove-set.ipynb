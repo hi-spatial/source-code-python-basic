{
 "cells": [
  {
   "cell_type": "code",
   "execution_count": 1,
   "id": "bd640e1c-d93d-4bc7-a70e-c7f4fd1569d3",
   "metadata": {},
   "outputs": [
    {
     "name": "stdout",
     "output_type": "stream",
     "text": [
      "{'rural'}\n"
     ]
    }
   ],
   "source": [
    "zones = {'urban', 'rural'}\n",
    "zones.remove('urban')\n",
    "print(zones)"
   ]
  },
  {
   "cell_type": "code",
   "execution_count": null,
   "id": "70b96c3d-a39d-405a-979d-21a2a0d3697c",
   "metadata": {},
   "outputs": [],
   "source": []
  }
 ],
 "metadata": {
  "kernelspec": {
   "display_name": "Python 3 (ipykernel)",
   "language": "python",
   "name": "python3"
  },
  "language_info": {
   "codemirror_mode": {
    "name": "ipython",
    "version": 3
   },
   "file_extension": ".py",
   "mimetype": "text/x-python",
   "name": "python",
   "nbconvert_exporter": "python",
   "pygments_lexer": "ipython3",
   "version": "3.13.0"
  }
 },
 "nbformat": 4,
 "nbformat_minor": 5
}
