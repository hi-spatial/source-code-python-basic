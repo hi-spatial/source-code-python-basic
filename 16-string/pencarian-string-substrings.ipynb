{
 "cells": [
  {
   "cell_type": "code",
   "execution_count": 1,
   "id": "362ed413-1557-4a39-b8f7-32957de06e89",
   "metadata": {},
   "outputs": [
    {
     "name": "stdout",
     "output_type": "stream",
     "text": [
      "True\n"
     ]
    }
   ],
   "source": [
    "text = \"Koordinat: 6°54' S, 107°36' E\"\n",
    "print(\"6°54' S\" in text)\n",
    "# output ➜ True"
   ]
  },
  {
   "cell_type": "code",
   "execution_count": null,
   "id": "4d4fb911-9b85-4a2e-9579-6cfb0410e866",
   "metadata": {},
   "outputs": [],
   "source": []
  }
 ],
 "metadata": {
  "kernelspec": {
   "display_name": "Python 3 (ipykernel)",
   "language": "python",
   "name": "python3"
  },
  "language_info": {
   "codemirror_mode": {
    "name": "ipython",
    "version": 3
   },
   "file_extension": ".py",
   "mimetype": "text/x-python",
   "name": "python",
   "nbconvert_exporter": "python",
   "pygments_lexer": "ipython3",
   "version": "3.13.0"
  }
 },
 "nbformat": 4,
 "nbformat_minor": 5
}
