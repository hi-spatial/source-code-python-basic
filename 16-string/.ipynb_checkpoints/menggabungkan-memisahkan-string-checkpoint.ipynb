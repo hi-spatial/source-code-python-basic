{
 "cells": [
  {
   "cell_type": "code",
   "execution_count": 1,
   "id": "2913ada1-f83f-4148-9c8e-f0db38bef2c9",
   "metadata": {},
   "outputs": [
    {
     "name": "stdout",
     "output_type": "stream",
     "text": [
      "Bandung - Koordinat: 6°54' S, 107°36' E\n"
     ]
    }
   ],
   "source": [
    "lokasi = \"Bandung\"\n",
    "koordinat = \"6°54' S, 107°36' E\"\n",
    "info_lokasi = lokasi + \" - Koordinat: \" + koordinat\n",
    "print(info_lokasi)\n",
    "# output ➜ Bandung - Koordinat: 6°54' S, 107°36' E"
   ]
  },
  {
   "cell_type": "code",
   "execution_count": 2,
   "id": "e93cffdb-7985-4151-b505-7c9e0b750fde",
   "metadata": {},
   "outputs": [
    {
     "name": "stdout",
     "output_type": "stream",
     "text": [
      "['Bandung', \"6°54' S\", \"107°36' E\"]\n"
     ]
    }
   ],
   "source": [
    "data = \"Bandung, 6°54' S, 107°36' E\"\n",
    "data_split = data.split(\", \")\n",
    "print(data_split)\n",
    "# output ➜ ['Bandung', '6°54' S', '107°36' E']"
   ]
  },
  {
   "cell_type": "code",
   "execution_count": null,
   "id": "877e5218-ac7a-47ab-9602-d02728bb96a0",
   "metadata": {},
   "outputs": [],
   "source": []
  }
 ],
 "metadata": {
  "kernelspec": {
   "display_name": "Python 3 (ipykernel)",
   "language": "python",
   "name": "python3"
  },
  "language_info": {
   "codemirror_mode": {
    "name": "ipython",
    "version": 3
   },
   "file_extension": ".py",
   "mimetype": "text/x-python",
   "name": "python",
   "nbconvert_exporter": "python",
   "pygments_lexer": "ipython3",
   "version": "3.13.0"
  }
 },
 "nbformat": 4,
 "nbformat_minor": 5
}
