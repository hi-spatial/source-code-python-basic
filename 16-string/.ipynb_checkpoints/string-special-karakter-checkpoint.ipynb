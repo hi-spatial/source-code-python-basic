{
 "cells": [
  {
   "cell_type": "code",
   "execution_count": 1,
   "id": "140de72d-fb29-4b75-b03d-ab601b8b8e9f",
   "metadata": {},
   "outputs": [
    {
     "name": "stdout",
     "output_type": "stream",
     "text": [
      "Koordinat Titik: 6°54' S, 107°36' E\n",
      "Wilayah: Kota Bandung\n"
     ]
    }
   ],
   "source": [
    "koordinat = \"Koordinat Titik: 6°54' S, 107°36' E\\nWilayah: Kota Bandung\"\n",
    "print(koordinat)\n",
    "# output ➜ Koordinat Titik: 6°54' S, 107°36' E\n",
    "#          Wilayah: Kota Bandung"
   ]
  },
  {
   "cell_type": "code",
   "execution_count": null,
   "id": "10113834-acd5-491e-a253-697be4d0321f",
   "metadata": {},
   "outputs": [],
   "source": []
  }
 ],
 "metadata": {
  "kernelspec": {
   "display_name": "Python 3 (ipykernel)",
   "language": "python",
   "name": "python3"
  },
  "language_info": {
   "codemirror_mode": {
    "name": "ipython",
    "version": 3
   },
   "file_extension": ".py",
   "mimetype": "text/x-python",
   "name": "python",
   "nbconvert_exporter": "python",
   "pygments_lexer": "ipython3",
   "version": "3.13.0"
  }
 },
 "nbformat": 4,
 "nbformat_minor": 5
}
