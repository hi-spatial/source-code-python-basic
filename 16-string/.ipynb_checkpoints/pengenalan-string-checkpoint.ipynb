{
 "cells": [
  {
   "cell_type": "code",
   "execution_count": 1,
   "id": "77c7ba41-7fa6-487b-8706-16bd5d584a7a",
   "metadata": {},
   "outputs": [
    {
     "name": "stdout",
     "output_type": "stream",
     "text": [
      "Koordinat Kota Bandung\n"
     ]
    }
   ],
   "source": [
    "lokasi = \"Koordinat Kota Bandung\"\n",
    "print(lokasi)\n",
    "# output ➜ Koordinat Kota Bandung"
   ]
  },
  {
   "cell_type": "code",
   "execution_count": null,
   "id": "367afba4-7ccf-4acc-94d6-fa13a0238b8c",
   "metadata": {},
   "outputs": [],
   "source": []
  }
 ],
 "metadata": {
  "kernelspec": {
   "display_name": "Python 3 (ipykernel)",
   "language": "python",
   "name": "python3"
  },
  "language_info": {
   "codemirror_mode": {
    "name": "ipython",
    "version": 3
   },
   "file_extension": ".py",
   "mimetype": "text/x-python",
   "name": "python",
   "nbconvert_exporter": "python",
   "pygments_lexer": "ipython3",
   "version": "3.13.0"
  }
 },
 "nbformat": 4,
 "nbformat_minor": 5
}
