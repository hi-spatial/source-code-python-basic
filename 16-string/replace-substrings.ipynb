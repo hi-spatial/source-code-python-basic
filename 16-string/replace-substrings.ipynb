{
 "cells": [
  {
   "cell_type": "code",
   "execution_count": 1,
   "id": "4e7ed4b4-67b5-4905-a778-b581fc2510b1",
   "metadata": {},
   "outputs": [
    {
     "name": "stdout",
     "output_type": "stream",
     "text": [
      "Jakarta, 6°54' S, 107°36' E\n"
     ]
    }
   ],
   "source": [
    "info_lokasi = \"Bandung, 6°54' S, 107°36' E\"\n",
    "info_baru = info_lokasi.replace(\"Bandung\", \"Jakarta\")\n",
    "print(info_baru)\n",
    "# output ➜ Jakarta, 6°54' S, 107°36' E"
   ]
  },
  {
   "cell_type": "code",
   "execution_count": null,
   "id": "0c78ddea-a879-48f3-ad48-1b2878cf2e8f",
   "metadata": {},
   "outputs": [],
   "source": []
  }
 ],
 "metadata": {
  "kernelspec": {
   "display_name": "Python 3 (ipykernel)",
   "language": "python",
   "name": "python3"
  },
  "language_info": {
   "codemirror_mode": {
    "name": "ipython",
    "version": 3
   },
   "file_extension": ".py",
   "mimetype": "text/x-python",
   "name": "python",
   "nbconvert_exporter": "python",
   "pygments_lexer": "ipython3",
   "version": "3.13.0"
  }
 },
 "nbformat": 4,
 "nbformat_minor": 5
}
