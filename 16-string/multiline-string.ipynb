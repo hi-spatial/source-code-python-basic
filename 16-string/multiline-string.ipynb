{
 "cells": [
  {
   "cell_type": "code",
   "execution_count": 1,
   "id": "6c9490fb-a910-472d-b413-748b92f12455",
   "metadata": {},
   "outputs": [
    {
     "name": "stdout",
     "output_type": "stream",
     "text": [
      "Area ini terletak di selatan kota, dengan luas wilayah 100 km2.\n",
      "Wilayah ini mencakup hutan, sungai, dan kawasan pemukiman.\n"
     ]
    }
   ],
   "source": [
    "deskripsi = '''Area ini terletak di selatan kota, dengan luas wilayah 100 km2.\n",
    "Wilayah ini mencakup hutan, sungai, dan kawasan pemukiman.'''\n",
    "print(deskripsi)"
   ]
  },
  {
   "cell_type": "code",
   "execution_count": null,
   "id": "37a1b110-5d37-4060-b62d-655f03bb6718",
   "metadata": {},
   "outputs": [],
   "source": []
  }
 ],
 "metadata": {
  "kernelspec": {
   "display_name": "Python 3 (ipykernel)",
   "language": "python",
   "name": "python3"
  },
  "language_info": {
   "codemirror_mode": {
    "name": "ipython",
    "version": 3
   },
   "file_extension": ".py",
   "mimetype": "text/x-python",
   "name": "python",
   "nbconvert_exporter": "python",
   "pygments_lexer": "ipython3",
   "version": "3.13.0"
  }
 },
 "nbformat": 4,
 "nbformat_minor": 5
}
