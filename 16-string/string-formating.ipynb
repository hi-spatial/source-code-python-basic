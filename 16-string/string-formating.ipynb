{
 "cells": [
  {
   "cell_type": "code",
   "execution_count": 1,
   "id": "a154c6e3-0674-4ab1-9d81-283900463b1d",
   "metadata": {},
   "outputs": [
    {
     "name": "stdout",
     "output_type": "stream",
     "text": [
      "Lokasi: -6.9175° LS, 107.6191° BT\n"
     ]
    }
   ],
   "source": [
    "latitude = -6.9175\n",
    "longitude = 107.6191\n",
    "text = f\"Lokasi: {latitude}° LS, {longitude}° BT\"\n",
    "print(text)\n",
    "# output ➜ Lokasi: -6.9175° LS, 107.6191° BT"
   ]
  },
  {
   "cell_type": "code",
   "execution_count": null,
   "id": "766631d6-3afc-469e-864e-bf774576fdb5",
   "metadata": {},
   "outputs": [],
   "source": []
  }
 ],
 "metadata": {
  "kernelspec": {
   "display_name": "Python 3 (ipykernel)",
   "language": "python",
   "name": "python3"
  },
  "language_info": {
   "codemirror_mode": {
    "name": "ipython",
    "version": 3
   },
   "file_extension": ".py",
   "mimetype": "text/x-python",
   "name": "python",
   "nbconvert_exporter": "python",
   "pygments_lexer": "ipython3",
   "version": "3.13.0"
  }
 },
 "nbformat": 4,
 "nbformat_minor": 5
}
