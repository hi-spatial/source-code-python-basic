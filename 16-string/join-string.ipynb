{
 "cells": [
  {
   "cell_type": "code",
   "execution_count": 1,
   "id": "0af386a0-9205-4686-94ef-b02217d8eb8b",
   "metadata": {},
   "outputs": [
    {
     "name": "stdout",
     "output_type": "stream",
     "text": [
      "Bandung, 6°54' S, 107°36' E\n"
     ]
    }
   ],
   "source": [
    "data = [\"Bandung\", \"6°54' S\", \"107°36' E\"]\n",
    "info_lokasi = \", \".join(data)\n",
    "print(info_lokasi)\n",
    "# output ➜ Bandung, 6°54' S, 107°36' E"
   ]
  },
  {
   "cell_type": "code",
   "execution_count": null,
   "id": "c01e6627-4b44-4b36-ad4c-99add2a20d50",
   "metadata": {},
   "outputs": [],
   "source": []
  }
 ],
 "metadata": {
  "kernelspec": {
   "display_name": "Python 3 (ipykernel)",
   "language": "python",
   "name": "python3"
  },
  "language_info": {
   "codemirror_mode": {
    "name": "ipython",
    "version": 3
   },
   "file_extension": ".py",
   "mimetype": "text/x-python",
   "name": "python",
   "nbconvert_exporter": "python",
   "pygments_lexer": "ipython3",
   "version": "3.13.0"
  }
 },
 "nbformat": 4,
 "nbformat_minor": 5
}
