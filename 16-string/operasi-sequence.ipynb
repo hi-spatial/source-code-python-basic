{
 "cells": [
  {
   "cell_type": "code",
   "execution_count": 3,
   "id": "ce8e38d3-9197-4322-9e4d-b1aa078ebeee",
   "metadata": {},
   "outputs": [
    {
     "name": "stdout",
     "output_type": "stream",
     "text": [
      "6\n",
      "4\n"
     ]
    }
   ],
   "source": [
    "koordinat = \"6°54' S, 107°36' E\"\n",
    "print(koordinat[0])\n",
    "# output ➜ 6\n",
    "print(koordinat[3])\n",
    "# output ➜ 4"
   ]
  },
  {
   "cell_type": "code",
   "execution_count": null,
   "id": "41f31090-d184-4451-883f-ac4770384f29",
   "metadata": {},
   "outputs": [],
   "source": []
  }
 ],
 "metadata": {
  "kernelspec": {
   "display_name": "Python 3 (ipykernel)",
   "language": "python",
   "name": "python3"
  },
  "language_info": {
   "codemirror_mode": {
    "name": "ipython",
    "version": 3
   },
   "file_extension": ".py",
   "mimetype": "text/x-python",
   "name": "python",
   "nbconvert_exporter": "python",
   "pygments_lexer": "ipython3",
   "version": "3.13.0"
  }
 },
 "nbformat": 4,
 "nbformat_minor": 5
}
