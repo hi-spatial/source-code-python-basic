{
 "cells": [
  {
   "cell_type": "code",
   "execution_count": 1,
   "id": "e551fb82-c003-482b-a284-ef30e3a773d8",
   "metadata": {},
   "outputs": [],
   "source": [
    "from abc import ABC, abstractmethod\n",
    "\n",
    "class GeospatialData(ABC):\n",
    "    @abstractmethod\n",
    "    def calculate_area(self):\n",
    "        pass\n",
    "\n",
    "class Polygon(GeospatialData):\n",
    "    def __init__(self, base, height):\n",
    "        self.base = base\n",
    "        self.height = height\n",
    "\n",
    "    def calculate_area(self):\n",
    "        return 0.5 * self.base * self.height\n",
    "\n",
    "class Circle(GeospatialData):\n",
    "    def __init__(self, radius):\n",
    "        self.radius = radius\n",
    "\n",
    "    def calculate_area(self):\n",
    "        return 3.14 * self.radius * self.radius\n",
    "\n",
    "class Square(GeospatialData):\n",
    "    def __init__(self, side):\n",
    "        self.side = side\n",
    "\n",
    "    def calculate_area(self):\n",
    "        return self.side * self.side"
   ]
  },
  {
   "cell_type": "code",
   "execution_count": 2,
   "id": "fc18a3a9-ccaf-43f5-b720-1a2223f3b0c1",
   "metadata": {},
   "outputs": [
    {
     "name": "stdout",
     "output_type": "stream",
     "text": [
      "Luas Poligon: 20.0\n",
      "Luas Lingkaran: 1256.0\n",
      "Luas Persegi: 36\n"
     ]
    }
   ],
   "source": [
    "polygon = Polygon(4, 10)\n",
    "area_polygon = polygon.calculate_area()\n",
    "print(f\"Luas Poligon: {area_polygon}\")\n",
    "\n",
    "circle = Circle(20)\n",
    "area_circle = circle.calculate_area()\n",
    "print(f\"Luas Lingkaran: {area_circle}\")\n",
    "\n",
    "square = Square(6)\n",
    "area_square = square.calculate_area()\n",
    "print(f\"Luas Persegi: {area_square}\")"
   ]
  },
  {
   "cell_type": "code",
   "execution_count": null,
   "id": "8a16bc1c-218c-4b56-bb16-6556cdbc2ce1",
   "metadata": {},
   "outputs": [],
   "source": []
  }
 ],
 "metadata": {
  "kernelspec": {
   "display_name": "Python 3 (ipykernel)",
   "language": "python",
   "name": "python3"
  },
  "language_info": {
   "codemirror_mode": {
    "name": "ipython",
    "version": 3
   },
   "file_extension": ".py",
   "mimetype": "text/x-python",
   "name": "python",
   "nbconvert_exporter": "python",
   "pygments_lexer": "ipython3",
   "version": "3.13.0"
  }
 },
 "nbformat": 4,
 "nbformat_minor": 5
}
