{
 "cells": [
  {
   "cell_type": "code",
   "execution_count": 3,
   "id": "3695e000-01c6-4918-ad0e-12ed7e070011",
   "metadata": {},
   "outputs": [
    {
     "name": "stdout",
     "output_type": "stream",
     "text": [
      "[('Koordinat A', (1.23, 4.56), True), ('Koordinat B', (7.89, 10.11), False)]\n"
     ]
    }
   ],
   "source": [
    "data = [\n",
    "    (\"Koordinat A\", (1.23, 4.56), True),\n",
    "    (\"Koordinat B\", (7.89, 10.11), False)\n",
    "]\n",
    "print(data)"
   ]
  },
  {
   "cell_type": "code",
   "execution_count": null,
   "id": "fb1c894d-4d00-40f2-8e66-382266c4645a",
   "metadata": {},
   "outputs": [],
   "source": []
  }
 ],
 "metadata": {
  "kernelspec": {
   "display_name": "Python 3 (ipykernel)",
   "language": "python",
   "name": "python3"
  },
  "language_info": {
   "codemirror_mode": {
    "name": "ipython",
    "version": 3
   },
   "file_extension": ".py",
   "mimetype": "text/x-python",
   "name": "python",
   "nbconvert_exporter": "python",
   "pygments_lexer": "ipython3",
   "version": "3.13.0"
  }
 },
 "nbformat": 4,
 "nbformat_minor": 5
}
