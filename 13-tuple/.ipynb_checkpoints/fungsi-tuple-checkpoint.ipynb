{
 "cells": [
  {
   "cell_type": "code",
   "execution_count": 1,
   "id": "d39b6bbe-af97-45ed-92ca-ac24ac95fdd1",
   "metadata": {},
   "outputs": [
    {
     "name": "stdout",
     "output_type": "stream",
     "text": [
      "('a', 'b', 'c', 'd', 'e', 'f', 'g', 'h')\n",
      "(2, 3, 4, 5)\n"
     ]
    }
   ],
   "source": [
    "alphabets = tuple('abcdefgh')\n",
    "print(alphabets)\n",
    "\n",
    "numbers = tuple([2, 3, 4, 5])\n",
    "print(numbers)"
   ]
  },
  {
   "cell_type": "code",
   "execution_count": null,
   "id": "eeb9c6b5-5d6a-4c5e-a6bf-9c5aa28cafea",
   "metadata": {},
   "outputs": [],
   "source": []
  }
 ],
 "metadata": {
  "kernelspec": {
   "display_name": "Python 3 (ipykernel)",
   "language": "python",
   "name": "python3"
  },
  "language_info": {
   "codemirror_mode": {
    "name": "ipython",
    "version": 3
   },
   "file_extension": ".py",
   "mimetype": "text/x-python",
   "name": "python",
   "nbconvert_exporter": "python",
   "pygments_lexer": "ipython3",
   "version": "3.13.0"
  }
 },
 "nbformat": 4,
 "nbformat_minor": 5
}
