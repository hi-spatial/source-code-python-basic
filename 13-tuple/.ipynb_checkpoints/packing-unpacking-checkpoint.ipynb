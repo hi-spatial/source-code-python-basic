{
 "cells": [
  {
   "cell_type": "code",
   "execution_count": 1,
   "id": "929b037b-d6ea-46a8-8f0d-7eb3a96cc0d8",
   "metadata": {},
   "outputs": [
    {
     "name": "stdout",
     "output_type": "stream",
     "text": [
      "('Koordinat C', (5.67, 8.9), True)\n"
     ]
    }
   ],
   "source": [
    "# packing\n",
    "data = \"Koordinat C\", (5.67, 8.90), True\n",
    "print(data)"
   ]
  },
  {
   "cell_type": "code",
   "execution_count": 2,
   "id": "5c56ebc6-9baa-45b6-8d01-5765886395f9",
   "metadata": {},
   "outputs": [
    {
     "name": "stdout",
     "output_type": "stream",
     "text": [
      "Koordinat C (5.67, 8.9) True\n"
     ]
    }
   ],
   "source": [
    "# unpacking\n",
    "name, coord, status = data\n",
    "print(name, coord, status)"
   ]
  },
  {
   "cell_type": "code",
   "execution_count": null,
   "id": "2941d983-3eca-4fc9-8778-c5a42ad2b6c4",
   "metadata": {},
   "outputs": [],
   "source": []
  }
 ],
 "metadata": {
  "kernelspec": {
   "display_name": "Python 3 (ipykernel)",
   "language": "python",
   "name": "python3"
  },
  "language_info": {
   "codemirror_mode": {
    "name": "ipython",
    "version": 3
   },
   "file_extension": ".py",
   "mimetype": "text/x-python",
   "name": "python",
   "nbconvert_exporter": "python",
   "pygments_lexer": "ipython3",
   "version": "3.13.0"
  }
 },
 "nbformat": 4,
 "nbformat_minor": 5
}
