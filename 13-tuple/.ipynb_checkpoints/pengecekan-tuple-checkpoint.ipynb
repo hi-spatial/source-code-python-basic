{
 "cells": [
  {
   "cell_type": "code",
   "execution_count": 1,
   "id": "8b39a437-6994-482b-965e-f4262377a279",
   "metadata": {},
   "outputs": [
    {
     "name": "stdout",
     "output_type": "stream",
     "text": [
      "70 is exists\n"
     ]
    }
   ],
   "source": [
    "tuple_1 = (10, 70, 20)\n",
    "if 70 in tuple_1:\n",
    "    print(\"70 is exists\")"
   ]
  },
  {
   "cell_type": "code",
   "execution_count": null,
   "id": "12d41fe2-b129-4644-b48f-7c21c5dedf75",
   "metadata": {},
   "outputs": [],
   "source": []
  }
 ],
 "metadata": {
  "kernelspec": {
   "display_name": "Python 3 (ipykernel)",
   "language": "python",
   "name": "python3"
  },
  "language_info": {
   "codemirror_mode": {
    "name": "ipython",
    "version": 3
   },
   "file_extension": ".py",
   "mimetype": "text/x-python",
   "name": "python",
   "nbconvert_exporter": "python",
   "pygments_lexer": "ipython3",
   "version": "3.13.0"
  }
 },
 "nbformat": 4,
 "nbformat_minor": 5
}
