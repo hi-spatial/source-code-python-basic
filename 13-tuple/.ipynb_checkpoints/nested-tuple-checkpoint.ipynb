{
 "cells": [
  {
   "cell_type": "code",
   "execution_count": 1,
   "id": "2baf402d-5dd7-4356-9faa-bac2eef16e84",
   "metadata": {},
   "outputs": [
    {
     "name": "stdout",
     "output_type": "stream",
     "text": [
      "(0, 2)\n",
      "(1, 3)\n",
      "(2, 4)\n"
     ]
    }
   ],
   "source": [
    "nested_tuple = ((0, 2), (1, 3), (2, 4))\n",
    "for row in nested_tuple:\n",
    "    print(row)"
   ]
  },
  {
   "cell_type": "code",
   "execution_count": 2,
   "id": "91b523c4-0de2-4e91-b531-921557cebd41",
   "metadata": {},
   "outputs": [
    {
     "name": "stdout",
     "output_type": "stream",
     "text": [
      "(1, 0, 1)\n",
      "(0, 1, 0)\n",
      "(1, 1, 0)\n"
     ]
    }
   ],
   "source": [
    "grid = (\n",
    "    (1, 0, 1),\n",
    "    (0, 1, 0),\n",
    "    (1, 1, 0)\n",
    ")\n",
    "for row in grid:\n",
    "    print(row)"
   ]
  },
  {
   "cell_type": "code",
   "execution_count": null,
   "id": "94db4be0-60e0-4f6f-8997-7c0af71096ef",
   "metadata": {},
   "outputs": [],
   "source": []
  }
 ],
 "metadata": {
  "kernelspec": {
   "display_name": "Python 3 (ipykernel)",
   "language": "python",
   "name": "python3"
  },
  "language_info": {
   "codemirror_mode": {
    "name": "ipython",
    "version": 3
   },
   "file_extension": ".py",
   "mimetype": "text/x-python",
   "name": "python",
   "nbconvert_exporter": "python",
   "pygments_lexer": "ipython3",
   "version": "3.13.0"
  }
 },
 "nbformat": 4,
 "nbformat_minor": 5
}
