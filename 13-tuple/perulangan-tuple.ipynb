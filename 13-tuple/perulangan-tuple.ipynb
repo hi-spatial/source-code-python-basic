{
 "cells": [
  {
   "cell_type": "code",
   "execution_count": 1,
   "id": "36300b2a-3864-4d72-91d3-2e0c60ae35e5",
   "metadata": {},
   "outputs": [
    {
     "name": "stdout",
     "output_type": "stream",
     "text": [
      "a\n",
      "b\n",
      "c\n"
     ]
    }
   ],
   "source": [
    "tuple_2 = ('a', 'b', 'c')\n",
    "for t in tuple_2:\n",
    "    print(t)"
   ]
  },
  {
   "cell_type": "code",
   "execution_count": 2,
   "id": "2b405044-ddbe-4042-b5b1-81ec2f1d0711",
   "metadata": {},
   "outputs": [
    {
     "name": "stdout",
     "output_type": "stream",
     "text": [
      "Koordinat: (1.0, 2.0)\n",
      "Koordinat: (3.0, 4.0)\n",
      "Koordinat: (5.0, 6.0)\n"
     ]
    }
   ],
   "source": [
    "coordinates = ((1.0, 2.0), (3.0, 4.0), (5.0, 6.0))\n",
    "for coord in coordinates:\n",
    "    print(f\"Koordinat: {coord}\")"
   ]
  },
  {
   "cell_type": "code",
   "execution_count": null,
   "id": "2a6b9984-11d2-4d75-a0f7-b23783e63674",
   "metadata": {},
   "outputs": [],
   "source": []
  }
 ],
 "metadata": {
  "kernelspec": {
   "display_name": "Python 3 (ipykernel)",
   "language": "python",
   "name": "python3"
  },
  "language_info": {
   "codemirror_mode": {
    "name": "ipython",
    "version": 3
   },
   "file_extension": ".py",
   "mimetype": "text/x-python",
   "name": "python",
   "nbconvert_exporter": "python",
   "pygments_lexer": "ipython3",
   "version": "3.13.0"
  }
 },
 "nbformat": 4,
 "nbformat_minor": 5
}
