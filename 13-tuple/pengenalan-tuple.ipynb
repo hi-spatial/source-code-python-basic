{
 "cells": [
  {
   "cell_type": "code",
   "execution_count": 1,
   "id": "8bd623fe-5c38-457f-afab-682fd5109c47",
   "metadata": {},
   "outputs": [
    {
     "name": "stdout",
     "output_type": "stream",
     "text": [
      "(2, 3, 4, 'hello python', False)\n"
     ]
    }
   ],
   "source": [
    "tuple_1 = (2, 3, 4, \"hello python\", False)\n",
    "print(tuple_1)"
   ]
  },
  {
   "cell_type": "code",
   "execution_count": 2,
   "id": "01470466-c841-4cac-b44a-c08616070579",
   "metadata": {},
   "outputs": [
    {
     "name": "stdout",
     "output_type": "stream",
     "text": [
      "Koordinat: (1.23, 4.56)\n"
     ]
    }
   ],
   "source": [
    "coordinate = (1.23, 4.56)\n",
    "print(f\"Koordinat: {coordinate}\")"
   ]
  },
  {
   "cell_type": "code",
   "execution_count": null,
   "id": "3ce6e3b7-8e02-4e13-a2ee-bb5b41d77b69",
   "metadata": {},
   "outputs": [],
   "source": []
  }
 ],
 "metadata": {
  "kernelspec": {
   "display_name": "Python 3 (ipykernel)",
   "language": "python",
   "name": "python3"
  },
  "language_info": {
   "codemirror_mode": {
    "name": "ipython",
    "version": 3
   },
   "file_extension": ".py",
   "mimetype": "text/x-python",
   "name": "python",
   "nbconvert_exporter": "python",
   "pygments_lexer": "ipython3",
   "version": "3.13.0"
  }
 },
 "nbformat": 4,
 "nbformat_minor": 5
}
