{
 "cells": [
  {
   "cell_type": "code",
   "execution_count": 1,
   "id": "09ec33d2-0912-42a9-a888-0bc23488ae0d",
   "metadata": {},
   "outputs": [
    {
     "name": "stdout",
     "output_type": "stream",
     "text": [
      "Tampilkan Peta Provinsi\n",
      "Tampilkan Peta Nasional\n"
     ]
    }
   ],
   "source": [
    "map_name = \"Peta Nasional\"\n",
    "\n",
    "def display_map():\n",
    "    map_name = \"Peta Provinsi\"\n",
    "    print(\"Tampilkan\", map_name)\n",
    "\n",
    "display_map()\n",
    "print(\"Tampilkan\", map_name)"
   ]
  },
  {
   "cell_type": "code",
   "execution_count": null,
   "id": "b5f124fb-0a00-4e58-a6aa-e127b01b7f4c",
   "metadata": {},
   "outputs": [],
   "source": []
  }
 ],
 "metadata": {
  "kernelspec": {
   "display_name": "Python 3 (ipykernel)",
   "language": "python",
   "name": "python3"
  },
  "language_info": {
   "codemirror_mode": {
    "name": "ipython",
    "version": 3
   },
   "file_extension": ".py",
   "mimetype": "text/x-python",
   "name": "python",
   "nbconvert_exporter": "python",
   "pygments_lexer": "ipython3",
   "version": "3.13.0"
  }
 },
 "nbformat": 4,
 "nbformat_minor": 5
}
