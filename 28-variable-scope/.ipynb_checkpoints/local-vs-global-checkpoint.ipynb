{
 "cells": [
  {
   "cell_type": "code",
   "execution_count": 1,
   "id": "29c1c986-678f-49e2-b50c-8fef8645985d",
   "metadata": {},
   "outputs": [
    {
     "name": "stdout",
     "output_type": "stream",
     "text": [
      "Mengakses Peta Wilayah\n",
      "Proses data untuk Jawa Barat Peta Wilayah\n"
     ]
    }
   ],
   "source": [
    "map_name = \"Peta Wilayah\"\n",
    "print(\"Mengakses\", map_name)\n",
    "\n",
    "def process_coordinates():\n",
    "    region = \"Jawa Barat\"\n",
    "    print(\"Proses data untuk\", region, map_name)\n",
    "\n",
    "process_coordinates()"
   ]
  },
  {
   "cell_type": "code",
   "execution_count": null,
   "id": "b52abe54-c2d4-4e6b-9c6f-3fb4c8882f3a",
   "metadata": {},
   "outputs": [],
   "source": []
  }
 ],
 "metadata": {
  "kernelspec": {
   "display_name": "Python 3 (ipykernel)",
   "language": "python",
   "name": "python3"
  },
  "language_info": {
   "codemirror_mode": {
    "name": "ipython",
    "version": 3
   },
   "file_extension": ".py",
   "mimetype": "text/x-python",
   "name": "python",
   "nbconvert_exporter": "python",
   "pygments_lexer": "ipython3",
   "version": "3.13.0"
  }
 },
 "nbformat": 4,
 "nbformat_minor": 5
}
