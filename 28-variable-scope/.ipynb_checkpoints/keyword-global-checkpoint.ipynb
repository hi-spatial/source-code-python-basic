{
 "cells": [
  {
   "cell_type": "code",
   "execution_count": 1,
   "id": "bd007c5c-e595-42a8-b514-2c30929e72f1",
   "metadata": {},
   "outputs": [
    {
     "name": "stdout",
     "output_type": "stream",
     "text": [
      "Perbarui Peta Regional\n",
      "Nama peta sekarang: Peta Regional\n"
     ]
    }
   ],
   "source": [
    "map_name = \"Peta Nasional\"\n",
    "\n",
    "def update_map():\n",
    "    global map_name\n",
    "    map_name = \"Peta Regional\"\n",
    "    print(\"Perbarui\", map_name)\n",
    "\n",
    "update_map()\n",
    "print(\"Nama peta sekarang:\", map_name)"
   ]
  },
  {
   "cell_type": "code",
   "execution_count": null,
   "id": "aa813911-4723-4868-9a3e-73064458221b",
   "metadata": {},
   "outputs": [],
   "source": []
  }
 ],
 "metadata": {
  "kernelspec": {
   "display_name": "Python 3 (ipykernel)",
   "language": "python",
   "name": "python3"
  },
  "language_info": {
   "codemirror_mode": {
    "name": "ipython",
    "version": 3
   },
   "file_extension": ".py",
   "mimetype": "text/x-python",
   "name": "python",
   "nbconvert_exporter": "python",
   "pygments_lexer": "ipython3",
   "version": "3.13.0"
  }
 },
 "nbformat": 4,
 "nbformat_minor": 5
}
