{
 "cells": [
  {
   "cell_type": "code",
   "execution_count": 1,
   "id": "53a12d07-3903-4c56-8274-ef079465b31d",
   "metadata": {},
   "outputs": [
    {
     "name": "stdout",
     "output_type": "stream",
     "text": [
      "Peta saat ini: Peta Dunia\n"
     ]
    }
   ],
   "source": [
    "current_map = \"Peta Dunia\"\n",
    "\n",
    "def show_globals():\n",
    "    all_globals = globals()\n",
    "    print(\"Peta saat ini:\", all_globals['current_map'])\n",
    "\n",
    "show_globals()"
   ]
  },
  {
   "cell_type": "code",
   "execution_count": null,
   "id": "ac0d3eb9-40f2-4b5d-834e-969bf2fa4d9f",
   "metadata": {},
   "outputs": [],
   "source": []
  }
 ],
 "metadata": {
  "kernelspec": {
   "display_name": "Python 3 (ipykernel)",
   "language": "python",
   "name": "python3"
  },
  "language_info": {
   "codemirror_mode": {
    "name": "ipython",
    "version": 3
   },
   "file_extension": ".py",
   "mimetype": "text/x-python",
   "name": "python",
   "nbconvert_exporter": "python",
   "pygments_lexer": "ipython3",
   "version": "3.13.0"
  }
 },
 "nbformat": 4,
 "nbformat_minor": 5
}
