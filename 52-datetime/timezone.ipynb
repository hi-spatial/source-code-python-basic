{
 "cells": [
  {
   "cell_type": "code",
   "execution_count": 1,
   "id": "a4c20436-143b-4dd8-8bb1-16399b1b4c79",
   "metadata": {},
   "outputs": [
    {
     "name": "stdout",
     "output_type": "stream",
     "text": [
      "Waktu dengan timezone WIB: 2023-09-20 10:45:00+07:00\n"
     ]
    }
   ],
   "source": [
    "from dateutil import tz\n",
    "from datetime import datetime\n",
    "\n",
    "# Timezone WIB (GMT+7)\n",
    "tz_wib = tz.gettz(\"Asia/Jakarta\")\n",
    "data_pengambilan = datetime(2023, 9, 20, 10, 45, tzinfo=tz_wib)\n",
    "\n",
    "print(\"Waktu dengan timezone WIB:\", data_pengambilan)"
   ]
  },
  {
   "cell_type": "code",
   "execution_count": null,
   "id": "e7c30009-751a-40df-ac1a-e812d98920cf",
   "metadata": {},
   "outputs": [],
   "source": []
  }
 ],
 "metadata": {
  "kernelspec": {
   "display_name": "Python 3 (ipykernel)",
   "language": "python",
   "name": "python3"
  },
  "language_info": {
   "codemirror_mode": {
    "name": "ipython",
    "version": 3
   },
   "file_extension": ".py",
   "mimetype": "text/x-python",
   "name": "python",
   "nbconvert_exporter": "python",
   "pygments_lexer": "ipython3",
   "version": "3.13.0"
  }
 },
 "nbformat": 4,
 "nbformat_minor": 5
}
