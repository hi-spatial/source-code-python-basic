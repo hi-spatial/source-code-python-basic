{
 "cells": [
  {
   "cell_type": "code",
   "execution_count": 1,
   "id": "a69bb731-1675-4fbd-ab58-12b5f25501ba",
   "metadata": {},
   "outputs": [
    {
     "name": "stdout",
     "output_type": "stream",
     "text": [
      "Tanggal pengambilan data: 2023-09-20\n"
     ]
    }
   ],
   "source": [
    "from datetime import date\n",
    "\n",
    "# Tanggal pengambilan data geospasial\n",
    "data_pengambilan = date(2023, 9, 20)\n",
    "\n",
    "print(\"Tanggal pengambilan data:\", data_pengambilan)"
   ]
  },
  {
   "cell_type": "code",
   "execution_count": null,
   "id": "45b3e9e6-731e-49d0-a5fa-840700c87b0f",
   "metadata": {},
   "outputs": [],
   "source": []
  }
 ],
 "metadata": {
  "kernelspec": {
   "display_name": "Python 3 (ipykernel)",
   "language": "python",
   "name": "python3"
  },
  "language_info": {
   "codemirror_mode": {
    "name": "ipython",
    "version": 3
   },
   "file_extension": ".py",
   "mimetype": "text/x-python",
   "name": "python",
   "nbconvert_exporter": "python",
   "pygments_lexer": "ipython3",
   "version": "3.13.0"
  }
 },
 "nbformat": 4,
 "nbformat_minor": 5
}
