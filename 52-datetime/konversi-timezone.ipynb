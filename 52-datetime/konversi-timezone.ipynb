{
 "cells": [
  {
   "cell_type": "code",
   "execution_count": 1,
   "id": "ace4c73f-4100-460b-9e94-240588f0ce88",
   "metadata": {},
   "outputs": [
    {
     "name": "stdout",
     "output_type": "stream",
     "text": [
      "Waktu di Jakarta: 2023-09-20 10:45:00+07:00\n",
      "Waktu di UTC: 2023-09-20 03:45:00+00:00\n"
     ]
    }
   ],
   "source": [
    "from dateutil import tz\n",
    "from datetime import datetime\n",
    "\n",
    "# Timezone WIB\n",
    "tz_wib = tz.gettz(\"Asia/Jakarta\")\n",
    "\n",
    "# Waktu di zona waktu WIB\n",
    "data_wib = datetime(2023, 9, 20, 10, 45, tzinfo=tz_wib)\n",
    "print(\"Waktu di Jakarta:\", data_wib)\n",
    "\n",
    "# Konversi ke UTC\n",
    "data_utc = data_wib.astimezone(tz.tzutc())\n",
    "print(\"Waktu di UTC:\", data_utc)"
   ]
  },
  {
   "cell_type": "code",
   "execution_count": null,
   "id": "34ff47af-b5a7-4684-94b9-5c6257b3c0a6",
   "metadata": {},
   "outputs": [],
   "source": []
  }
 ],
 "metadata": {
  "kernelspec": {
   "display_name": "Python 3 (ipykernel)",
   "language": "python",
   "name": "python3"
  },
  "language_info": {
   "codemirror_mode": {
    "name": "ipython",
    "version": 3
   },
   "file_extension": ".py",
   "mimetype": "text/x-python",
   "name": "python",
   "nbconvert_exporter": "python",
   "pygments_lexer": "ipython3",
   "version": "3.13.0"
  }
 },
 "nbformat": 4,
 "nbformat_minor": 5
}
