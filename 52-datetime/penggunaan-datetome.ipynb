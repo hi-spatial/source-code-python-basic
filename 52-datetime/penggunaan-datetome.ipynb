{
 "cells": [
  {
   "cell_type": "code",
   "execution_count": 1,
   "id": "88c43648-df4e-449c-afbf-1788e59aba00",
   "metadata": {},
   "outputs": [
    {
     "name": "stdout",
     "output_type": "stream",
     "text": [
      "Data waktu pengambilan: 2023-09-20 10:45:00\n"
     ]
    }
   ],
   "source": [
    "from datetime import datetime\n",
    "\n",
    "# Tanggal dan waktu pengambilan data\n",
    "data_datetime = datetime(2023, 9, 20, 10, 45, 0)\n",
    "\n",
    "print(\"Data waktu pengambilan:\", data_datetime)"
   ]
  },
  {
   "cell_type": "code",
   "execution_count": null,
   "id": "42618690-709d-4671-a46d-bb1f7f248375",
   "metadata": {},
   "outputs": [],
   "source": []
  }
 ],
 "metadata": {
  "kernelspec": {
   "display_name": "Python 3 (ipykernel)",
   "language": "python",
   "name": "python3"
  },
  "language_info": {
   "codemirror_mode": {
    "name": "ipython",
    "version": 3
   },
   "file_extension": ".py",
   "mimetype": "text/x-python",
   "name": "python",
   "nbconvert_exporter": "python",
   "pygments_lexer": "ipython3",
   "version": "3.13.0"
  }
 },
 "nbformat": 4,
 "nbformat_minor": 5
}
