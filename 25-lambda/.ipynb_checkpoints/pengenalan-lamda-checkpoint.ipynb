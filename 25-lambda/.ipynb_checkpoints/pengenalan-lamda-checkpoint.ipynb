{
 "cells": [
  {
   "cell_type": "code",
   "execution_count": null,
   "id": "f8c3a3ba-c038-4d61-b8a5-893cf7b26090",
   "metadata": {},
   "outputs": [],
   "source": [
    "say_hello_geo = lambda : print(\"hello geospatial world\")\n",
    "\n",
    "say_hello_geo()\n",
    "# output ➜ hello geospatial world"
   ]
  }
 ],
 "metadata": {
  "kernelspec": {
   "display_name": "Python 3 (ipykernel)",
   "language": "python",
   "name": "python3"
  },
  "language_info": {
   "codemirror_mode": {
    "name": "ipython",
    "version": 3
   },
   "file_extension": ".py",
   "mimetype": "text/x-python",
   "name": "python",
   "nbconvert_exporter": "python",
   "pygments_lexer": "ipython3",
   "version": "3.13.0"
  }
 },
 "nbformat": 4,
 "nbformat_minor": 5
}
