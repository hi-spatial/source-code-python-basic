{
 "cells": [
  {
   "cell_type": "code",
   "execution_count": 1,
   "id": "2cce06d3-d16d-404f-8f6f-bb413b7727ba",
   "metadata": {},
   "outputs": [
    {
     "name": "stdout",
     "output_type": "stream",
     "text": [
      "Total Distance: 10.0\n"
     ]
    }
   ],
   "source": [
    "aggregate = lambda description, coords, func: print(f\"{description}: {func(coords)}\")\n",
    "\n",
    "def total_distance(coords):\n",
    "    return sum(((x1 - x0)**2 + (y1 - y0)**2)**0.5 for (x0, y0), (x1, y1) in zip(coords, coords[1:]))\n",
    "\n",
    "coords = [(0, 0), (3, 4), (7, 1)]\n",
    "aggregate(\"Total Distance\", coords, total_distance)\n",
    "# output ➜ Total Distance: 10.24"
   ]
  },
  {
   "cell_type": "code",
   "execution_count": null,
   "id": "75ee6e90-a4eb-4154-acb6-e2f9c6a31789",
   "metadata": {},
   "outputs": [],
   "source": []
  }
 ],
 "metadata": {
  "kernelspec": {
   "display_name": "Python 3 (ipykernel)",
   "language": "python",
   "name": "python3"
  },
  "language_info": {
   "codemirror_mode": {
    "name": "ipython",
    "version": 3
   },
   "file_extension": ".py",
   "mimetype": "text/x-python",
   "name": "python",
   "nbconvert_exporter": "python",
   "pygments_lexer": "ipython3",
   "version": "3.13.0"
  }
 },
 "nbformat": 4,
 "nbformat_minor": 5
}
