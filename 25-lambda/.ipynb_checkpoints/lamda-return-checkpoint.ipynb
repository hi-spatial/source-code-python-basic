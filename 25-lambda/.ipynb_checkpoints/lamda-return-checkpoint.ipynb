{
 "cells": [
  {
   "cell_type": "code",
   "execution_count": 1,
   "id": "ab166847-3e5d-45ce-a938-8e85ae927009",
   "metadata": {},
   "outputs": [
    {
     "name": "stdout",
     "output_type": "stream",
     "text": [
      "5.0\n"
     ]
    }
   ],
   "source": [
    "distance = lambda x1, y1, x2, y2: ((x2 - x1)**2 + (y2 - y1)**2) ** 0.5\n",
    "\n",
    "result = distance(0, 0, 3, 4)\n",
    "print(result)\n",
    "# output ➜ 5.0"
   ]
  },
  {
   "cell_type": "code",
   "execution_count": null,
   "id": "e98c056b-3f1e-4997-9e89-9e831e7cca46",
   "metadata": {},
   "outputs": [],
   "source": []
  }
 ],
 "metadata": {
  "kernelspec": {
   "display_name": "Python 3 (ipykernel)",
   "language": "python",
   "name": "python3"
  },
  "language_info": {
   "codemirror_mode": {
    "name": "ipython",
    "version": 3
   },
   "file_extension": ".py",
   "mimetype": "text/x-python",
   "name": "python",
   "nbconvert_exporter": "python",
   "pygments_lexer": "ipython3",
   "version": "3.13.0"
  }
 },
 "nbformat": 4,
 "nbformat_minor": 5
}
