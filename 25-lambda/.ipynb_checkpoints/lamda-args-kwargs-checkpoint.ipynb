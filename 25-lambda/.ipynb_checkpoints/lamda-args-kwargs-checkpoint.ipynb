{
 "cells": [
  {
   "cell_type": "code",
   "execution_count": 1,
   "id": "3534ff52-53aa-4a92-8b44-6cbb1ea267c2",
   "metadata": {},
   "outputs": [
    {
     "name": "stdout",
     "output_type": "stream",
     "text": [
      "Coord 0: (1, 2) | Coord 1: (3, 4) | Coord 2: (5, 6)\n"
     ]
    }
   ],
   "source": [
    "aggregate_coords = lambda separator, *coords: separator.join([f\"Coord {i}: {coord}\" for i, coord in enumerate(coords)])\n",
    "\n",
    "result = aggregate_coords(\" | \", (1, 2), (3, 4), (5, 6))\n",
    "print(result)\n",
    "# output ➜ Coord 0: (1, 2) | Coord 1: (3, 4) | Coord 2: (5, 6)"
   ]
  },
  {
   "cell_type": "code",
   "execution_count": null,
   "id": "4d2f82ac-fa16-4780-b3db-8a021e776a43",
   "metadata": {},
   "outputs": [],
   "source": []
  }
 ],
 "metadata": {
  "kernelspec": {
   "display_name": "Python 3 (ipykernel)",
   "language": "python",
   "name": "python3"
  },
  "language_info": {
   "codemirror_mode": {
    "name": "ipython",
    "version": 3
   },
   "file_extension": ".py",
   "mimetype": "text/x-python",
   "name": "python",
   "nbconvert_exporter": "python",
   "pygments_lexer": "ipython3",
   "version": "3.13.0"
  }
 },
 "nbformat": 4,
 "nbformat_minor": 5
}
