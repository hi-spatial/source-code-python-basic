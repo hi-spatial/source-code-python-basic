{
 "cells": [
  {
   "cell_type": "code",
   "execution_count": 1,
   "id": "5865bf5a-ddb1-4366-900f-bc8d07a53b5c",
   "metadata": {},
   "outputs": [
    {
     "name": "stdout",
     "output_type": "stream",
     "text": [
      "(3.0, 4.0)\n"
     ]
    }
   ],
   "source": [
    "centroid = lambda points: (sum([p[0] for p in points]) / len(points), sum([p[1] for p in points]) / len(points))\n",
    "\n",
    "points = [(1, 2), (3, 4), (5, 6)]\n",
    "result = centroid(points)\n",
    "print(result)\n",
    "# output ➜ (3.0, 4.0)"
   ]
  },
  {
   "cell_type": "code",
   "execution_count": null,
   "id": "245a50ea-690d-4ed2-abf6-09f4c02d4c2d",
   "metadata": {},
   "outputs": [],
   "source": []
  }
 ],
 "metadata": {
  "kernelspec": {
   "display_name": "Python 3 (ipykernel)",
   "language": "python",
   "name": "python3"
  },
  "language_info": {
   "codemirror_mode": {
    "name": "ipython",
    "version": 3
   },
   "file_extension": ".py",
   "mimetype": "text/x-python",
   "name": "python",
   "nbconvert_exporter": "python",
   "pygments_lexer": "ipython3",
   "version": "3.13.0"
  }
 },
 "nbformat": 4,
 "nbformat_minor": 5
}
