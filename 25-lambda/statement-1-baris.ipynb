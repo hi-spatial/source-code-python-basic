{
 "cells": [
  {
   "cell_type": "code",
   "execution_count": 1,
   "id": "59ffaf22-9058-40f4-9403-62f0cc9cd339",
   "metadata": {},
   "outputs": [
    {
     "name": "stdout",
     "output_type": "stream",
     "text": [
      "6.0\n"
     ]
    }
   ],
   "source": [
    "polygon_area = lambda coords: 0.5 * abs(sum(x0*y1 - x1*y0 for (x0, y0), (x1, y1) in zip(coords, coords[1:] + [coords[0]])))\n",
    "\n",
    "coords = [(0, 0), (4, 0), (4, 3)]\n",
    "result = polygon_area(coords)\n",
    "print(result)\n",
    "# output ➜ 6.0"
   ]
  },
  {
   "cell_type": "code",
   "execution_count": null,
   "id": "4e922f55-a5a5-435e-b9e5-25ffdcc3cc92",
   "metadata": {},
   "outputs": [],
   "source": []
  }
 ],
 "metadata": {
  "kernelspec": {
   "display_name": "Python 3 (ipykernel)",
   "language": "python",
   "name": "python3"
  },
  "language_info": {
   "codemirror_mode": {
    "name": "ipython",
    "version": 3
   },
   "file_extension": ".py",
   "mimetype": "text/x-python",
   "name": "python",
   "nbconvert_exporter": "python",
   "pygments_lexer": "ipython3",
   "version": "3.13.0"
  }
 },
 "nbformat": 4,
 "nbformat_minor": 5
}
