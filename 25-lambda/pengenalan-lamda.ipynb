{
 "cells": [
  {
   "cell_type": "code",
   "execution_count": 1,
   "id": "f8c3a3ba-c038-4d61-b8a5-893cf7b26090",
   "metadata": {},
   "outputs": [
    {
     "name": "stdout",
     "output_type": "stream",
     "text": [
      "hello geospatial world\n"
     ]
    }
   ],
   "source": [
    "say_hello_geo = lambda : print(\"hello geospatial world\")\n",
    "\n",
    "say_hello_geo()\n",
    "# output ➜ hello geospatial world"
   ]
  },
  {
   "cell_type": "code",
   "execution_count": null,
   "id": "d14a7810-e303-4725-bfb6-8f669948f0f6",
   "metadata": {},
   "outputs": [],
   "source": []
  }
 ],
 "metadata": {
  "kernelspec": {
   "display_name": "Python 3 (ipykernel)",
   "language": "python",
   "name": "python3"
  },
  "language_info": {
   "codemirror_mode": {
    "name": "ipython",
    "version": 3
   },
   "file_extension": ".py",
   "mimetype": "text/x-python",
   "name": "python",
   "nbconvert_exporter": "python",
   "pygments_lexer": "ipython3",
   "version": "3.13.0"
  }
 },
 "nbformat": 4,
 "nbformat_minor": 5
}
