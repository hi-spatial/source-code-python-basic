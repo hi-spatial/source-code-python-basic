{
 "cells": [
  {
   "cell_type": "code",
   "execution_count": 1,
   "id": "f49d0fab-fafa-4f81-95b3-b31492a072c8",
   "metadata": {},
   "outputs": [
    {
     "name": "stdout",
     "output_type": "stream",
     "text": [
      "Tipe Peta: Topografi\n",
      "Tipe Peta (via object): Topografi\n"
     ]
    }
   ],
   "source": [
    "class Peta:\n",
    "    tipe = \"Topografi\"\n",
    "\n",
    "print(f\"Tipe Peta: {Peta.tipe}\")\n",
    "\n",
    "peta1 = Peta()\n",
    "print(f\"Tipe Peta (via object): {peta1.tipe}\")"
   ]
  },
  {
   "cell_type": "code",
   "execution_count": null,
   "id": "521794b2-d39f-4189-90bc-b04b7fa6014c",
   "metadata": {},
   "outputs": [],
   "source": []
  }
 ],
 "metadata": {
  "kernelspec": {
   "display_name": "Python 3 (ipykernel)",
   "language": "python",
   "name": "python3"
  },
  "language_info": {
   "codemirror_mode": {
    "name": "ipython",
    "version": 3
   },
   "file_extension": ".py",
   "mimetype": "text/x-python",
   "name": "python",
   "nbconvert_exporter": "python",
   "pygments_lexer": "ipython3",
   "version": "3.13.0"
  }
 },
 "nbformat": 4,
 "nbformat_minor": 5
}
