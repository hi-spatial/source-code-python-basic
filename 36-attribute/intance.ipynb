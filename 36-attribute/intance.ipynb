{
 "cells": [
  {
   "cell_type": "code",
   "execution_count": 1,
   "id": "2763c519-0385-43f8-85da-458dd4f7d336",
   "metadata": {},
   "outputs": [
    {
     "name": "stdout",
     "output_type": "stream",
     "text": [
      "Nama Lokasi: Gunung Rinjani\n",
      "Ketinggian: 3726 meter\n"
     ]
    }
   ],
   "source": [
    "class Lokasi:\n",
    "\n",
    "    def __init__(self):\n",
    "        self.nama = \"Gunung Rinjani\"\n",
    "        self.ketinggian = 3726\n",
    "\n",
    "lokasi1 = Lokasi()\n",
    "print(f\"Nama Lokasi: {lokasi1.nama}\")\n",
    "print(f\"Ketinggian: {lokasi1.ketinggian} meter\")"
   ]
  },
  {
   "cell_type": "code",
   "execution_count": null,
   "id": "ff651c09-1f2d-4d5c-93f5-6413d09013c2",
   "metadata": {},
   "outputs": [],
   "source": []
  }
 ],
 "metadata": {
  "kernelspec": {
   "display_name": "Python 3 (ipykernel)",
   "language": "python",
   "name": "python3"
  },
  "language_info": {
   "codemirror_mode": {
    "name": "ipython",
    "version": 3
   },
   "file_extension": ".py",
   "mimetype": "text/x-python",
   "name": "python",
   "nbconvert_exporter": "python",
   "pygments_lexer": "ipython3",
   "version": "3.13.0"
  }
 },
 "nbformat": 4,
 "nbformat_minor": 5
}
