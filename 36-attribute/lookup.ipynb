{
 "cells": [
  {
   "cell_type": "code",
   "execution_count": 1,
   "id": "7f3a9ed1-2ee5-439f-bdbd-e7fc9af942f8",
   "metadata": {},
   "outputs": [
    {
     "name": "stdout",
     "output_type": "stream",
     "text": [
      "Nama Lokasi: Gunung Bromo\n"
     ]
    }
   ],
   "source": [
    "class Lokasi:\n",
    "    nama = \"Lokasi Umum\"\n",
    "    \n",
    "    def __init__(self, nama):\n",
    "        self.nama = nama\n",
    "\n",
    "lokasi1 = Lokasi(\"Gunung Bromo\")\n",
    "print(f\"Nama Lokasi: {lokasi1.nama}\")  # Mengambil instance attribute"
   ]
  },
  {
   "cell_type": "code",
   "execution_count": null,
   "id": "03a0fdfa-0446-411a-921e-4d6d71f34443",
   "metadata": {},
   "outputs": [],
   "source": []
  }
 ],
 "metadata": {
  "kernelspec": {
   "display_name": "Python 3 (ipykernel)",
   "language": "python",
   "name": "python3"
  },
  "language_info": {
   "codemirror_mode": {
    "name": "ipython",
    "version": 3
   },
   "file_extension": ".py",
   "mimetype": "text/x-python",
   "name": "python",
   "nbconvert_exporter": "python",
   "pygments_lexer": "ipython3",
   "version": "3.13.0"
  }
 },
 "nbformat": 4,
 "nbformat_minor": 5
}
