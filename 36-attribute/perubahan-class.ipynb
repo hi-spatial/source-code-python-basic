{
 "cells": [
  {
   "cell_type": "code",
   "execution_count": 4,
   "id": "44194378-fe12-40a0-b19b-3892b769baa3",
   "metadata": {},
   "outputs": [
    {
     "name": "stdout",
     "output_type": "stream",
     "text": [
      "Lokasi: Gunung Semeru\n",
      "Koordinat: -8.108, 112.92\n",
      "Lokasi: Pantai Parangtritis\n",
      "Koordinat: -8.018, 110.312\n"
     ]
    }
   ],
   "source": [
    "class Lokasi:\n",
    "    tipe = \"Geospasial\"\n",
    "    versi = 1.0\n",
    "    \n",
    "    def __init__(self, nama, latitude, longitude):\n",
    "        self.nama = nama\n",
    "        self.latitude = latitude\n",
    "        self.longitude = longitude\n",
    "\n",
    "    def info(self):\n",
    "        print(f\"Lokasi: {self.nama}\")\n",
    "        print(f\"Koordinat: {self.latitude}, {self.longitude}\")\n",
    "\n",
    "lokasi1 = Lokasi(\"Gunung Semeru\", -8.108, 112.92)\n",
    "lokasi2 = Lokasi(\"Pantai Parangtritis\", -8.018, 110.312)\n",
    "        \n",
    "Lokasi.tipe = \"Geospasial Modifikasi\"\n",
    "lokasi1.info()\n",
    "lokasi2.info()"
   ]
  },
  {
   "cell_type": "code",
   "execution_count": null,
   "id": "588aa6a8-c4d8-44a4-b34e-c42495fd97e2",
   "metadata": {},
   "outputs": [],
   "source": []
  }
 ],
 "metadata": {
  "kernelspec": {
   "display_name": "Python 3 (ipykernel)",
   "language": "python",
   "name": "python3"
  },
  "language_info": {
   "codemirror_mode": {
    "name": "ipython",
    "version": 3
   },
   "file_extension": ".py",
   "mimetype": "text/x-python",
   "name": "python",
   "nbconvert_exporter": "python",
   "pygments_lexer": "ipython3",
   "version": "3.13.0"
  }
 },
 "nbformat": 4,
 "nbformat_minor": 5
}
