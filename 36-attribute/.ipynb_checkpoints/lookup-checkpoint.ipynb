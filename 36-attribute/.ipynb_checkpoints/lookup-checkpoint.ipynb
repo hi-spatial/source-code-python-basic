{
 "cells": [
  {
   "cell_type": "code",
   "execution_count": null,
   "id": "7f3a9ed1-2ee5-439f-bdbd-e7fc9af942f8",
   "metadata": {},
   "outputs": [],
   "source": [
    "class Lokasi:\n",
    "    nama = \"Lokasi Umum\"\n",
    "    \n",
    "    def __init__(self, nama):\n",
    "        self.nama = nama\n",
    "\n",
    "lokasi1 = Lokasi(\"Gunung Bromo\")\n",
    "print(f\"Nama Lokasi: {lokasi1.nama}\")  # Mengambil instance attribute"
   ]
  }
 ],
 "metadata": {
  "kernelspec": {
   "display_name": "Python 3 (ipykernel)",
   "language": "python",
   "name": "python3"
  },
  "language_info": {
   "codemirror_mode": {
    "name": "ipython",
    "version": 3
   },
   "file_extension": ".py",
   "mimetype": "text/x-python",
   "name": "python",
   "nbconvert_exporter": "python",
   "pygments_lexer": "ipython3",
   "version": "3.13.0"
  }
 },
 "nbformat": 4,
 "nbformat_minor": 5
}
