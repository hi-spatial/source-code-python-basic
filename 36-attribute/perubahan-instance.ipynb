{
 "cells": [
  {
   "cell_type": "code",
   "execution_count": 4,
   "id": "29916e85-2163-4db2-b39c-ce1ab2576210",
   "metadata": {},
   "outputs": [
    {
     "name": "stdout",
     "output_type": "stream",
     "text": [
      "Lokasi: Gunung Semeru - Jawa Timur\n",
      "Koordinat: -8.108, 112.92\n",
      "Lokasi: Pantai Parangtritis\n",
      "Koordinat: -8.0, 110.312\n"
     ]
    }
   ],
   "source": [
    "class Lokasi:\n",
    "    tipe = \"Geospasial\"\n",
    "    versi = 1.0\n",
    "    \n",
    "    def __init__(self, nama, latitude, longitude):\n",
    "        self.nama = nama\n",
    "        self.latitude = latitude\n",
    "        self.longitude = longitude\n",
    "\n",
    "    def info(self):\n",
    "        print(f\"Lokasi: {self.nama}\")\n",
    "        print(f\"Koordinat: {self.latitude}, {self.longitude}\")\n",
    "\n",
    "lokasi1 = Lokasi(\"Gunung Semeru\", -8.108, 112.92)\n",
    "lokasi2 = Lokasi(\"Pantai Parangtritis\", -8.018, 110.312)\n",
    "\n",
    "lokasi1.nama = \"Gunung Semeru - Jawa Timur\"\n",
    "lokasi2.latitude = -8.000\n",
    "\n",
    "lokasi1.info()\n",
    "lokasi2.info()"
   ]
  },
  {
   "cell_type": "code",
   "execution_count": null,
   "id": "7c0efe48-145c-4a23-899e-5d0672c1daf6",
   "metadata": {},
   "outputs": [],
   "source": []
  }
 ],
 "metadata": {
  "kernelspec": {
   "display_name": "Python 3 (ipykernel)",
   "language": "python",
   "name": "python3"
  },
  "language_info": {
   "codemirror_mode": {
    "name": "ipython",
    "version": 3
   },
   "file_extension": ".py",
   "mimetype": "text/x-python",
   "name": "python",
   "nbconvert_exporter": "python",
   "pygments_lexer": "ipython3",
   "version": "3.13.0"
  }
 },
 "nbformat": 4,
 "nbformat_minor": 5
}
