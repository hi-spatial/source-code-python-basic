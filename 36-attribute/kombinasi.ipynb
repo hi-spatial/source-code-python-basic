{
 "cells": [
  {
   "cell_type": "code",
   "execution_count": 3,
   "id": "6ab0b3f9-2c19-4d06-a5d2-4237d50c264b",
   "metadata": {},
   "outputs": [
    {
     "name": "stdout",
     "output_type": "stream",
     "text": [
      "Class: Lokasi, versi: 1.0, tipe: Geospasial\n",
      "Lokasi: Gunung Merapi\n",
      "Koordinat: -7.54, 110.442\n",
      "Lokasi: Danau Toba\n",
      "Koordinat: 2.697, 98.94\n"
     ]
    }
   ],
   "source": [
    "class Lokasi:\n",
    "    tipe = \"Geospasial\"\n",
    "    versi = 1.0\n",
    "    \n",
    "    def __init__(self, nama, latitude, longitude):\n",
    "        self.nama = nama\n",
    "        self.latitude = latitude\n",
    "        self.longitude = longitude\n",
    "\n",
    "    def info(self):\n",
    "        print(f\"Lokasi: {self.nama}\")\n",
    "        print(f\"Koordinat: {self.latitude}, {self.longitude}\")\n",
    "\n",
    "lokasi1 = Lokasi(\"Gunung Merapi\", -7.540, 110.442)\n",
    "lokasi2 = Lokasi(\"Danau Toba\", 2.697, 98.940)\n",
    "\n",
    "print(f\"Class: Lokasi, versi: {Lokasi.versi}, tipe: {Lokasi.tipe}\")\n",
    "lokasi1.info()\n",
    "lokasi2.info()"
   ]
  },
  {
   "cell_type": "code",
   "execution_count": null,
   "id": "c4a360f4-b9e4-4a35-98f3-f98e94ad6918",
   "metadata": {},
   "outputs": [],
   "source": []
  }
 ],
 "metadata": {
  "kernelspec": {
   "display_name": "Python 3 (ipykernel)",
   "language": "python",
   "name": "python3"
  },
  "language_info": {
   "codemirror_mode": {
    "name": "ipython",
    "version": 3
   },
   "file_extension": ".py",
   "mimetype": "text/x-python",
   "name": "python",
   "nbconvert_exporter": "python",
   "pygments_lexer": "ipython3",
   "version": "3.13.0"
  }
 },
 "nbformat": 4,
 "nbformat_minor": 5
}
