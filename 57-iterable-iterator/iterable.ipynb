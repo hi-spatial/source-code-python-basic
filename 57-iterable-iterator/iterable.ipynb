{
 "cells": [
  {
   "cell_type": "code",
   "execution_count": 1,
   "id": "860935ee-dc48-4d64-8492-77d53634bd4d",
   "metadata": {},
   "outputs": [
    {
     "name": "stdout",
     "output_type": "stream",
     "text": [
      "w\n",
      "e\n",
      "t\n",
      "e\n",
      "n\n",
      "g\n",
      " \n",
      "l\n",
      "u\n",
      "w\n",
      "e\n",
      "10\n",
      "12\n",
      "32\n",
      "44\n"
     ]
    }
   ],
   "source": [
    "condition = \"weteng luwe\"\n",
    "for c in condition:\n",
    "    print(c)\n",
    "\n",
    "numbers = [10, 12, 32, 44]\n",
    "for n in numbers:\n",
    "    print(n)"
   ]
  },
  {
   "cell_type": "code",
   "execution_count": null,
   "id": "e8ea4dcd-9b73-4936-98bd-648ee75af1ee",
   "metadata": {},
   "outputs": [],
   "source": []
  }
 ],
 "metadata": {
  "kernelspec": {
   "display_name": "Python 3 (ipykernel)",
   "language": "python",
   "name": "python3"
  },
  "language_info": {
   "codemirror_mode": {
    "name": "ipython",
    "version": 3
   },
   "file_extension": ".py",
   "mimetype": "text/x-python",
   "name": "python",
   "nbconvert_exporter": "python",
   "pygments_lexer": "ipython3",
   "version": "3.13.0"
  }
 },
 "nbformat": 4,
 "nbformat_minor": 5
}
