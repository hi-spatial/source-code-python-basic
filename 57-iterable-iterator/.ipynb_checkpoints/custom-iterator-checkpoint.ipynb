{
 "cells": [
  {
   "cell_type": "code",
   "execution_count": 1,
   "id": "370cdb18-b9b2-4bdb-afe8-365e9ab9b99b",
   "metadata": {},
   "outputs": [
    {
     "name": "stdout",
     "output_type": "stream",
     "text": [
      "54\n",
      "1\n",
      "2\n",
      "23\n"
     ]
    }
   ],
   "source": [
    "from collections.abc import Iterator\n",
    "\n",
    "class LoopReverse(Iterator):\n",
    "\n",
    "    def __init__(self, data):\n",
    "        self.data = data\n",
    "        self.i = 0\n",
    "\n",
    "    def __next__(self):\n",
    "        if (self.i + 1) > len(self.data):\n",
    "            raise StopIteration\n",
    "        else:\n",
    "            r = self.data[len(self.data) - self.i - 1]\n",
    "            self.i += 1\n",
    "            return r\n",
    "\n",
    "numbers = [23, 2, 1, 54]\n",
    "for n in LoopReverse(numbers):\n",
    "    print(n)"
   ]
  },
  {
   "cell_type": "code",
   "execution_count": null,
   "id": "903e744c-078d-405f-8d99-dca8b010567e",
   "metadata": {},
   "outputs": [],
   "source": []
  }
 ],
 "metadata": {
  "kernelspec": {
   "display_name": "Python 3 (ipykernel)",
   "language": "python",
   "name": "python3"
  },
  "language_info": {
   "codemirror_mode": {
    "name": "ipython",
    "version": 3
   },
   "file_extension": ".py",
   "mimetype": "text/x-python",
   "name": "python",
   "nbconvert_exporter": "python",
   "pygments_lexer": "ipython3",
   "version": "3.13.0"
  }
 },
 "nbformat": 4,
 "nbformat_minor": 5
}
