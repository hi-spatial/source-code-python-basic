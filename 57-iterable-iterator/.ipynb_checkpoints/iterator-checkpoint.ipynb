{
 "cells": [
  {
   "cell_type": "code",
   "execution_count": null,
   "id": "b8b9d46c-5863-4863-bcdf-6ef7684d1430",
   "metadata": {},
   "outputs": [],
   "source": [
    "numbers = [10, 12, 32, 44]\n",
    "numbers_iter = iter(numbers)\n",
    "\n",
    "print(next(numbers_iter))  # Output: 10\n",
    "print(next(numbers_iter))  # Output: 12"
   ]
  }
 ],
 "metadata": {
  "kernelspec": {
   "display_name": "Python 3 (ipykernel)",
   "language": "python",
   "name": "python3"
  },
  "language_info": {
   "codemirror_mode": {
    "name": "ipython",
    "version": 3
   },
   "file_extension": ".py",
   "mimetype": "text/x-python",
   "name": "python",
   "nbconvert_exporter": "python",
   "pygments_lexer": "ipython3",
   "version": "3.13.0"
  }
 },
 "nbformat": 4,
 "nbformat_minor": 5
}
