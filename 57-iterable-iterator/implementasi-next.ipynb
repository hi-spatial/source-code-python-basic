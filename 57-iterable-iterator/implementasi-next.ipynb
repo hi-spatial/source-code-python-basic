{
 "cells": [
  {
   "cell_type": "code",
   "execution_count": 2,
   "id": "8b2a011f-8e52-4d95-8ee1-8b6595186102",
   "metadata": {},
   "outputs": [
    {
     "name": "stdout",
     "output_type": "stream",
     "text": [
      "54\n",
      "1\n"
     ]
    }
   ],
   "source": [
    "from collections.abc import Iterator\n",
    "\n",
    "class LoopReverse(Iterator):\n",
    "\n",
    "    def __init__(self, data):\n",
    "        self.data = data\n",
    "        self.i = 0\n",
    "\n",
    "    def __next__(self):\n",
    "        if (self.i + 1) > len(self.data):\n",
    "            raise StopIteration\n",
    "        else:\n",
    "            r = self.data[len(self.data) - self.i - 1]\n",
    "            self.i += 1\n",
    "            return r\n",
    "\n",
    "numbers = [23, 2, 1, 54]\n",
    "numbers_iter = LoopReverse(numbers)\n",
    "\n",
    "print(next(numbers_iter))  # Output: 54\n",
    "print(next(numbers_iter))  # Output: 1"
   ]
  },
  {
   "cell_type": "code",
   "execution_count": null,
   "id": "109e5a7c-b378-42e0-b9c0-8afc18068f46",
   "metadata": {},
   "outputs": [],
   "source": []
  }
 ],
 "metadata": {
  "kernelspec": {
   "display_name": "Python 3 (ipykernel)",
   "language": "python",
   "name": "python3"
  },
  "language_info": {
   "codemirror_mode": {
    "name": "ipython",
    "version": 3
   },
   "file_extension": ".py",
   "mimetype": "text/x-python",
   "name": "python",
   "nbconvert_exporter": "python",
   "pygments_lexer": "ipython3",
   "version": "3.13.0"
  }
 },
 "nbformat": 4,
 "nbformat_minor": 5
}
