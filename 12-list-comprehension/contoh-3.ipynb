{
 "cells": [
  {
   "cell_type": "code",
   "execution_count": 1,
   "id": "e3fd790d-f9f0-40da-b372-d6511ef9d7c9",
   "metadata": {},
   "outputs": [
    {
     "name": "stdout",
     "output_type": "stream",
     "text": [
      "[3, 4, 9, 8, 15, 12, 21, 16, 27]\n"
     ]
    }
   ],
   "source": [
    "seq = []\n",
    "for i in range(1, 10):\n",
    "    if i % 2 == 0:\n",
    "        seq.append(i * 2)\n",
    "    else:\n",
    "        seq.append(i * 3)\n",
    "print(seq)"
   ]
  },
  {
   "cell_type": "code",
   "execution_count": 2,
   "id": "21cc225a-d8c4-4391-8cd4-b2268b15c255",
   "metadata": {},
   "outputs": [
    {
     "name": "stdout",
     "output_type": "stream",
     "text": [
      "[3, 4, 9, 8, 15, 12, 21, 16, 27]\n"
     ]
    }
   ],
   "source": [
    "seq = [(i * (2 if i % 2 == 0 else 3)) for i in range(1, 10)]\n",
    "print(seq)"
   ]
  },
  {
   "cell_type": "code",
   "execution_count": null,
   "id": "16f6e4e4-5e80-401e-9fa2-65f704fed722",
   "metadata": {},
   "outputs": [],
   "source": []
  }
 ],
 "metadata": {
  "kernelspec": {
   "display_name": "Python 3 (ipykernel)",
   "language": "python",
   "name": "python3"
  },
  "language_info": {
   "codemirror_mode": {
    "name": "ipython",
    "version": 3
   },
   "file_extension": ".py",
   "mimetype": "text/x-python",
   "name": "python",
   "nbconvert_exporter": "python",
   "pygments_lexer": "ipython3",
   "version": "3.13.0"
  }
 },
 "nbformat": 4,
 "nbformat_minor": 5
}
