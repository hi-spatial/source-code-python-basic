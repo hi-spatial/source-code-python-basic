{
 "cells": [
  {
   "cell_type": "code",
   "execution_count": 1,
   "id": "b5afd6a5-6dc7-445f-8744-fd42e6724fcf",
   "metadata": {},
   "outputs": [
    {
     "name": "stdout",
     "output_type": "stream",
     "text": [
      "[(1.0, 4.0), (1.0, 5.0), (1.0, 6.0), (2.0, 4.0), (2.0, 5.0), (2.0, 6.0), (3.0, 4.0), (3.0, 5.0), (3.0, 6.0)]\n"
     ]
    }
   ],
   "source": [
    "latitudes = [1.0, 2.0, 3.0]\n",
    "longitudes = [4.0, 5.0, 6.0]\n",
    "\n",
    "coordinates = [(lat, lon) for lat in latitudes for lon in longitudes]\n",
    "print(coordinates)"
   ]
  },
  {
   "cell_type": "code",
   "execution_count": null,
   "id": "1cbae068-d992-44c1-ab05-2bb8f83d14f7",
   "metadata": {},
   "outputs": [],
   "source": []
  }
 ],
 "metadata": {
  "kernelspec": {
   "display_name": "Python 3 (ipykernel)",
   "language": "python",
   "name": "python3"
  },
  "language_info": {
   "codemirror_mode": {
    "name": "ipython",
    "version": 3
   },
   "file_extension": ".py",
   "mimetype": "text/x-python",
   "name": "python",
   "nbconvert_exporter": "python",
   "pygments_lexer": "ipython3",
   "version": "3.13.0"
  }
 },
 "nbformat": 4,
 "nbformat_minor": 5
}
