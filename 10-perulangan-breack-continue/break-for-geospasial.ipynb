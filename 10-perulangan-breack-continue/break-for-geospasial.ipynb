{
 "cells": [
  {
   "cell_type": "code",
   "execution_count": 2,
   "id": "aff4355e-8fee-4196-82e5-b9cc289db2ff",
   "metadata": {},
   "outputs": [
    {
     "name": "stdout",
     "output_type": "stream",
     "text": [
      "Titik (1.0, 2.0) berada dalam area target\n"
     ]
    }
   ],
   "source": [
    "# Definisikan fungsi is_in_target_area\n",
    "def is_in_target_area(loc):\n",
    "    # Misalnya, area target dengan batas lintang dan bujur\n",
    "    min_latitude = 0.0   # lintang minimum\n",
    "    max_latitude = 4.0   # lintang maksimum\n",
    "    min_longitude = 1.0  # bujur minimum\n",
    "    max_longitude = 5.0  # bujur maksimum\n",
    "    \n",
    "    latitude, longitude = loc  # memecah tuple menjadi lintang dan bujur\n",
    "    \n",
    "    # Memeriksa apakah koordinat berada dalam area target\n",
    "    if min_latitude <= latitude <= max_latitude and min_longitude <= longitude <= max_longitude:\n",
    "        return True\n",
    "    else:\n",
    "        return False\n",
    "\n",
    "# Kode utama break\n",
    "locations = [(1.0, 2.0), (3.0, 4.0), (5.0, 6.0)]\n",
    "\n",
    "for loc in locations:\n",
    "    if is_in_target_area(loc):\n",
    "        print(f\"Titik {loc} berada dalam area target\")\n",
    "        break\n"
   ]
  },
  {
   "cell_type": "code",
   "execution_count": null,
   "id": "b42e8e29-f2a8-4b8d-9310-12fc2a36169e",
   "metadata": {},
   "outputs": [],
   "source": []
  }
 ],
 "metadata": {
  "kernelspec": {
   "display_name": "Python 3 (ipykernel)",
   "language": "python",
   "name": "python3"
  },
  "language_info": {
   "codemirror_mode": {
    "name": "ipython",
    "version": 3
   },
   "file_extension": ".py",
   "mimetype": "text/x-python",
   "name": "python",
   "nbconvert_exporter": "python",
   "pygments_lexer": "ipython3",
   "version": "3.13.0"
  }
 },
 "nbformat": 4,
 "nbformat_minor": 5
}
