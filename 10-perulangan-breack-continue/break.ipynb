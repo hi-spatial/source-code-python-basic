{
 "cells": [
  {
   "cell_type": "code",
   "execution_count": null,
   "id": "009407e0-be89-4074-8b9a-92808f4bcf96",
   "metadata": {},
   "outputs": [
    {
     "name": "stdin",
     "output_type": "stream",
     "text": [
      "Masukkan angka yang habis dibagi 3:  3\n"
     ]
    },
    {
     "name": "stdout",
     "output_type": "stream",
     "text": [
      "3 habis dibagi 3\n"
     ]
    }
   ],
   "source": [
    "while True:\n",
    "    n = int(input(\"Masukkan angka yang habis dibagi 3: \"))\n",
    "    if n % 3 != 0:\n",
    "        break\n",
    "    print(f\"{n} habis dibagi 3\")"
   ]
  },
  {
   "cell_type": "code",
   "execution_count": null,
   "id": "6c459bd4-0c37-43d0-9c6a-5a99e9469a0b",
   "metadata": {},
   "outputs": [],
   "source": []
  }
 ],
 "metadata": {
  "kernelspec": {
   "display_name": "Python 3 (ipykernel)",
   "language": "python",
   "name": "python3"
  },
  "language_info": {
   "codemirror_mode": {
    "name": "ipython",
    "version": 3
   },
   "file_extension": ".py",
   "mimetype": "text/x-python",
   "name": "python",
   "nbconvert_exporter": "python",
   "pygments_lexer": "ipython3",
   "version": "3.13.0"
  }
 },
 "nbformat": 4,
 "nbformat_minor": 5
}
