{
 "cells": [
  {
   "cell_type": "code",
   "execution_count": 1,
   "id": "a25c7873-92d8-45c8-b8ae-8f4adaa8e0a0",
   "metadata": {},
   "outputs": [
    {
     "name": "stdout",
     "output_type": "stream",
     "text": [
      "Koordinat (1.0, 2.0) berada dalam batas wilayah\n",
      "Koordinat (3.0, 4.0) berada dalam batas wilayah\n"
     ]
    }
   ],
   "source": [
    "# Definisikan fungsi within_bounds\n",
    "def within_bounds(coord):\n",
    "    # Batas wilayah (misalnya lintang dan bujur untuk suatu area)\n",
    "    min_latitude = 0.0   # lintang minimum\n",
    "    max_latitude = 4.0   # lintang maksimum\n",
    "    min_longitude = 1.0  # bujur minimum\n",
    "    max_longitude = 5.0  # bujur maksimum\n",
    "    \n",
    "    latitude, longitude = coord  # memecah tuple menjadi lintang dan bujur\n",
    "    \n",
    "    # Memeriksa apakah koordinat berada dalam batas wilayah\n",
    "    if min_latitude <= latitude <= max_latitude and min_longitude <= longitude <= max_longitude:\n",
    "        return True\n",
    "    else:\n",
    "        return False\n",
    "\n",
    "# Kode utama\n",
    "coordinates = [(1.0, 2.0), (3.0, 4.0), (5.0, 6.0)]\n",
    "\n",
    "for coord in coordinates:\n",
    "    if not within_bounds(coord):\n",
    "        continue\n",
    "    print(f\"Koordinat {coord} berada dalam batas wilayah\")\n"
   ]
  },
  {
   "cell_type": "code",
   "execution_count": null,
   "id": "6a60923a-d2b0-4ecf-9e40-fc2fc2c65b5c",
   "metadata": {},
   "outputs": [],
   "source": []
  }
 ],
 "metadata": {
  "kernelspec": {
   "display_name": "Python 3 (ipykernel)",
   "language": "python",
   "name": "python3"
  },
  "language_info": {
   "codemirror_mode": {
    "name": "ipython",
    "version": 3
   },
   "file_extension": ".py",
   "mimetype": "text/x-python",
   "name": "python",
   "nbconvert_exporter": "python",
   "pygments_lexer": "ipython3",
   "version": "3.13.0"
  }
 },
 "nbformat": 4,
 "nbformat_minor": 5
}
