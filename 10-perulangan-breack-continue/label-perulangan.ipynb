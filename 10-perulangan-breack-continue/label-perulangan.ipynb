{
 "cells": [
  {
   "cell_type": "code",
   "execution_count": 1,
   "id": "5bf73dca-68f0-4062-bf31-a5b442f142f5",
   "metadata": {},
   "outputs": [
    {
     "name": "stdin",
     "output_type": "stream",
     "text": [
      "Jumlah bintang:  3\n"
     ]
    },
    {
     "name": "stdout",
     "output_type": "stream",
     "text": [
      "* \n",
      "* * \n",
      "* * * \n"
     ]
    }
   ],
   "source": [
    "max = int(input(\"Jumlah bintang: \"))\n",
    "outer_loop = True\n",
    "\n",
    "for i in range(max):\n",
    "    if not outer_loop:\n",
    "        break\n",
    "\n",
    "    for j in range(i + 1):\n",
    "        print(\"*\", end=\" \")\n",
    "        if j >= 7:\n",
    "            outer_loop = False\n",
    "            break\n",
    "    print()"
   ]
  },
  {
   "cell_type": "code",
   "execution_count": null,
   "id": "02192fb5-07e6-4340-b968-6978eb1bd324",
   "metadata": {},
   "outputs": [],
   "source": []
  }
 ],
 "metadata": {
  "kernelspec": {
   "display_name": "Python 3 (ipykernel)",
   "language": "python",
   "name": "python3"
  },
  "language_info": {
   "codemirror_mode": {
    "name": "ipython",
    "version": 3
   },
   "file_extension": ".py",
   "mimetype": "text/x-python",
   "name": "python",
   "nbconvert_exporter": "python",
   "pygments_lexer": "ipython3",
   "version": "3.13.0"
  }
 },
 "nbformat": 4,
 "nbformat_minor": 5
}
