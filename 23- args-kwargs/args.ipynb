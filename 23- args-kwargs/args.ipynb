{
 "cells": [
  {
   "cell_type": "code",
   "execution_count": 1,
   "id": "ce705ed3-7d31-4129-8fa1-3c1f4557e04a",
   "metadata": {},
   "outputs": [
    {
     "name": "stdout",
     "output_type": "stream",
     "text": [
      "Total panjang jalan: 20.5 km\n"
     ]
    }
   ],
   "source": [
    "def total_panjang_jalan(*panjang_jalan):\n",
    "    total = 0\n",
    "    for pj in panjang_jalan:\n",
    "        total += pj\n",
    "    print(f\"Total panjang jalan: {total} km\")\n",
    "\n",
    "# Studi kasus penggunaan\n",
    "total_panjang_jalan(5.2, 3.8, 7.0, 4.5)\n",
    "# output ➜ Total panjang jalan: 20.5 km"
   ]
  },
  {
   "cell_type": "code",
   "execution_count": null,
   "id": "6ef8a0a1-ee42-41f2-b5a8-987ec741f7cf",
   "metadata": {},
   "outputs": [],
   "source": []
  }
 ],
 "metadata": {
  "kernelspec": {
   "display_name": "Python 3 (ipykernel)",
   "language": "python",
   "name": "python3"
  },
  "language_info": {
   "codemirror_mode": {
    "name": "ipython",
    "version": 3
   },
   "file_extension": ".py",
   "mimetype": "text/x-python",
   "name": "python",
   "nbconvert_exporter": "python",
   "pygments_lexer": "ipython3",
   "version": "3.13.0"
  }
 },
 "nbformat": 4,
 "nbformat_minor": 5
}
