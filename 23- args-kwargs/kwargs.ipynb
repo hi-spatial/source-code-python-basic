{
 "cells": [
  {
   "cell_type": "code",
   "execution_count": 1,
   "id": "4020cfbc-d14d-4203-8fcb-dcec2077010c",
   "metadata": {},
   "outputs": [
    {
     "name": "stdout",
     "output_type": "stream",
     "text": [
      "Informasi Layer Geospasial:\n",
      "nama: Layer Batas Kota\n",
      "tipe: Polygon\n",
      "sumber: OpenStreetMap\n"
     ]
    }
   ],
   "source": [
    "def print_info_layer(**info_layer):\n",
    "    print(\"Informasi Layer Geospasial:\")\n",
    "    for key, value in info_layer.items():\n",
    "        print(f\"{key}: {value}\")\n",
    "\n",
    "# Studi kasus penggunaan\n",
    "print_info_layer(nama=\"Layer Batas Kota\", tipe=\"Polygon\", sumber=\"OpenStreetMap\")\n",
    "# output ➜ \n",
    "# Informasi Layer Geospasial:\n",
    "# nama: Layer Batas Kota\n",
    "# tipe: Polygon\n",
    "# sumber: OpenStreetMap"
   ]
  },
  {
   "cell_type": "code",
   "execution_count": null,
   "id": "f50b4ff9-7ca0-46d9-97b3-0b2e441b4ad7",
   "metadata": {},
   "outputs": [],
   "source": []
  }
 ],
 "metadata": {
  "kernelspec": {
   "display_name": "Python 3 (ipykernel)",
   "language": "python",
   "name": "python3"
  },
  "language_info": {
   "codemirror_mode": {
    "name": "ipython",
    "version": 3
   },
   "file_extension": ".py",
   "mimetype": "text/x-python",
   "name": "python",
   "nbconvert_exporter": "python",
   "pygments_lexer": "ipython3",
   "version": "3.13.0"
  }
 },
 "nbformat": 4,
 "nbformat_minor": 5
}
