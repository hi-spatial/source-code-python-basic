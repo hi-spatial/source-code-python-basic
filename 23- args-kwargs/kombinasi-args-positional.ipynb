{
 "cells": [
  {
   "cell_type": "code",
   "execution_count": 1,
   "id": "68aed9a6-5baa-4f2d-92d6-839d267aee1d",
   "metadata": {},
   "outputs": [
    {
     "name": "stdout",
     "output_type": "stream",
     "text": [
      "Total panjang jalan provinsi: 16.0 km\n"
     ]
    }
   ],
   "source": [
    "def total_panjang_jalan(deskripsi, *panjang_jalan):\n",
    "    total = 0\n",
    "    for pj in panjang_jalan:\n",
    "        total += pj\n",
    "    print(f\"{deskripsi}: {total} km\")\n",
    "\n",
    "# Studi kasus penggunaan\n",
    "total_panjang_jalan(\"Total panjang jalan provinsi\", 5.2, 3.8, 7.0)\n",
    "# output ➜ Total panjang jalan provinsi: 16.0 km"
   ]
  },
  {
   "cell_type": "code",
   "execution_count": null,
   "id": "ef76bc62-2d0a-490b-890a-967fad940468",
   "metadata": {},
   "outputs": [],
   "source": []
  }
 ],
 "metadata": {
  "kernelspec": {
   "display_name": "Python 3 (ipykernel)",
   "language": "python",
   "name": "python3"
  },
  "language_info": {
   "codemirror_mode": {
    "name": "ipython",
    "version": 3
   },
   "file_extension": ".py",
   "mimetype": "text/x-python",
   "name": "python",
   "nbconvert_exporter": "python",
   "pygments_lexer": "ipython3",
   "version": "3.13.0"
  }
 },
 "nbformat": 4,
 "nbformat_minor": 5
}
