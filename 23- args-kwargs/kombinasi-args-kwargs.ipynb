{
 "cells": [
  {
   "cell_type": "code",
   "execution_count": 1,
   "id": "b3b73741-1c81-407f-8776-bc0c19d02159",
   "metadata": {},
   "outputs": [
    {
     "name": "stdout",
     "output_type": "stream",
     "text": [
      "Total luas: 223.1 km²\n",
      "Informasi Layer:\n",
      "nama: Layer Wilayah Hijau\n",
      "tipe: Polygon\n",
      "sumber: Data Pemerintah\n"
     ]
    }
   ],
   "source": [
    "def hitung_total_luas(*luas_polygon, **info_layer):\n",
    "    total = sum(luas_polygon)\n",
    "    print(f\"Total luas: {total} km²\")\n",
    "    print(\"Informasi Layer:\")\n",
    "    for key, value in info_layer.items():\n",
    "        print(f\"{key}: {value}\")\n",
    "\n",
    "# Studi kasus penggunaan\n",
    "hitung_total_luas(45.6, 78.3, 99.2, nama=\"Layer Wilayah Hijau\", tipe=\"Polygon\", sumber=\"Data Pemerintah\")\n",
    "# output ➜ \n",
    "# Total luas: 223.1 km²\n",
    "# Informasi Layer:\n",
    "# nama: Layer Wilayah Hijau\n",
    "# tipe: Polygon\n",
    "# sumber: Data Pemerintah"
   ]
  },
  {
   "cell_type": "code",
   "execution_count": null,
   "id": "55ce845a-f573-4bf3-abbe-6cb3e706c9ac",
   "metadata": {},
   "outputs": [],
   "source": []
  }
 ],
 "metadata": {
  "kernelspec": {
   "display_name": "Python 3 (ipykernel)",
   "language": "python",
   "name": "python3"
  },
  "language_info": {
   "codemirror_mode": {
    "name": "ipython",
    "version": 3
   },
   "file_extension": ".py",
   "mimetype": "text/x-python",
   "name": "python",
   "nbconvert_exporter": "python",
   "pygments_lexer": "ipython3",
   "version": "3.13.0"
  }
 },
 "nbformat": 4,
 "nbformat_minor": 5
}
