{
 "cells": [
  {
   "cell_type": "code",
   "execution_count": 1,
   "id": "b1dd5a69-7e90-423e-ac97-c3d36cf100cd",
   "metadata": {},
   "outputs": [
    {
     "name": "stdout",
     "output_type": "stream",
     "text": [
      "['name', 'coordinates', 'details']\n",
      "['Central Park', (40.785091, -73.968285), {'area': '3.41 km²', 'city': 'New York', 'visitors_per_year': '42 million'}]\n"
     ]
    }
   ],
   "source": [
    "location = {\n",
    "    \"name\": \"Central Park\",\n",
    "    \"coordinates\": (40.785091, -73.968285),\n",
    "    \"details\": {\n",
    "        \"area\": \"3.41 km²\",\n",
    "        \"city\": \"New York\",\n",
    "        \"visitors_per_year\": \"42 million\",\n",
    "    }\n",
    "}\n",
    "print(list(location.keys()))  # Output: ['name', 'coordinates', 'details']\n",
    "print(list(location.values()))  # Output: ['Central Park', (40.785091, -73.968285), {...}]"
   ]
  }
 ],
 "metadata": {
  "kernelspec": {
   "display_name": "Python 3 (ipykernel)",
   "language": "python",
   "name": "python3"
  },
  "language_info": {
   "codemirror_mode": {
    "name": "ipython",
    "version": 3
   },
   "file_extension": ".py",
   "mimetype": "text/x-python",
   "name": "python",
   "nbconvert_exporter": "python",
   "pygments_lexer": "ipython3",
   "version": "3.13.0"
  }
 },
 "nbformat": 4,
 "nbformat_minor": 5
}
