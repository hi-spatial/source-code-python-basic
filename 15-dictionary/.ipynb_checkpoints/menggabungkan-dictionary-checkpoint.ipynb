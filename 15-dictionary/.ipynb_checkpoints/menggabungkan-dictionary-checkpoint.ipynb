{
 "cells": [
  {
   "cell_type": "code",
   "execution_count": 3,
   "id": "ae71beb4-62ab-4713-9f31-a80602f7cda3",
   "metadata": {},
   "outputs": [
    {
     "name": "stdout",
     "output_type": "stream",
     "text": [
      "{'name': 'Central Park', 'coordinates': (40.785091, -73.968285), 'details': {'area': '3.41 km²', 'city': 'New York', 'visitors_per_year': '42 million'}, 'visitors': '42 million'}\n"
     ]
    }
   ],
   "source": [
    "location = {\n",
    "    \"name\": \"Central Park\",\n",
    "    \"coordinates\": (40.785091, -73.968285),\n",
    "    \"details\": {\n",
    "        \"area\": \"3.41 km²\",\n",
    "        \"city\": \"New York\",\n",
    "        \"visitors_per_year\": \"42 million\",\n",
    "    }\n",
    "}\n",
    "additional_info = {\"visitors\": \"42 million\"}\n",
    "location.update(additional_info)\n",
    "print(location)"
   ]
  },
  {
   "cell_type": "code",
   "execution_count": null,
   "id": "6df76085-6e94-4466-a334-61223a3c7c3e",
   "metadata": {},
   "outputs": [],
   "source": []
  }
 ],
 "metadata": {
  "kernelspec": {
   "display_name": "Python 3 (ipykernel)",
   "language": "python",
   "name": "python3"
  },
  "language_info": {
   "codemirror_mode": {
    "name": "ipython",
    "version": 3
   },
   "file_extension": ".py",
   "mimetype": "text/x-python",
   "name": "python",
   "nbconvert_exporter": "python",
   "pygments_lexer": "ipython3",
   "version": "3.13.0"
  }
 },
 "nbformat": 4,
 "nbformat_minor": 5
}
