{
 "cells": [
  {
   "cell_type": "code",
   "execution_count": 2,
   "id": "8ab40aac-1dff-4202-8f35-9d54c64d841d",
   "metadata": {},
   "outputs": [
    {
     "name": "stdout",
     "output_type": "stream",
     "text": [
      "{'name': 'Central Park', 'coordinates': (40.785091, -73.968285), 'details': {'area': '3.41 km²', 'city': 'New York', 'visitors_per_year': '42 million'}}\n",
      "{'name': 'Central Park', 'coordinates': (40.785091, -73.968285), 'details': {'area': '3.41 km²', 'city': 'New York', 'visitors_per_year': '42 million'}}\n"
     ]
    }
   ],
   "source": [
    "location = {\n",
    "    \"name\": \"Central Park\",\n",
    "    \"coordinates\": (40.785091, -73.968285),\n",
    "    \"details\": {\n",
    "        \"area\": \"3.41 km²\",\n",
    "        \"city\": \"New York\",\n",
    "        \"visitors_per_year\": \"42 million\",\n",
    "    }\n",
    "}\n",
    "new_location = location.copy()\n",
    "print(location) #location\n",
    "print(new_location) #new location"
   ]
  },
  {
   "cell_type": "code",
   "execution_count": null,
   "id": "246cc0d0-aef9-4fd2-a411-544738d0247e",
   "metadata": {},
   "outputs": [],
   "source": []
  }
 ],
 "metadata": {
  "kernelspec": {
   "display_name": "Python 3 (ipykernel)",
   "language": "python",
   "name": "python3"
  },
  "language_info": {
   "codemirror_mode": {
    "name": "ipython",
    "version": 3
   },
   "file_extension": ".py",
   "mimetype": "text/x-python",
   "name": "python",
   "nbconvert_exporter": "python",
   "pygments_lexer": "ipython3",
   "version": "3.13.0"
  }
 },
 "nbformat": 4,
 "nbformat_minor": 5
}
