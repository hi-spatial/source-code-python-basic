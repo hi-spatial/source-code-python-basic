{
 "cells": [
  {
   "cell_type": "code",
   "execution_count": 1,
   "id": "8721d300-5bcb-4ede-b515-0418d23a446d",
   "metadata": {},
   "outputs": [],
   "source": [
    "profile = {\n",
    "    \"id\": 2,\n",
    "    \"name\": \"john wick\",\n",
    "    \"hobbies\": [\"playing with pencil\"],\n",
    "    \"is_female\": False,\n",
    "}"
   ]
  },
  {
   "cell_type": "code",
   "execution_count": 2,
   "id": "f137c056-fcc0-4a93-b33b-60dff34ebc5b",
   "metadata": {},
   "outputs": [],
   "source": [
    "location = {\n",
    "    \"name\": \"Central Park\",\n",
    "    \"coordinates\": (40.785091, -73.968285),\n",
    "    \"area\": \"3.41 km²\",\n",
    "    \"city\": \"New York\",\n",
    "}"
   ]
  },
  {
   "cell_type": "code",
   "execution_count": 3,
   "id": "c49f85cc-a9e7-4ff0-83a8-a07de80c5ef7",
   "metadata": {},
   "outputs": [
    {
     "name": "stdout",
     "output_type": "stream",
     "text": [
      "Central Park\n",
      "(40.785091, -73.968285)\n"
     ]
    }
   ],
   "source": [
    "print(location[\"name\"])  # Output: Central Park\n",
    "print(location.get(\"coordinates\"))  # Output: (40.785091, -73.968285)"
   ]
  },
  {
   "cell_type": "code",
   "execution_count": 4,
   "id": "d6d5cca0-2969-4186-816c-cd23e6dffcf3",
   "metadata": {},
   "outputs": [
    {
     "name": "stdout",
     "output_type": "stream",
     "text": [
      "name: Central Park\n",
      "coordinates: (40.785091, -73.968285)\n",
      "area: 3.41 km²\n",
      "city: New York\n"
     ]
    }
   ],
   "source": [
    "for key, value in location.items():\n",
    "    print(f\"{key}: {value}\")"
   ]
  },
  {
   "cell_type": "code",
   "execution_count": null,
   "id": "a90d9efc-4d3b-4e5e-aca4-13b9cb4a8a49",
   "metadata": {},
   "outputs": [],
   "source": []
  }
 ],
 "metadata": {
  "kernelspec": {
   "display_name": "Python 3 (ipykernel)",
   "language": "python",
   "name": "python3"
  },
  "language_info": {
   "codemirror_mode": {
    "name": "ipython",
    "version": 3
   },
   "file_extension": ".py",
   "mimetype": "text/x-python",
   "name": "python",
   "nbconvert_exporter": "python",
   "pygments_lexer": "ipython3",
   "version": "3.13.0"
  }
 },
 "nbformat": 4,
 "nbformat_minor": 5
}
