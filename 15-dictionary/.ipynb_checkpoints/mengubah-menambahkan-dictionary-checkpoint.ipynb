{
 "cells": [
  {
   "cell_type": "code",
   "execution_count": 1,
   "id": "77cdd4c6-7887-468d-a0ca-5e6fcd61461a",
   "metadata": {},
   "outputs": [
    {
     "name": "stdout",
     "output_type": "stream",
     "text": [
      "{'name': 'Central Park', 'coordinates': (40.785091, -73.968285), 'area': '3.41 km²', 'city': 'NYC', 'founded': 1857}\n"
     ]
    }
   ],
   "source": [
    "location = {\n",
    "    \"name\": \"Central Park\",\n",
    "    \"coordinates\": (40.785091, -73.968285),\n",
    "    \"area\": \"3.41 km²\",\n",
    "    \"city\": \"New York\",\n",
    "}\n",
    "location[\"city\"] = \"NYC\"\n",
    "location[\"founded\"] = 1857\n",
    "print(location)"
   ]
  },
  {
   "cell_type": "code",
   "execution_count": null,
   "id": "1a882c57-23a9-452d-8587-497f2f09a6d4",
   "metadata": {},
   "outputs": [],
   "source": []
  }
 ],
 "metadata": {
  "kernelspec": {
   "display_name": "Python 3 (ipykernel)",
   "language": "python",
   "name": "python3"
  },
  "language_info": {
   "codemirror_mode": {
    "name": "ipython",
    "version": 3
   },
   "file_extension": ".py",
   "mimetype": "text/x-python",
   "name": "python",
   "nbconvert_exporter": "python",
   "pygments_lexer": "ipython3",
   "version": "3.13.0"
  }
 },
 "nbformat": 4,
 "nbformat_minor": 5
}
