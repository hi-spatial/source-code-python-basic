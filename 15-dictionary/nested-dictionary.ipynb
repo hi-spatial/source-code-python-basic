{
 "cells": [
  {
   "cell_type": "code",
   "execution_count": 1,
   "id": "c415f9e7-e5ea-435b-9494-4c7ba3815c7d",
   "metadata": {},
   "outputs": [
    {
     "name": "stdout",
     "output_type": "stream",
     "text": [
      "New York\n"
     ]
    }
   ],
   "source": [
    "location = {\n",
    "    \"name\": \"Central Park\",\n",
    "    \"coordinates\": (40.785091, -73.968285),\n",
    "    \"details\": {\n",
    "        \"area\": \"3.41 km²\",\n",
    "        \"city\": \"New York\",\n",
    "        \"visitors_per_year\": \"42 million\",\n",
    "    }\n",
    "}\n",
    "\n",
    "print(location[\"details\"][\"city\"])  # Output: New York"
   ]
  },
  {
   "cell_type": "code",
   "execution_count": null,
   "id": "784e5940-da10-4af9-88d1-ff96e327baa9",
   "metadata": {},
   "outputs": [],
   "source": []
  }
 ],
 "metadata": {
  "kernelspec": {
   "display_name": "Python 3 (ipykernel)",
   "language": "python",
   "name": "python3"
  },
  "language_info": {
   "codemirror_mode": {
    "name": "ipython",
    "version": 3
   },
   "file_extension": ".py",
   "mimetype": "text/x-python",
   "name": "python",
   "nbconvert_exporter": "python",
   "pygments_lexer": "ipython3",
   "version": "3.13.0"
  }
 },
 "nbformat": 4,
 "nbformat_minor": 5
}
