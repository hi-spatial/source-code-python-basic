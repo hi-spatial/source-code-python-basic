{
 "cells": [
  {
   "cell_type": "code",
   "execution_count": 1,
   "id": "9f2b6967-b372-4b7e-8c3d-a030ca8d212f",
   "metadata": {},
   "outputs": [
    {
     "name": "stdout",
     "output_type": "stream",
     "text": [
      "Eiffel Tower located in Paris at coordinates (48.8584, 2.2945)\n",
      "Statue of Liberty located in New York at coordinates (40.6892, -74.0445)\n"
     ]
    }
   ],
   "source": [
    "geo_data = {\n",
    "    \"landmarks\": {\n",
    "        \"Eiffel Tower\": {\"coordinates\": (48.8584, 2.2945), \"city\": \"Paris\"},\n",
    "        \"Statue of Liberty\": {\"coordinates\": (40.6892, -74.0445), \"city\": \"New York\"},\n",
    "    }\n",
    "}\n",
    "\n",
    "for landmark, info in geo_data[\"landmarks\"].items():\n",
    "    print(f\"{landmark} located in {info['city']} at coordinates {info['coordinates']}\")"
   ]
  },
  {
   "cell_type": "code",
   "execution_count": null,
   "id": "7d3435fe-e50a-4661-91c3-ccec54a1d41e",
   "metadata": {},
   "outputs": [],
   "source": []
  }
 ],
 "metadata": {
  "kernelspec": {
   "display_name": "Python 3 (ipykernel)",
   "language": "python",
   "name": "python3"
  },
  "language_info": {
   "codemirror_mode": {
    "name": "ipython",
    "version": 3
   },
   "file_extension": ".py",
   "mimetype": "text/x-python",
   "name": "python",
   "nbconvert_exporter": "python",
   "pygments_lexer": "ipython3",
   "version": "3.13.0"
  }
 },
 "nbformat": 4,
 "nbformat_minor": 5
}
