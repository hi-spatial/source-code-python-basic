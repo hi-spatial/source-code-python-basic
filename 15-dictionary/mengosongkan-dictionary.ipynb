{
 "cells": [
  {
   "cell_type": "code",
   "execution_count": 2,
   "id": "07c62559-5c15-400c-8dc7-6a05aaa96a1f",
   "metadata": {},
   "outputs": [
    {
     "name": "stdout",
     "output_type": "stream",
     "text": [
      "{}\n"
     ]
    }
   ],
   "source": [
    "location = {\n",
    "    \"name\": \"Central Park\",\n",
    "    \"coordinates\": (40.785091, -73.968285),\n",
    "    \"details\": {\n",
    "        \"area\": \"3.41 km²\",\n",
    "        \"city\": \"New York\",\n",
    "        \"visitors_per_year\": \"42 million\",\n",
    "    }\n",
    "}\n",
    "location.clear()\n",
    "print(location) "
   ]
  },
  {
   "cell_type": "code",
   "execution_count": null,
   "id": "f43b9dc1-7e6b-454f-a363-2b8426160af8",
   "metadata": {},
   "outputs": [],
   "source": []
  }
 ],
 "metadata": {
  "kernelspec": {
   "display_name": "Python 3 (ipykernel)",
   "language": "python",
   "name": "python3"
  },
  "language_info": {
   "codemirror_mode": {
    "name": "ipython",
    "version": 3
   },
   "file_extension": ".py",
   "mimetype": "text/x-python",
   "name": "python",
   "nbconvert_exporter": "python",
   "pygments_lexer": "ipython3",
   "version": "3.13.0"
  }
 },
 "nbformat": 4,
 "nbformat_minor": 5
}
