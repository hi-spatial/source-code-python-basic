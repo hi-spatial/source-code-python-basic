{
 "cells": [
  {
   "cell_type": "code",
   "execution_count": 1,
   "id": "401a1c02-cd8f-4f33-8d7e-25033a61e913",
   "metadata": {},
   "outputs": [
    {
     "name": "stdout",
     "output_type": "stream",
     "text": [
      "Tingkat Zoom: 12, Total Fitur: 256\n"
     ]
    }
   ],
   "source": [
    "zoom_level = 12\n",
    "total_fitur = 256\n",
    "print(f\"Tingkat Zoom: {zoom_level}, Total Fitur: {total_fitur}\")\n",
    "# output ➜ Tingkat Zoom: 12, Total Fitur: 256"
   ]
  },
  {
   "cell_type": "code",
   "execution_count": null,
   "id": "35ec606b-839a-43c0-a96f-3ddafd8f0792",
   "metadata": {},
   "outputs": [],
   "source": []
  }
 ],
 "metadata": {
  "kernelspec": {
   "display_name": "Python 3 (ipykernel)",
   "language": "python",
   "name": "python3"
  },
  "language_info": {
   "codemirror_mode": {
    "name": "ipython",
    "version": 3
   },
   "file_extension": ".py",
   "mimetype": "text/x-python",
   "name": "python",
   "nbconvert_exporter": "python",
   "pygments_lexer": "ipython3",
   "version": "3.13.0"
  }
 },
 "nbformat": 4,
 "nbformat_minor": 5
}
