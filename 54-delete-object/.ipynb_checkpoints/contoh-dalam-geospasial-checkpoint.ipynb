{
 "cells": [
  {
   "cell_type": "code",
   "execution_count": 1,
   "id": "cede2eb2-0352-42c4-81de-6af4e179c752",
   "metadata": {},
   "outputs": [
    {
     "name": "stdout",
     "output_type": "stream",
     "text": [
      "[(10.2, 20.3), (30.4, 40.5), (50.6, 60.7)]\n",
      "[(10.2, 20.3), (50.6, 60.7)]\n"
     ]
    }
   ],
   "source": [
    "coordinates = [(10.2, 20.3), (30.4, 40.5), (50.6, 60.7)]\n",
    "print(coordinates)\n",
    "\n",
    "del coordinates[1]  # Menghapus koordinat kedua\n",
    "print(coordinates)  # Output: [(10.2, 20.3), (50.6, 60.7)]"
   ]
  },
  {
   "cell_type": "code",
   "execution_count": null,
   "id": "a7e83618-9ce3-4ee1-9203-c81f5b90697e",
   "metadata": {},
   "outputs": [],
   "source": []
  }
 ],
 "metadata": {
  "kernelspec": {
   "display_name": "Python 3 (ipykernel)",
   "language": "python",
   "name": "python3"
  },
  "language_info": {
   "codemirror_mode": {
    "name": "ipython",
    "version": 3
   },
   "file_extension": ".py",
   "mimetype": "text/x-python",
   "name": "python",
   "nbconvert_exporter": "python",
   "pygments_lexer": "ipython3",
   "version": "3.13.0"
  }
 },
 "nbformat": 4,
 "nbformat_minor": 5
}
