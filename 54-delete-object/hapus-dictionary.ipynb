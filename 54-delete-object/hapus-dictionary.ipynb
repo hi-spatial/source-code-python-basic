{
 "cells": [
  {
   "cell_type": "code",
   "execution_count": 1,
   "id": "b36ebb18-2f20-4e66-8629-d7e117373bf9",
   "metadata": {},
   "outputs": [
    {
     "name": "stdout",
     "output_type": "stream",
     "text": [
      "{'latitude': -7.98, 'longitude': 112.63}\n"
     ]
    }
   ],
   "source": [
    "spatial_data = {\n",
    "    \"city\": \"Malang\",\n",
    "    \"latitude\": -7.98,\n",
    "    \"longitude\": 112.63\n",
    "}\n",
    "del spatial_data[\"city\"]\n",
    "print(spatial_data)  # Output: {'latitude': -7.98, 'longitude': 112.63}"
   ]
  },
  {
   "cell_type": "code",
   "execution_count": null,
   "id": "279a9fb1-702e-4fa4-9a24-1901f0fa97ae",
   "metadata": {},
   "outputs": [],
   "source": []
  }
 ],
 "metadata": {
  "kernelspec": {
   "display_name": "Python 3 (ipykernel)",
   "language": "python",
   "name": "python3"
  },
  "language_info": {
   "codemirror_mode": {
    "name": "ipython",
    "version": 3
   },
   "file_extension": ".py",
   "mimetype": "text/x-python",
   "name": "python",
   "nbconvert_exporter": "python",
   "pygments_lexer": "ipython3",
   "version": "3.13.0"
  }
 },
 "nbformat": 4,
 "nbformat_minor": 5
}
