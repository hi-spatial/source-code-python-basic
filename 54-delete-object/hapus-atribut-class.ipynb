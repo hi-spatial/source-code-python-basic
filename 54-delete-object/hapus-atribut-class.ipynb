{
 "cells": [
  {
   "cell_type": "code",
   "execution_count": 1,
   "id": "72b1389b-9f7a-4c73-b1c1-2a083e298b7d",
   "metadata": {},
   "outputs": [
    {
     "name": "stdout",
     "output_type": "stream",
     "text": [
      "Malang -7.98 112.63\n"
     ]
    }
   ],
   "source": [
    "class Location:\n",
    "    def __init__(self, name, lat, lon):\n",
    "        self.name = name\n",
    "        self.lat = lat\n",
    "        self.lon = lon\n",
    "\n",
    "loc = Location(\"Malang\", -7.98, 112.63)\n",
    "print(loc.name, loc.lat, loc.lon)\n",
    "\n",
    "del loc.lon  # Menghapus atribut longitude"
   ]
  },
  {
   "cell_type": "code",
   "execution_count": null,
   "id": "3705278e-4d6d-4538-b156-7030befed4c3",
   "metadata": {},
   "outputs": [],
   "source": []
  }
 ],
 "metadata": {
  "kernelspec": {
   "display_name": "Python 3 (ipykernel)",
   "language": "python",
   "name": "python3"
  },
  "language_info": {
   "codemirror_mode": {
    "name": "ipython",
    "version": 3
   },
   "file_extension": ".py",
   "mimetype": "text/x-python",
   "name": "python",
   "nbconvert_exporter": "python",
   "pygments_lexer": "ipython3",
   "version": "3.13.0"
  }
 },
 "nbformat": 4,
 "nbformat_minor": 5
}
