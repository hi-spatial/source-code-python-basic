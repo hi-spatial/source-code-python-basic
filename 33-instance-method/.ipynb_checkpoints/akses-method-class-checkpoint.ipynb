{
 "cells": [
  {
   "cell_type": "code",
   "execution_count": 3,
   "id": "c7870dda-ffa7-4cd9-976c-173277e5f337",
   "metadata": {},
   "outputs": [
    {
     "name": "stdout",
     "output_type": "stream",
     "text": [
      "Location: Jakarta\n",
      "Coordinates: -6.2, 106.816666\n",
      "Location: Surabaya\n",
      "Coordinates: -7.250445, 112.768845\n"
     ]
    }
   ],
   "source": [
    "class Location:\n",
    "    def __init__(self):\n",
    "        self.latitude = 0.0\n",
    "        self.longitude = 0.0\n",
    "        self.description = \"\"\n",
    "    \n",
    "    def set_location(self, latitude, longitude, description):\n",
    "        self.latitude = latitude\n",
    "        self.longitude = longitude\n",
    "        self.description = description\n",
    "    \n",
    "    def info(self):\n",
    "        print(f\"Location: {self.description}\")\n",
    "        print(f\"Coordinates: {self.latitude}, {self.longitude}\")\n",
    "        \n",
    "# Membuat beberapa instance objek Location\n",
    "all_locations = []\n",
    "\n",
    "loc1 = Location()\n",
    "loc1.latitude = -6.200000\n",
    "loc1.longitude = 106.816666\n",
    "loc1.description = \"Jakarta\"\n",
    "all_locations.append(loc1)\n",
    "\n",
    "loc2 = Location()\n",
    "loc2.latitude = -7.250445\n",
    "loc2.longitude = 112.768845\n",
    "loc2.description = \"Surabaya\"\n",
    "all_locations.append(loc2)\n",
    "\n",
    "loc3 = Location()\n",
    "loc3.latitude = -6.917464\n",
    "loc3.longitude = 107.64123\n",
    "loc3.description = \"Bandung\"\n",
    "all_locations.append(loc3)\n",
    "\n",
    "# Pengaksesan method via instance\n",
    "loc1.info()\n",
    "\n",
    "# Pengaksesan method via kelas\n",
    "Location.info(loc2)"
   ]
  },
  {
   "cell_type": "code",
   "execution_count": null,
   "id": "6e6c4bf2-664e-4d5b-b683-0d47ce656207",
   "metadata": {},
   "outputs": [],
   "source": []
  }
 ],
 "metadata": {
  "kernelspec": {
   "display_name": "Python 3 (ipykernel)",
   "language": "python",
   "name": "python3"
  },
  "language_info": {
   "codemirror_mode": {
    "name": "ipython",
    "version": 3
   },
   "file_extension": ".py",
   "mimetype": "text/x-python",
   "name": "python",
   "nbconvert_exporter": "python",
   "pygments_lexer": "ipython3",
   "version": "3.13.0"
  }
 },
 "nbformat": 4,
 "nbformat_minor": 5
}
