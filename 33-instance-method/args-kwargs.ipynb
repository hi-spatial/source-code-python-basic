{
 "cells": [
  {
   "cell_type": "code",
   "execution_count": 3,
   "id": "f7ccc858-075d-4efd-9012-5e7164b015de",
   "metadata": {},
   "outputs": [
    {
     "name": "stdout",
     "output_type": "stream",
     "text": [
      "Location: New Jakarta\n",
      "Coordinates: -6.2, 106.816666\n"
     ]
    }
   ],
   "source": [
    "class Location:\n",
    "    def __init__(self):\n",
    "        self.latitude = 0.0\n",
    "        self.longitude = 0.0\n",
    "        self.description = \"\"\n",
    "    \n",
    "    def set_location(self, **kwargs):\n",
    "        if 'latitude' in kwargs:\n",
    "            self.latitude = kwargs['latitude']\n",
    "        if 'longitude' in kwargs:\n",
    "            self.longitude = kwargs['longitude']\n",
    "        if 'description' in kwargs:\n",
    "            self.description = kwargs['description']\n",
    "    def info(self):\n",
    "        print(f\"Location: {self.description}\")\n",
    "        print(f\"Coordinates: {self.latitude}, {self.longitude}\")\n",
    "\n",
    "# Membuat beberapa instance objek Location\n",
    "all_locations = []\n",
    "\n",
    "loc1 = Location()\n",
    "loc1.latitude = -6.200000\n",
    "loc1.longitude = 106.816666\n",
    "loc1.description = \"Jakarta\"\n",
    "all_locations.append(loc1)\n",
    "\n",
    "loc2 = Location()\n",
    "loc2.latitude = -7.250445\n",
    "loc2.longitude = 112.768845\n",
    "loc2.description = \"Surabaya\"\n",
    "all_locations.append(loc2)\n",
    "\n",
    "loc3 = Location()\n",
    "loc3.latitude = -6.917464\n",
    "loc3.longitude = 107.64123\n",
    "loc3.description = \"Bandung\"\n",
    "all_locations.append(loc3)\n",
    "\n",
    "# Menggunakan kwargs untuk memperbarui data\n",
    "loc1.set_location(latitude=-6.200000, description=\"New Jakarta\")\n",
    "loc1.info()"
   ]
  },
  {
   "cell_type": "code",
   "execution_count": null,
   "id": "6835f0d9-8ad4-424e-bc4b-c9c87c425f56",
   "metadata": {},
   "outputs": [],
   "source": []
  },
  {
   "cell_type": "code",
   "execution_count": null,
   "id": "40c28bb7-99eb-425c-b8c4-8309ff34a8bc",
   "metadata": {},
   "outputs": [],
   "source": []
  }
 ],
 "metadata": {
  "kernelspec": {
   "display_name": "Python 3 (ipykernel)",
   "language": "python",
   "name": "python3"
  },
  "language_info": {
   "codemirror_mode": {
    "name": "ipython",
    "version": 3
   },
   "file_extension": ".py",
   "mimetype": "text/x-python",
   "name": "python",
   "nbconvert_exporter": "python",
   "pygments_lexer": "ipython3",
   "version": "3.13.0"
  }
 },
 "nbformat": 4,
 "nbformat_minor": 5
}
