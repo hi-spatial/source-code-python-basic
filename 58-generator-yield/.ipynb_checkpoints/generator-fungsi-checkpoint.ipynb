{
 "cells": [
  {
   "cell_type": "code",
   "execution_count": 2,
   "id": "afc84a4e-7441-4839-87c6-c1c0eb0c688f",
   "metadata": {},
   "outputs": [
    {
     "name": "stdout",
     "output_type": "stream",
     "text": [
      "<generator object random_messages at 0x000002B05249FED0>\n",
      "hello python\n",
      "how are you\n",
      "nice to meet you\n"
     ]
    }
   ],
   "source": [
    "def random_messages():\n",
    "    yield \"hello python\"\n",
    "    yield \"how are you\"\n",
    "    yield \"nice to meet you\"\n",
    "\n",
    "messages = random_messages()\n",
    "print(messages)\n",
    "\n",
    "for message in random_messages():\n",
    "    print(message)"
   ]
  },
  {
   "cell_type": "code",
   "execution_count": null,
   "id": "04d7999a-10bc-4096-8a43-13784e9d3709",
   "metadata": {},
   "outputs": [],
   "source": []
  }
 ],
 "metadata": {
  "kernelspec": {
   "display_name": "Python 3 (ipykernel)",
   "language": "python",
   "name": "python3"
  },
  "language_info": {
   "codemirror_mode": {
    "name": "ipython",
    "version": 3
   },
   "file_extension": ".py",
   "mimetype": "text/x-python",
   "name": "python",
   "nbconvert_exporter": "python",
   "pygments_lexer": "ipython3",
   "version": "3.13.0"
  }
 },
 "nbformat": 4,
 "nbformat_minor": 5
}
