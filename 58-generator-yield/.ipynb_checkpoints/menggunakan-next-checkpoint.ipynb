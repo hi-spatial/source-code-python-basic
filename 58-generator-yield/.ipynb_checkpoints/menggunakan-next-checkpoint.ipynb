{
 "cells": [
  {
   "cell_type": "code",
   "execution_count": 1,
   "id": "6be46b63-0ee6-402e-9d7b-c2c1e4a75a46",
   "metadata": {},
   "outputs": [
    {
     "name": "stdout",
     "output_type": "stream",
     "text": [
      "hello python\n",
      "how are you\n",
      "nice to meet you\n"
     ]
    }
   ],
   "source": [
    "def random_messages():\n",
    "    yield \"hello python\"\n",
    "    yield \"how are you\"\n",
    "    yield \"nice to meet you\"\n",
    "\n",
    "messages = random_messages()\n",
    "\n",
    "gen = random_messages()\n",
    "\n",
    "print(next(gen))  # Output: hello python\n",
    "print(next(gen))  # Output: how are you\n",
    "print(next(gen))  # Output: nice to meet you"
   ]
  },
  {
   "cell_type": "code",
   "execution_count": null,
   "id": "b85369fb-2309-4e46-b2a9-9694e2cfeeae",
   "metadata": {},
   "outputs": [],
   "source": []
  }
 ],
 "metadata": {
  "kernelspec": {
   "display_name": "Python 3 (ipykernel)",
   "language": "python",
   "name": "python3"
  },
  "language_info": {
   "codemirror_mode": {
    "name": "ipython",
    "version": 3
   },
   "file_extension": ".py",
   "mimetype": "text/x-python",
   "name": "python",
   "nbconvert_exporter": "python",
   "pygments_lexer": "ipython3",
   "version": "3.13.0"
  }
 },
 "nbformat": 4,
 "nbformat_minor": 5
}
