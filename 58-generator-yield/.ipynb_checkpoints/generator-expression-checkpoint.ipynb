{
 "cells": [
  {
   "cell_type": "code",
   "execution_count": 2,
   "id": "4b43d2e2-0caf-4734-bd78-f8576626f3f8",
   "metadata": {},
   "outputs": [
    {
     "name": "stdout",
     "output_type": "stream",
     "text": [
      "[0, 1, 4, 9, 16]\n",
      "<generator object <genexpr> at 0x00000271327BC930>\n",
      "0\n",
      "1\n",
      "4\n",
      "9\n",
      "16\n"
     ]
    }
   ],
   "source": [
    "# List comprehension\n",
    "squares_list = [num**2 for num in range(5)]\n",
    "print(squares_list)  # Output: [0, 1, 4, 9, 16]\n",
    "\n",
    "# Generator expression\n",
    "squares_gen = (num**2 for num in range(5))\n",
    "print(squares_gen)  # Output: <generator object <genexpr> at 0x...>\n",
    "\n",
    "for num in squares_gen:\n",
    "    print(num)"
   ]
  },
  {
   "cell_type": "code",
   "execution_count": null,
   "id": "e25809ac-486a-44f2-b1f7-48291a20c575",
   "metadata": {},
   "outputs": [],
   "source": []
  }
 ],
 "metadata": {
  "kernelspec": {
   "display_name": "Python 3 (ipykernel)",
   "language": "python",
   "name": "python3"
  },
  "language_info": {
   "codemirror_mode": {
    "name": "ipython",
    "version": 3
   },
   "file_extension": ".py",
   "mimetype": "text/x-python",
   "name": "python",
   "nbconvert_exporter": "python",
   "pygments_lexer": "ipython3",
   "version": "3.13.0"
  }
 },
 "nbformat": 4,
 "nbformat_minor": 5
}
