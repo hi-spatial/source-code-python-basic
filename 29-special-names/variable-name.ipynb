{
 "cells": [
  {
   "cell_type": "code",
   "execution_count": 1,
   "id": "c79f04d0-a03a-40ff-b1d0-f59bbdfb952b",
   "metadata": {},
   "outputs": [
    {
     "name": "stdout",
     "output_type": "stream",
     "text": [
      "Dari Jupyter Notebook: __main__\n",
      "Dari calculate_distance(): __main__\n",
      "Jarak antara Jakarta dan Bandung: 1.07 km\n"
     ]
    }
   ],
   "source": [
    "# Simulasi perhitungan jarak dalam Jupyter Notebook menggunakan rumus Euclidean\n",
    "def calculate_distance(coord1, coord2):\n",
    "    print(\"Dari calculate_distance():\", __name__)\n",
    "    return ((coord2[0] - coord1[0])**2 + (coord2[1] - coord1[1])**2) ** 0.5\n",
    "\n",
    "# Menampilkan variabel __name__ di Jupyter Notebook\n",
    "print(\"Dari Jupyter Notebook:\", __name__)\n",
    "\n",
    "# Definisikan dua koordinat geospasial (contoh Jakarta dan Bandung)\n",
    "point1 = (-6.200, 106.816)  # Jakarta\n",
    "point2 = (-6.914, 107.609)  # Bandung\n",
    "\n",
    "# Hitung jarak antara dua titik\n",
    "distance = calculate_distance(point1, point2)\n",
    "print(f\"Jarak antara Jakarta dan Bandung: {distance:.2f} km\")"
   ]
  },
  {
   "cell_type": "code",
   "execution_count": null,
   "id": "7fafded3-e4f6-49a4-8b97-1292b052c1c8",
   "metadata": {},
   "outputs": [],
   "source": []
  }
 ],
 "metadata": {
  "kernelspec": {
   "display_name": "Python 3 (ipykernel)",
   "language": "python",
   "name": "python3"
  },
  "language_info": {
   "codemirror_mode": {
    "name": "ipython",
    "version": 3
   },
   "file_extension": ".py",
   "mimetype": "text/x-python",
   "name": "python",
   "nbconvert_exporter": "python",
   "pygments_lexer": "ipython3",
   "version": "3.13.0"
  }
 },
 "nbformat": 4,
 "nbformat_minor": 5
}
