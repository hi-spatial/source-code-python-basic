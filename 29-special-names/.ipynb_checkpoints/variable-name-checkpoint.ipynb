{
 "cells": [
  {
   "cell_type": "code",
   "execution_count": null,
   "id": "c79f04d0-a03a-40ff-b1d0-f59bbdfb952b",
   "metadata": {},
   "outputs": [],
   "source": [
    "# file geospasial_module.py\n",
    "def process_coordinates(lat, lon):\n",
    "    print(f\"Proses koordinat: ({lat}, {lon})\")\n",
    "\n",
    "if __name__ == '__main__':\n",
    "    lat, lon = -6.9175, 107.6191\n",
    "    process_coordinates(lat, lon)"
   ]
  }
 ],
 "metadata": {
  "kernelspec": {
   "display_name": "Python 3 (ipykernel)",
   "language": "python",
   "name": "python3"
  },
  "language_info": {
   "codemirror_mode": {
    "name": "ipython",
    "version": 3
   },
   "file_extension": ".py",
   "mimetype": "text/x-python",
   "name": "python",
   "nbconvert_exporter": "python",
   "pygments_lexer": "ipython3",
   "version": "3.13.0"
  }
 },
 "nbformat": 4,
 "nbformat_minor": 5
}
