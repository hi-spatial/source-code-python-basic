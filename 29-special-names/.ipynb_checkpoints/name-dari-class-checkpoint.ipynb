{
 "cells": [
  {
   "cell_type": "code",
   "execution_count": 1,
   "id": "49e0cc10-6876-466c-bc84-4a76e297afe2",
   "metadata": {},
   "outputs": [
    {
     "name": "stdout",
     "output_type": "stream",
     "text": [
      "var: data1, data: Koordinat Geospasial, type: str\n",
      "var: data2, data: 42, type: int\n"
     ]
    }
   ],
   "source": [
    "# Mendefinisikan variabel geospasial\n",
    "data1 = \"Koordinat Geospasial\"\n",
    "print(f\"var: data1, data: {data1}, type: {type(data1).__name__}\")\n",
    "\n",
    "data2 = 42\n",
    "print(f\"var: data2, data: {data2}, type: {type(data2).__name__}\")"
   ]
  },
  {
   "cell_type": "code",
   "execution_count": null,
   "id": "a06aab5e-e3b2-45ce-b7a0-5e41be92edac",
   "metadata": {},
   "outputs": [],
   "source": []
  }
 ],
 "metadata": {
  "kernelspec": {
   "display_name": "Python 3 (ipykernel)",
   "language": "python",
   "name": "python3"
  },
  "language_info": {
   "codemirror_mode": {
    "name": "ipython",
    "version": 3
   },
   "file_extension": ".py",
   "mimetype": "text/x-python",
   "name": "python",
   "nbconvert_exporter": "python",
   "pygments_lexer": "ipython3",
   "version": "3.13.0"
  }
 },
 "nbformat": 4,
 "nbformat_minor": 5
}
