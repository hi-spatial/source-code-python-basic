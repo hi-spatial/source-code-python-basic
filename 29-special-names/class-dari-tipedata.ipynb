{
 "cells": [
  {
   "cell_type": "code",
   "execution_count": 1,
   "id": "48d11743-175d-4ea2-9608-25fcdfbfdf87",
   "metadata": {},
   "outputs": [
    {
     "name": "stdout",
     "output_type": "stream",
     "text": [
      "var: data1, data: Geospasial, type: str\n",
      "var: data2, data: 3.14, type: float\n"
     ]
    }
   ],
   "source": [
    "# Memeriksa tipe class dari variabel geospasial\n",
    "data1 = \"Geospasial\"\n",
    "print(f\"var: data1, data: {data1}, type: {data1.__class__.__name__}\")\n",
    "\n",
    "data2 = 3.14\n",
    "print(f\"var: data2, data: {data2}, type: {data2.__class__.__name__}\")"
   ]
  },
  {
   "cell_type": "code",
   "execution_count": null,
   "id": "ee4a4fc1-26ed-4bd1-804a-1f249fa6d0af",
   "metadata": {},
   "outputs": [],
   "source": []
  }
 ],
 "metadata": {
  "kernelspec": {
   "display_name": "Python 3 (ipykernel)",
   "language": "python",
   "name": "python3"
  },
  "language_info": {
   "codemirror_mode": {
    "name": "ipython",
    "version": 3
   },
   "file_extension": ".py",
   "mimetype": "text/x-python",
   "name": "python",
   "nbconvert_exporter": "python",
   "pygments_lexer": "ipython3",
   "version": "3.13.0"
  }
 },
 "nbformat": 4,
 "nbformat_minor": 5
}
