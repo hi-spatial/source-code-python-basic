{
 "cells": [
  {
   "cell_type": "code",
   "execution_count": 1,
   "id": "a0dc5528-c462-4976-8770-58135cdfb0e9",
   "metadata": {},
   "outputs": [
    {
     "name": "stdout",
     "output_type": "stream",
     "text": [
      "Lokasi file Jupyter Notebook: C:\\Users\\mahar\\Downloads\\Project\\Source-code-python-basic\\29-special-names\\path_to_your_notebook.ipynb\n",
      "Lokasi modul distance_calculation.py: C:\\Users\\mahar\\Downloads\\Project\\Source-code-python-basic\\29-special-names\\distance_calculation.py\n"
     ]
    }
   ],
   "source": [
    "# Simulasi path file untuk analisis geospasial\n",
    "import os\n",
    "\n",
    "# Mendapatkan path file Jupyter Notebook\n",
    "notebook_path = os.path.abspath(\"path_to_your_notebook.ipynb\")\n",
    "print(f\"Lokasi file Jupyter Notebook: {notebook_path}\")\n",
    "\n",
    "# Simulasi path untuk modul perhitungan jarak (seperti distance_calculation)\n",
    "module_path = os.path.abspath(\"distance_calculation.py\")\n",
    "print(f\"Lokasi modul distance_calculation.py: {module_path}\")\n",
    "\n",
    "\n",
    "# 1. `os.path.abspath()` digunakan untuk mendapatkan path absolut dari file Jupyter Notebook atau modul lain.\n",
    "# 2. Ini membantu dalam mengelola file dan memastikan modul data dapat diakses dengan benar."
   ]
  },
  {
   "cell_type": "code",
   "execution_count": null,
   "id": "363b3a73-5d56-42b9-994f-f1054527093d",
   "metadata": {},
   "outputs": [],
   "source": []
  }
 ],
 "metadata": {
  "kernelspec": {
   "display_name": "Python 3 (ipykernel)",
   "language": "python",
   "name": "python3"
  },
  "language_info": {
   "codemirror_mode": {
    "name": "ipython",
    "version": 3
   },
   "file_extension": ".py",
   "mimetype": "text/x-python",
   "name": "python",
   "nbconvert_exporter": "python",
   "pygments_lexer": "ipython3",
   "version": "3.13.0"
  }
 },
 "nbformat": 4,
 "nbformat_minor": 5
}
