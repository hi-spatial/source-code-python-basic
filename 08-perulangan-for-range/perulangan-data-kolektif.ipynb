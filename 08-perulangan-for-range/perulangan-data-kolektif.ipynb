{
 "cells": [
  {
   "cell_type": "code",
   "execution_count": 4,
   "id": "1f346b34-a25f-470b-9f81-6f3ba4a83aa5",
   "metadata": {},
   "outputs": [
    {
     "name": "stdout",
     "output_type": "stream",
     "text": [
      "Lat: -6.2, Long: 106.8\n",
      "Lat: -7.1, Long: 107.6\n",
      "Lat: -8.0, Long: 108.9\n"
     ]
    }
   ],
   "source": [
    "coordinates = [\"Lat: -6.2, Long: 106.8\", \"Lat: -7.1, Long: 107.6\", \"Lat: -8.0, Long: 108.9\"]\n",
    "for coord in coordinates:\n",
    "    print(coord)"
   ]
  },
  {
   "cell_type": "code",
   "execution_count": 1,
   "id": "7e6e04c6-309e-4a74-8792-28fef52280cf",
   "metadata": {},
   "outputs": [
    {
     "name": "stdout",
     "output_type": "stream",
     "text": [
      "G\n",
      "e\n",
      "o\n",
      "s\n",
      "p\n",
      "a\n",
      "s\n",
      "i\n",
      "a\n",
      "l\n"
     ]
    }
   ],
   "source": [
    "for char in \"Geospasial\":\n",
    "    print(char)"
   ]
  },
  {
   "cell_type": "code",
   "execution_count": 2,
   "id": "e524c7d6-b175-467f-a2b3-ce01d602814e",
   "metadata": {},
   "outputs": [
    {
     "name": "stdout",
     "output_type": "stream",
     "text": [
      "Key: name Value: Mount Bromo\n",
      "Key: type Value: Volcano\n",
      "Key: height Value: 2329\n"
     ]
    }
   ],
   "source": [
    "geo_feature = {\n",
    "    \"name\": \"Mount Bromo\",\n",
    "    \"type\": \"Volcano\",\n",
    "    \"height\": 2329\n",
    "}\n",
    "\n",
    "for key in geo_feature:\n",
    "    print(\"Key:\", key, \"Value:\", geo_feature[key])"
   ]
  },
  {
   "cell_type": "code",
   "execution_count": 3,
   "id": "2ed00704-3b06-4d34-83a6-e72e59cd75a3",
   "metadata": {},
   "outputs": [
    {
     "name": "stdout",
     "output_type": "stream",
     "text": [
      "Lat: -6.2, Long: 106.8\n",
      "Lat: -7.1, Long: 107.6\n"
     ]
    }
   ],
   "source": [
    "coordinates_set = {\"Lat: -6.2, Long: 106.8\", \"Lat: -7.1, Long: 107.6\"}\n",
    "for coord in coordinates_set:\n",
    "    print(coord)"
   ]
  },
  {
   "cell_type": "code",
   "execution_count": null,
   "id": "9138ac15-5c99-4448-aeef-e131cfc80a04",
   "metadata": {},
   "outputs": [],
   "source": []
  }
 ],
 "metadata": {
  "kernelspec": {
   "display_name": "Python 3 (ipykernel)",
   "language": "python",
   "name": "python3"
  },
  "language_info": {
   "codemirror_mode": {
    "name": "ipython",
    "version": 3
   },
   "file_extension": ".py",
   "mimetype": "text/x-python",
   "name": "python",
   "nbconvert_exporter": "python",
   "pygments_lexer": "ipython3",
   "version": "3.13.0"
  }
 },
 "nbformat": 4,
 "nbformat_minor": 5
}
