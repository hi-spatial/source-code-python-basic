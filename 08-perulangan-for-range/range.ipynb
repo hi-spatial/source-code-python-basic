{
 "cells": [
  {
   "cell_type": "code",
   "execution_count": 2,
   "id": "8b18830c-7205-4344-8737-686e602426c3",
   "metadata": {},
   "outputs": [
    {
     "name": "stdout",
     "output_type": "stream",
     "text": [
      "Indeks: 0\n",
      "Indeks: 1\n",
      "Indeks: 2\n"
     ]
    }
   ],
   "source": [
    "for i in range(3):\n",
    "    print(\"Indeks:\", i)"
   ]
  },
  {
   "cell_type": "code",
   "execution_count": 3,
   "id": "94f805e2-7759-47e1-9d69-24851306ff74",
   "metadata": {},
   "outputs": [
    {
     "name": "stdout",
     "output_type": "stream",
     "text": [
      "Indeks: 2\n",
      "Indeks: 4\n",
      "Indeks: 6\n",
      "Indeks: 8\n"
     ]
    }
   ],
   "source": [
    "for i in range(2, 10, 2):\n",
    "    print(\"Indeks:\", i)"
   ]
  },
  {
   "cell_type": "code",
   "execution_count": 4,
   "id": "d57127d1-7485-4714-9c63-344e26614db4",
   "metadata": {},
   "outputs": [
    {
     "name": "stdout",
     "output_type": "stream",
     "text": [
      "Indeks: 5\n",
      "Indeks: 4\n",
      "Indeks: 3\n",
      "Indeks: 2\n",
      "Indeks: 1\n",
      "Indeks: 0\n",
      "Indeks: -1\n",
      "Indeks: -2\n",
      "Indeks: -3\n",
      "Indeks: -4\n"
     ]
    }
   ],
   "source": [
    "for i in range(5, -5, -1):\n",
    "    print(\"Indeks:\", i)"
   ]
  },
  {
   "cell_type": "code",
   "execution_count": null,
   "id": "c4fcb3b8-c788-4057-9979-419e15d8f5b1",
   "metadata": {},
   "outputs": [],
   "source": []
  }
 ],
 "metadata": {
  "kernelspec": {
   "display_name": "Python 3 (ipykernel)",
   "language": "python",
   "name": "python3"
  },
  "language_info": {
   "codemirror_mode": {
    "name": "ipython",
    "version": 3
   },
   "file_extension": ".py",
   "mimetype": "text/x-python",
   "name": "python",
   "nbconvert_exporter": "python",
   "pygments_lexer": "ipython3",
   "version": "3.13.0"
  }
 },
 "nbformat": 4,
 "nbformat_minor": 5
}
