{
 "cells": [
  {
   "cell_type": "code",
   "execution_count": 1,
   "id": "b799cd0d-c770-487f-8ee3-7fe690fb7b12",
   "metadata": {},
   "outputs": [
    {
     "name": "stdout",
     "output_type": "stream",
     "text": [
      "Indeks: 0\n",
      "Indeks: 1\n",
      "Indeks: 2\n",
      "Indeks: 3\n",
      "Indeks: 4\n"
     ]
    }
   ],
   "source": [
    "for i in range(5):\n",
    "    print(\"Indeks:\", i)"
   ]
  },
  {
   "cell_type": "code",
   "execution_count": 2,
   "id": "c9c78b9a-6339-414a-b750-8cdbf076bb40",
   "metadata": {},
   "outputs": [
    {
     "name": "stdout",
     "output_type": "stream",
     "text": [
      "r: [0, 1, 2, 3, 4]\n"
     ]
    }
   ],
   "source": [
    "r = range(5)\n",
    "print(\"r:\", list(r))"
   ]
  },
  {
   "cell_type": "code",
   "execution_count": null,
   "id": "bf5bf527-015a-4fd7-8fd5-bedc14ce1f7a",
   "metadata": {},
   "outputs": [],
   "source": []
  }
 ],
 "metadata": {
  "kernelspec": {
   "display_name": "Python 3 (ipykernel)",
   "language": "python",
   "name": "python3"
  },
  "language_info": {
   "codemirror_mode": {
    "name": "ipython",
    "version": 3
   },
   "file_extension": ".py",
   "mimetype": "text/x-python",
   "name": "python",
   "nbconvert_exporter": "python",
   "pygments_lexer": "ipython3",
   "version": "3.13.0"
  }
 },
 "nbformat": 4,
 "nbformat_minor": 5
}
